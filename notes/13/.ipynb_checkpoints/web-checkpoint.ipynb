{
 "cells": [
  {
   "cell_type": "code",
   "execution_count": null,
   "metadata": {
    "collapsed": true
   },
   "outputs": [],
   "source": []
  },
  {
   "cell_type": "markdown",
   "metadata": {},
   "source": [
    "如何用Python开发web程序"
   ]
  },
  {
   "cell_type": "markdown",
   "metadata": {},
   "source": [
    "python 的 web 框架，Flask Django 都大同小意，底层都是基于wsgi. 但toando就不是"
   ]
  },
  {
   "cell_type": "markdown",
   "metadata": {},
   "source": [
    "wsgi是python的一个规范，像servlet是java开发web的规范相似。"
   ]
  },
  {
   "cell_type": "markdown",
   "metadata": {},
   "source": [
    "servlet 需要容器(如tomcat)，wsgi 也需要容器。"
   ]
  },
  {
   "cell_type": "markdown",
   "metadata": {},
   "source": [
    "不会讲一个现成的框架，会从头实现一个web框架，为什么呢？"
   ]
  },
  {
   "cell_type": "markdown",
   "metadata": {},
   "source": [
    "Python的web框架很简单，从原理上看一个框架是如何实现的。如果讲现成的框架，会被太多的辅助性的功能干扰。所以，从最基础的WSGI应用程序开始，最终封装一个微型的框架。"
   ]
  },
  {
   "cell_type": "code",
   "execution_count": null,
   "metadata": {
    "collapsed": true
   },
   "outputs": [],
   "source": [
    "## 学习目的\n",
    "* web框架是如何工作的 (重点)     ## 这个搞定了，学习其它的web框架变得非常简单！\n",
    "* 如何编写用户友好的API"
   ]
  },
  {
   "cell_type": "markdown",
   "metadata": {},
   "source": [
    "注:Django是全栈的框架，Flask是微型框架"
   ]
  },
  {
   "cell_type": "markdown",
   "metadata": {},
   "source": [
    "comyn推荐requests这个第三方库，urllib这个标准库没推荐，就因为requests这个库api是友好的"
   ]
  },
  {
   "cell_type": "code",
   "execution_count": null,
   "metadata": {
    "collapsed": true
   },
   "outputs": [],
   "source": []
  },
  {
   "cell_type": "code",
   "execution_count": null,
   "metadata": {
    "collapsed": true
   },
   "outputs": [],
   "source": []
  },
  {
   "cell_type": "code",
   "execution_count": null,
   "metadata": {
    "collapsed": true
   },
   "outputs": [],
   "source": []
  }
 ],
 "metadata": {
  "kernelspec": {
   "display_name": "Python 3",
   "language": "python",
   "name": "python3"
  },
  "language_info": {
   "codemirror_mode": {
    "name": "ipython",
    "version": 3
   },
   "file_extension": ".py",
   "mimetype": "text/x-python",
   "name": "python",
   "nbconvert_exporter": "python",
   "pygments_lexer": "ipython3",
   "version": "3.5.2"
  }
 },
 "nbformat": 4,
 "nbformat_minor": 0
}
