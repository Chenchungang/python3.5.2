{
 "cells": [
  {
   "cell_type": "code",
   "execution_count": null,
   "metadata": {
    "collapsed": true
   },
   "outputs": [],
   "source": []
  },
  {
   "cell_type": "markdown",
   "metadata": {
    "collapsed": true
   },
   "source": [
    "## 同步"
   ]
  },
  {
   "cell_type": "markdown",
   "metadata": {},
   "source": [
    "总结：\n",
    "\n",
    "   * Event通常用于线程之间事件通知\n",
    "   * Lock通常用于保护共享资源\n",
    "   * Condition通常用于生产者消费者模型\n"
   ]
  },
  {
   "cell_type": "code",
   "execution_count": null,
   "metadata": {
    "collapsed": true
   },
   "outputs": [],
   "source": []
  },
  {
   "cell_type": "code",
   "execution_count": 9,
   "metadata": {
    "collapsed": true
   },
   "outputs": [],
   "source": [
    "import time \n",
    "import logging\n",
    "import threading\n",
    "import importlib\n",
    "\n",
    "importlib.reload(logging)\n",
    "logging.basicConfig(level=logging.DEBUG, format='%(asctime)s %(levelname)s  [%(threadName)s] %(message)s')"
   ]
  },
  {
   "cell_type": "code",
   "execution_count": 10,
   "metadata": {
    "collapsed": false
   },
   "outputs": [
    {
     "name": "stderr",
     "output_type": "stream",
     "text": [
      "2017-04-18 07:20:05,869 INFO  [MainThread] xixi\n"
     ]
    }
   ],
   "source": [
    "logging.info('xixi')"
   ]
  },
  {
   "cell_type": "code",
   "execution_count": null,
   "metadata": {
    "collapsed": true
   },
   "outputs": [],
   "source": []
  },
  {
   "cell_type": "code",
   "execution_count": 12,
   "metadata": {
    "collapsed": true
   },
   "outputs": [],
   "source": [
    "import random\n",
    "import datetime"
   ]
  },
  {
   "cell_type": "code",
   "execution_count": 13,
   "metadata": {
    "collapsed": true
   },
   "outputs": [],
   "source": [
    "## 先看一个例子:\n",
    "## worker做一些事情，当worker完成的时候，通知boss完成了，由boss来处理后续工作\n",
    "## 假设5个worker,1个boss.其中一个worker退出时，boss要计算它sleep了多长时间\n",
    "## 这就需要线程间的通信机制了\n",
    "\n",
    "def worker():\n",
    "    time.sleep(random.randint(1,5))\n",
    "\n",
    "def boss():\n",
    "    start = datetime.datetime.now()\n",
    "    logging.info('worker exit {}'.format(datetime.datetime.now()-start))"
   ]
  },
  {
   "cell_type": "code",
   "execution_count": 14,
   "metadata": {
    "collapsed": true
   },
   "outputs": [],
   "source": [
    "event = threading.Event()        ##  最简单的线程通信机制就是event\n",
    "                                ##  event 是一个threading.Event的对象！"
   ]
  },
  {
   "cell_type": "code",
   "execution_count": 15,
   "metadata": {
    "collapsed": true
   },
   "outputs": [],
   "source": [
    "event.set()        ## 它有set 和 wait 这两个方法"
   ]
  },
  {
   "cell_type": "code",
   "execution_count": 16,
   "metadata": {
    "collapsed": false
   },
   "outputs": [
    {
     "data": {
      "text/plain": [
       "True"
      ]
     },
     "execution_count": 16,
     "metadata": {},
     "output_type": "execute_result"
    }
   ],
   "source": [
    "event.wait()      ## 注：即使是超时，也是返回False，只有被set了，才会返回True!!"
   ]
  },
  {
   "cell_type": "markdown",
   "metadata": {},
   "source": [
    "用处：wait 会阻塞线程，直到set 方法被调用或者超时！理解这句话，就好了！"
   ]
  },
  {
   "cell_type": "markdown",
   "metadata": {},
   "source": [
    "**但是这句话与是不是返回True，没关系；set 过的返回 True **"
   ]
  },
  {
   "cell_type": "code",
   "execution_count": null,
   "metadata": {
    "collapsed": true
   },
   "outputs": [],
   "source": []
  },
  {
   "cell_type": "code",
   "execution_count": 67,
   "metadata": {
    "collapsed": true
   },
   "outputs": [],
   "source": [
    "def worker(event: threading.Event):   ## 这种定义函数的方式没见过呢？谁说没见过？讲函数\n",
    "    time.sleep(random.randint(2,5))   ## 时候的类型注解！ 这里传递一个event的对象\n",
    "    event.set()         ## 调用 set  方法\n",
    "\n",
    "def boss(event: threading.Event):\n",
    "    start = datetime.datetime.now()\n",
    "    event.wait()\n",
    "    logging.info('worker exit {}'.format(datetime.datetime.now() - start))"
   ]
  },
  {
   "cell_type": "markdown",
   "metadata": {},
   "source": [
    "函数定义的类型注解：http://blog.csdn.net/qbw2010/article/details/45390449"
   ]
  },
  {
   "cell_type": "code",
   "execution_count": 70,
   "metadata": {
    "collapsed": true
   },
   "outputs": [],
   "source": [
    "def start():\n",
    "    event = threading.Event()   ## event 是 threading.Event 的一个实例\n",
    "    b = threading.Thread(target=boss, args=(event, ),name='boss')\n",
    "    b.start()    ## 当一启动，就会阻塞了吧 因为boss里有event.wait()\n",
    "    for x in range(5):  ## 假设5个worker,1个boss.其中一个worker退出时\n",
    "                         ## boss要计算它sleep了多长时间  \n",
    "        ## 5次随机，谁先结束 ，谁先调用set 方法 ，就不等待了，然后logging出了等待多长时间\n",
    "        threading.Thread(target=worker, args=(event, ),name='worker').start()"
   ]
  },
  {
   "cell_type": "code",
   "execution_count": 80,
   "metadata": {
    "collapsed": false
   },
   "outputs": [
    {
     "name": "stderr",
     "output_type": "stream",
     "text": [
      "2017-04-18 08:33:52,412 INFO  [boss] worker exit 0:00:03.005121\n"
     ]
    }
   ],
   "source": [
    "start()           ## 随机了3秒多才出来！    "
   ]
  },
  {
   "cell_type": "code",
   "execution_count": 82,
   "metadata": {
    "collapsed": false
   },
   "outputs": [
    {
     "name": "stderr",
     "output_type": "stream",
     "text": [
      "2017-04-18 08:34:20,834 INFO  [boss] worker exit 0:00:04.043009\n"
     ]
    }
   ],
   "source": [
    "start()      ## 再试，随机了4秒才出来!"
   ]
  },
  {
   "cell_type": "markdown",
   "metadata": {
    "collapsed": true
   },
   "source": [
    "wait会阻塞当前线程，直到它的set方法被调用。"
   ]
  },
  {
   "cell_type": "code",
   "execution_count": null,
   "metadata": {
    "collapsed": true
   },
   "outputs": [],
   "source": []
  },
  {
   "cell_type": "markdown",
   "metadata": {},
   "source": [
    "但是以上，发现一个问题，无论如何，这5个线程它都是至少要等待下去的(因为使用的是sleep)；有没有一个办法，其中任何一个完成，就完成呢？"
   ]
  },
  {
   "cell_type": "code",
   "execution_count": 84,
   "metadata": {
    "collapsed": false
   },
   "outputs": [],
   "source": [
    "## 先这么来看一看：就验证了是这5个线程都执行下去了，但是发现第1个线程结束，boss就退出\n",
    "\n",
    "def worker(event: threading.Event):\n",
    "    s = random.randint(2,5)\n",
    "    time.sleep(s)\n",
    "    event.set()     \n",
    "    logging.info('sleep {}'.format(s))\n",
    "\n",
    "def boss(event: threading.Event):\n",
    "    start = datetime.datetime.now()\n",
    "    event.wait()\n",
    "    logging.info('worker exit {}'.format(datetime.datetime.now() - start))"
   ]
  },
  {
   "cell_type": "code",
   "execution_count": 85,
   "metadata": {
    "collapsed": true
   },
   "outputs": [],
   "source": [
    "def start():\n",
    "    event = threading.Event()\n",
    "    b = threading.Thread(target=boss, args=(event, ),name='boss')\n",
    "    b.start()\n",
    "    for x in range(5):  \n",
    "        threading.Thread(target=worker, args=(event, ),name='worker-{}'.format(x)).start()"
   ]
  },
  {
   "cell_type": "code",
   "execution_count": 86,
   "metadata": {
    "collapsed": false
   },
   "outputs": [
    {
     "name": "stderr",
     "output_type": "stream",
     "text": [
      "2017-04-18 09:02:46,480 INFO  [worker-1] sleep 3\n",
      "2017-04-18 09:02:46,481 INFO  [boss] worker exit 0:00:03.005539\n",
      "2017-04-18 09:02:46,482 INFO  [worker-4] sleep 3\n",
      "2017-04-18 09:02:46,482 INFO  [worker-3] sleep 3\n",
      "2017-04-18 09:02:46,482 INFO  [worker-2] sleep 3\n",
      "2017-04-18 09:02:48,482 INFO  [worker-0] sleep 5\n"
     ]
    }
   ],
   "source": [
    "start()      ## 差不多3秒的时候，boss就退出了 ，但是其它的4个worker确实都执行到了最后"
   ]
  },
  {
   "cell_type": "code",
   "execution_count": 88,
   "metadata": {
    "collapsed": false
   },
   "outputs": [
    {
     "name": "stderr",
     "output_type": "stream",
     "text": [
      "2017-04-18 09:04:29,999 INFO  [worker-0] sleep 2\n",
      "2017-04-18 09:04:29,999 INFO  [boss] worker exit 0:00:02.003690\n",
      "2017-04-18 09:04:30,000 INFO  [worker-3] sleep 2\n",
      "2017-04-18 09:04:30,000 INFO  [worker-1] sleep 2\n",
      "2017-04-18 09:04:33,001 INFO  [worker-2] sleep 5\n",
      "2017-04-18 09:04:33,004 INFO  [worker-4] sleep 5\n"
     ]
    }
   ],
   "source": [
    "## 再观察一次\n",
    "start()"
   ]
  },
  {
   "cell_type": "code",
   "execution_count": 89,
   "metadata": {
    "collapsed": false
   },
   "outputs": [
    {
     "name": "stderr",
     "output_type": "stream",
     "text": [
      "2017-04-18 09:04:40,590 INFO  [worker-1] sleep 2\n",
      "2017-04-18 09:04:40,592 INFO  [worker-4] sleep 2\n",
      "2017-04-18 09:04:40,596 INFO  [boss] worker exit 0:00:02.009136\n",
      "2017-04-18 09:04:40,596 INFO  [worker-3] sleep 2\n",
      "2017-04-18 09:04:43,590 INFO  [worker-2] sleep 5\n",
      "2017-04-18 09:04:43,591 INFO  [worker-0] sleep 5\n"
     ]
    }
   ],
   "source": [
    "start()        ## 整个start完成，需要大约5秒时间"
   ]
  },
  {
   "cell_type": "markdown",
   "metadata": {},
   "source": [
    "有没有办法更快一些呢？"
   ]
  },
  {
   "cell_type": "code",
   "execution_count": 90,
   "metadata": {
    "collapsed": true
   },
   "outputs": [],
   "source": [
    "def worker(event: threading.Event):\n",
    "    s = random.randint(2,5)\n",
    "    ## time.sleep(s)         ## 这里改了，把time.sleep改了，被event.sait()属性代替了\n",
    "    event.wait(s)           ## 改成 event.wait 并带一个timeout的属性，当 timeout到时的时候\n",
    "    event.set()                                 ## 不管有没有 set，它都会执行\n",
    "    logging.info('sleep {}'.format(s))\n",
    "\n",
    "def boss(event: threading.Event):\n",
    "    start = datetime.datetime.now()\n",
    "    event.wait()\n",
    "    logging.info('worker exit {}'.format(datetime.datetime.now() - start))"
   ]
  },
  {
   "cell_type": "code",
   "execution_count": 91,
   "metadata": {
    "collapsed": true
   },
   "outputs": [],
   "source": [
    "def start():\n",
    "    event = threading.Event()\n",
    "    b = threading.Thread(target=boss, args=(event, ),name='boss')\n",
    "    b.start()\n",
    "    for x in range(5):  \n",
    "        threading.Thread(target=worker, args=(event, ),name='worker-{}'.format(x)).start()"
   ]
  },
  {
   "cell_type": "code",
   "execution_count": 92,
   "metadata": {
    "collapsed": false
   },
   "outputs": [
    {
     "name": "stderr",
     "output_type": "stream",
     "text": [
      "2017-04-18 09:08:02,315 INFO  [worker-0] sleep 3\n",
      "2017-04-18 09:08:02,315 INFO  [worker-3] sleep 4\n",
      "2017-04-18 09:08:02,316 INFO  [worker-4] sleep 3\n",
      "2017-04-18 09:08:02,316 INFO  [worker-2] sleep 5\n",
      "2017-04-18 09:08:02,316 INFO  [boss] worker exit 0:00:03.001883\n",
      "2017-04-18 09:08:02,317 INFO  [worker-1] sleep 3\n"
     ]
    }
   ],
   "source": [
    "start()          ## 再看这里，几乎是同一个时刻退出的！！"
   ]
  },
  {
   "cell_type": "code",
   "execution_count": 93,
   "metadata": {
    "collapsed": false
   },
   "outputs": [
    {
     "name": "stderr",
     "output_type": "stream",
     "text": [
      "2017-04-18 09:08:13,674 INFO  [worker-1] sleep 2\n",
      "2017-04-18 09:08:13,675 INFO  [boss] worker exit 0:00:02.001894\n",
      "2017-04-18 09:08:13,675 INFO  [worker-3] sleep 3\n",
      "2017-04-18 09:08:13,676 INFO  [worker-4] sleep 4\n",
      "2017-04-18 09:08:13,676 INFO  [worker-0] sleep 4\n",
      "2017-04-18 09:08:13,676 INFO  [worker-2] sleep 2\n"
     ]
    }
   ],
   "source": [
    "start()"
   ]
  },
  {
   "cell_type": "code",
   "execution_count": 94,
   "metadata": {
    "collapsed": false
   },
   "outputs": [
    {
     "name": "stderr",
     "output_type": "stream",
     "text": [
      "2017-04-18 09:08:31,443 INFO  [worker-1] sleep 2\n",
      "2017-04-18 09:08:31,443 INFO  [worker-2] sleep 2\n",
      "2017-04-18 09:08:31,444 INFO  [boss] worker exit 0:00:02.002042\n",
      "2017-04-18 09:08:31,444 INFO  [worker-3] sleep 3\n",
      "2017-04-18 09:08:31,444 INFO  [worker-0] sleep 3\n",
      "2017-04-18 09:08:31,444 INFO  [worker-4] sleep 2\n"
     ]
    }
   ],
   "source": [
    "start()   ## 经过观察，几乎在同一个时刻退出的"
   ]
  },
  {
   "cell_type": "markdown",
   "metadata": {},
   "source": [
    "wait 会阻塞线程，直到set 方法被调用或者超时！而wait和set是可以在**不同线程**里去调用的！"
   ]
  },
  {
   "cell_type": "markdown",
   "metadata": {
    "collapsed": true
   },
   "source": [
    "理解这一句话好了！就知道是干什么用的了！"
   ]
  },
  {
   "cell_type": "markdown",
   "metadata": {},
   "source": [
    "是可以有多个线程持有wait的，其中一个线程set的话，wait就都结束了！"
   ]
  },
  {
   "cell_type": "code",
   "execution_count": null,
   "metadata": {
    "collapsed": true
   },
   "outputs": [],
   "source": []
  },
  {
   "cell_type": "markdown",
   "metadata": {},
   "source": [
    "event可以在线程之间发送信号"
   ]
  },
  {
   "cell_type": "markdown",
   "metadata": {},
   "source": [
    "通常用于某个线程需要等待其它线程处理完成某些动作之后，才能启动"
   ]
  },
  {
   "cell_type": "code",
   "execution_count": null,
   "metadata": {
    "collapsed": true
   },
   "outputs": [],
   "source": []
  },
  {
   "cell_type": "code",
   "execution_count": 95,
   "metadata": {
    "collapsed": true
   },
   "outputs": [],
   "source": [
    "event = threading.Event()   ## 再定义一个event"
   ]
  },
  {
   "cell_type": "code",
   "execution_count": 96,
   "metadata": {
    "collapsed": false
   },
   "outputs": [
    {
     "data": {
      "text/plain": [
       "False"
      ]
     },
     "execution_count": 96,
     "metadata": {},
     "output_type": "execute_result"
    }
   ],
   "source": [
    "event.wait(1)    ## 这里返回的是False(1秒后超时了)  但是在上面,先set的时候，返回的则是True\n",
    "                                                      "
   ]
  },
  {
   "cell_type": "markdown",
   "metadata": {},
   "source": [
    "根据这个，我们又可以做一件事情！定时的定期的做一件事情"
   ]
  },
  {
   "cell_type": "code",
   "execution_count": 3,
   "metadata": {
    "collapsed": true
   },
   "outputs": [],
   "source": [
    "## 注：not False 的结果是 True "
   ]
  },
  {
   "cell_type": "code",
   "execution_count": 4,
   "metadata": {
    "collapsed": false
   },
   "outputs": [
    {
     "data": {
      "text/plain": [
       "True"
      ]
     },
     "execution_count": 4,
     "metadata": {},
     "output_type": "execute_result"
    }
   ],
   "source": [
    "not False       ## 在下面的while里，大致就是这意思"
   ]
  },
  {
   "cell_type": "code",
   "execution_count": 97,
   "metadata": {
    "collapsed": true
   },
   "outputs": [],
   "source": [
    "def worker(event: threading.Event):\n",
    "    while not event.wait(3):  # 这里的event在它超时的时候返回的是false  这是一种技巧(判断是因为超时的，还是因为wait的)\n",
    "    ## while True:          ## 注释的两行，是可以替代while not event.wait(3)这个的\n",
    "        logging.info('run run run')\n",
    "        ## time.sleep(3)"
   ]
  },
  {
   "cell_type": "code",
   "execution_count": 98,
   "metadata": {
    "collapsed": true
   },
   "outputs": [],
   "source": [
    "event = threading.Event()"
   ]
  },
  {
   "cell_type": "code",
   "execution_count": 99,
   "metadata": {
    "collapsed": false
   },
   "outputs": [
    {
     "name": "stderr",
     "output_type": "stream",
     "text": [
      "2017-04-18 14:11:16,902 INFO  [printer] run run run\n",
      "2017-04-18 14:11:19,905 INFO  [printer] run run run\n",
      "2017-04-18 14:11:22,909 INFO  [printer] run run run\n",
      "2017-04-18 14:11:25,911 INFO  [printer] run run run\n",
      "2017-04-18 14:11:28,914 INFO  [printer] run run run\n",
      "2017-04-18 14:11:31,918 INFO  [printer] run run run\n",
      "2017-04-18 14:11:34,921 INFO  [printer] run run run\n",
      "2017-04-18 14:11:37,925 INFO  [printer] run run run\n",
      "2017-04-18 14:11:40,927 INFO  [printer] run run run\n"
     ]
    }
   ],
   "source": [
    "threading.Thread(target=worker, name='printer',args=(event,)).start()"
   ]
  },
  {
   "cell_type": "code",
   "execution_count": 101,
   "metadata": {
    "collapsed": false
   },
   "outputs": [],
   "source": [
    "event.set()    ## 以上，每3秒，打印一次; set后，wait(3)就返回True,not True后就退出了！\n",
    "               ## 当没有set的时候，会一直循环下去"
   ]
  },
  {
   "cell_type": "markdown",
   "metadata": {
    "collapsed": true
   },
   "source": [
    "定时的做任务的时候，就可以这样做，用这样的技巧，理解了吗？"
   ]
  },
  {
   "cell_type": "code",
   "execution_count": null,
   "metadata": {
    "collapsed": true
   },
   "outputs": [],
   "source": []
  },
  {
   "cell_type": "markdown",
   "metadata": {},
   "source": [
    "还有一种技巧："
   ]
  },
  {
   "cell_type": "code",
   "execution_count": 102,
   "metadata": {
    "collapsed": false
   },
   "outputs": [
    {
     "data": {
      "text/plain": [
       "True"
      ]
     },
     "execution_count": 102,
     "metadata": {},
     "output_type": "execute_result"
    }
   ],
   "source": [
    "event.is_set()       ## 查看event这个对象有没有set 过 ，这里是被set过了"
   ]
  },
  {
   "cell_type": "code",
   "execution_count": 103,
   "metadata": {
    "collapsed": true
   },
   "outputs": [],
   "source": [
    "event.clear()         ## clear方法是清除set标志"
   ]
  },
  {
   "cell_type": "code",
   "execution_count": 104,
   "metadata": {
    "collapsed": false
   },
   "outputs": [
    {
     "data": {
      "text/plain": [
       "False"
      ]
     },
     "execution_count": 104,
     "metadata": {},
     "output_type": "execute_result"
    }
   ],
   "source": [
    "event.is_set()        ## OK,这就可以做线程退出的判断条件了"
   ]
  },
  {
   "cell_type": "code",
   "execution_count": 105,
   "metadata": {
    "collapsed": true
   },
   "outputs": [],
   "source": [
    "## 注：这个常用！！  控制线程退出的机制\n",
    "\n",
    "def worker(event: threading.Event):\n",
    "    while not event.is_set():\n",
    "        ## 业务逻辑\n",
    "        pass                  ## 这个就是通常我们常用的控制我们线程退出的机制！\n",
    "                               ## 可以控制线程何时退出了  （利用 set 就可以退出了）"
   ]
  },
  {
   "cell_type": "markdown",
   "metadata": {},
   "source": [
    "注：event是线程安全的，(只要是同一个对象)无论在哪个线程里set，它的wait都会结束。"
   ]
  },
  {
   "cell_type": "code",
   "execution_count": null,
   "metadata": {
    "collapsed": true
   },
   "outputs": [],
   "source": []
  },
  {
   "cell_type": "markdown",
   "metadata": {},
   "source": [
    "问：event.wait(3) 和 sleep(3) 有什么区别么？"
   ]
  },
  {
   "cell_type": "markdown",
   "metadata": {},
   "source": [
    "wait会主动让出时间片，sleep不会主动让出时间片；所以多线程编程都会使用wait而忘记sleep"
   ]
  },
  {
   "cell_type": "code",
   "execution_count": null,
   "metadata": {
    "collapsed": true
   },
   "outputs": [],
   "source": []
  },
  {
   "cell_type": "code",
   "execution_count": 19,
   "metadata": {
    "collapsed": false
   },
   "outputs": [
    {
     "name": "stdout",
     "output_type": "stream",
     "text": [
      "Help on method wait in module threading:\n",
      "\n",
      "wait(timeout=None) method of threading.Event instance\n",
      "    Block until the internal flag is true.\n",
      "    \n",
      "    If the internal flag is true on entry, return immediately. Otherwise,\n",
      "    block until another thread calls set() to set the flag to true, or until\n",
      "    the optional timeout occurs.\n",
      "    \n",
      "    When the timeout argument is present and not None, it should be a\n",
      "    floating point number specifying a timeout for the operation in seconds\n",
      "    (or fractions thereof).\n",
      "    \n",
      "    This method returns the internal flag on exit, so it will always return\n",
      "    True except if a timeout is given and the operation times out.\n",
      "\n"
     ]
    }
   ],
   "source": [
    "help(e.wait)"
   ]
  },
  {
   "cell_type": "markdown",
   "metadata": {},
   "source": [
    "练习实现Timer"
   ]
  },
  {
   "cell_type": "code",
   "execution_count": 1,
   "metadata": {
    "collapsed": true
   },
   "outputs": [],
   "source": [
    "import time \n",
    "import logging\n",
    "import threading\n",
    "import importlib\n",
    "\n",
    "importlib.reload(logging)\n",
    "logging.basicConfig(level=logging.DEBUG, format='%(asctime)s %(levelname)s  [%(threadName)s] %(message)s')"
   ]
  },
  {
   "cell_type": "code",
   "execution_count": 2,
   "metadata": {
    "collapsed": true
   },
   "outputs": [],
   "source": [
    "class Timer:\n",
    "    def __init__(self, interval, function, *args, **kwargs):\n",
    "        self.interval = interval\n",
    "        self.function = function\n",
    "        self.args = args\n",
    "        self.kwargs = kwargs\n",
    "        self.event = threading.Event()\n",
    "        self.thread = threading.Thread(target=self.__target)\n",
    "        \n",
    "    def __target(self):\n",
    "        if not self.event.wait(self.interval):      ## 关键点就在这里  \n",
    "            self.function(*self.args, **self.kwargs) ## 如果cancel了，就退出了，不执行这里了\n",
    "            \n",
    "    def start(self):\n",
    "        self.thread.start()\n",
    "    \n",
    "    def cancel(self):\n",
    "        self.event.set()"
   ]
  },
  {
   "cell_type": "code",
   "execution_count": 3,
   "metadata": {
    "collapsed": true
   },
   "outputs": [],
   "source": [
    "def worker():\n",
    "    logging.info('run')             \n",
    "\n",
    "## Timer这两段代码已明白    这就是 event 的妙用！"
   ]
  },
  {
   "cell_type": "code",
   "execution_count": 7,
   "metadata": {
    "collapsed": true
   },
   "outputs": [],
   "source": [
    "t = Timer(interval=5, function=worker)"
   ]
  },
  {
   "cell_type": "code",
   "execution_count": 8,
   "metadata": {
    "collapsed": false
   },
   "outputs": [
    {
     "name": "stderr",
     "output_type": "stream",
     "text": [
      "2017-04-19 08:09:17,142 INFO  [Thread-5] run\n"
     ]
    }
   ],
   "source": [
    "t.start()   ## 5秒后出来"
   ]
  },
  {
   "cell_type": "code",
   "execution_count": 9,
   "metadata": {
    "collapsed": true
   },
   "outputs": [],
   "source": [
    "t2 = Timer(interval=10, function=worker)"
   ]
  },
  {
   "cell_type": "code",
   "execution_count": 10,
   "metadata": {
    "collapsed": true
   },
   "outputs": [],
   "source": [
    "t2.start()"
   ]
  },
  {
   "cell_type": "code",
   "execution_count": 11,
   "metadata": {
    "collapsed": true
   },
   "outputs": [],
   "source": [
    "t2.cancel()     ## 10 秒内停止，就调用了 event.set属性了"
   ]
  },
  {
   "cell_type": "code",
   "execution_count": 12,
   "metadata": {
    "collapsed": true
   },
   "outputs": [],
   "source": [
    "t3 =  Timer(interval=10, function=worker)"
   ]
  },
  {
   "cell_type": "code",
   "execution_count": 13,
   "metadata": {
    "collapsed": false
   },
   "outputs": [
    {
     "name": "stderr",
     "output_type": "stream",
     "text": [
      "2017-04-19 08:24:12,443 INFO  [Thread-7] run\n"
     ]
    }
   ],
   "source": [
    "t3.start()    ## 10秒后输出了"
   ]
  },
  {
   "cell_type": "code",
   "execution_count": null,
   "metadata": {
    "collapsed": true
   },
   "outputs": [],
   "source": []
  },
  {
   "cell_type": "markdown",
   "metadata": {},
   "source": [
    "总结：event用于线程之间发送信号。"
   ]
  },
  {
   "cell_type": "code",
   "execution_count": null,
   "metadata": {
    "collapsed": true
   },
   "outputs": [],
   "source": []
  },
  {
   "cell_type": "markdown",
   "metadata": {
    "collapsed": true
   },
   "source": [
    "### lock"
   ]
  },
  {
   "cell_type": "markdown",
   "metadata": {},
   "source": [
    "并发的难点，其实就在于锁！Python的技巧算是相对比较少的。 "
   ]
  },
  {
   "cell_type": "markdown",
   "metadata": {},
   "source": [
    "现在有倒是有无锁编程，能提高性能。"
   ]
  },
  {
   "cell_type": "markdown",
   "metadata": {},
   "source": [
    "搞定了锁，就搞定了并发。锁是并发变串行的"
   ]
  },
  {
   "cell_type": "markdown",
   "metadata": {},
   "source": [
    "在需要对共享资源进行操作的时候是多线程串行，但逻辑部分还是并发执行的"
   ]
  },
  {
   "cell_type": "code",
   "execution_count": null,
   "metadata": {
    "collapsed": true
   },
   "outputs": [],
   "source": []
  },
  {
   "cell_type": "markdown",
   "metadata": {},
   "source": [
    "下面开始锁"
   ]
  },
  {
   "cell_type": "code",
   "execution_count": 14,
   "metadata": {
    "collapsed": true
   },
   "outputs": [],
   "source": [
    "## 看一个计数的类"
   ]
  },
  {
   "cell_type": "code",
   "execution_count": 15,
   "metadata": {
    "collapsed": true
   },
   "outputs": [],
   "source": [
    "class Counter:\n",
    "    def __init__(self):\n",
    "        self.__val = 0\n",
    "        \n",
    "    @property\n",
    "    def value(self):\n",
    "        return self.__val\n",
    "    \n",
    "    def inc(self):\n",
    "        self.__val += 1  ## 相当于 self.__val = self.__val + 1\n",
    "        \n",
    "    def dec(self):\n",
    "        self.__val -= 1  ## 相当于 self.__val = self.__val - 1"
   ]
  },
  {
   "cell_type": "code",
   "execution_count": 16,
   "metadata": {
    "collapsed": true
   },
   "outputs": [],
   "source": [
    "counter = Counter()"
   ]
  },
  {
   "cell_type": "code",
   "execution_count": 17,
   "metadata": {
    "collapsed": true
   },
   "outputs": [],
   "source": [
    "counter.inc()"
   ]
  },
  {
   "cell_type": "code",
   "execution_count": 18,
   "metadata": {
    "collapsed": true
   },
   "outputs": [],
   "source": [
    "counter.inc()"
   ]
  },
  {
   "cell_type": "code",
   "execution_count": 19,
   "metadata": {
    "collapsed": true
   },
   "outputs": [],
   "source": [
    "counter.dec()"
   ]
  },
  {
   "cell_type": "code",
   "execution_count": 20,
   "metadata": {
    "collapsed": false
   },
   "outputs": [
    {
     "data": {
      "text/plain": [
       "1"
      ]
     },
     "execution_count": 20,
     "metadata": {},
     "output_type": "execute_result"
    }
   ],
   "source": [
    "counter.value"
   ]
  },
  {
   "cell_type": "code",
   "execution_count": null,
   "metadata": {
    "collapsed": true
   },
   "outputs": [],
   "source": [
    "## 以上，这在单线程的情况下是OK的。"
   ]
  },
  {
   "cell_type": "code",
   "execution_count": null,
   "metadata": {
    "collapsed": true
   },
   "outputs": [],
   "source": []
  },
  {
   "cell_type": "code",
   "execution_count": 2,
   "metadata": {
    "collapsed": true
   },
   "outputs": [],
   "source": [
    "import random"
   ]
  },
  {
   "cell_type": "code",
   "execution_count": 22,
   "metadata": {
    "collapsed": true
   },
   "outputs": [],
   "source": [
    "def fn():\n",
    "    if random.choice([-1,1]) > 0:\n",
    "        logging.info('inc')\n",
    "        counter.inc()\n",
    "    else:\n",
    "        logging.info('dec')\n",
    "        counter.dec()"
   ]
  },
  {
   "cell_type": "code",
   "execution_count": 26,
   "metadata": {
    "collapsed": false
   },
   "outputs": [
    {
     "name": "stderr",
     "output_type": "stream",
     "text": [
      "2017-04-19 08:48:12,654 INFO  [Thread-28] dec\n",
      "2017-04-19 08:48:12,655 INFO  [Thread-29] inc\n",
      "2017-04-19 08:48:12,656 INFO  [Thread-30] inc\n",
      "2017-04-19 08:48:12,657 INFO  [Thread-31] dec\n",
      "2017-04-19 08:48:12,657 INFO  [Thread-32] inc\n",
      "2017-04-19 08:48:12,658 INFO  [Thread-33] dec\n",
      "2017-04-19 08:48:12,660 INFO  [Thread-34] inc\n",
      "2017-04-19 08:48:12,661 INFO  [Thread-35] inc\n",
      "2017-04-19 08:48:12,661 INFO  [Thread-36] inc\n",
      "2017-04-19 08:48:12,662 INFO  [Thread-37] inc\n"
     ]
    }
   ],
   "source": [
    "for x in range(10):               ## 启动10个线程\n",
    "    threading.Thread(target=fn).start()"
   ]
  },
  {
   "cell_type": "code",
   "execution_count": 27,
   "metadata": {
    "collapsed": false
   },
   "outputs": [
    {
     "data": {
      "text/plain": [
       "-3"
      ]
     },
     "execution_count": 27,
     "metadata": {},
     "output_type": "execute_result"
    }
   ],
   "source": [
    "counter.value     ## 多次执行后的结果\n",
    "                  ## 事实上，是不知道的！为什么不知道呢？因为要考虑并发的问题\n",
    "                  ## 这里进程数太小，偶然性比较大"
   ]
  },
  {
   "cell_type": "markdown",
   "metadata": {},
   "source": [
    "如何让它必然的，有确定的成果？"
   ]
  },
  {
   "cell_type": "markdown",
   "metadata": {},
   "source": [
    "涉及到对共享资源的保护！"
   ]
  },
  {
   "cell_type": "markdown",
   "metadata": {},
   "source": [
    "在这里，counter对象，就是一个共享资源，因为每个线程都会对它操作；再细一点，counter的__val是共享资源 ，所以共享资源是需要被保护的"
   ]
  },
  {
   "cell_type": "markdown",
   "metadata": {},
   "source": [
    "如何保护呢？ 用lock"
   ]
  },
  {
   "cell_type": "code",
   "execution_count": 28,
   "metadata": {
    "collapsed": true
   },
   "outputs": [],
   "source": [
    "lock = threading.Lock()"
   ]
  },
  {
   "cell_type": "code",
   "execution_count": 29,
   "metadata": {
    "collapsed": false
   },
   "outputs": [
    {
     "data": {
      "text/plain": [
       "True"
      ]
     },
     "execution_count": 29,
     "metadata": {},
     "output_type": "execute_result"
    }
   ],
   "source": [
    "lock.acquire()       ## acquire  得到，获得"
   ]
  },
  {
   "cell_type": "code",
   "execution_count": 30,
   "metadata": {
    "collapsed": false
   },
   "outputs": [
    {
     "ename": "KeyboardInterrupt",
     "evalue": "",
     "output_type": "error",
     "traceback": [
      "\u001b[1;31m---------------------------------------------------------------------------\u001b[0m",
      "\u001b[1;31mKeyboardInterrupt\u001b[0m                         Traceback (most recent call last)",
      "\u001b[1;32m<ipython-input-30-394e97d7f4d5>\u001b[0m in \u001b[0;36m<module>\u001b[1;34m()\u001b[0m\n\u001b[1;32m----> 1\u001b[1;33m \u001b[0mlock\u001b[0m\u001b[1;33m.\u001b[0m\u001b[0macquire\u001b[0m\u001b[1;33m(\u001b[0m\u001b[1;33m)\u001b[0m\u001b[1;33m\u001b[0m\u001b[0m\n\u001b[0m",
      "\u001b[1;31mKeyboardInterrupt\u001b[0m: "
     ]
    }
   ],
   "source": [
    "lock.acquire()    ## 再执行，它就阻塞了  需要手动中断的！"
   ]
  },
  {
   "cell_type": "markdown",
   "metadata": {},
   "source": [
    "对于lock实例，只能调用一次acquire方法，再次调用，会被阻塞，直到release方法被调用。"
   ]
  },
  {
   "cell_type": "code",
   "execution_count": 31,
   "metadata": {
    "collapsed": true
   },
   "outputs": [],
   "source": [
    "lock.release()    ## 释放 lock "
   ]
  },
  {
   "cell_type": "code",
   "execution_count": 32,
   "metadata": {
    "collapsed": false
   },
   "outputs": [
    {
     "data": {
      "text/plain": [
       "True"
      ]
     },
     "execution_count": 32,
     "metadata": {},
     "output_type": "execute_result"
    }
   ],
   "source": [
    "lock.acquire()"
   ]
  },
  {
   "cell_type": "markdown",
   "metadata": {},
   "source": [
    "根据这个特征，改造counter"
   ]
  },
  {
   "cell_type": "code",
   "execution_count": 35,
   "metadata": {
    "collapsed": true
   },
   "outputs": [],
   "source": [
    "class Counter:\n",
    "    def __init__(self):\n",
    "        self.__val = 0\n",
    "        self._lock = threading.Lock()     ## 定义一个锁的对象\n",
    "        \n",
    "    @property\n",
    "    def value(self):\n",
    "        return self.__val\n",
    "    \n",
    "    def inc(self):\n",
    "        try:\n",
    "            self._lock.acquire()\n",
    "            self.__val += 1 \n",
    "        finally:\n",
    "            self._lock.release()  ## 加上try 和 finally 就永远都能执行到release 释放锁\n",
    "        \n",
    "    def dec(self):\n",
    "        try:\n",
    "            self._lock.acquire()\n",
    "            self.__val -= 1  ## 相当于 self.__val = self.__val - 1\n",
    "        finally:\n",
    "            self._lock.release()"
   ]
  },
  {
   "cell_type": "markdown",
   "metadata": {},
   "source": [
    "通过这样，就可以保证共享资源；永远永远只有一个线程会修改_val"
   ]
  },
  {
   "cell_type": "markdown",
   "metadata": {},
   "source": [
    "凡是用锁的地方，必须的finally里release，否则就会有被锁死的可能性了！"
   ]
  },
  {
   "cell_type": "markdown",
   "metadata": {},
   "source": [
    "事实上，它是支持上下文管理的！"
   ]
  },
  {
   "cell_type": "code",
   "execution_count": 37,
   "metadata": {
    "collapsed": true
   },
   "outputs": [],
   "source": [
    "## 修改成 with（上下文管理） 方式\n",
    "\n",
    "class Counter:\n",
    "    def __init__(self):\n",
    "        self.__val = 0\n",
    "        self._lock = threading.Lock()     ## 定义一个锁的对象\n",
    "        \n",
    "    @property\n",
    "    def value(self):\n",
    "        return self.__val\n",
    "    \n",
    "    def inc(self):\n",
    "        with self._lock:         ## __enter__时候相当于调用了acquire\n",
    "            self.__val += 1      ## __exit__的时候相当于调用了release\n",
    "        \n",
    "    def dec(self):\n",
    "        with self._lock:\n",
    "            self.__val -= 1 \n",
    "            \n",
    "## 这样的话，就会自动的加锁，自动的释放了"
   ]
  },
  {
   "cell_type": "markdown",
   "metadata": {},
   "source": [
    "再看一个问题，inc和dec都加锁了，value(读这里)需要不需要加锁呢？\n",
    "需要，如果不加锁，脏读、幻读都有可能！"
   ]
  },
  {
   "cell_type": "code",
   "execution_count": null,
   "metadata": {
    "collapsed": true
   },
   "outputs": [],
   "source": []
  },
  {
   "cell_type": "code",
   "execution_count": 49,
   "metadata": {
    "collapsed": true
   },
   "outputs": [],
   "source": [
    "\n",
    "class Counter:\n",
    "    def __init__(self):\n",
    "        self.__val = 0\n",
    "        self._lock = threading.Lock()     ## 定义一个锁的对象\n",
    "        \n",
    "    @property\n",
    "    def value(self):\n",
    "        with self._lock:            ## 这里也加锁\n",
    "            return self.__val\n",
    "    \n",
    "    def inc(self):\n",
    "        with self._lock:\n",
    "            self.__val += 1 \n",
    "        \n",
    "    def dec(self):\n",
    "        with self._lock:\n",
    "            self.__val -= 1 "
   ]
  },
  {
   "cell_type": "markdown",
   "metadata": {},
   "source": [
    "这样，就是一个线程安全的count了"
   ]
  },
  {
   "cell_type": "code",
   "execution_count": 50,
   "metadata": {
    "collapsed": true
   },
   "outputs": [],
   "source": [
    "counter = Counter()"
   ]
  },
  {
   "cell_type": "code",
   "execution_count": 51,
   "metadata": {
    "collapsed": true
   },
   "outputs": [],
   "source": [
    "def fn():\n",
    "    if random.choice([-1,1]) > 0:\n",
    "        logging.info('inc')\n",
    "        counter.inc()\n",
    "    else:\n",
    "        logging.info('dec')\n",
    "        counter.dec()"
   ]
  },
  {
   "cell_type": "markdown",
   "metadata": {},
   "source": [
    "这样就可以放心的用了！"
   ]
  },
  {
   "cell_type": "code",
   "execution_count": 52,
   "metadata": {
    "collapsed": false
   },
   "outputs": [
    {
     "name": "stderr",
     "output_type": "stream",
     "text": [
      "2017-04-19 13:15:52,873 INFO  [Thread-78] inc\n",
      "2017-04-19 13:15:52,880 INFO  [Thread-79] inc\n",
      "2017-04-19 13:15:52,882 INFO  [Thread-80] inc\n",
      "2017-04-19 13:15:52,889 INFO  [Thread-81] dec\n",
      "2017-04-19 13:15:52,895 INFO  [Thread-82] inc\n",
      "2017-04-19 13:15:52,897 INFO  [Thread-83] inc\n",
      "2017-04-19 13:15:52,900 INFO  [Thread-84] dec\n",
      "2017-04-19 13:15:52,902 INFO  [Thread-85] inc\n",
      "2017-04-19 13:15:52,904 INFO  [Thread-86] inc\n",
      "2017-04-19 13:15:52,906 INFO  [Thread-87] dec\n"
     ]
    }
   ],
   "source": [
    "for x in range(10):               ## 启动10个线程\n",
    "    threading.Thread(target=fn).start()"
   ]
  },
  {
   "cell_type": "code",
   "execution_count": 53,
   "metadata": {
    "collapsed": false
   },
   "outputs": [
    {
     "data": {
      "text/plain": [
       "4"
      ]
     },
     "execution_count": 53,
     "metadata": {},
     "output_type": "execute_result"
    }
   ],
   "source": [
    "counter.value      ## 这样的结果就非常明确了！   7次 inc 3次 dec  得4  \n",
    "## 注：如果写IDE或放在一起运行的时候，需要在counter.value前 time.sleep(1) \n",
    "## 才能得到正确结果,不然会错乱"
   ]
  },
  {
   "cell_type": "markdown",
   "metadata": {},
   "source": [
    "这就是关于锁的内容。"
   ]
  },
  {
   "cell_type": "markdown",
   "metadata": {},
   "source": [
    "**注：以上如果写IDE或放在一起运行的时候，需要 time.sleep(1) 才能得到正确结果,不然会错乱**"
   ]
  },
  {
   "cell_type": "markdown",
   "metadata": {},
   "source": [
    "所谓线程安全：就是多个线程同时调用，结果总是一致的。"
   ]
  },
  {
   "cell_type": "code",
   "execution_count": null,
   "metadata": {
    "collapsed": true
   },
   "outputs": [],
   "source": []
  },
  {
   "cell_type": "markdown",
   "metadata": {},
   "source": [
    "何时需要加锁？"
   ]
  },
  {
   "cell_type": "markdown",
   "metadata": {},
   "source": [
    "只要是共享资源的时候，就需要加锁！"
   ]
  },
  {
   "cell_type": "code",
   "execution_count": null,
   "metadata": {
    "collapsed": true
   },
   "outputs": [],
   "source": []
  },
  {
   "cell_type": "markdown",
   "metadata": {},
   "source": [
    "接着往下："
   ]
  },
  {
   "cell_type": "code",
   "execution_count": 54,
   "metadata": {
    "collapsed": true
   },
   "outputs": [],
   "source": [
    "lock = threading.Lock()"
   ]
  },
  {
   "cell_type": "code",
   "execution_count": 55,
   "metadata": {
    "collapsed": false
   },
   "outputs": [
    {
     "data": {
      "text/plain": [
       "True"
      ]
     },
     "execution_count": 55,
     "metadata": {},
     "output_type": "execute_result"
    }
   ],
   "source": [
    "lock.acquire()"
   ]
  },
  {
   "cell_type": "code",
   "execution_count": 56,
   "metadata": {
    "collapsed": false
   },
   "outputs": [
    {
     "name": "stdout",
     "output_type": "stream",
     "text": [
      "Help on built-in function acquire:\n",
      "\n",
      "acquire(...) method of _thread.lock instance\n",
      "    acquire(blocking=True, timeout=-1) -> bool\n",
      "    (acquire_lock() is an obsolete synonym)\n",
      "    \n",
      "    Lock the lock.  Without argument, this blocks if the lock is already\n",
      "    locked (even by the same thread), waiting for another thread to release\n",
      "    the lock, and return True once the lock is acquired.\n",
      "    With an argument, this will only block if the argument is true,\n",
      "    and the return value reflects whether the lock is acquired.\n",
      "    The blocking operation is interruptible.\n",
      "\n"
     ]
    }
   ],
   "source": [
    "help(lock.acquire)"
   ]
  },
  {
   "cell_type": "code",
   "execution_count": 57,
   "metadata": {
    "collapsed": false
   },
   "outputs": [
    {
     "data": {
      "text/plain": [
       "False"
      ]
     },
     "execution_count": 57,
     "metadata": {},
     "output_type": "execute_result"
    }
   ],
   "source": [
    "lock.acquire(blocking=False)  ## 并不会阻塞  锁上以后，当再次加锁时，如果blocking为False,那么并不会阻塞，而是返回False"
   ]
  },
  {
   "cell_type": "code",
   "execution_count": 58,
   "metadata": {
    "collapsed": false
   },
   "outputs": [
    {
     "data": {
      "text/plain": [
       "False"
      ]
     },
     "execution_count": 58,
     "metadata": {},
     "output_type": "execute_result"
    }
   ],
   "source": [
    "lock.acquire(timeout=3)  ## 如果blocking为True, timeout >=0 会阻塞到超时，并返回False"
   ]
  },
  {
   "cell_type": "markdown",
   "metadata": {},
   "source": [
    "这两个参数其实用处不多，但是有时候用处会非常有用。"
   ]
  },
  {
   "cell_type": "markdown",
   "metadata": {},
   "source": [
    "预先启动10个线程，处理一些任务，当其中一个线程在处理其中一个任务时，其它线程可以处理其它任务"
   ]
  },
  {
   "cell_type": "code",
   "execution_count": 29,
   "metadata": {
    "collapsed": true
   },
   "outputs": [],
   "source": [
    "## 举例\n",
    "\n",
    "def worker(tasks):\n",
    "    for task in tasks:\n",
    "        if task.lock.acquire(False):   ## 第一个参数简写了，看以上帮助 acquire(blocking=True, timeout=-1) -> bool\n",
    "#            try:                       ## 默认是True的，也就是block的，把它改成不block的\n",
    "            logging.info(task.name)    ##  if task.lock.acquire(False) 这段，加锁成功返回True，不成功才返回False\n",
    "#             finally:                 ## False参数只是不阻塞的意思，而不是返回False\n",
    "\n",
    "#                 task.lock.release()   ## 一旦release 会被后面的重复执行"
   ]
  },
  {
   "cell_type": "code",
   "execution_count": 30,
   "metadata": {
    "collapsed": true
   },
   "outputs": [],
   "source": [
    "class Task:\n",
    "    def __init__(self,name):\n",
    "        self.name = name \n",
    "        self.lock = threading.Lock()   ##  这里是上面worker函数里 lock 的赋值"
   ]
  },
  {
   "cell_type": "code",
   "execution_count": 31,
   "metadata": {
    "collapsed": false
   },
   "outputs": [],
   "source": [
    "tasks = [Task(x) for x in range(10)] ## 列表生成式   这里假设有10个task"
   ]
  },
  {
   "cell_type": "code",
   "execution_count": 15,
   "metadata": {
    "collapsed": false
   },
   "outputs": [
    {
     "data": {
      "text/plain": [
       "[<__main__.Task at 0x7ff69c40f5f8>,\n",
       " <__main__.Task at 0x7ff69c40f668>,\n",
       " <__main__.Task at 0x7ff69c40f5c0>,\n",
       " <__main__.Task at 0x7ff69c40f4e0>,\n",
       " <__main__.Task at 0x7ff69c40f588>,\n",
       " <__main__.Task at 0x7ff69c40f518>,\n",
       " <__main__.Task at 0x7ff69c40f9b0>,\n",
       " <__main__.Task at 0x7ff69c40f6a0>,\n",
       " <__main__.Task at 0x7ff69c40fc88>,\n",
       " <__main__.Task at 0x7ff69c40f7b8>]"
      ]
     },
     "execution_count": 15,
     "metadata": {},
     "output_type": "execute_result"
    }
   ],
   "source": [
    "## [Task(x) for x in range(10)]       这个就得到以下"
   ]
  },
  {
   "cell_type": "code",
   "execution_count": 32,
   "metadata": {
    "collapsed": false
   },
   "outputs": [
    {
     "name": "stderr",
     "output_type": "stream",
     "text": [
      "2017-04-19 20:24:48,620 INFO  [worker-0] 0\n",
      "2017-04-19 20:24:48,644 INFO  [worker-0] 1\n",
      "2017-04-19 20:24:48,647 INFO  [worker-0] 2\n",
      "2017-04-19 20:24:48,650 INFO  [worker-0] 3\n",
      "2017-04-19 20:24:48,653 INFO  [worker-0] 4\n",
      "2017-04-19 20:24:48,656 INFO  [worker-0] 5\n",
      "2017-04-19 20:24:48,659 INFO  [worker-0] 6\n",
      "2017-04-19 20:24:48,672 INFO  [worker-0] 8\n",
      "2017-04-19 20:24:48,675 INFO  [worker-0] 9\n",
      "2017-04-19 20:24:48,665 INFO  [worker-1] 7\n"
     ]
    }
   ],
   "source": [
    "for x in range(5):    ## 用5个线程来处理这10个task\n",
    "    threading.Thread(target=worker, args=(tasks, ),name='worker-{}'.format(x)).start() "
   ]
  },
  {
   "cell_type": "markdown",
   "metadata": {},
   "source": [
    "注：无法保证先后顺序的，要保证先后顺序的话，就不能用并发了。"
   ]
  },
  {
   "cell_type": "code",
   "execution_count": null,
   "metadata": {
    "collapsed": true
   },
   "outputs": [],
   "source": []
  },
  {
   "cell_type": "markdown",
   "metadata": {},
   "source": [
    "先继续吧！"
   ]
  },
  {
   "cell_type": "markdown",
   "metadata": {},
   "source": [
    "锁是不可重入"
   ]
  },
  {
   "cell_type": "markdown",
   "metadata": {},
   "source": [
    "#### 可重入锁    (标准库提供的)"
   ]
  },
  {
   "cell_type": "code",
   "execution_count": 33,
   "metadata": {
    "collapsed": true
   },
   "outputs": [],
   "source": [
    "rlock = threading.RLock()"
   ]
  },
  {
   "cell_type": "code",
   "execution_count": 34,
   "metadata": {
    "collapsed": false
   },
   "outputs": [
    {
     "data": {
      "text/plain": [
       "True"
      ]
     },
     "execution_count": 34,
     "metadata": {},
     "output_type": "execute_result"
    }
   ],
   "source": [
    "rlock.acquire()"
   ]
  },
  {
   "cell_type": "code",
   "execution_count": 35,
   "metadata": {
    "collapsed": false
   },
   "outputs": [
    {
     "data": {
      "text/plain": [
       "True"
      ]
     },
     "execution_count": 35,
     "metadata": {},
     "output_type": "execute_result"
    }
   ],
   "source": [
    "rlock.acquire(False)   ## 还是True，说明加锁成功"
   ]
  },
  {
   "cell_type": "code",
   "execution_count": 36,
   "metadata": {
    "collapsed": true
   },
   "outputs": [],
   "source": [
    "rlock.release()"
   ]
  },
  {
   "cell_type": "code",
   "execution_count": 37,
   "metadata": {
    "collapsed": true
   },
   "outputs": [],
   "source": [
    "rlock.release()"
   ]
  },
  {
   "cell_type": "markdown",
   "metadata": {},
   "source": [
    "可重入锁在同一个线程内，可以多次acquire(加锁)成功，但是只能有一个线程acquire成功，acquire几次，就需要release几次。"
   ]
  },
  {
   "cell_type": "markdown",
   "metadata": {},
   "source": [
    "可重入锁了解一下就可以了，通常还是用lock"
   ]
  },
  {
   "cell_type": "code",
   "execution_count": null,
   "metadata": {
    "collapsed": true
   },
   "outputs": [],
   "source": []
  },
  {
   "cell_type": "code",
   "execution_count": null,
   "metadata": {
    "collapsed": true
   },
   "outputs": [],
   "source": []
  },
  {
   "cell_type": "code",
   "execution_count": null,
   "metadata": {
    "collapsed": true
   },
   "outputs": [],
   "source": [
    "## 继续"
   ]
  },
  {
   "cell_type": "markdown",
   "metadata": {},
   "source": [
    "### Condition"
   ]
  },
  {
   "cell_type": "markdown",
   "metadata": {},
   "source": [
    "从名字看出来，是条件"
   ]
  },
  {
   "cell_type": "code",
   "execution_count": 1,
   "metadata": {
    "collapsed": true
   },
   "outputs": [],
   "source": [
    "import time \n",
    "import logging\n",
    "import threading\n",
    "import importlib\n",
    "\n",
    "importlib.reload(logging)\n",
    "logging.basicConfig(level=logging.DEBUG, format='%(asctime)s %(levelname)s  [%(threadName)s] %(message)s')"
   ]
  },
  {
   "cell_type": "code",
   "execution_count": 2,
   "metadata": {
    "collapsed": true
   },
   "outputs": [],
   "source": [
    "import random"
   ]
  },
  {
   "cell_type": "code",
   "execution_count": null,
   "metadata": {
    "collapsed": true
   },
   "outputs": [],
   "source": []
  },
  {
   "cell_type": "code",
   "execution_count": 20,
   "metadata": {
    "collapsed": true
   },
   "outputs": [],
   "source": [
    "class Dispatcher:         ## Dispatcher 调度员\n",
    "    def __init__(self):\n",
    "        self.data = None\n",
    "        self.event = threading.Event()\n",
    "    \n",
    "    def consumer(self):             ## consumer 消费者\n",
    "        while not self.event.wait(1):\n",
    "            logging.info(self.data)\n",
    "        \n",
    "    def producer(self):             ## 生产者\n",
    "        for _ in range(10):\n",
    "            data = random.randint(0,100)  ## 随机选择0-100间的数字\n",
    "            logging.info(data)\n",
    "            self.data = data\n",
    "            self.event.wait(1)\n",
    "        self.event.set()"
   ]
  },
  {
   "cell_type": "code",
   "execution_count": 21,
   "metadata": {
    "collapsed": true
   },
   "outputs": [],
   "source": [
    "d = Dispatcher()"
   ]
  },
  {
   "cell_type": "code",
   "execution_count": 22,
   "metadata": {
    "collapsed": true
   },
   "outputs": [],
   "source": [
    "p = threading.Thread(target=d.producer, name='producer')"
   ]
  },
  {
   "cell_type": "code",
   "execution_count": 23,
   "metadata": {
    "collapsed": true
   },
   "outputs": [],
   "source": [
    "c = threading.Thread(target=d.consumer, name='consumer')"
   ]
  },
  {
   "cell_type": "code",
   "execution_count": 24,
   "metadata": {
    "collapsed": false
   },
   "outputs": [
    {
     "name": "stderr",
     "output_type": "stream",
     "text": [
      "2017-04-19 21:59:16,778 INFO  [producer] 38\n",
      "2017-04-19 21:59:17,778 INFO  [consumer] 38\n",
      "2017-04-19 21:59:17,782 INFO  [producer] 84\n",
      "2017-04-19 21:59:18,781 INFO  [consumer] 84\n",
      "2017-04-19 21:59:18,810 INFO  [producer] 100\n",
      "2017-04-19 21:59:19,784 INFO  [consumer] 100\n",
      "2017-04-19 21:59:19,812 INFO  [producer] 50\n",
      "2017-04-19 21:59:20,789 INFO  [consumer] 50\n",
      "2017-04-19 21:59:20,813 INFO  [producer] 27\n",
      "2017-04-19 21:59:21,792 INFO  [consumer] 27\n",
      "2017-04-19 21:59:21,823 INFO  [producer] 54\n",
      "2017-04-19 21:59:22,795 INFO  [consumer] 54\n",
      "2017-04-19 21:59:22,836 INFO  [producer] 22\n",
      "2017-04-19 21:59:23,799 INFO  [consumer] 22\n",
      "2017-04-19 21:59:23,838 INFO  [producer] 68\n",
      "2017-04-19 21:59:24,802 INFO  [consumer] 68\n",
      "2017-04-19 21:59:24,840 INFO  [producer] 51\n",
      "2017-04-19 21:59:25,805 INFO  [consumer] 51\n",
      "2017-04-19 21:59:25,843 INFO  [producer] 96\n",
      "2017-04-19 21:59:26,808 INFO  [consumer] 96\n"
     ]
    }
   ],
   "source": [
    "c.start()\n",
    "p.start()"
   ]
  },
  {
   "cell_type": "code",
   "execution_count": null,
   "metadata": {
    "collapsed": true
   },
   "outputs": [],
   "source": []
  },
  {
   "cell_type": "code",
   "execution_count": 28,
   "metadata": {
    "collapsed": true
   },
   "outputs": [],
   "source": [
    "d = Dispatcher()"
   ]
  },
  {
   "cell_type": "code",
   "execution_count": 29,
   "metadata": {
    "collapsed": true
   },
   "outputs": [],
   "source": [
    "p = threading.Thread(target=d.producer, name='producer')"
   ]
  },
  {
   "cell_type": "code",
   "execution_count": 30,
   "metadata": {
    "collapsed": true
   },
   "outputs": [],
   "source": [
    "c = threading.Thread(target=d.consumer, name='consumer')"
   ]
  },
  {
   "cell_type": "code",
   "execution_count": 31,
   "metadata": {
    "collapsed": false
   },
   "outputs": [
    {
     "name": "stderr",
     "output_type": "stream",
     "text": [
      "2017-04-19 22:02:26,755 INFO  [consumer] None\n",
      "2017-04-19 22:02:27,758 INFO  [consumer] None\n",
      "2017-04-19 22:02:28,761 INFO  [consumer] None\n",
      "2017-04-19 22:02:29,764 INFO  [consumer] None\n",
      "2017-04-19 22:02:30,769 INFO  [consumer] None\n",
      "2017-04-19 22:02:31,771 INFO  [consumer] None\n",
      "2017-04-19 22:02:32,773 INFO  [consumer] None\n",
      "2017-04-19 22:02:33,775 INFO  [consumer] None\n",
      "2017-04-19 22:02:34,778 INFO  [consumer] None\n",
      "2017-04-19 22:02:35,791 INFO  [consumer] None\n",
      "2017-04-19 22:02:36,793 INFO  [consumer] None\n",
      "2017-04-19 22:02:37,795 INFO  [consumer] None\n"
     ]
    }
   ],
   "source": [
    "c.start()   ## 这次让c先启来   看效果一秒输出一次"
   ]
  },
  {
   "cell_type": "code",
   "execution_count": 32,
   "metadata": {
    "collapsed": false
   },
   "outputs": [
    {
     "name": "stderr",
     "output_type": "stream",
     "text": [
      "2017-04-19 22:02:38,257 INFO  [producer] 86\n",
      "2017-04-19 22:02:38,798 INFO  [consumer] 86\n",
      "2017-04-19 22:02:39,259 INFO  [producer] 44\n",
      "2017-04-19 22:02:39,801 INFO  [consumer] 44\n",
      "2017-04-19 22:02:40,261 INFO  [producer] 87\n",
      "2017-04-19 22:02:40,809 INFO  [consumer] 87\n",
      "2017-04-19 22:02:41,272 INFO  [producer] 19\n",
      "2017-04-19 22:02:41,811 INFO  [consumer] 19\n",
      "2017-04-19 22:02:42,274 INFO  [producer] 49\n",
      "2017-04-19 22:02:42,814 INFO  [consumer] 49\n",
      "2017-04-19 22:02:43,276 INFO  [producer] 23\n",
      "2017-04-19 22:02:43,817 INFO  [consumer] 23\n",
      "2017-04-19 22:02:44,278 INFO  [producer] 89\n",
      "2017-04-19 22:02:44,823 INFO  [consumer] 89\n",
      "2017-04-19 22:02:45,283 INFO  [producer] 65\n",
      "2017-04-19 22:02:45,826 INFO  [consumer] 65\n",
      "2017-04-19 22:02:46,286 INFO  [producer] 27\n",
      "2017-04-19 22:02:46,829 INFO  [consumer] 27\n",
      "2017-04-19 22:02:47,288 INFO  [producer] 95\n",
      "2017-04-19 22:02:47,831 INFO  [consumer] 95\n"
     ]
    }
   ],
   "source": [
    "p.start()   ## p再start"
   ]
  },
  {
   "cell_type": "code",
   "execution_count": null,
   "metadata": {
    "collapsed": true
   },
   "outputs": [],
   "source": []
  },
  {
   "cell_type": "code",
   "execution_count": 21,
   "metadata": {
    "collapsed": true
   },
   "outputs": [],
   "source": [
    "class Dispatcher:\n",
    "    def __init__(self):\n",
    "        self.data = None\n",
    "        self.event = threading.Event()\n",
    "        self.cond =  threading.Condition()    ## 加入condition\n",
    "    \n",
    "    def consumer(self):             ## consumer 消费者\n",
    "        while not self.event.is_set():\n",
    "            with self.cond:\n",
    "                self.cond.wait()    ## 这里wait，就是在wait notify\n",
    "                logging.info(self.data)  ## 当producer进程 notify的时候，wait会被唤醒\n",
    "        \n",
    "    def producer(self):             ## 生产者\n",
    "        for _ in range(10):\n",
    "            data = random.randint(0,100)  ## 随机选择\n",
    "            logging.info(data)\n",
    "            self.data = data\n",
    "            with self.cond:\n",
    "                self.cond.notify_all()    ## notify_all 通知所有wait的线程\n",
    "            self.event.wait(1)\n",
    "        self.event.set()"
   ]
  },
  {
   "cell_type": "code",
   "execution_count": 4,
   "metadata": {
    "collapsed": true
   },
   "outputs": [],
   "source": [
    "d = Dispatcher()"
   ]
  },
  {
   "cell_type": "code",
   "execution_count": 5,
   "metadata": {
    "collapsed": true
   },
   "outputs": [],
   "source": [
    "p = threading.Thread(target=d.producer, name='producer')\n",
    "c = threading.Thread(target=d.consumer, name='consumer')"
   ]
  },
  {
   "cell_type": "code",
   "execution_count": 6,
   "metadata": {
    "collapsed": true
   },
   "outputs": [],
   "source": [
    "c.start()   ## 启动来后没任何输出"
   ]
  },
  {
   "cell_type": "code",
   "execution_count": 7,
   "metadata": {
    "collapsed": false
   },
   "outputs": [
    {
     "name": "stderr",
     "output_type": "stream",
     "text": [
      "2017-04-20 07:09:39,797 INFO  [producer] 16\n",
      "2017-04-20 07:09:39,800 INFO  [consumer] 16\n",
      "2017-04-20 07:09:40,800 INFO  [producer] 86\n",
      "2017-04-20 07:09:40,803 INFO  [consumer] 86\n",
      "2017-04-20 07:09:41,803 INFO  [producer] 48\n",
      "2017-04-20 07:09:41,811 INFO  [consumer] 48\n",
      "2017-04-20 07:09:42,814 INFO  [producer] 35\n",
      "2017-04-20 07:09:42,826 INFO  [consumer] 35\n",
      "2017-04-20 07:09:43,826 INFO  [producer] 62\n",
      "2017-04-20 07:09:43,828 INFO  [consumer] 62\n",
      "2017-04-20 07:09:44,828 INFO  [producer] 81\n",
      "2017-04-20 07:09:44,830 INFO  [consumer] 81\n",
      "2017-04-20 07:09:45,831 INFO  [producer] 15\n",
      "2017-04-20 07:09:45,869 INFO  [consumer] 15\n",
      "2017-04-20 07:09:46,870 INFO  [producer] 93\n",
      "2017-04-20 07:09:46,871 INFO  [consumer] 93\n",
      "2017-04-20 07:09:47,872 INFO  [producer] 30\n",
      "2017-04-20 07:09:47,878 INFO  [consumer] 30\n",
      "2017-04-20 07:09:48,878 INFO  [producer] 91\n",
      "2017-04-20 07:09:48,883 INFO  [consumer] 91\n"
     ]
    }
   ],
   "source": [
    "p.start()   ## 只有在生产者产生数据的时候，才交替执行"
   ]
  },
  {
   "cell_type": "code",
   "execution_count": null,
   "metadata": {
    "collapsed": true
   },
   "outputs": [],
   "source": []
  },
  {
   "cell_type": "markdown",
   "metadata": {
    "collapsed": true
   },
   "source": [
    "这里启4个consumer"
   ]
  },
  {
   "cell_type": "code",
   "execution_count": 14,
   "metadata": {
    "collapsed": true
   },
   "outputs": [],
   "source": [
    "d = Dispatcher()"
   ]
  },
  {
   "cell_type": "code",
   "execution_count": 15,
   "metadata": {
    "collapsed": true
   },
   "outputs": [],
   "source": [
    "p = threading.Thread(target=d.producer, name='producer')"
   ]
  },
  {
   "cell_type": "code",
   "execution_count": 16,
   "metadata": {
    "collapsed": true
   },
   "outputs": [],
   "source": [
    "for x in range(4):\n",
    "    threading.Thread(target=d.consumer, name='consumer-{}'.format(x)).start()"
   ]
  },
  {
   "cell_type": "code",
   "execution_count": 17,
   "metadata": {
    "collapsed": false
   },
   "outputs": [
    {
     "name": "stderr",
     "output_type": "stream",
     "text": [
      "2017-04-20 07:20:33,697 INFO  [producer] 93\n",
      "2017-04-20 07:20:33,699 INFO  [consumer-0] 93\n",
      "2017-04-20 07:20:33,700 INFO  [consumer-2] 93\n",
      "2017-04-20 07:20:33,701 INFO  [consumer-3] 93\n",
      "2017-04-20 07:20:33,702 INFO  [consumer-1] 93\n",
      "2017-04-20 07:20:34,700 INFO  [producer] 31\n",
      "2017-04-20 07:20:34,702 INFO  [consumer-0] 31\n",
      "2017-04-20 07:20:34,707 INFO  [consumer-3] 31\n",
      "2017-04-20 07:20:34,710 INFO  [consumer-1] 31\n",
      "2017-04-20 07:20:34,714 INFO  [consumer-2] 31\n",
      "2017-04-20 07:20:35,703 INFO  [producer] 87\n",
      "2017-04-20 07:20:35,705 INFO  [consumer-1] 87\n",
      "2017-04-20 07:20:35,710 INFO  [consumer-3] 87\n",
      "2017-04-20 07:20:35,712 INFO  [consumer-2] 87\n",
      "2017-04-20 07:20:35,717 INFO  [consumer-0] 87\n",
      "2017-04-20 07:20:36,706 INFO  [producer] 46\n",
      "2017-04-20 07:20:36,707 INFO  [consumer-2] 46\n",
      "2017-04-20 07:20:36,708 INFO  [consumer-3] 46\n",
      "2017-04-20 07:20:36,710 INFO  [consumer-1] 46\n",
      "2017-04-20 07:20:36,711 INFO  [consumer-0] 46\n",
      "2017-04-20 07:20:37,708 INFO  [producer] 49\n",
      "2017-04-20 07:20:37,712 INFO  [consumer-3] 49\n",
      "2017-04-20 07:20:37,715 INFO  [consumer-0] 49\n",
      "2017-04-20 07:20:37,720 INFO  [consumer-1] 49\n",
      "2017-04-20 07:20:37,721 INFO  [consumer-2] 49\n",
      "2017-04-20 07:20:38,713 INFO  [producer] 54\n",
      "2017-04-20 07:20:38,715 INFO  [consumer-3] 54\n",
      "2017-04-20 07:20:38,720 INFO  [consumer-1] 54\n",
      "2017-04-20 07:20:38,723 INFO  [consumer-2] 54\n",
      "2017-04-20 07:20:38,725 INFO  [consumer-0] 54\n",
      "2017-04-20 07:20:39,716 INFO  [producer] 23\n",
      "2017-04-20 07:20:39,718 INFO  [consumer-2] 23\n",
      "2017-04-20 07:20:39,721 INFO  [consumer-0] 23\n",
      "2017-04-20 07:20:39,744 INFO  [consumer-3] 23\n",
      "2017-04-20 07:20:39,745 INFO  [consumer-1] 23\n",
      "2017-04-20 07:20:40,719 INFO  [producer] 78\n",
      "2017-04-20 07:20:40,721 INFO  [consumer-2] 78\n",
      "2017-04-20 07:20:40,748 INFO  [consumer-3] 78\n",
      "2017-04-20 07:20:40,750 INFO  [consumer-0] 78\n",
      "2017-04-20 07:20:40,750 INFO  [consumer-1] 78\n",
      "2017-04-20 07:20:41,722 INFO  [producer] 9\n",
      "2017-04-20 07:20:41,724 INFO  [consumer-2] 9\n",
      "2017-04-20 07:20:41,726 INFO  [consumer-0] 9\n",
      "2017-04-20 07:20:41,732 INFO  [consumer-1] 9\n",
      "2017-04-20 07:20:41,736 INFO  [consumer-3] 9\n",
      "2017-04-20 07:20:42,725 INFO  [producer] 35\n",
      "2017-04-20 07:20:42,729 INFO  [consumer-0] 35\n",
      "2017-04-20 07:20:42,731 INFO  [consumer-1] 35\n",
      "2017-04-20 07:20:42,734 INFO  [consumer-3] 35\n",
      "2017-04-20 07:20:42,738 INFO  [consumer-2] 35\n"
     ]
    }
   ],
   "source": [
    "p.start()     ## 每生产一个数据，会被4个消费者来消费      这就是生产者、消费者模式"
   ]
  },
  {
   "cell_type": "code",
   "execution_count": null,
   "metadata": {
    "collapsed": true
   },
   "outputs": [],
   "source": []
  },
  {
   "cell_type": "code",
   "execution_count": 18,
   "metadata": {
    "collapsed": true
   },
   "outputs": [],
   "source": [
    "cond = threading.Condition()"
   ]
  },
  {
   "cell_type": "code",
   "execution_count": 19,
   "metadata": {
    "collapsed": false
   },
   "outputs": [
    {
     "name": "stdout",
     "output_type": "stream",
     "text": [
      "Help on method notify_all in module threading:\n",
      "\n",
      "notify_all() method of threading.Condition instance\n",
      "    Wake up all threads waiting on this condition.\n",
      "    \n",
      "    If the calling thread has not acquired the lock when this method\n",
      "    is called, a RuntimeError is raised.\n",
      "\n"
     ]
    }
   ],
   "source": [
    "help(cond.notify_all)   ## 通知所有wait线程，可以往下执行了"
   ]
  },
  {
   "cell_type": "code",
   "execution_count": 20,
   "metadata": {
    "collapsed": false
   },
   "outputs": [
    {
     "name": "stdout",
     "output_type": "stream",
     "text": [
      "Help on method notify in module threading:\n",
      "\n",
      "notify(n=1) method of threading.Condition instance\n",
      "    Wake up one or more threads waiting on this condition, if any.\n",
      "    \n",
      "    If the calling thread has not acquired the lock when this method is\n",
      "    called, a RuntimeError is raised.\n",
      "    \n",
      "    This method wakes up at most n of the threads waiting for the condition\n",
      "    variable; it is a no-op if no threads are waiting.\n",
      "\n"
     ]
    }
   ],
   "source": [
    "help(cond.notify)     ## 它会唤醒 n 个线程"
   ]
  },
  {
   "cell_type": "code",
   "execution_count": null,
   "metadata": {
    "collapsed": true
   },
   "outputs": [],
   "source": []
  },
  {
   "cell_type": "code",
   "execution_count": 22,
   "metadata": {
    "collapsed": true
   },
   "outputs": [],
   "source": [
    "class Dispatcher:\n",
    "    def __init__(self):\n",
    "        self.data = None\n",
    "        self.event = threading.Event()\n",
    "        self.cond =  threading.Condition()\n",
    "    \n",
    "    def consumer(self):             ## consumer 消费者\n",
    "        while not self.event.is_set():\n",
    "            with self.cond:\n",
    "                self.cond.wait()    ## 这里wait，就是在wait notify\n",
    "                logging.info(self.data)  ## 当producer进程 notify的时候，wait会被唤醒\n",
    "        \n",
    "    def producer(self):             ## 生产者\n",
    "        for _ in range(10):\n",
    "            data = random.randint(0,100)  ## 随机选择\n",
    "            logging.info(data)\n",
    "            self.data = data\n",
    "            with self.cond:\n",
    "                self.cond.notify(2)    ## 最多允许2个消费者来消费\n",
    "            self.event.wait(1)\n",
    "        self.event.set()"
   ]
  },
  {
   "cell_type": "code",
   "execution_count": 23,
   "metadata": {
    "collapsed": true
   },
   "outputs": [],
   "source": [
    "d = Dispatcher()"
   ]
  },
  {
   "cell_type": "code",
   "execution_count": 24,
   "metadata": {
    "collapsed": true
   },
   "outputs": [],
   "source": [
    "p = threading.Thread(target=d.producer, name='producer')"
   ]
  },
  {
   "cell_type": "code",
   "execution_count": 25,
   "metadata": {
    "collapsed": true
   },
   "outputs": [],
   "source": [
    "for x in range(4):\n",
    "    threading.Thread(target=d.consumer, name='consumer-{}'.format(x)).start()"
   ]
  },
  {
   "cell_type": "code",
   "execution_count": 26,
   "metadata": {
    "collapsed": false
   },
   "outputs": [
    {
     "name": "stderr",
     "output_type": "stream",
     "text": [
      "2017-04-20 07:56:40,214 INFO  [producer] 43\n",
      "2017-04-20 07:56:40,219 INFO  [consumer-0] 43\n",
      "2017-04-20 07:56:40,223 INFO  [consumer-1] 43\n",
      "2017-04-20 07:56:41,220 INFO  [producer] 14\n",
      "2017-04-20 07:56:41,225 INFO  [consumer-2] 14\n",
      "2017-04-20 07:56:41,226 INFO  [consumer-3] 14\n",
      "2017-04-20 07:56:42,225 INFO  [producer] 17\n",
      "2017-04-20 07:56:42,227 INFO  [consumer-0] 17\n",
      "2017-04-20 07:56:42,229 INFO  [consumer-1] 17\n",
      "2017-04-20 07:56:43,228 INFO  [producer] 39\n",
      "2017-04-20 07:56:43,230 INFO  [consumer-2] 39\n",
      "2017-04-20 07:56:43,233 INFO  [consumer-3] 39\n",
      "2017-04-20 07:56:44,231 INFO  [producer] 69\n",
      "2017-04-20 07:56:44,233 INFO  [consumer-1] 69\n",
      "2017-04-20 07:56:44,235 INFO  [consumer-0] 69\n",
      "2017-04-20 07:56:45,234 INFO  [producer] 75\n",
      "2017-04-20 07:56:45,235 INFO  [consumer-3] 75\n",
      "2017-04-20 07:56:45,247 INFO  [consumer-2] 75\n",
      "2017-04-20 07:56:46,236 INFO  [producer] 84\n",
      "2017-04-20 07:56:46,241 INFO  [consumer-0] 84\n",
      "2017-04-20 07:56:46,242 INFO  [consumer-1] 84\n",
      "2017-04-20 07:56:47,242 INFO  [producer] 84\n",
      "2017-04-20 07:56:47,246 INFO  [consumer-2] 84\n",
      "2017-04-20 07:56:47,249 INFO  [consumer-3] 84\n",
      "2017-04-20 07:56:48,247 INFO  [producer] 98\n",
      "2017-04-20 07:56:48,249 INFO  [consumer-0] 98\n",
      "2017-04-20 07:56:48,254 INFO  [consumer-1] 98\n",
      "2017-04-20 07:56:49,250 INFO  [producer] 82\n",
      "2017-04-20 07:56:49,252 INFO  [consumer-2] 82\n",
      "2017-04-20 07:56:49,254 INFO  [consumer-3] 82\n"
     ]
    }
   ],
   "source": [
    "p.start()    ## 总是只有 2个消费者来消费   具体由哪个消费者来消费，不确定"
   ]
  },
  {
   "cell_type": "code",
   "execution_count": null,
   "metadata": {
    "collapsed": true
   },
   "outputs": [],
   "source": []
  },
  {
   "cell_type": "code",
   "execution_count": 27,
   "metadata": {
    "collapsed": true
   },
   "outputs": [],
   "source": [
    "class Dispatcher:\n",
    "    def __init__(self):\n",
    "        self.data = None\n",
    "        self.event = threading.Event()\n",
    "        self.cond =  threading.Condition()\n",
    "    \n",
    "    def consumer(self):             ## consumer 消费者\n",
    "        while not self.event.is_set():\n",
    "            with self.cond:\n",
    "                self.cond.wait()    ## 这里wait，就是在wait notify\n",
    "                logging.info(self.data)  ## 当producer进程 notify的时候，wait会被唤醒\n",
    "        \n",
    "    def producer(self):             ## 生产者\n",
    "        for _ in range(10):\n",
    "            data = random.randint(0,100)  ## 随机选择\n",
    "            logging.info(data)\n",
    "            self.data = data\n",
    "            with self.cond:\n",
    "                self.cond.notify()    ##  默认是 1 个消费者来消费\n",
    "            self.event.wait(1)     ## 这个是每 1 秒产生一条消息，相当于sleep一样；并不是等待消息完\n",
    "        self.event.set()           ## 最后这个 set 是控制让consumer能退出的"
   ]
  },
  {
   "cell_type": "code",
   "execution_count": 28,
   "metadata": {
    "collapsed": true
   },
   "outputs": [],
   "source": [
    "d = Dispatcher()\n",
    "p = threading.Thread(target=d.producer, name='producer')\n",
    "for x in range(4):\n",
    "    threading.Thread(target=d.consumer, name='consumer-{}'.format(x)).start()"
   ]
  },
  {
   "cell_type": "code",
   "execution_count": 29,
   "metadata": {
    "collapsed": false
   },
   "outputs": [
    {
     "name": "stderr",
     "output_type": "stream",
     "text": [
      "2017-04-20 08:00:05,065 INFO  [producer] 97\n",
      "2017-04-20 08:00:05,067 INFO  [consumer-0] 97\n",
      "2017-04-20 08:00:06,067 INFO  [producer] 85\n",
      "2017-04-20 08:00:06,070 INFO  [consumer-1] 85\n",
      "2017-04-20 08:00:07,070 INFO  [producer] 26\n",
      "2017-04-20 08:00:07,072 INFO  [consumer-2] 26\n",
      "2017-04-20 08:00:08,073 INFO  [producer] 0\n",
      "2017-04-20 08:00:08,076 INFO  [consumer-3] 0\n",
      "2017-04-20 08:00:09,077 INFO  [producer] 36\n",
      "2017-04-20 08:00:09,080 INFO  [consumer-0] 36\n",
      "2017-04-20 08:00:10,080 INFO  [producer] 47\n",
      "2017-04-20 08:00:10,082 INFO  [consumer-1] 47\n",
      "2017-04-20 08:00:11,083 INFO  [producer] 9\n",
      "2017-04-20 08:00:11,088 INFO  [consumer-2] 9\n",
      "2017-04-20 08:00:12,086 INFO  [producer] 71\n",
      "2017-04-20 08:00:12,092 INFO  [consumer-3] 71\n",
      "2017-04-20 08:00:13,092 INFO  [producer] 84\n",
      "2017-04-20 08:00:13,095 INFO  [consumer-0] 84\n",
      "2017-04-20 08:00:14,095 INFO  [producer] 29\n",
      "2017-04-20 08:00:14,098 INFO  [consumer-1] 29\n"
     ]
    }
   ],
   "source": [
    "p.start()   ##  具体由哪个消费者来消费，不确定"
   ]
  },
  {
   "cell_type": "markdown",
   "metadata": {},
   "source": [
    "#### 以上这些就是condition"
   ]
  },
  {
   "cell_type": "markdown",
   "metadata": {},
   "source": [
    "Condition 通常用于(通知 等待)生产者消费者模式，生产者生产消息之后，使用 notify 或者 notify_all 通知消费者消费"
   ]
  },
  {
   "cell_type": "markdown",
   "metadata": {},
   "source": [
    "消费者使用 wait 方法阻塞等待生产者通知"
   ]
  },
  {
   "cell_type": "markdown",
   "metadata": {},
   "source": [
    "notify 通知指定个wait 的线程，notify_all 通知所有的 wait 线程"
   ]
  },
  {
   "cell_type": "markdown",
   "metadata": {},
   "source": [
    "无论 notify 或 notify_all 还是 wait 都必须先 acqurie, 完成后必须确保release,通常使用 with 语法。"
   ]
  },
  {
   "cell_type": "markdown",
   "metadata": {
    "collapsed": true
   },
   "source": [
    "生产者、费者模型其实是非常有用的。"
   ]
  },
  {
   "cell_type": "markdown",
   "metadata": {},
   "source": [
    "cond它的notify和wait是互斥的!!"
   ]
  },
  {
   "cell_type": "markdown",
   "metadata": {},
   "source": [
    "凡是数据要通过流式处理的，就是生产者消费者啦"
   ]
  },
  {
   "cell_type": "code",
   "execution_count": null,
   "metadata": {
    "collapsed": true
   },
   "outputs": [],
   "source": []
  },
  {
   "cell_type": "markdown",
   "metadata": {
    "collapsed": true
   },
   "source": [
    "mq、kafka 等都是跨进程跨主机的，我们这是进程内的。"
   ]
  },
  {
   "cell_type": "markdown",
   "metadata": {},
   "source": [
    "消息队列都是单播的，我们这个是可以广播的。notify_all"
   ]
  },
  {
   "cell_type": "markdown",
   "metadata": {},
   "source": [
    "凡是跨进程的都需要序列化，进程内的不需要序列化。"
   ]
  },
  {
   "cell_type": "code",
   "execution_count": null,
   "metadata": {
    "collapsed": true
   },
   "outputs": [],
   "source": []
  },
  {
   "cell_type": "markdown",
   "metadata": {},
   "source": [
    "总结：\n",
    "* Event通常用于线程之间事件通知\n",
    "* Lock通常用于保护共享资源 \n",
    "* Condition通常用于生产者消费者模型"
   ]
  },
  {
   "cell_type": "code",
   "execution_count": null,
   "metadata": {
    "collapsed": true
   },
   "outputs": [],
   "source": []
  },
  {
   "cell_type": "code",
   "execution_count": null,
   "metadata": {
    "collapsed": true
   },
   "outputs": [],
   "source": []
  }
 ],
 "metadata": {
  "kernelspec": {
   "display_name": "Python 3",
   "language": "python",
   "name": "python3"
  },
  "language_info": {
   "codemirror_mode": {
    "name": "ipython",
    "version": 3
   },
   "file_extension": ".py",
   "mimetype": "text/x-python",
   "name": "python",
   "nbconvert_exporter": "python",
   "pygments_lexer": "ipython3",
   "version": "3.5.2"
  }
 },
 "nbformat": 4,
 "nbformat_minor": 0
}
