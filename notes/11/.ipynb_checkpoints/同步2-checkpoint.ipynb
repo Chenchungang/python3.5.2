{
 "cells": [
  {
   "cell_type": "code",
   "execution_count": null,
   "metadata": {
    "collapsed": true
   },
   "outputs": [],
   "source": []
  },
  {
   "cell_type": "markdown",
   "metadata": {},
   "source": [
    "### Barrier"
   ]
  },
  {
   "cell_type": "code",
   "execution_count": null,
   "metadata": {
    "collapsed": true
   },
   "outputs": [],
   "source": [
    "## 栅栏"
   ]
  },
  {
   "cell_type": "code",
   "execution_count": 2,
   "metadata": {
    "collapsed": true
   },
   "outputs": [],
   "source": [
    "import time \n",
    "import logging\n",
    "import threading\n",
    "import importlib\n",
    "\n",
    "importlib.reload(logging)\n",
    "logging.basicConfig(level=logging.DEBUG, format='%(asctime)s %(levelname)s  [%(threadName)s] %(message)s')"
   ]
  },
  {
   "cell_type": "code",
   "execution_count": 15,
   "metadata": {
    "collapsed": false
   },
   "outputs": [
    {
     "name": "stderr",
     "output_type": "stream",
     "text": [
      "2017-05-02 07:24:01,992 INFO  [MainThread] hello\n"
     ]
    }
   ],
   "source": [
    "logging.info('hello')"
   ]
  },
  {
   "cell_type": "code",
   "execution_count": null,
   "metadata": {
    "collapsed": true
   },
   "outputs": [],
   "source": []
  },
  {
   "cell_type": "code",
   "execution_count": null,
   "metadata": {
    "collapsed": true
   },
   "outputs": [],
   "source": [
    "## 三个哥们约定去喝酒，A去骗钱，B去向领导请假，C单身，约定大家准备好后，酒吧门口见，只有三个都到了，才一起进入！"
   ]
  },
  {
   "cell_type": "code",
   "execution_count": 10,
   "metadata": {
    "collapsed": true
   },
   "outputs": [],
   "source": [
    "def worker(barrier:threading.Barrier):\n",
    "    logging.info('waitting for {} threads'.format(barrier.n_waiting))  ## 这段是各自要干的事情\n",
    "    try:                                                ## n_waiting就是现在有多少个线程在waiting\n",
    "        worker_id = barrier.wait()  ## 这段就是在酒吧门口等候   等待一下\n",
    "    except threading.BrokenBarrierError:\n",
    "        logging.warning('aborting')\n",
    "    else:      ## 这种语句就是 只有说没有抛出except，才执行这条语句 和下面的注释是等效的\n",
    "        logging.info('after barrier {}'.format(worker_id))  ## 最后走完这段（剩下的流程）\n",
    "        \n",
    "\n",
    "# def worker(barrier:threading.Barrier):\n",
    "#     logging.info('waitting for {} threads'.format(barrier.n_waiting)) \n",
    "#     try:\n",
    "#         worker_id = barrier.wait()  \n",
    "#         logging.info('after barrier {}'.format(worker_id))\n",
    "#     except threading.BrokenBarrierError:\n",
    "#         logging.warning('aborting')"
   ]
  },
  {
   "cell_type": "code",
   "execution_count": 11,
   "metadata": {
    "collapsed": true
   },
   "outputs": [],
   "source": [
    "barrier = threading.Barrier(3)  ## 这个参数是设置拦多少个的  这里是只要3个到齐就OK"
   ]
  },
  {
   "cell_type": "code",
   "execution_count": 16,
   "metadata": {
    "collapsed": false
   },
   "outputs": [
    {
     "name": "stderr",
     "output_type": "stream",
     "text": [
      "2017-05-02 07:34:09,752 INFO  [worker-0] waitting for 0 threads\n",
      "2017-05-02 07:34:10,254 INFO  [worker-1] waitting for 1 threads\n",
      "2017-05-02 07:34:10,788 INFO  [worker-2] waitting for 2 threads\n",
      "2017-05-02 07:34:10,791 INFO  [worker-2] after barrier 2\n",
      "2017-05-02 07:34:10,791 INFO  [worker-1] after barrier 1\n",
      "2017-05-02 07:34:10,793 INFO  [worker-0] after barrier 0\n",
      "2017-05-02 07:34:11,291 INFO  [MainThread] started\n"
     ]
    }
   ],
   "source": [
    "for x in range(3):     ## 启动若干线程\n",
    "    threading.Thread(target=worker, name='worker-{}'.format(x), args=(barrier,)).start()\n",
    "    time.sleep(0.5)\n",
    "logging.info('started')"
   ]
  },
  {
   "cell_type": "markdown",
   "metadata": {},
   "source": [
    "栅栏，凑齐一波线程，才继续往下走"
   ]
  },
  {
   "cell_type": "markdown",
   "metadata": {},
   "source": [
    "看barrier的几个属性"
   ]
  },
  {
   "cell_type": "code",
   "execution_count": 18,
   "metadata": {
    "collapsed": false
   },
   "outputs": [
    {
     "data": {
      "text/plain": [
       "0"
      ]
     },
     "execution_count": 18,
     "metadata": {},
     "output_type": "execute_result"
    }
   ],
   "source": [
    "barrier.n_waiting   ## 现在有多少个线程在等待"
   ]
  },
  {
   "cell_type": "code",
   "execution_count": null,
   "metadata": {
    "collapsed": true
   },
   "outputs": [],
   "source": [
    "barrier.abort()  ## 这是个方法  通知已经在等待的线程不必再等了，我执行不到wait"
   ]
  },
  {
   "cell_type": "code",
   "execution_count": 19,
   "metadata": {
    "collapsed": true
   },
   "outputs": [],
   "source": [
    "## 看一下abort()这个的应用\n",
    "\n",
    "barrier = threading.Barrier(3)"
   ]
  },
  {
   "cell_type": "code",
   "execution_count": 20,
   "metadata": {
    "collapsed": true
   },
   "outputs": [],
   "source": [
    "def abort(barrier):\n",
    "    logging.info('aborting')\n",
    "    barrier.abort()"
   ]
  },
  {
   "cell_type": "code",
   "execution_count": 21,
   "metadata": {
    "collapsed": false
   },
   "outputs": [
    {
     "name": "stderr",
     "output_type": "stream",
     "text": [
      "2017-05-02 07:45:01,431 INFO  [worker-0] waitting for 0 threads\n",
      "2017-05-02 07:45:01,433 INFO  [worker-1] waitting for 1 threads\n"
     ]
    }
   ],
   "source": [
    "for x in range(2):     ##  这里先启动两个线程   看效果，正在等待   应该是要小于3个的，要不然3个都到齐了，就不等了，继续执行了\n",
    "    threading.Thread(target=worker, name='worker-{}'.format(x), args=(barrier,)).start()"
   ]
  },
  {
   "cell_type": "code",
   "execution_count": 22,
   "metadata": {
    "collapsed": false
   },
   "outputs": [
    {
     "name": "stderr",
     "output_type": "stream",
     "text": [
      "2017-05-02 07:45:36,257 WARNING  [worker-1] aborting\n",
      "2017-05-02 07:45:36,257 WARNING  [worker-0] aborting\n"
     ]
    }
   ],
   "source": [
    "barrier.abort()    ## 任意一个线程不再等待，中断它，中断后，都执行except 这段了  ## abort(中止)"
   ]
  },
  {
   "cell_type": "code",
   "execution_count": null,
   "metadata": {
    "collapsed": true
   },
   "outputs": [],
   "source": []
  },
  {
   "cell_type": "markdown",
   "metadata": {},
   "source": [
    "当我们执行的wait的线程数等于我们给定的这个值的时候，它就开始**往下执行了**；如果没到这个数，而其中一个执行了abort，wait会触发BrokenBarrierError的异常"
   ]
  },
  {
   "cell_type": "code",
   "execution_count": null,
   "metadata": {
    "collapsed": true
   },
   "outputs": [],
   "source": []
  },
  {
   "cell_type": "markdown",
   "metadata": {},
   "source": [
    "当abort方法被执行的时候，wait方法会抛出BrokenBarrieError 异常"
   ]
  },
  {
   "cell_type": "code",
   "execution_count": null,
   "metadata": {
    "collapsed": true
   },
   "outputs": [],
   "source": []
  },
  {
   "cell_type": "markdown",
   "metadata": {},
   "source": [
    "栅栏用在什么场景呢？\n",
    "* 10种工作，每个线程负责一种，只有10个线程都初始化完成，才能工作。\n",
    "* 有10个工作，完成其中的6个，就算完成。(这个时候，每个工作用一个线程来做)"
   ]
  },
  {
   "cell_type": "code",
   "execution_count": null,
   "metadata": {
    "collapsed": true
   },
   "outputs": [],
   "source": []
  },
  {
   "cell_type": "code",
   "execution_count": 23,
   "metadata": {
    "collapsed": false
   },
   "outputs": [
    {
     "name": "stdout",
     "output_type": "stream",
     "text": [
      "Help on method wait in module threading:\n",
      "\n",
      "wait(timeout=None) method of threading.Barrier instance\n",
      "    Wait for the barrier.\n",
      "    \n",
      "    When the specified number of threads have started waiting, they are all\n",
      "    simultaneously awoken. If an 'action' was provided for the barrier, one\n",
      "    of the threads will have executed that callback prior to returning.\n",
      "    Returns an individual index number from 0 to 'parties-1'.\n",
      "\n"
     ]
    }
   ],
   "source": [
    "help(barrier.wait)    ## 所有wait方法，都可以设 timeout"
   ]
  },
  {
   "cell_type": "code",
   "execution_count": 24,
   "metadata": {
    "collapsed": false
   },
   "outputs": [
    {
     "ename": "BrokenBarrierError",
     "evalue": "",
     "output_type": "error",
     "traceback": [
      "\u001b[1;31m---------------------------------------------------------------------------\u001b[0m",
      "\u001b[1;31mBrokenBarrierError\u001b[0m                        Traceback (most recent call last)",
      "\u001b[1;32m<ipython-input-24-9f810f08e8a8>\u001b[0m in \u001b[0;36m<module>\u001b[1;34m()\u001b[0m\n\u001b[1;32m----> 1\u001b[1;33m \u001b[0mbarrier\u001b[0m\u001b[1;33m.\u001b[0m\u001b[0mwait\u001b[0m\u001b[1;33m(\u001b[0m\u001b[1;36m1\u001b[0m\u001b[1;33m)\u001b[0m\u001b[1;33m\u001b[0m\u001b[0m\n\u001b[0m",
      "\u001b[1;32m/root/.pyenv/versions/3.5.2/lib/python3.5/threading.py\u001b[0m in \u001b[0;36mwait\u001b[1;34m(self, timeout)\u001b[0m\n\u001b[0;32m    599\u001b[0m             \u001b[0mtimeout\u001b[0m \u001b[1;33m=\u001b[0m \u001b[0mself\u001b[0m\u001b[1;33m.\u001b[0m\u001b[0m_timeout\u001b[0m\u001b[1;33m\u001b[0m\u001b[0m\n\u001b[0;32m    600\u001b[0m         \u001b[1;32mwith\u001b[0m \u001b[0mself\u001b[0m\u001b[1;33m.\u001b[0m\u001b[0m_cond\u001b[0m\u001b[1;33m:\u001b[0m\u001b[1;33m\u001b[0m\u001b[0m\n\u001b[1;32m--> 601\u001b[1;33m             \u001b[0mself\u001b[0m\u001b[1;33m.\u001b[0m\u001b[0m_enter\u001b[0m\u001b[1;33m(\u001b[0m\u001b[1;33m)\u001b[0m \u001b[1;31m# Block while the barrier drains.\u001b[0m\u001b[1;33m\u001b[0m\u001b[0m\n\u001b[0m\u001b[0;32m    602\u001b[0m             \u001b[0mindex\u001b[0m \u001b[1;33m=\u001b[0m \u001b[0mself\u001b[0m\u001b[1;33m.\u001b[0m\u001b[0m_count\u001b[0m\u001b[1;33m\u001b[0m\u001b[0m\n\u001b[0;32m    603\u001b[0m             \u001b[0mself\u001b[0m\u001b[1;33m.\u001b[0m\u001b[0m_count\u001b[0m \u001b[1;33m+=\u001b[0m \u001b[1;36m1\u001b[0m\u001b[1;33m\u001b[0m\u001b[0m\n",
      "\u001b[1;32m/root/.pyenv/versions/3.5.2/lib/python3.5/threading.py\u001b[0m in \u001b[0;36m_enter\u001b[1;34m(self)\u001b[0m\n\u001b[0;32m    623\u001b[0m         \u001b[1;31m#see if the barrier is in a broken state\u001b[0m\u001b[1;33m\u001b[0m\u001b[1;33m\u001b[0m\u001b[0m\n\u001b[0;32m    624\u001b[0m         \u001b[1;32mif\u001b[0m \u001b[0mself\u001b[0m\u001b[1;33m.\u001b[0m\u001b[0m_state\u001b[0m \u001b[1;33m<\u001b[0m \u001b[1;36m0\u001b[0m\u001b[1;33m:\u001b[0m\u001b[1;33m\u001b[0m\u001b[0m\n\u001b[1;32m--> 625\u001b[1;33m             \u001b[1;32mraise\u001b[0m \u001b[0mBrokenBarrierError\u001b[0m\u001b[1;33m\u001b[0m\u001b[0m\n\u001b[0m\u001b[0;32m    626\u001b[0m         \u001b[1;32massert\u001b[0m \u001b[0mself\u001b[0m\u001b[1;33m.\u001b[0m\u001b[0m_state\u001b[0m \u001b[1;33m==\u001b[0m \u001b[1;36m0\u001b[0m\u001b[1;33m\u001b[0m\u001b[0m\n\u001b[0;32m    627\u001b[0m \u001b[1;33m\u001b[0m\u001b[0m\n",
      "\u001b[1;31mBrokenBarrierError\u001b[0m: "
     ]
    }
   ],
   "source": [
    "barrier.wait(1)   ## 因为已经执行过abort方法了，所以抛出异常  abort后的任何wait都会抛出异常"
   ]
  },
  {
   "cell_type": "code",
   "execution_count": 25,
   "metadata": {
    "collapsed": true
   },
   "outputs": [],
   "source": [
    "barrier.reset()   ## reset后，试试"
   ]
  },
  {
   "cell_type": "code",
   "execution_count": 26,
   "metadata": {
    "collapsed": false
   },
   "outputs": [
    {
     "ename": "BrokenBarrierError",
     "evalue": "",
     "output_type": "error",
     "traceback": [
      "\u001b[1;31m---------------------------------------------------------------------------\u001b[0m",
      "\u001b[1;31mBrokenBarrierError\u001b[0m                        Traceback (most recent call last)",
      "\u001b[1;32m<ipython-input-26-dc4fcbc063b2>\u001b[0m in \u001b[0;36m<module>\u001b[1;34m()\u001b[0m\n\u001b[1;32m----> 1\u001b[1;33m \u001b[0mbarrier\u001b[0m\u001b[1;33m.\u001b[0m\u001b[0mwait\u001b[0m\u001b[1;33m(\u001b[0m\u001b[1;36m3\u001b[0m\u001b[1;33m)\u001b[0m\u001b[1;33m\u001b[0m\u001b[0m\n\u001b[0m",
      "\u001b[1;32m/root/.pyenv/versions/3.5.2/lib/python3.5/threading.py\u001b[0m in \u001b[0;36mwait\u001b[1;34m(self, timeout)\u001b[0m\n\u001b[0;32m    608\u001b[0m                 \u001b[1;32melse\u001b[0m\u001b[1;33m:\u001b[0m\u001b[1;33m\u001b[0m\u001b[0m\n\u001b[0;32m    609\u001b[0m                     \u001b[1;31m# We wait until someone releases us\u001b[0m\u001b[1;33m\u001b[0m\u001b[1;33m\u001b[0m\u001b[0m\n\u001b[1;32m--> 610\u001b[1;33m                     \u001b[0mself\u001b[0m\u001b[1;33m.\u001b[0m\u001b[0m_wait\u001b[0m\u001b[1;33m(\u001b[0m\u001b[0mtimeout\u001b[0m\u001b[1;33m)\u001b[0m\u001b[1;33m\u001b[0m\u001b[0m\n\u001b[0m\u001b[0;32m    611\u001b[0m                 \u001b[1;32mreturn\u001b[0m \u001b[0mindex\u001b[0m\u001b[1;33m\u001b[0m\u001b[0m\n\u001b[0;32m    612\u001b[0m             \u001b[1;32mfinally\u001b[0m\u001b[1;33m:\u001b[0m\u001b[1;33m\u001b[0m\u001b[0m\n",
      "\u001b[1;32m/root/.pyenv/versions/3.5.2/lib/python3.5/threading.py\u001b[0m in \u001b[0;36m_wait\u001b[1;34m(self, timeout)\u001b[0m\n\u001b[0;32m    646\u001b[0m             \u001b[1;31m#timed out.  Break the barrier\u001b[0m\u001b[1;33m\u001b[0m\u001b[1;33m\u001b[0m\u001b[0m\n\u001b[0;32m    647\u001b[0m             \u001b[0mself\u001b[0m\u001b[1;33m.\u001b[0m\u001b[0m_break\u001b[0m\u001b[1;33m(\u001b[0m\u001b[1;33m)\u001b[0m\u001b[1;33m\u001b[0m\u001b[0m\n\u001b[1;32m--> 648\u001b[1;33m             \u001b[1;32mraise\u001b[0m \u001b[0mBrokenBarrierError\u001b[0m\u001b[1;33m\u001b[0m\u001b[0m\n\u001b[0m\u001b[0;32m    649\u001b[0m         \u001b[1;32mif\u001b[0m \u001b[0mself\u001b[0m\u001b[1;33m.\u001b[0m\u001b[0m_state\u001b[0m \u001b[1;33m<\u001b[0m \u001b[1;36m0\u001b[0m\u001b[1;33m:\u001b[0m\u001b[1;33m\u001b[0m\u001b[0m\n\u001b[0;32m    650\u001b[0m             \u001b[1;32mraise\u001b[0m \u001b[0mBrokenBarrierError\u001b[0m\u001b[1;33m\u001b[0m\u001b[0m\n",
      "\u001b[1;31mBrokenBarrierError\u001b[0m: "
     ]
    }
   ],
   "source": [
    "barrier.wait(3)   ## 当到时间的时候，也是会抛出异常"
   ]
  },
  {
   "cell_type": "markdown",
   "metadata": {},
   "source": [
    "注：栅栏的timeout不像其它的，其它的都是返回False，栅栏是抛出**异常**！"
   ]
  },
  {
   "cell_type": "markdown",
   "metadata": {},
   "source": [
    "栅栏里，不论是是timeout还是abort，都是抛出异常的！"
   ]
  },
  {
   "cell_type": "markdown",
   "metadata": {},
   "source": [
    "栅栏用的最多的，就是并发初始化。其它时候用的比较少。"
   ]
  },
  {
   "cell_type": "markdown",
   "metadata": {},
   "source": [
    "并发初始化用的是比较常用的，比如说要load一个2G的文件，就可以用10个线程，每个线程处理200M，都处理完成后，才进入主循环。(当然有前提条件，初始化工作可以乱序的时候才行)"
   ]
  },
  {
   "cell_type": "code",
   "execution_count": null,
   "metadata": {
    "collapsed": true
   },
   "outputs": [],
   "source": []
  },
  {
   "cell_type": "code",
   "execution_count": null,
   "metadata": {
    "collapsed": true
   },
   "outputs": [],
   "source": [
    "讲这么多，同步，就是线程之间的通讯，这些线程总是有某种关联才需要同步的，同步是会打破并发的。\n",
    "所以，如果这些线程完全没有关联的话，完全没必有用到同步的。\n",
    "这些线程要是独立的话，是不需要用到同步的。"
   ]
  },
  {
   "cell_type": "markdown",
   "metadata": {},
   "source": [
    "同步通常意味着阻塞。"
   ]
  },
  {
   "cell_type": "code",
   "execution_count": null,
   "metadata": {
    "collapsed": true
   },
   "outputs": [],
   "source": []
  },
  {
   "cell_type": "markdown",
   "metadata": {},
   "source": [
    "### Semaphore    信号量"
   ]
  },
  {
   "cell_type": "markdown",
   "metadata": {},
   "source": [
    "信号量跟锁非常像"
   ]
  },
  {
   "cell_type": "code",
   "execution_count": 27,
   "metadata": {
    "collapsed": true
   },
   "outputs": [],
   "source": [
    "s = threading.Semaphore(3)   ## 定义一个信号量为3的信号量"
   ]
  },
  {
   "cell_type": "code",
   "execution_count": 28,
   "metadata": {
    "collapsed": false
   },
   "outputs": [
    {
     "data": {
      "text/plain": [
       "True"
      ]
     },
     "execution_count": 28,
     "metadata": {},
     "output_type": "execute_result"
    }
   ],
   "source": [
    "s.acquire()"
   ]
  },
  {
   "cell_type": "code",
   "execution_count": 29,
   "metadata": {
    "collapsed": false
   },
   "outputs": [
    {
     "data": {
      "text/plain": [
       "True"
      ]
     },
     "execution_count": 29,
     "metadata": {},
     "output_type": "execute_result"
    }
   ],
   "source": [
    "s.acquire(False)"
   ]
  },
  {
   "cell_type": "code",
   "execution_count": 30,
   "metadata": {
    "collapsed": false
   },
   "outputs": [
    {
     "data": {
      "text/plain": [
       "True"
      ]
     },
     "execution_count": 30,
     "metadata": {},
     "output_type": "execute_result"
    }
   ],
   "source": [
    "s.acquire(False)"
   ]
  },
  {
   "cell_type": "code",
   "execution_count": 31,
   "metadata": {
    "collapsed": false
   },
   "outputs": [
    {
     "data": {
      "text/plain": [
       "False"
      ]
     },
     "execution_count": 31,
     "metadata": {},
     "output_type": "execute_result"
    }
   ],
   "source": [
    "s.acquire(False)    ## 第4 次的时候，变成False"
   ]
  },
  {
   "cell_type": "markdown",
   "metadata": {},
   "source": [
    "锁是信号量的特例：为1 的信号量"
   ]
  },
  {
   "cell_type": "markdown",
   "metadata": {},
   "source": [
    "信号量在不同的线程里都是可以进入的。"
   ]
  },
  {
   "cell_type": "markdown",
   "metadata": {},
   "source": [
    "锁是只有一个线程！！"
   ]
  },
  {
   "cell_type": "code",
   "execution_count": null,
   "metadata": {
    "collapsed": true
   },
   "outputs": [],
   "source": []
  },
  {
   "cell_type": "code",
   "execution_count": null,
   "metadata": {
    "collapsed": true
   },
   "outputs": [],
   "source": [
    "## 例：连接池的类"
   ]
  },
  {
   "cell_type": "code",
   "execution_count": 44,
   "metadata": {
    "collapsed": true
   },
   "outputs": [],
   "source": [
    "class Pool:\n",
    "    def __init__(self, num):\n",
    "        self.num = num\n",
    "        self.conns = [self._make_connect(x) for x in range(num)]    ##  初始化的时候，先创建起来\n",
    "        self.s = threading.Semaphore(num)   ## 创建信号量的对象   最多有num个连接\n",
    "    \n",
    "    def _make_connect(self, name):    ## 创建连接的方法\n",
    "        return name\n",
    "    \n",
    "    def get(self):\n",
    "        self.s.acquire()            ## 加锁\n",
    "        return self.conns.pop()\n",
    "    \n",
    "    def return_resource(self, conn):\n",
    "        self.conns.insert(0,conn) \n",
    "        self.s.release()\n",
    "    "
   ]
  },
  {
   "cell_type": "code",
   "execution_count": 45,
   "metadata": {
    "collapsed": true
   },
   "outputs": [],
   "source": [
    "import random\n",
    "\n",
    "def worker(pool):\n",
    "    logging.info('started')\n",
    "    name = pool.get()\n",
    "    logging.info('got connect {}'.format(name))\n",
    "    time.sleep(random.randint(1,3))\n",
    "    pool.return_resource(name)\n",
    "    logging.info('return resource {}'.format(name))"
   ]
  },
  {
   "cell_type": "code",
   "execution_count": 46,
   "metadata": {
    "collapsed": true
   },
   "outputs": [],
   "source": [
    "pool = Pool(3)   ## 池子大小为3"
   ]
  },
  {
   "cell_type": "code",
   "execution_count": 47,
   "metadata": {
    "collapsed": false
   },
   "outputs": [
    {
     "name": "stderr",
     "output_type": "stream",
     "text": [
      "2017-05-02 18:50:47,730 INFO  [worker-0] started\n",
      "2017-05-02 18:50:47,734 INFO  [worker-1] started\n",
      "2017-05-02 18:50:47,751 INFO  [worker-1] got connect 1\n",
      "2017-05-02 18:50:47,738 INFO  [worker-3] started\n",
      "2017-05-02 18:50:47,759 INFO  [worker-3] got connect 0\n",
      "2017-05-02 18:50:47,740 INFO  [worker-0] got connect 2\n",
      "2017-05-02 18:50:47,734 INFO  [worker-2] started\n",
      "2017-05-02 18:50:47,738 INFO  [worker-4] started\n",
      "2017-05-02 18:50:48,763 INFO  [worker-3] return resource 0\n",
      "2017-05-02 18:50:48,764 INFO  [worker-2] got connect 0\n",
      "2017-05-02 18:50:48,769 INFO  [worker-0] return resource 2\n",
      "2017-05-02 18:50:48,770 INFO  [worker-4] got connect 2\n",
      "2017-05-02 18:50:50,761 INFO  [worker-1] return resource 1\n",
      "2017-05-02 18:50:50,776 INFO  [worker-4] return resource 2\n",
      "2017-05-02 18:50:51,786 INFO  [worker-2] return resource 0\n"
     ]
    }
   ],
   "source": [
    "for x in range(5):   ## 启动5 个worker         ##  这就实现了一个资源的竞争\n",
    "    threading.Thread(target=worker, args=(pool,), name='worker-{}'.format(x)).start()"
   ]
  },
  {
   "cell_type": "markdown",
   "metadata": {},
   "source": [
    "信号量也是对资源的保护，但是和锁不一样的地方在于，锁限制只有一个线程可以访问共享资源，而信号量限制指定个线程可以访问共享资源。"
   ]
  },
  {
   "cell_type": "markdown",
   "metadata": {},
   "source": [
    "锁是特化的信号量"
   ]
  },
  {
   "cell_type": "markdown",
   "metadata": {},
   "source": [
    "信号量通常用来做连接池类的东西"
   ]
  },
  {
   "cell_type": "code",
   "execution_count": null,
   "metadata": {
    "collapsed": true
   },
   "outputs": [],
   "source": []
  },
  {
   "cell_type": "code",
   "execution_count": null,
   "metadata": {
    "collapsed": true
   },
   "outputs": [],
   "source": []
  },
  {
   "cell_type": "code",
   "execution_count": null,
   "metadata": {
    "collapsed": true
   },
   "outputs": [],
   "source": []
  },
  {
   "cell_type": "code",
   "execution_count": null,
   "metadata": {
    "collapsed": true
   },
   "outputs": [],
   "source": []
  },
  {
   "cell_type": "code",
   "execution_count": null,
   "metadata": {
    "collapsed": true
   },
   "outputs": [],
   "source": []
  },
  {
   "cell_type": "code",
   "execution_count": null,
   "metadata": {
    "collapsed": true
   },
   "outputs": [],
   "source": []
  },
  {
   "cell_type": "code",
   "execution_count": null,
   "metadata": {
    "collapsed": true
   },
   "outputs": [],
   "source": []
  },
  {
   "cell_type": "code",
   "execution_count": null,
   "metadata": {
    "collapsed": true
   },
   "outputs": [],
   "source": []
  },
  {
   "cell_type": "code",
   "execution_count": null,
   "metadata": {
    "collapsed": true
   },
   "outputs": [],
   "source": []
  },
  {
   "cell_type": "code",
   "execution_count": null,
   "metadata": {
    "collapsed": true
   },
   "outputs": [],
   "source": []
  },
  {
   "cell_type": "code",
   "execution_count": null,
   "metadata": {
    "collapsed": true
   },
   "outputs": [],
   "source": []
  },
  {
   "cell_type": "code",
   "execution_count": null,
   "metadata": {
    "collapsed": true
   },
   "outputs": [],
   "source": []
  },
  {
   "cell_type": "code",
   "execution_count": null,
   "metadata": {
    "collapsed": true
   },
   "outputs": [],
   "source": []
  },
  {
   "cell_type": "code",
   "execution_count": null,
   "metadata": {
    "collapsed": true
   },
   "outputs": [],
   "source": []
  },
  {
   "cell_type": "code",
   "execution_count": null,
   "metadata": {
    "collapsed": true
   },
   "outputs": [],
   "source": []
  }
 ],
 "metadata": {
  "kernelspec": {
   "display_name": "Python 3",
   "language": "python",
   "name": "python3"
  },
  "language_info": {
   "codemirror_mode": {
    "name": "ipython",
    "version": 3
   },
   "file_extension": ".py",
   "mimetype": "text/x-python",
   "name": "python",
   "nbconvert_exporter": "python",
   "pygments_lexer": "ipython3",
   "version": "3.5.2"
  }
 },
 "nbformat": 4,
 "nbformat_minor": 0
}
