{
 "cells": [
  {
   "cell_type": "code",
   "execution_count": null,
   "metadata": {
    "collapsed": true
   },
   "outputs": [],
   "source": []
  },
  {
   "cell_type": "markdown",
   "metadata": {},
   "source": [
    "## 多进程 "
   ]
  },
  {
   "cell_type": "code",
   "execution_count": 2,
   "metadata": {
    "collapsed": true
   },
   "outputs": [],
   "source": [
    "import time \n",
    "import logging\n",
    "import threading\n",
    "import importlib\n",
    "\n",
    "importlib.reload(logging)\n",
    "logging.basicConfig(level=logging.DEBUG, format='%(asctime)s %(levelname)s  [%(threadName)s] %(message)s')"
   ]
  },
  {
   "cell_type": "code",
   "execution_count": null,
   "metadata": {
    "collapsed": true
   },
   "outputs": [],
   "source": []
  },
  {
   "cell_type": "code",
   "execution_count": 1,
   "metadata": {
    "collapsed": true
   },
   "outputs": [],
   "source": [
    "import multiprocessing     ## 与多线程引入的库不一样  但用法非常像"
   ]
  },
  {
   "cell_type": "code",
   "execution_count": 3,
   "metadata": {
    "collapsed": true
   },
   "outputs": [],
   "source": [
    "def worker():\n",
    "    logging.info('worker')"
   ]
  },
  {
   "cell_type": "code",
   "execution_count": 4,
   "metadata": {
    "collapsed": true
   },
   "outputs": [],
   "source": [
    "p = multiprocessing.Process(target=worker)"
   ]
  },
  {
   "cell_type": "code",
   "execution_count": 5,
   "metadata": {
    "collapsed": false
   },
   "outputs": [
    {
     "name": "stderr",
     "output_type": "stream",
     "text": [
      "2017-05-04 07:09:01,144 INFO  [MainThread] worker\n"
     ]
    }
   ],
   "source": [
    "p.start()        ## 这就启动这个进程了"
   ]
  },
  {
   "cell_type": "code",
   "execution_count": null,
   "metadata": {
    "collapsed": true
   },
   "outputs": [],
   "source": []
  },
  {
   "cell_type": "markdown",
   "metadata": {},
   "source": [
    "再重新配置一下logging的格式"
   ]
  },
  {
   "cell_type": "code",
   "execution_count": 38,
   "metadata": {
    "collapsed": true
   },
   "outputs": [],
   "source": [
    "import multiprocessing"
   ]
  },
  {
   "cell_type": "code",
   "execution_count": 45,
   "metadata": {
    "collapsed": false
   },
   "outputs": [
    {
     "data": {
      "text/plain": [
       "<module 'logging' from '/root/.pyenv/versions/3.5.2/lib/python3.5/logging/__init__.py'>"
      ]
     },
     "execution_count": 45,
     "metadata": {},
     "output_type": "execute_result"
    }
   ],
   "source": [
    "importlib.reload(logging)"
   ]
  },
  {
   "cell_type": "code",
   "execution_count": 46,
   "metadata": {
    "collapsed": true
   },
   "outputs": [],
   "source": [
    "logging.basicConfig(level=logging.DEBUG, format='%(asctime)s %(levelname)s  [%(processName)s] %(message)s')"
   ]
  },
  {
   "cell_type": "code",
   "execution_count": 47,
   "metadata": {
    "collapsed": true
   },
   "outputs": [],
   "source": [
    "def worker():\n",
    "    logging.info('worker')"
   ]
  },
  {
   "cell_type": "code",
   "execution_count": 48,
   "metadata": {
    "collapsed": true
   },
   "outputs": [],
   "source": [
    "p = multiprocessing.Process(target=worker)"
   ]
  },
  {
   "cell_type": "code",
   "execution_count": 49,
   "metadata": {
    "collapsed": false
   },
   "outputs": [
    {
     "name": "stderr",
     "output_type": "stream",
     "text": [
      "2017-05-04 07:26:13,104 INFO  [Process-8] worker\n"
     ]
    }
   ],
   "source": [
    "p.start()     ## 修改为进程name了"
   ]
  },
  {
   "cell_type": "code",
   "execution_count": null,
   "metadata": {
    "collapsed": true
   },
   "outputs": [],
   "source": []
  },
  {
   "cell_type": "code",
   "execution_count": 50,
   "metadata": {
    "collapsed": true
   },
   "outputs": [],
   "source": [
    "p = multiprocessing.Process(target=worker, name='worker')  ## 指定进程的名子"
   ]
  },
  {
   "cell_type": "code",
   "execution_count": 51,
   "metadata": {
    "collapsed": false
   },
   "outputs": [
    {
     "name": "stderr",
     "output_type": "stream",
     "text": [
      "2017-05-04 07:27:58,655 INFO  [worker] worker\n"
     ]
    }
   ],
   "source": [
    "p.start()   "
   ]
  },
  {
   "cell_type": "markdown",
   "metadata": {},
   "source": [
    "并且daemon、nondaemon 参数等都是一样的 "
   ]
  },
  {
   "cell_type": "code",
   "execution_count": null,
   "metadata": {
    "collapsed": true
   },
   "outputs": [],
   "source": []
  },
  {
   "cell_type": "code",
   "execution_count": null,
   "metadata": {
    "collapsed": true
   },
   "outputs": [],
   "source": [
    "## 不一样的地方："
   ]
  },
  {
   "cell_type": "code",
   "execution_count": 52,
   "metadata": {
    "collapsed": false
   },
   "outputs": [
    {
     "data": {
      "text/plain": [
       "11757"
      ]
     },
     "execution_count": 52,
     "metadata": {},
     "output_type": "execute_result"
    }
   ],
   "source": [
    "p.pid     ## 进程是有进程号的"
   ]
  },
  {
   "cell_type": "code",
   "execution_count": 53,
   "metadata": {
    "collapsed": false
   },
   "outputs": [
    {
     "data": {
      "text/plain": [
       "0"
      ]
     },
     "execution_count": 53,
     "metadata": {},
     "output_type": "execute_result"
    }
   ],
   "source": [
    "p.exitcode   ## 进程有退出码"
   ]
  },
  {
   "cell_type": "code",
   "execution_count": 54,
   "metadata": {
    "collapsed": true
   },
   "outputs": [],
   "source": [
    "p.terminate()   ## 进程是可以被杀死的   terminate方法就是杀死这个进程的"
   ]
  },
  {
   "cell_type": "code",
   "execution_count": 55,
   "metadata": {
    "collapsed": false
   },
   "outputs": [
    {
     "name": "stdout",
     "output_type": "stream",
     "text": [
      "Help on method terminate in module multiprocessing.process:\n",
      "\n",
      "terminate() method of multiprocessing.context.Process instance\n",
      "    Terminate process; sends SIGTERM signal or uses TerminateProcess()\n",
      "\n"
     ]
    }
   ],
   "source": [
    "help(p.terminate)"
   ]
  },
  {
   "cell_type": "code",
   "execution_count": null,
   "metadata": {
    "collapsed": true
   },
   "outputs": [],
   "source": [
    "## 其它的都跟线程是一样的了"
   ]
  },
  {
   "cell_type": "markdown",
   "metadata": {},
   "source": [
    "需要记住，进程是要启动一个新的解释器的，所以进程的代价是比线程要高的；所以通常需要一个长期任务，才放到进程上去跑！"
   ]
  },
  {
   "cell_type": "markdown",
   "metadata": {},
   "source": [
    "用进程跑一段很短的任务，不值得！"
   ]
  },
  {
   "cell_type": "markdown",
   "metadata": {},
   "source": [
    "进程有的，线程差不多都有。"
   ]
  },
  {
   "cell_type": "code",
   "execution_count": null,
   "metadata": {
    "collapsed": true
   },
   "outputs": [],
   "source": [
    "multiprocessing.Event    multiprocessing.Lock  multiprocessing.Condition  信号量等5种方式，在进程里都有。"
   ]
  },
  {
   "cell_type": "markdown",
   "metadata": {},
   "source": [
    "线程所有的同步方式，在进程上都有，而且用法一样，效果也一模一样。"
   ]
  },
  {
   "cell_type": "markdown",
   "metadata": {},
   "source": [
    "用进程还是线程对于写代码是一样的，没有什么特别的。"
   ]
  },
  {
   "cell_type": "code",
   "execution_count": null,
   "metadata": {
    "collapsed": true
   },
   "outputs": [],
   "source": []
  },
  {
   "cell_type": "markdown",
   "metadata": {},
   "source": [
    "**但是通讯方式不一样**"
   ]
  },
  {
   "cell_type": "markdown",
   "metadata": {},
   "source": [
    " 由于多进程是跨解释器的，所以进程的通讯，数据需要序列化和反序列化。"
   ]
  },
  {
   "cell_type": "markdown",
   "metadata": {},
   "source": [
    "GIL(全局解释器锁)对多进程无效（只在一个进程内有效），内置容器不是进程安全的，queue.Queue也不是进程安全的！"
   ]
  },
  {
   "cell_type": "markdown",
   "metadata": {},
   "source": [
    "如果多进程里需要用到queue的话，有替代品"
   ]
  },
  {
   "cell_type": "code",
   "execution_count": 56,
   "metadata": {
    "collapsed": false
   },
   "outputs": [
    {
     "data": {
      "text/plain": [
       "<multiprocessing.queues.Queue at 0x7f5050271c18>"
      ]
     },
     "execution_count": 56,
     "metadata": {},
     "output_type": "execute_result"
    }
   ],
   "source": [
    "multiprocessing.Queue()   ## 这个是进程安全的"
   ]
  },
  {
   "cell_type": "code",
   "execution_count": 57,
   "metadata": {
    "collapsed": true
   },
   "outputs": [],
   "source": [
    "from multiprocessing import Manager"
   ]
  },
  {
   "cell_type": "code",
   "execution_count": 58,
   "metadata": {
    "collapsed": true
   },
   "outputs": [],
   "source": [
    "mgr = Manager()"
   ]
  },
  {
   "cell_type": "code",
   "execution_count": 61,
   "metadata": {
    "collapsed": false
   },
   "outputs": [],
   "source": [
    "d = mgr.dict()   ## dict方法会产生进程安全的字典"
   ]
  },
  {
   "cell_type": "code",
   "execution_count": 62,
   "metadata": {
    "collapsed": false
   },
   "outputs": [
    {
     "data": {
      "text/plain": [
       "<ListProxy object, typeid 'list' at 0x7f505024c3c8>"
      ]
     },
     "execution_count": 62,
     "metadata": {},
     "output_type": "execute_result"
    }
   ],
   "source": [
    "mgr.list()"
   ]
  },
  {
   "cell_type": "code",
   "execution_count": 63,
   "metadata": {
    "collapsed": true
   },
   "outputs": [],
   "source": [
    "ns = mgr.Namespace()"
   ]
  },
  {
   "cell_type": "code",
   "execution_count": 64,
   "metadata": {
    "collapsed": true
   },
   "outputs": [],
   "source": [
    "ns.f = 3"
   ]
  },
  {
   "cell_type": "code",
   "execution_count": null,
   "metadata": {
    "collapsed": true
   },
   "outputs": [],
   "source": []
  },
  {
   "cell_type": "markdown",
   "metadata": {},
   "source": [
    "通常来说，多进程下，尽量避免数据的交互"
   ]
  },
  {
   "cell_type": "markdown",
   "metadata": {},
   "source": [
    "因为序列化和反序列化是有代价的！"
   ]
  },
  {
   "cell_type": "markdown",
   "metadata": {},
   "source": [
    "master -> worker   多进程通常用这种方式工作的，由master分发给worker，但是worker之间通常做不通信。"
   ]
  },
  {
   "cell_type": "code",
   "execution_count": null,
   "metadata": {
    "collapsed": true
   },
   "outputs": [],
   "source": []
  },
  {
   "cell_type": "markdown",
   "metadata": {},
   "source": [
    "### 多线程和多进程"
   ]
  },
  {
   "cell_type": "markdown",
   "metadata": {},
   "source": [
    "什么时候用多线程，什么时候用多进程呢？"
   ]
  },
  {
   "cell_type": "markdown",
   "metadata": {},
   "source": [
    "* CPU 密集型用多进程，可以充分利用CPU\n",
    "* IO 密集型用多线程，减少序列化/反序列化"
   ]
  },
  {
   "cell_type": "markdown",
   "metadata": {},
   "source": [
    "但并不绝对！"
   ]
  },
  {
   "cell_type": "markdown",
   "metadata": {},
   "source": [
    "请求/应答   这种模型，更多时候是结合使用的"
   ]
  },
  {
   "cell_type": "markdown",
   "metadata": {},
   "source": [
    "比如web应用 就是请求/应答模型"
   ]
  },
  {
   "cell_type": "markdown",
   "metadata": {},
   "source": [
    "通常由master进程接收请求，分发给多个worker进程处理，worker进程中再使用线程来进一步并发处理，最后返回结果给master做响应。  (非常多的知名软件都是这样做的，比如 nginx )"
   ]
  },
  {
   "cell_type": "markdown",
   "metadata": {},
   "source": [
    "wsgi容器，gunicorn 也是这种模型"
   ]
  },
  {
   "cell_type": "code",
   "execution_count": null,
   "metadata": {
    "collapsed": true
   },
   "outputs": [],
   "source": []
  },
  {
   "cell_type": "markdown",
   "metadata": {},
   "source": [
    "## python 3 新引入的内容"
   ]
  },
  {
   "cell_type": "markdown",
   "metadata": {},
   "source": [
    "### concurrent.futures"
   ]
  },
  {
   "cell_type": "code",
   "execution_count": 65,
   "metadata": {
    "collapsed": true
   },
   "outputs": [],
   "source": [
    "import concurrent       ## 并发包"
   ]
  },
  {
   "cell_type": "code",
   "execution_count": 66,
   "metadata": {
    "collapsed": true
   },
   "outputs": [],
   "source": [
    "from concurrent import futures    ## futures 是一个异步编程的模型"
   ]
  },
  {
   "cell_type": "code",
   "execution_count": null,
   "metadata": {
    "collapsed": true
   },
   "outputs": [],
   "source": [
    "futures.ThreadPoolExecutor   ## 实现一个线程池的"
   ]
  },
  {
   "cell_type": "code",
   "execution_count": 67,
   "metadata": {
    "collapsed": true
   },
   "outputs": [],
   "source": [
    "pool = futures.ThreadPoolExecutor(max_workers=5)   ## 实现了一个size 为 5 的线程池"
   ]
  },
  {
   "cell_type": "code",
   "execution_count": 68,
   "metadata": {
    "collapsed": false
   },
   "outputs": [
    {
     "name": "stdout",
     "output_type": "stream",
     "text": [
      "Help on method submit in module concurrent.futures.thread:\n",
      "\n",
      "submit(fn, *args, **kwargs) method of concurrent.futures.thread.ThreadPoolExecutor instance\n",
      "    Submits a callable to be executed with the given arguments.\n",
      "    \n",
      "    Schedules the callable to be executed as fn(*args, **kwargs) and returns\n",
      "    a Future instance representing the execution of the callable.\n",
      "    \n",
      "    Returns:\n",
      "        A Future representing the given call.\n",
      "\n"
     ]
    }
   ],
   "source": [
    "help(pool.submit)   ## 用于提交单独的一个线程"
   ]
  },
  {
   "cell_type": "code",
   "execution_count": 69,
   "metadata": {
    "collapsed": true
   },
   "outputs": [],
   "source": [
    "fut = pool.submit(lambda:1+1)"
   ]
  },
  {
   "cell_type": "code",
   "execution_count": 70,
   "metadata": {
    "collapsed": false
   },
   "outputs": [
    {
     "data": {
      "text/plain": [
       "2"
      ]
     },
     "execution_count": 70,
     "metadata": {},
     "output_type": "execute_result"
    }
   ],
   "source": [
    "fut.result()     ## 会返回线程里面执行的结果"
   ]
  },
  {
   "cell_type": "code",
   "execution_count": 71,
   "metadata": {
    "collapsed": false
   },
   "outputs": [
    {
     "data": {
      "text/plain": [
       "True"
      ]
     },
     "execution_count": 71,
     "metadata": {},
     "output_type": "execute_result"
    }
   ],
   "source": [
    "fut.done()   ## 看这个线程运行线束了没有"
   ]
  },
  {
   "cell_type": "code",
   "execution_count": null,
   "metadata": {
    "collapsed": true
   },
   "outputs": [],
   "source": []
  },
  {
   "cell_type": "code",
   "execution_count": 72,
   "metadata": {
    "collapsed": true
   },
   "outputs": [],
   "source": [
    "def worker():\n",
    "    time.sleep(30)\n",
    "    logging.info('worker')"
   ]
  },
  {
   "cell_type": "code",
   "execution_count": 73,
   "metadata": {
    "collapsed": true
   },
   "outputs": [],
   "source": [
    "fut = pool.submit(worker)"
   ]
  },
  {
   "cell_type": "code",
   "execution_count": 74,
   "metadata": {
    "collapsed": false
   },
   "outputs": [
    {
     "data": {
      "text/plain": [
       "False"
      ]
     },
     "execution_count": 74,
     "metadata": {},
     "output_type": "execute_result"
    }
   ],
   "source": [
    "fut.done()   ## 看这个线程运行线束了没有"
   ]
  },
  {
   "cell_type": "code",
   "execution_count": 75,
   "metadata": {
    "collapsed": false
   },
   "outputs": [
    {
     "data": {
      "text/plain": [
       "False"
      ]
     },
     "execution_count": 75,
     "metadata": {},
     "output_type": "execute_result"
    },
    {
     "name": "stderr",
     "output_type": "stream",
     "text": [
      "2017-05-04 08:20:32,585 INFO  [MainProcess] worker\n"
     ]
    }
   ],
   "source": [
    "fut.cancel()   ## 一旦开始了，就cancel不了了"
   ]
  },
  {
   "cell_type": "code",
   "execution_count": 76,
   "metadata": {
    "collapsed": false
   },
   "outputs": [
    {
     "data": {
      "text/plain": [
       "False"
      ]
     },
     "execution_count": 76,
     "metadata": {},
     "output_type": "execute_result"
    }
   ],
   "source": [
    "fut.running()   ## 现在已经结束了"
   ]
  },
  {
   "cell_type": "code",
   "execution_count": null,
   "metadata": {
    "collapsed": true
   },
   "outputs": [],
   "source": []
  },
  {
   "cell_type": "code",
   "execution_count": 77,
   "metadata": {
    "collapsed": true
   },
   "outputs": [],
   "source": [
    "## 再写一个worker\n",
    "\n",
    "def worker():\n",
    "    raise Exception('haha')"
   ]
  },
  {
   "cell_type": "code",
   "execution_count": 78,
   "metadata": {
    "collapsed": true
   },
   "outputs": [],
   "source": [
    "fut = pool.submit(worker)"
   ]
  },
  {
   "cell_type": "code",
   "execution_count": 79,
   "metadata": {
    "collapsed": false
   },
   "outputs": [
    {
     "data": {
      "text/plain": [
       "Exception('haha')"
      ]
     },
     "execution_count": 79,
     "metadata": {},
     "output_type": "execute_result"
    }
   ],
   "source": [
    "fut.exception()     ## 会返回exception的实例"
   ]
  },
  {
   "cell_type": "code",
   "execution_count": null,
   "metadata": {
    "collapsed": true
   },
   "outputs": [],
   "source": []
  },
  {
   "cell_type": "code",
   "execution_count": 80,
   "metadata": {
    "collapsed": false
   },
   "outputs": [
    {
     "data": {
      "text/plain": [
       "<concurrent.futures.process.ProcessPoolExecutor at 0x7f505019dac8>"
      ]
     },
     "execution_count": 80,
     "metadata": {},
     "output_type": "execute_result"
    }
   ],
   "source": [
    "futures.ProcessPoolExecutor()       ## 进程池与线程池的操作完全一样"
   ]
  },
  {
   "cell_type": "code",
   "execution_count": null,
   "metadata": {
    "collapsed": true
   },
   "outputs": [],
   "source": []
  },
  {
   "cell_type": "markdown",
   "metadata": {},
   "source": [
    "进程池和线程池的使用  简化了多线程/多进程 操作 ，并且对返回值和异常都可以处理"
   ]
  },
  {
   "cell_type": "code",
   "execution_count": 81,
   "metadata": {
    "collapsed": false
   },
   "outputs": [
    {
     "name": "stdout",
     "output_type": "stream",
     "text": [
      "Help on class ThreadPoolExecutor in module concurrent.futures.thread:\n",
      "\n",
      "class ThreadPoolExecutor(concurrent.futures._base.Executor)\n",
      " |  This is an abstract base class for concrete asynchronous executors.\n",
      " |  \n",
      " |  Method resolution order:\n",
      " |      ThreadPoolExecutor\n",
      " |      concurrent.futures._base.Executor\n",
      " |      builtins.object\n",
      " |  \n",
      " |  Methods defined here:\n",
      " |  \n",
      " |  __init__(self, max_workers=None)\n",
      " |      Initializes a new ThreadPoolExecutor instance.\n",
      " |      \n",
      " |      Args:\n",
      " |          max_workers: The maximum number of threads that can be used to\n",
      " |              execute the given calls.\n",
      " |  \n",
      " |  shutdown(self, wait=True)\n",
      " |      Clean-up the resources associated with the Executor.\n",
      " |      \n",
      " |      It is safe to call this method several times. Otherwise, no other\n",
      " |      methods can be called after this one.\n",
      " |      \n",
      " |      Args:\n",
      " |          wait: If True then shutdown will not return until all running\n",
      " |              futures have finished executing and the resources used by the\n",
      " |              executor have been reclaimed.\n",
      " |  \n",
      " |  submit(self, fn, *args, **kwargs)\n",
      " |      Submits a callable to be executed with the given arguments.\n",
      " |      \n",
      " |      Schedules the callable to be executed as fn(*args, **kwargs) and returns\n",
      " |      a Future instance representing the execution of the callable.\n",
      " |      \n",
      " |      Returns:\n",
      " |          A Future representing the given call.\n",
      " |  \n",
      " |  ----------------------------------------------------------------------\n",
      " |  Methods inherited from concurrent.futures._base.Executor:\n",
      " |  \n",
      " |  __enter__(self)\n",
      " |  \n",
      " |  __exit__(self, exc_type, exc_val, exc_tb)\n",
      " |  \n",
      " |  map(self, fn, *iterables, timeout=None, chunksize=1)\n",
      " |      Returns an iterator equivalent to map(fn, iter).\n",
      " |      \n",
      " |      Args:\n",
      " |          fn: A callable that will take as many arguments as there are\n",
      " |              passed iterables.\n",
      " |          timeout: The maximum number of seconds to wait. If None, then there\n",
      " |              is no limit on the wait time.\n",
      " |          chunksize: The size of the chunks the iterable will be broken into\n",
      " |              before being passed to a child process. This argument is only\n",
      " |              used by ProcessPoolExecutor; it is ignored by\n",
      " |              ThreadPoolExecutor.\n",
      " |      \n",
      " |      Returns:\n",
      " |          An iterator equivalent to: map(func, *iterables) but the calls may\n",
      " |          be evaluated out-of-order.\n",
      " |      \n",
      " |      Raises:\n",
      " |          TimeoutError: If the entire result iterator could not be generated\n",
      " |              before the given timeout.\n",
      " |          Exception: If fn(*args) raises for any values.\n",
      " |  \n",
      " |  ----------------------------------------------------------------------\n",
      " |  Data descriptors inherited from concurrent.futures._base.Executor:\n",
      " |  \n",
      " |  __dict__\n",
      " |      dictionary for instance variables (if defined)\n",
      " |  \n",
      " |  __weakref__\n",
      " |      list of weak references to the object (if defined)\n",
      "\n"
     ]
    }
   ],
   "source": [
    "help(futures.ThreadPoolExecutor)      ## 问题在于无法设置线程名   但是问题都不大"
   ]
  },
  {
   "cell_type": "code",
   "execution_count": null,
   "metadata": {
    "collapsed": true
   },
   "outputs": [],
   "source": []
  },
  {
   "cell_type": "code",
   "execution_count": 82,
   "metadata": {
    "collapsed": false
   },
   "outputs": [
    {
     "name": "stdout",
     "output_type": "stream",
     "text": [
      "Help on class Executor in module concurrent.futures._base:\n",
      "\n",
      "class Executor(builtins.object)\n",
      " |  This is an abstract base class for concrete asynchronous executors.\n",
      " |  \n",
      " |  Methods defined here:\n",
      " |  \n",
      " |  __enter__(self)\n",
      " |  \n",
      " |  __exit__(self, exc_type, exc_val, exc_tb)\n",
      " |  \n",
      " |  map(self, fn, *iterables, timeout=None, chunksize=1)\n",
      " |      Returns an iterator equivalent to map(fn, iter).\n",
      " |      \n",
      " |      Args:\n",
      " |          fn: A callable that will take as many arguments as there are\n",
      " |              passed iterables.\n",
      " |          timeout: The maximum number of seconds to wait. If None, then there\n",
      " |              is no limit on the wait time.\n",
      " |          chunksize: The size of the chunks the iterable will be broken into\n",
      " |              before being passed to a child process. This argument is only\n",
      " |              used by ProcessPoolExecutor; it is ignored by\n",
      " |              ThreadPoolExecutor.\n",
      " |      \n",
      " |      Returns:\n",
      " |          An iterator equivalent to: map(func, *iterables) but the calls may\n",
      " |          be evaluated out-of-order.\n",
      " |      \n",
      " |      Raises:\n",
      " |          TimeoutError: If the entire result iterator could not be generated\n",
      " |              before the given timeout.\n",
      " |          Exception: If fn(*args) raises for any values.\n",
      " |  \n",
      " |  shutdown(self, wait=True)\n",
      " |      Clean-up the resources associated with the Executor.\n",
      " |      \n",
      " |      It is safe to call this method several times. Otherwise, no other\n",
      " |      methods can be called after this one.\n",
      " |      \n",
      " |      Args:\n",
      " |          wait: If True then shutdown will not return until all running\n",
      " |              futures have finished executing and the resources used by the\n",
      " |              executor have been reclaimed.\n",
      " |  \n",
      " |  submit(self, fn, *args, **kwargs)\n",
      " |      Submits a callable to be executed with the given arguments.\n",
      " |      \n",
      " |      Schedules the callable to be executed as fn(*args, **kwargs) and returns\n",
      " |      a Future instance representing the execution of the callable.\n",
      " |      \n",
      " |      Returns:\n",
      " |          A Future representing the given call.\n",
      " |  \n",
      " |  ----------------------------------------------------------------------\n",
      " |  Data descriptors defined here:\n",
      " |  \n",
      " |  __dict__\n",
      " |      dictionary for instance variables (if defined)\n",
      " |  \n",
      " |  __weakref__\n",
      " |      list of weak references to the object (if defined)\n",
      "\n"
     ]
    }
   ],
   "source": [
    "help(futures._base.Executor)     ## 说明可以用 with 语法的(有enter和exit)"
   ]
  },
  {
   "cell_type": "code",
   "execution_count": null,
   "metadata": {
    "collapsed": true
   },
   "outputs": [],
   "source": []
  },
  {
   "cell_type": "code",
   "execution_count": null,
   "metadata": {
    "collapsed": true
   },
   "outputs": [],
   "source": []
  },
  {
   "cell_type": "code",
   "execution_count": null,
   "metadata": {
    "collapsed": true
   },
   "outputs": [],
   "source": []
  },
  {
   "cell_type": "code",
   "execution_count": null,
   "metadata": {
    "collapsed": true
   },
   "outputs": [],
   "source": []
  },
  {
   "cell_type": "code",
   "execution_count": null,
   "metadata": {
    "collapsed": true
   },
   "outputs": [],
   "source": []
  }
 ],
 "metadata": {
  "kernelspec": {
   "display_name": "Python 3",
   "language": "python",
   "name": "python3"
  },
  "language_info": {
   "codemirror_mode": {
    "name": "ipython",
    "version": 3
   },
   "file_extension": ".py",
   "mimetype": "text/x-python",
   "name": "python",
   "nbconvert_exporter": "python",
   "pygments_lexer": "ipython3",
   "version": "3.5.2"
  }
 },
 "nbformat": 4,
 "nbformat_minor": 0
}
