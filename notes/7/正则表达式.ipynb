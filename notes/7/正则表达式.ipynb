{
 "cells": [
  {
   "cell_type": "code",
   "execution_count": null,
   "metadata": {
    "collapsed": true
   },
   "outputs": [],
   "source": []
  },
  {
   "cell_type": "code",
   "execution_count": 1,
   "metadata": {
    "collapsed": true
   },
   "outputs": [],
   "source": [
    "import re"
   ]
  },
  {
   "cell_type": "code",
   "execution_count": 8,
   "metadata": {
    "collapsed": true
   },
   "outputs": [],
   "source": [
    "o = re.compile(r'a')       ##  通常先编译一下，会提高速度    r里面代表是自然字符串，不会被转义"
   ]
  },
  {
   "cell_type": "code",
   "execution_count": null,
   "metadata": {
    "collapsed": true
   },
   "outputs": [],
   "source": []
  },
  {
   "cell_type": "code",
   "execution_count": 9,
   "metadata": {
    "collapsed": false
   },
   "outputs": [
    {
     "data": {
      "text/plain": [
       "re.compile(r'a', re.UNICODE)"
      ]
     },
     "execution_count": 9,
     "metadata": {},
     "output_type": "execute_result"
    }
   ],
   "source": [
    "o             ##  已经被编译好的正则表达式"
   ]
  },
  {
   "cell_type": "code",
   "execution_count": 5,
   "metadata": {
    "collapsed": false
   },
   "outputs": [
    {
     "name": "stdout",
     "output_type": "stream",
     "text": [
      "Help on built-in function match:\n",
      "\n",
      "match(string=None, pos=0, endpos=9223372036854775807, *, pattern=None) method of _sre.SRE_Pattern instance\n",
      "    Matches zero or more characters at the beginning of the string.\n",
      "\n"
     ]
    }
   ],
   "source": [
    "help(o.match)     ## 在字符串的开头匹配零个或多个字符。"
   ]
  },
  {
   "cell_type": "code",
   "execution_count": 6,
   "metadata": {
    "collapsed": false
   },
   "outputs": [
    {
     "name": "stdout",
     "output_type": "stream",
     "text": [
      "Help on built-in function search:\n",
      "\n",
      "search(string=None, pos=0, endpos=9223372036854775807, *, pattern=None) method of _sre.SRE_Pattern instance\n",
      "    Scan through string looking for a match, and return a corresponding match object instance.\n",
      "    \n",
      "    Return None if no position in the string matches.\n",
      "\n"
     ]
    }
   ],
   "source": [
    "help(o.search)       ##  如果字符串中没有位置匹配，则返回None。"
   ]
  },
  {
   "cell_type": "code",
   "execution_count": 7,
   "metadata": {
    "collapsed": false
   },
   "outputs": [
    {
     "name": "stdout",
     "output_type": "stream",
     "text": [
      "Help on built-in function findall:\n",
      "\n",
      "findall(string=None, pos=0, endpos=9223372036854775807, *, source=None) method of _sre.SRE_Pattern instance\n",
      "    Return a list of all non-overlapping matches of pattern in string.\n",
      "\n"
     ]
    }
   ],
   "source": [
    "help(o.findall)"
   ]
  },
  {
   "cell_type": "code",
   "execution_count": null,
   "metadata": {
    "collapsed": true
   },
   "outputs": [],
   "source": []
  },
  {
   "cell_type": "code",
   "execution_count": 10,
   "metadata": {
    "collapsed": false
   },
   "outputs": [
    {
     "data": {
      "text/plain": [
       "<_sre.SRE_Match object; span=(0, 1), match='a'>"
      ]
     },
     "execution_count": 10,
     "metadata": {},
     "output_type": "execute_result"
    }
   ],
   "source": [
    "o.match('aaaa')"
   ]
  },
  {
   "cell_type": "code",
   "execution_count": 11,
   "metadata": {
    "collapsed": true
   },
   "outputs": [],
   "source": [
    "o.match('bbbb')    ## 没有match到的话，返回的None"
   ]
  },
  {
   "cell_type": "code",
   "execution_count": 14,
   "metadata": {
    "collapsed": true
   },
   "outputs": [],
   "source": [
    "o.match('baba')   ###  在字符串的开头匹配零个或多个字符。"
   ]
  },
  {
   "cell_type": "code",
   "execution_count": null,
   "metadata": {
    "collapsed": true
   },
   "outputs": [],
   "source": []
  },
  {
   "cell_type": "code",
   "execution_count": 13,
   "metadata": {
    "collapsed": false
   },
   "outputs": [
    {
     "data": {
      "text/plain": [
       "<_sre.SRE_Match object; span=(0, 1), match='a'>"
      ]
     },
     "execution_count": 13,
     "metadata": {},
     "output_type": "execute_result"
    }
   ],
   "source": [
    "o.search('aaaa')"
   ]
  },
  {
   "cell_type": "code",
   "execution_count": 15,
   "metadata": {
    "collapsed": true
   },
   "outputs": [],
   "source": [
    "o.search('bbbb')"
   ]
  },
  {
   "cell_type": "code",
   "execution_count": 17,
   "metadata": {
    "collapsed": false
   },
   "outputs": [
    {
     "data": {
      "text/plain": [
       "<_sre.SRE_Match object; span=(1, 2), match='a'>"
      ]
     },
     "execution_count": 17,
     "metadata": {},
     "output_type": "execute_result"
    }
   ],
   "source": [
    "o.search('baba')"
   ]
  },
  {
   "cell_type": "code",
   "execution_count": null,
   "metadata": {
    "collapsed": true
   },
   "outputs": [],
   "source": []
  },
  {
   "cell_type": "markdown",
   "metadata": {},
   "source": [
    "说明match是从头匹配的，search是全文搜索的"
   ]
  },
  {
   "cell_type": "markdown",
   "metadata": {},
   "source": [
    "所以，用search的多，match用的较少！"
   ]
  },
  {
   "cell_type": "code",
   "execution_count": null,
   "metadata": {
    "collapsed": true
   },
   "outputs": [],
   "source": []
  },
  {
   "cell_type": "markdown",
   "metadata": {},
   "source": [
    "捕获"
   ]
  },
  {
   "cell_type": "code",
   "execution_count": 18,
   "metadata": {
    "collapsed": true
   },
   "outputs": [],
   "source": [
    "o = re.compile('(test)')"
   ]
  },
  {
   "cell_type": "code",
   "execution_count": 19,
   "metadata": {
    "collapsed": false
   },
   "outputs": [
    {
     "data": {
      "text/plain": [
       "re.compile(r'(test)', re.UNICODE)"
      ]
     },
     "execution_count": 19,
     "metadata": {},
     "output_type": "execute_result"
    }
   ],
   "source": [
    "o"
   ]
  },
  {
   "cell_type": "code",
   "execution_count": 25,
   "metadata": {
    "collapsed": true
   },
   "outputs": [],
   "source": [
    "m = o.search('this is test string, test test test ')           ## search 是只捕获一次"
   ]
  },
  {
   "cell_type": "code",
   "execution_count": 26,
   "metadata": {
    "collapsed": false
   },
   "outputs": [
    {
     "data": {
      "text/plain": [
       "<_sre.SRE_Match object; span=(8, 12), match='test'>"
      ]
     },
     "execution_count": 26,
     "metadata": {},
     "output_type": "execute_result"
    }
   ],
   "source": [
    "m"
   ]
  },
  {
   "cell_type": "code",
   "execution_count": null,
   "metadata": {
    "collapsed": true
   },
   "outputs": [],
   "source": []
  },
  {
   "cell_type": "code",
   "execution_count": 21,
   "metadata": {
    "collapsed": false
   },
   "outputs": [
    {
     "name": "stdout",
     "output_type": "stream",
     "text": [
      "Help on built-in function group:\n",
      "\n",
      "group(...) method of _sre.SRE_Match instance\n",
      "    group([group1, ...]) -> str or tuple.\n",
      "    Return subgroup(s) of the match by indices or names.\n",
      "    For 0 returns the entire match.\n",
      "\n"
     ]
    }
   ],
   "source": [
    "help(m.group)"
   ]
  },
  {
   "cell_type": "code",
   "execution_count": 27,
   "metadata": {
    "collapsed": false
   },
   "outputs": [
    {
     "data": {
      "text/plain": [
       "'test'"
      ]
     },
     "execution_count": 27,
     "metadata": {},
     "output_type": "execute_result"
    }
   ],
   "source": [
    "m.group()"
   ]
  },
  {
   "cell_type": "code",
   "execution_count": 28,
   "metadata": {
    "collapsed": false
   },
   "outputs": [
    {
     "data": {
      "text/plain": [
       "('test',)"
      ]
     },
     "execution_count": 28,
     "metadata": {},
     "output_type": "execute_result"
    }
   ],
   "source": [
    "m.groups()          ##  返回元组"
   ]
  },
  {
   "cell_type": "code",
   "execution_count": null,
   "metadata": {
    "collapsed": true
   },
   "outputs": [],
   "source": []
  },
  {
   "cell_type": "markdown",
   "metadata": {},
   "source": [
    "命名捕获"
   ]
  },
  {
   "cell_type": "code",
   "execution_count": 29,
   "metadata": {
    "collapsed": true
   },
   "outputs": [],
   "source": [
    "o = re.compile(r'(?P<name>\\d+)')     ## 不理解  看http://www.cnblogs.com/tina-python/p/5508402.html  \n",
    "                                     ## \\d 数字:[0-9]"
   ]
  },
  {
   "cell_type": "code",
   "execution_count": 30,
   "metadata": {
    "collapsed": false
   },
   "outputs": [
    {
     "data": {
      "text/plain": [
       "re.compile(r'(?P<name>\\d+)', re.UNICODE)"
      ]
     },
     "execution_count": 30,
     "metadata": {},
     "output_type": "execute_result"
    }
   ],
   "source": [
    "o"
   ]
  },
  {
   "cell_type": "code",
   "execution_count": 31,
   "metadata": {
    "collapsed": true
   },
   "outputs": [],
   "source": [
    "m = o.search('127.0.0.1')"
   ]
  },
  {
   "cell_type": "code",
   "execution_count": 32,
   "metadata": {
    "collapsed": false
   },
   "outputs": [
    {
     "data": {
      "text/plain": [
       "('127',)"
      ]
     },
     "execution_count": 32,
     "metadata": {},
     "output_type": "execute_result"
    }
   ],
   "source": [
    "m.groups()"
   ]
  },
  {
   "cell_type": "code",
   "execution_count": 33,
   "metadata": {
    "collapsed": false
   },
   "outputs": [
    {
     "data": {
      "text/plain": [
       "{'name': '127'}"
      ]
     },
     "execution_count": 33,
     "metadata": {},
     "output_type": "execute_result"
    }
   ],
   "source": [
    "m.groupdict()"
   ]
  },
  {
   "cell_type": "code",
   "execution_count": null,
   "metadata": {
    "collapsed": true
   },
   "outputs": [],
   "source": []
  },
  {
   "cell_type": "code",
   "execution_count": null,
   "metadata": {
    "collapsed": true
   },
   "outputs": [],
   "source": []
  },
  {
   "cell_type": "code",
   "execution_count": 34,
   "metadata": {
    "collapsed": true
   },
   "outputs": [],
   "source": [
    "line = '66.249.69.131 - - [10/Aug/2016:03:20:09 +0800] \"GET /robots.txt HTTP/1.1\" 404 162 \"-\" \"Mozilla/5.0 (compatible; Googlebot/2.1; +http://www.google.com/bot.html)\"'"
   ]
  },
  {
   "cell_type": "code",
   "execution_count": 36,
   "metadata": {
    "collapsed": true
   },
   "outputs": [],
   "source": [
    "p = r'(?P<ip>\\d{1,3}\\.\\d{1,3}\\.\\d{1,3}\\.\\d{1,3})'"
   ]
  },
  {
   "cell_type": "code",
   "execution_count": 39,
   "metadata": {
    "collapsed": false
   },
   "outputs": [
    {
     "name": "stdout",
     "output_type": "stream",
     "text": [
      "{'ip': '66.249.69.131'}\n"
     ]
    }
   ],
   "source": [
    "o = re.compile(p)\n",
    "m = o.search(line)\n",
    "if m:\n",
    "    print(m.groupdict())          ## ip的部分就出来了"
   ]
  },
  {
   "cell_type": "code",
   "execution_count": null,
   "metadata": {
    "collapsed": true
   },
   "outputs": [],
   "source": []
  },
  {
   "cell_type": "code",
   "execution_count": 40,
   "metadata": {
    "collapsed": true
   },
   "outputs": [],
   "source": [
    "p = r'(?P<ip>\\d{1,3}\\.\\d{1,3}\\.\\d{1,3}\\.\\d{1,3}).*.*\\[(?P<time>.*)\\]'    ## time也取出来了"
   ]
  },
  {
   "cell_type": "code",
   "execution_count": 41,
   "metadata": {
    "collapsed": false
   },
   "outputs": [
    {
     "name": "stdout",
     "output_type": "stream",
     "text": [
      "{'time': '10/Aug/2016:03:20:09 +0800', 'ip': '66.249.69.131'}\n"
     ]
    }
   ],
   "source": [
    "o = re.compile(p)\n",
    "m = o.search(line)\n",
    "if m:\n",
    "    print(m.groupdict())     "
   ]
  },
  {
   "cell_type": "code",
   "execution_count": null,
   "metadata": {
    "collapsed": true
   },
   "outputs": [],
   "source": []
  },
  {
   "cell_type": "code",
   "execution_count": 42,
   "metadata": {
    "collapsed": true
   },
   "outputs": [],
   "source": [
    "p = r'(?P<ip>\\d{1,3}\\.\\d{1,3}\\.\\d{1,3}\\.\\d{1,3}).*.*\\[(?P<time>.*)\\] \"(?P<method>\\w+)'   ## method也出来了"
   ]
  },
  {
   "cell_type": "code",
   "execution_count": 43,
   "metadata": {
    "collapsed": false
   },
   "outputs": [
    {
     "name": "stdout",
     "output_type": "stream",
     "text": [
      "{'method': 'GET', 'ip': '66.249.69.131', 'time': '10/Aug/2016:03:20:09 +0800'}\n"
     ]
    }
   ],
   "source": [
    "o = re.compile(p)\n",
    "m = o.search(line)\n",
    "if m:\n",
    "    print(m.groupdict()) "
   ]
  },
  {
   "cell_type": "code",
   "execution_count": null,
   "metadata": {
    "collapsed": true
   },
   "outputs": [],
   "source": []
  },
  {
   "cell_type": "code",
   "execution_count": 48,
   "metadata": {
    "collapsed": false
   },
   "outputs": [],
   "source": [
    "p = r'(?P<ip>\\d{1,3}\\.\\d{1,3}\\.\\d{1,3}\\.\\d{1,3}).*.*\\[(?P<time>.*)\\] \"(?P<method>\\w+) (?P<url>[^\\s]*) (?P<version>[\\w|/\\.\\d]*)\"' "
   ]
  },
  {
   "cell_type": "code",
   "execution_count": 45,
   "metadata": {
    "collapsed": true
   },
   "outputs": [],
   "source": [
    "import pprint"
   ]
  },
  {
   "cell_type": "code",
   "execution_count": 49,
   "metadata": {
    "collapsed": false
   },
   "outputs": [
    {
     "name": "stdout",
     "output_type": "stream",
     "text": [
      "{   'ip': '66.249.69.131',\n",
      "    'method': 'GET',\n",
      "    'time': '10/Aug/2016:03:20:09 +0800',\n",
      "    'url': '/robots.txt',\n",
      "    'version': 'HTTP/1.1'}\n"
     ]
    }
   ],
   "source": [
    "o = re.compile(p)\n",
    "m = o.search(line)\n",
    "if m:\n",
    "    pprint.pprint(m.groupdict(), indent=4) "
   ]
  },
  {
   "cell_type": "code",
   "execution_count": null,
   "metadata": {
    "collapsed": true
   },
   "outputs": [],
   "source": []
  },
  {
   "cell_type": "code",
   "execution_count": 52,
   "metadata": {
    "collapsed": true
   },
   "outputs": [],
   "source": [
    "p = r'(?P<ip>\\d{1,3}\\.\\d{1,3}\\.\\d{1,3}\\.\\d{1,3}).*.*\\[(?P<time>.*)\\] \"(?P<method>\\w+) (?P<url>[^\\s]*) (?P<version>[\\w|/\\.\\d]*)\" (?P<status>\\d{3}) (?P<length>\\d+)'\n",
    "##  状态码和长度也出来了"
   ]
  },
  {
   "cell_type": "code",
   "execution_count": 53,
   "metadata": {
    "collapsed": false
   },
   "outputs": [
    {
     "name": "stdout",
     "output_type": "stream",
     "text": [
      "{   'ip': '66.249.69.131',\n",
      "    'length': '162',\n",
      "    'method': 'GET',\n",
      "    'status': '404',\n",
      "    'time': '10/Aug/2016:03:20:09 +0800',\n",
      "    'url': '/robots.txt',\n",
      "    'version': 'HTTP/1.1'}\n"
     ]
    }
   ],
   "source": [
    "o = re.compile(p)\n",
    "m = o.search(line)\n",
    "if m:\n",
    "    pprint.pprint(m.groupdict(), indent=4) "
   ]
  },
  {
   "cell_type": "code",
   "execution_count": null,
   "metadata": {
    "collapsed": true
   },
   "outputs": [],
   "source": []
  },
  {
   "cell_type": "code",
   "execution_count": 77,
   "metadata": {
    "collapsed": true
   },
   "outputs": [],
   "source": [
    "line = '66.249.69.131 - - [10/Aug/2016:03:20:09 +0800] \"GET /robots.txt HTTP/1.1\" 404 162 \"-\" \"Mozilla/5.0 (compatible; Googlebot/2.1; +http://www.google.com/bot.html)\"'"
   ]
  },
  {
   "cell_type": "code",
   "execution_count": 78,
   "metadata": {
    "collapsed": false
   },
   "outputs": [],
   "source": [
    "p = r'(?P<ip>\\d{1,3}\\.\\d{1,3}\\.\\d{1,3}\\.\\d{1,3}).*.*\\[(?P<time>.*)\\] \"(?P<method>\\w+) (?P<url>[^\\s]*) (?P<version>[\\w|/\\.\\d]*)\" (?P<status>\\d{3}) (?P<length>\\d+) \"(?P<referer>[^\\s]*)\" \"(?P<ua>.*)\"'"
   ]
  },
  {
   "cell_type": "code",
   "execution_count": 71,
   "metadata": {
    "collapsed": true
   },
   "outputs": [],
   "source": [
    "## 这回全都整理出来了！    以上这个就是解析的所有正则表达式"
   ]
  },
  {
   "cell_type": "code",
   "execution_count": 79,
   "metadata": {
    "collapsed": true
   },
   "outputs": [],
   "source": [
    "import pprint"
   ]
  },
  {
   "cell_type": "code",
   "execution_count": 80,
   "metadata": {
    "collapsed": false
   },
   "outputs": [
    {
     "name": "stdout",
     "output_type": "stream",
     "text": [
      "{   'ip': '66.249.69.131',\n",
      "    'length': '162',\n",
      "    'method': 'GET',\n",
      "    'referer': '-',\n",
      "    'status': '404',\n",
      "    'time': '10/Aug/2016:03:20:09 +0800',\n",
      "    'ua': 'Mozilla/5.0 (compatible; Googlebot/2.1; '\n",
      "          '+http://www.google.com/bot.html)',\n",
      "    'url': '/robots.txt',\n",
      "    'version': 'HTTP/1.1'}\n"
     ]
    }
   ],
   "source": [
    "o = re.compile(p)\n",
    "m = o.search(line)\n",
    "if m:\n",
    "    pprint.pprint(m.groupdict(), indent=4) "
   ]
  },
  {
   "cell_type": "code",
   "execution_count": null,
   "metadata": {
    "collapsed": true
   },
   "outputs": [],
   "source": []
  },
  {
   "cell_type": "markdown",
   "metadata": {},
   "source": [
    "再测试一下："
   ]
  },
  {
   "cell_type": "code",
   "execution_count": 82,
   "metadata": {
    "collapsed": false
   },
   "outputs": [
    {
     "name": "stdout",
     "output_type": "stream",
     "text": [
      "92264\n",
      "92257\n"
     ]
    }
   ],
   "source": [
    "with open('/root/access.log-20160811') as f:\n",
    "    total = 0\n",
    "    matched = 0\n",
    "    for line in f:\n",
    "        total += 1\n",
    "        if o.search(line):\n",
    "            matched += 1\n",
    "    print(total)\n",
    "    print(matched)"
   ]
  },
  {
   "cell_type": "markdown",
   "metadata": {},
   "source": [
    "看样子有7行不匹配！"
   ]
  },
  {
   "cell_type": "code",
   "execution_count": null,
   "metadata": {
    "collapsed": true
   },
   "outputs": [],
   "source": [
    "## 不匹配的打印出来"
   ]
  },
  {
   "cell_type": "code",
   "execution_count": 83,
   "metadata": {
    "collapsed": false
   },
   "outputs": [
    {
     "name": "stdout",
     "output_type": "stream",
     "text": [
      "83.149.37.131 - - [10/Aug/2016:09:22:05 +0800] \"Lp\" 400 166 \"-\" \"-\"\n",
      "\n",
      "83.149.37.131 - - [10/Aug/2016:09:29:06 +0800] \"Lp\" 400 166 \"-\" \"-\"\n",
      "\n",
      "180.98.17.34 - - [10/Aug/2016:10:44:19 +0800] \"GET /6471001\\xE4\\xB8\\x80\\xE6\\xAD\\xA5\\xE5\\x88\\xB0\\xE4\\xBD\\x8D\\xE5\\xAE\\x9E\\xE7\\x8E\\xB0zabbix\\xE5\\xAE\\x89\\xE8\\xA3\\x85 \\xE2\\x80\\x93 linux\\xE8\\xBF\\x90\\xE7\\xBB\\xB4\\xE9\\x83\\xA8\\xE8\\x90\\xBD HTTP/1.1\" 404 6208 \"-\" \"Mozilla/5.0 (Linux; U; Android 6.0.1; zh-cn; MI 4C Build/MMB29M) AppleWebKit/533.1 (KHTML, like Gecko) Mobile Safari/533.1\"\n",
      "\n",
      "180.98.17.34 - - [10/Aug/2016:10:44:19 +0800] \"GET /6471001\\xE4\\xB8\\x80\\xE6\\xAD\\xA5\\xE5\\x88\\xB0\\xE4\\xBD\\x8D\\xE5\\xAE\\x9E\\xE7\\x8E\\xB0zabbix\\xE5\\xAE\\x89\\xE8\\xA3\\x85 \\xE2\\x80\\x93 linux\\xE8\\xBF\\x90\\xE7\\xBB\\xB4\\xE9\\x83\\xA8\\xE8\\x90\\xBD HTTP/1.1\" 404 6208 \"-\" \"Mozilla/5.0 (Linux; U; Android 6.0.1; zh-cn; MI 4C Build/MMB29M) AppleWebKit/533.1 (KHTML, like Gecko) Mobile Safari/533.1\"\n",
      "\n",
      "180.98.17.34 - - [10/Aug/2016:10:44:20 +0800] \"GET /6471001\\xE4\\xB8\\x80\\xE6\\xAD\\xA5\\xE5\\x88\\xB0\\xE4\\xBD\\x8D\\xE5\\xAE\\x9E\\xE7\\x8E\\xB0zabbix\\xE5\\xAE\\x89\\xE8\\xA3\\x85 \\xE2\\x80\\x93 linux\\xE8\\xBF\\x90\\xE7\\xBB\\xB4\\xE9\\x83\\xA8\\xE8\\x90\\xBD HTTP/1.1\" 404 6208 \"-\" \"Mozilla/5.0 (Linux; U; Android 6.0.1; zh-cn; MI 4C Build/MMB29M) AppleWebKit/533.1 (KHTML, like Gecko) Mobile Safari/533.1\"\n",
      "\n",
      "180.98.17.34 - - [10/Aug/2016:10:44:20 +0800] \"GET /6471001\\xE4\\xB8\\x80\\xE6\\xAD\\xA5\\xE5\\x88\\xB0\\xE4\\xBD\\x8D\\xE5\\xAE\\x9E\\xE7\\x8E\\xB0zabbix\\xE5\\xAE\\x89\\xE8\\xA3\\x85 \\xE2\\x80\\x93 linux\\xE8\\xBF\\x90\\xE7\\xBB\\xB4\\xE9\\x83\\xA8\\xE8\\x90\\xBD HTTP/1.1\" 404 6208 \"-\" \"Mozilla/5.0 (Linux; U; Android 6.0.1; zh-cn; MI 4C Build/MMB29M) AppleWebKit/533.1 (KHTML, like Gecko) Mobile Safari/533.1\"\n",
      "\n",
      "169.229.3.91 - - [10/Aug/2016:21:45:06 +0800] \"\\xC5\\xFCQ8:\\x03\\xAE\\xC7\\xF9\\xA3p\\x8A5\\xF0\\xA3\\x80X\\xC1\\x871\\x9F\\x98`\\x8D\\x8B8\\xA6\\x81Ch\\x18\\x03,)\\xF3_\\xD0-\\xA8\\xC0\\xF3t3\\xA4M\\xD5e\\xA1\\xB9\\xE6e\\xC6\\xD8\\xADN\\xFC<\\xE4{\\xCA\\xB4\\xDE\\xC1\\xF2\" 400 166 \"-\" \"-\"\n",
      "\n",
      "92264\n",
      "92257\n"
     ]
    }
   ],
   "source": [
    "with open('/root/access.log-20160811') as f:\n",
    "    total = 0\n",
    "    matched = 0\n",
    "    for line in f:\n",
    "        total += 1\n",
    "        if o.search(line):\n",
    "            matched += 1\n",
    "        else:\n",
    "            print(line,)\n",
    "            \n",
    "    print(total)\n",
    "    print(matched)"
   ]
  },
  {
   "cell_type": "code",
   "execution_count": null,
   "metadata": {
    "collapsed": true
   },
   "outputs": [],
   "source": [
    "##  这7行，看着是非标的    后面的几个可能是有中文的原因    "
   ]
  },
  {
   "cell_type": "markdown",
   "metadata": {},
   "source": [
    "9万多行中，只有7条是不匹配的，所以说正则写的是OK的！"
   ]
  },
  {
   "cell_type": "code",
   "execution_count": null,
   "metadata": {
    "collapsed": true
   },
   "outputs": [],
   "source": []
  },
  {
   "cell_type": "code",
   "execution_count": null,
   "metadata": {
    "collapsed": true
   },
   "outputs": [],
   "source": []
  },
  {
   "cell_type": "code",
   "execution_count": null,
   "metadata": {
    "collapsed": true
   },
   "outputs": [],
   "source": []
  },
  {
   "cell_type": "code",
   "execution_count": null,
   "metadata": {
    "collapsed": true
   },
   "outputs": [],
   "source": []
  },
  {
   "cell_type": "code",
   "execution_count": null,
   "metadata": {
    "collapsed": true
   },
   "outputs": [],
   "source": []
  },
  {
   "cell_type": "code",
   "execution_count": null,
   "metadata": {
    "collapsed": true
   },
   "outputs": [],
   "source": []
  },
  {
   "cell_type": "code",
   "execution_count": null,
   "metadata": {
    "collapsed": true
   },
   "outputs": [],
   "source": []
  },
  {
   "cell_type": "code",
   "execution_count": null,
   "metadata": {
    "collapsed": true
   },
   "outputs": [],
   "source": []
  },
  {
   "cell_type": "code",
   "execution_count": null,
   "metadata": {
    "collapsed": true
   },
   "outputs": [],
   "source": []
  },
  {
   "cell_type": "code",
   "execution_count": null,
   "metadata": {
    "collapsed": true
   },
   "outputs": [],
   "source": []
  },
  {
   "cell_type": "code",
   "execution_count": null,
   "metadata": {
    "collapsed": true
   },
   "outputs": [],
   "source": []
  },
  {
   "cell_type": "code",
   "execution_count": null,
   "metadata": {
    "collapsed": true
   },
   "outputs": [],
   "source": []
  }
 ],
 "metadata": {
  "kernelspec": {
   "display_name": "Python 3",
   "language": "python",
   "name": "python3"
  },
  "language_info": {
   "codemirror_mode": {
    "name": "ipython",
    "version": 3
   },
   "file_extension": ".py",
   "mimetype": "text/x-python",
   "name": "python",
   "nbconvert_exporter": "python",
   "pygments_lexer": "ipython3",
   "version": "3.5.2"
  }
 },
 "nbformat": 4,
 "nbformat_minor": 0
}
