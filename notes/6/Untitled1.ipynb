{
 "cells": [
  {
   "cell_type": "code",
   "execution_count": null,
   "metadata": {
    "collapsed": true
   },
   "outputs": [],
   "source": []
  },
  {
   "cell_type": "code",
   "execution_count": 1,
   "metadata": {
    "collapsed": true
   },
   "outputs": [],
   "source": [
    "class dog:\n",
    "    def bulk(self):\n",
    "        print('wang wang!')"
   ]
  },
  {
   "cell_type": "code",
   "execution_count": 2,
   "metadata": {
    "collapsed": true
   },
   "outputs": [],
   "source": [
    "d1 = dog()"
   ]
  },
  {
   "cell_type": "code",
   "execution_count": 3,
   "metadata": {
    "collapsed": false
   },
   "outputs": [
    {
     "data": {
      "text/plain": [
       "<bound method dog.bulk of <__main__.dog object at 0x7f5cfaf0a828>>"
      ]
     },
     "execution_count": 3,
     "metadata": {},
     "output_type": "execute_result"
    }
   ],
   "source": [
    "d1.bulk"
   ]
  },
  {
   "cell_type": "code",
   "execution_count": 4,
   "metadata": {
    "collapsed": false
   },
   "outputs": [
    {
     "name": "stdout",
     "output_type": "stream",
     "text": [
      "wang wang!\n"
     ]
    }
   ],
   "source": [
    "d1.bulk()"
   ]
  },
  {
   "cell_type": "code",
   "execution_count": null,
   "metadata": {
    "collapsed": true
   },
   "outputs": [],
   "source": []
  },
  {
   "cell_type": "code",
   "execution_count": 1,
   "metadata": {
    "collapsed": false
   },
   "outputs": [],
   "source": [
    "class dog:\n",
    "    def __init__(self,name):\n",
    "        self.name=name\n",
    "    def bulk(self):\n",
    "        print('%s wang wang!'% self.name)"
   ]
  },
  {
   "cell_type": "code",
   "execution_count": 12,
   "metadata": {
    "collapsed": true
   },
   "outputs": [],
   "source": [
    "d1 = dog('chen')"
   ]
  },
  {
   "cell_type": "code",
   "execution_count": 13,
   "metadata": {
    "collapsed": false
   },
   "outputs": [
    {
     "name": "stdout",
     "output_type": "stream",
     "text": [
      "chen wang wang!\n"
     ]
    }
   ],
   "source": [
    "d1.bulk()"
   ]
  },
  {
   "cell_type": "code",
   "execution_count": 14,
   "metadata": {
    "collapsed": true
   },
   "outputs": [],
   "source": [
    "d2 = dog('li')"
   ]
  },
  {
   "cell_type": "code",
   "execution_count": 15,
   "metadata": {
    "collapsed": false
   },
   "outputs": [
    {
     "name": "stdout",
     "output_type": "stream",
     "text": [
      "li wang wang!\n"
     ]
    }
   ],
   "source": [
    "d2.bulk()            ## 这个就等于dog.bulk(d2)"
   ]
  },
  {
   "cell_type": "code",
   "execution_count": 3,
   "metadata": {
    "collapsed": false
   },
   "outputs": [],
   "source": [
    "d3 = dog('haha')"
   ]
  },
  {
   "cell_type": "code",
   "execution_count": 5,
   "metadata": {
    "collapsed": false
   },
   "outputs": [
    {
     "name": "stdout",
     "output_type": "stream",
     "text": [
      "haha wang wang!\n"
     ]
    }
   ],
   "source": [
    "d3.bulk()"
   ]
  },
  {
   "cell_type": "code",
   "execution_count": null,
   "metadata": {
    "collapsed": true
   },
   "outputs": [],
   "source": []
  },
  {
   "cell_type": "markdown",
   "metadata": {
    "collapsed": true
   },
   "source": [
    "### 类变量存在类的内存里"
   ]
  },
  {
   "cell_type": "code",
   "execution_count": 17,
   "metadata": {
    "collapsed": false
   },
   "outputs": [],
   "source": [
    "class Role:   ## 定义一个类\n",
    "    n = 123\n",
    "    def __init__(self, name, role, weapon, life_value=100, money=15000):\n",
    "\n",
    "        self.name = name    \n",
    "        self.role = role   ## 这些都是赋予给实例的  叫实例变量(静态属性)  作用域就是实例本身\n",
    "        self.weapon = weapon\n",
    "        self.life_value = life_value\n",
    "        self.money = money\n",
    "    def __del__(self):\n",
    "        print(\"\")\n",
    "\n",
    "    def shot(self):      ## 角色的功能   专业术语：类的方法 (动态属性)\n",
    "        print(\"shooting...\")\n"
   ]
  },
  {
   "cell_type": "code",
   "execution_count": null,
   "metadata": {
    "collapsed": true
   },
   "outputs": [],
   "source": []
  },
  {
   "cell_type": "code",
   "execution_count": 5,
   "metadata": {
    "collapsed": false
   },
   "outputs": [
    {
     "name": "stdout",
     "output_type": "stream",
     "text": [
      "123\n"
     ]
    }
   ],
   "source": [
    "print(Role.n)"
   ]
  },
  {
   "cell_type": "code",
   "execution_count": 6,
   "metadata": {
    "collapsed": true
   },
   "outputs": [],
   "source": [
    "r1=Role('chen','jingcha','qiang')"
   ]
  },
  {
   "cell_type": "code",
   "execution_count": 7,
   "metadata": {
    "collapsed": false
   },
   "outputs": [
    {
     "name": "stdout",
     "output_type": "stream",
     "text": [
      "shooting...\n"
     ]
    }
   ],
   "source": [
    "r1.shot()"
   ]
  },
  {
   "cell_type": "code",
   "execution_count": 8,
   "metadata": {
    "collapsed": false
   },
   "outputs": [
    {
     "data": {
      "text/plain": [
       "123"
      ]
     },
     "execution_count": 8,
     "metadata": {},
     "output_type": "execute_result"
    }
   ],
   "source": [
    "r1.n"
   ]
  },
  {
   "cell_type": "code",
   "execution_count": 9,
   "metadata": {
    "collapsed": true
   },
   "outputs": [],
   "source": [
    "r1.n = 'abc'"
   ]
  },
  {
   "cell_type": "code",
   "execution_count": 10,
   "metadata": {
    "collapsed": false
   },
   "outputs": [
    {
     "data": {
      "text/plain": [
       "'abc'"
      ]
     },
     "execution_count": 10,
     "metadata": {},
     "output_type": "execute_result"
    }
   ],
   "source": [
    "r1.n"
   ]
  },
  {
   "cell_type": "code",
   "execution_count": 11,
   "metadata": {
    "collapsed": true
   },
   "outputs": [],
   "source": [
    "del r1.n"
   ]
  },
  {
   "cell_type": "code",
   "execution_count": 12,
   "metadata": {
    "collapsed": false
   },
   "outputs": [
    {
     "data": {
      "text/plain": [
       "123"
      ]
     },
     "execution_count": 12,
     "metadata": {},
     "output_type": "execute_result"
    }
   ],
   "source": [
    "r1.n"
   ]
  },
  {
   "cell_type": "code",
   "execution_count": 13,
   "metadata": {
    "collapsed": true
   },
   "outputs": [],
   "source": [
    "r1.haha = 'xixi'"
   ]
  },
  {
   "cell_type": "code",
   "execution_count": 14,
   "metadata": {
    "collapsed": false
   },
   "outputs": [
    {
     "data": {
      "text/plain": [
       "'xixi'"
      ]
     },
     "execution_count": 14,
     "metadata": {},
     "output_type": "execute_result"
    }
   ],
   "source": [
    "r1.haha"
   ]
  },
  {
   "cell_type": "code",
   "execution_count": 15,
   "metadata": {
    "collapsed": true
   },
   "outputs": [],
   "source": [
    "del r1"
   ]
  },
  {
   "cell_type": "code",
   "execution_count": 18,
   "metadata": {
    "collapsed": true
   },
   "outputs": [],
   "source": [
    "r2 = Role('chen','jingcha','qiang')"
   ]
  },
  {
   "cell_type": "code",
   "execution_count": 19,
   "metadata": {
    "collapsed": false
   },
   "outputs": [
    {
     "data": {
      "text/plain": [
       "123"
      ]
     },
     "execution_count": 19,
     "metadata": {},
     "output_type": "execute_result"
    }
   ],
   "source": [
    "r2.n"
   ]
  },
  {
   "cell_type": "code",
   "execution_count": 20,
   "metadata": {
    "collapsed": false
   },
   "outputs": [
    {
     "name": "stdout",
     "output_type": "stream",
     "text": [
      "shooting...\n"
     ]
    }
   ],
   "source": [
    "r2.shot()"
   ]
  },
  {
   "cell_type": "code",
   "execution_count": 21,
   "metadata": {
    "collapsed": false
   },
   "outputs": [
    {
     "name": "stdout",
     "output_type": "stream",
     "text": [
      "回收\n"
     ]
    }
   ],
   "source": [
    "del r2"
   ]
  },
  {
   "cell_type": "code",
   "execution_count": null,
   "metadata": {
    "collapsed": true
   },
   "outputs": [],
   "source": [
    "animal"
   ]
  },
  {
   "cell_type": "code",
   "execution_count": 34,
   "metadata": {
    "collapsed": false
   },
   "outputs": [
    {
     "name": "stdout",
     "output_type": "stream",
     "text": [
      "回收\n"
     ]
    }
   ],
   "source": [
    "r1 = Role('chen','xiaotou','yan')"
   ]
  },
  {
   "cell_type": "code",
   "execution_count": 35,
   "metadata": {
    "collapsed": false
   },
   "outputs": [
    {
     "data": {
      "text/plain": [
       "'chen'"
      ]
     },
     "execution_count": 35,
     "metadata": {},
     "output_type": "execute_result"
    }
   ],
   "source": [
    "r1.name"
   ]
  },
  {
   "cell_type": "code",
   "execution_count": 36,
   "metadata": {
    "collapsed": false
   },
   "outputs": [
    {
     "data": {
      "text/plain": [
       "15000"
      ]
     },
     "execution_count": 36,
     "metadata": {},
     "output_type": "execute_result"
    }
   ],
   "source": [
    "r1.money"
   ]
  },
  {
   "cell_type": "code",
   "execution_count": 38,
   "metadata": {
    "collapsed": false
   },
   "outputs": [
    {
     "name": "stdout",
     "output_type": "stream",
     "text": [
      "100\n"
     ]
    }
   ],
   "source": [
    "r1.status()"
   ]
  },
  {
   "cell_type": "code",
   "execution_count": 39,
   "metadata": {
    "collapsed": false
   },
   "outputs": [
    {
     "name": "stdout",
     "output_type": "stream",
     "text": [
      "shooting...\n",
      "chen\n"
     ]
    }
   ],
   "source": [
    "r1.shot()"
   ]
  },
  {
   "cell_type": "raw",
   "metadata": {},
   "source": []
  },
  {
   "cell_type": "code",
   "execution_count": 2,
   "metadata": {
    "collapsed": false
   },
   "outputs": [
    {
     "data": {
      "text/plain": [
       "builtin_function_or_method"
      ]
     },
     "execution_count": 2,
     "metadata": {},
     "output_type": "execute_result"
    }
   ],
   "source": [
    "type(abs)"
   ]
  },
  {
   "cell_type": "code",
   "execution_count": 5,
   "metadata": {
    "collapsed": false
   },
   "outputs": [
    {
     "data": {
      "text/plain": [
       "True"
      ]
     },
     "execution_count": 5,
     "metadata": {},
     "output_type": "execute_result"
    }
   ],
   "source": [
    "type(123)==type(456)"
   ]
  },
  {
   "cell_type": "code",
   "execution_count": 6,
   "metadata": {
    "collapsed": false
   },
   "outputs": [
    {
     "data": {
      "text/plain": [
       "int"
      ]
     },
     "execution_count": 6,
     "metadata": {},
     "output_type": "execute_result"
    }
   ],
   "source": [
    "type(23)"
   ]
  },
  {
   "cell_type": "code",
   "execution_count": null,
   "metadata": {
    "collapsed": true
   },
   "outputs": [],
   "source": []
  },
  {
   "cell_type": "code",
   "execution_count": 7,
   "metadata": {
    "collapsed": true
   },
   "outputs": [],
   "source": [
    "import types"
   ]
  },
  {
   "cell_type": "code",
   "execution_count": 8,
   "metadata": {
    "collapsed": true
   },
   "outputs": [],
   "source": [
    "def fn():\n",
    "    pass"
   ]
  },
  {
   "cell_type": "code",
   "execution_count": 9,
   "metadata": {
    "collapsed": false
   },
   "outputs": [
    {
     "data": {
      "text/plain": [
       "function"
      ]
     },
     "execution_count": 9,
     "metadata": {},
     "output_type": "execute_result"
    }
   ],
   "source": [
    "type(fn)"
   ]
  },
  {
   "cell_type": "code",
   "execution_count": 10,
   "metadata": {
    "collapsed": false
   },
   "outputs": [
    {
     "data": {
      "text/plain": [
       "function"
      ]
     },
     "execution_count": 10,
     "metadata": {},
     "output_type": "execute_result"
    }
   ],
   "source": [
    "type(lambda x: x)"
   ]
  },
  {
   "cell_type": "code",
   "execution_count": 11,
   "metadata": {
    "collapsed": false
   },
   "outputs": [
    {
     "data": {
      "text/plain": [
       "['__add__',\n",
       " '__class__',\n",
       " '__contains__',\n",
       " '__delattr__',\n",
       " '__dir__',\n",
       " '__doc__',\n",
       " '__eq__',\n",
       " '__format__',\n",
       " '__ge__',\n",
       " '__getattribute__',\n",
       " '__getitem__',\n",
       " '__getnewargs__',\n",
       " '__gt__',\n",
       " '__hash__',\n",
       " '__init__',\n",
       " '__iter__',\n",
       " '__le__',\n",
       " '__len__',\n",
       " '__lt__',\n",
       " '__mod__',\n",
       " '__mul__',\n",
       " '__ne__',\n",
       " '__new__',\n",
       " '__reduce__',\n",
       " '__reduce_ex__',\n",
       " '__repr__',\n",
       " '__rmod__',\n",
       " '__rmul__',\n",
       " '__setattr__',\n",
       " '__sizeof__',\n",
       " '__str__',\n",
       " '__subclasshook__',\n",
       " 'capitalize',\n",
       " 'casefold',\n",
       " 'center',\n",
       " 'count',\n",
       " 'encode',\n",
       " 'endswith',\n",
       " 'expandtabs',\n",
       " 'find',\n",
       " 'format',\n",
       " 'format_map',\n",
       " 'index',\n",
       " 'isalnum',\n",
       " 'isalpha',\n",
       " 'isdecimal',\n",
       " 'isdigit',\n",
       " 'isidentifier',\n",
       " 'islower',\n",
       " 'isnumeric',\n",
       " 'isprintable',\n",
       " 'isspace',\n",
       " 'istitle',\n",
       " 'isupper',\n",
       " 'join',\n",
       " 'ljust',\n",
       " 'lower',\n",
       " 'lstrip',\n",
       " 'maketrans',\n",
       " 'partition',\n",
       " 'replace',\n",
       " 'rfind',\n",
       " 'rindex',\n",
       " 'rjust',\n",
       " 'rpartition',\n",
       " 'rsplit',\n",
       " 'rstrip',\n",
       " 'split',\n",
       " 'splitlines',\n",
       " 'startswith',\n",
       " 'strip',\n",
       " 'swapcase',\n",
       " 'title',\n",
       " 'translate',\n",
       " 'upper',\n",
       " 'zfill']"
      ]
     },
     "execution_count": 11,
     "metadata": {},
     "output_type": "execute_result"
    }
   ],
   "source": [
    "dir('ABC')"
   ]
  },
  {
   "cell_type": "code",
   "execution_count": 13,
   "metadata": {
    "collapsed": false
   },
   "outputs": [
    {
     "data": {
      "text/plain": [
       "'ab'"
      ]
     },
     "execution_count": 13,
     "metadata": {},
     "output_type": "execute_result"
    }
   ],
   "source": [
    "'AB'.lower()"
   ]
  },
  {
   "cell_type": "code",
   "execution_count": null,
   "metadata": {
    "collapsed": true
   },
   "outputs": [],
   "source": []
  },
  {
   "cell_type": "code",
   "execution_count": 1,
   "metadata": {
    "collapsed": false
   },
   "outputs": [
    {
     "ename": "ZeroDivisionError",
     "evalue": "division by zero",
     "output_type": "error",
     "traceback": [
      "\u001b[1;31m---------------------------------------------------------------------------\u001b[0m",
      "\u001b[1;31mZeroDivisionError\u001b[0m                         Traceback (most recent call last)",
      "\u001b[1;32m<ipython-input-1-242277fd9e32>\u001b[0m in \u001b[0;36m<module>\u001b[1;34m()\u001b[0m\n\u001b[1;32m----> 1\u001b[1;33m \u001b[1;36m10\u001b[0m\u001b[1;33m/\u001b[0m\u001b[1;36m0\u001b[0m\u001b[1;33m\u001b[0m\u001b[0m\n\u001b[0m",
      "\u001b[1;31mZeroDivisionError\u001b[0m: division by zero"
     ]
    }
   ],
   "source": [
    "10/0"
   ]
  },
  {
   "cell_type": "code",
   "execution_count": 3,
   "metadata": {
    "collapsed": false
   },
   "outputs": [
    {
     "name": "stdout",
     "output_type": "stream",
     "text": [
      "try...\n",
      "finally...\n"
     ]
    },
    {
     "ename": "NameError",
     "evalue": "name 'ZeroDivisionErr' is not defined",
     "output_type": "error",
     "traceback": [
      "\u001b[1;31m---------------------------------------------------------------------------\u001b[0m",
      "\u001b[1;31mZeroDivisionError\u001b[0m                         Traceback (most recent call last)",
      "\u001b[1;32m<ipython-input-3-13c12adfac87>\u001b[0m in \u001b[0;36m<module>\u001b[1;34m()\u001b[0m\n\u001b[0;32m      2\u001b[0m     \u001b[0mprint\u001b[0m\u001b[1;33m(\u001b[0m\u001b[1;34m'try...'\u001b[0m\u001b[1;33m)\u001b[0m\u001b[1;33m\u001b[0m\u001b[0m\n\u001b[1;32m----> 3\u001b[1;33m     \u001b[0mr\u001b[0m \u001b[1;33m=\u001b[0m \u001b[1;36m10\u001b[0m \u001b[1;33m/\u001b[0m \u001b[1;36m0\u001b[0m\u001b[1;33m\u001b[0m\u001b[0m\n\u001b[0m\u001b[0;32m      4\u001b[0m     \u001b[0mprint\u001b[0m\u001b[1;33m(\u001b[0m\u001b[1;34m'result:'\u001b[0m\u001b[1;33m,\u001b[0m \u001b[0mr\u001b[0m\u001b[1;33m)\u001b[0m\u001b[1;33m\u001b[0m\u001b[0m\n",
      "\u001b[1;31mZeroDivisionError\u001b[0m: division by zero",
      "\nDuring handling of the above exception, another exception occurred:\n",
      "\u001b[1;31mNameError\u001b[0m                                 Traceback (most recent call last)",
      "\u001b[1;32m<ipython-input-3-13c12adfac87>\u001b[0m in \u001b[0;36m<module>\u001b[1;34m()\u001b[0m\n\u001b[0;32m      3\u001b[0m     \u001b[0mr\u001b[0m \u001b[1;33m=\u001b[0m \u001b[1;36m10\u001b[0m \u001b[1;33m/\u001b[0m \u001b[1;36m0\u001b[0m\u001b[1;33m\u001b[0m\u001b[0m\n\u001b[0;32m      4\u001b[0m     \u001b[0mprint\u001b[0m\u001b[1;33m(\u001b[0m\u001b[1;34m'result:'\u001b[0m\u001b[1;33m,\u001b[0m \u001b[0mr\u001b[0m\u001b[1;33m)\u001b[0m\u001b[1;33m\u001b[0m\u001b[0m\n\u001b[1;32m----> 5\u001b[1;33m \u001b[1;32mexcept\u001b[0m \u001b[0mZeroDivisionErr\u001b[0m \u001b[1;32mas\u001b[0m \u001b[0me\u001b[0m\u001b[1;33m:\u001b[0m\u001b[1;33m\u001b[0m\u001b[0m\n\u001b[0m\u001b[0;32m      6\u001b[0m     \u001b[0mprint\u001b[0m\u001b[1;33m(\u001b[0m\u001b[1;34m'except:'\u001b[0m\u001b[1;33m,\u001b[0m \u001b[0me\u001b[0m\u001b[1;33m)\u001b[0m\u001b[1;33m\u001b[0m\u001b[0m\n\u001b[0;32m      7\u001b[0m \u001b[1;32mfinally\u001b[0m\u001b[1;33m:\u001b[0m\u001b[1;33m\u001b[0m\u001b[0m\n",
      "\u001b[1;31mNameError\u001b[0m: name 'ZeroDivisionErr' is not defined"
     ]
    }
   ],
   "source": [
    "try:\n",
    "    print('try...')\n",
    "    r = 10 / 0\n",
    "    print('result:', r)\n",
    "except ZeroDivisionErr as e:\n",
    "    print('except:', e)\n",
    "finally:\n",
    "    print('finally...')\n",
    "print('END')"
   ]
  },
  {
   "cell_type": "code",
   "execution_count": 9,
   "metadata": {
    "collapsed": false
   },
   "outputs": [
    {
     "name": "stdout",
     "output_type": "stream",
     "text": [
      "try...\n",
      "ZeroDivisionError: division by zero\n",
      "finally...\n",
      "END\n"
     ]
    }
   ],
   "source": [
    "try:\n",
    "    print('try...')\n",
    "    r = 10 / int(0)\n",
    "    print('result:', r)\n",
    "except ValueError as e:\n",
    "    print('ValueError:', e)\n",
    "except ZeroDivisionError as e:\n",
    "    print('ZeroDivisionError:', e)\n",
    "finally:\n",
    "    print('finally...')\n",
    "print('END')"
   ]
  },
  {
   "cell_type": "code",
   "execution_count": null,
   "metadata": {
    "collapsed": true
   },
   "outputs": [],
   "source": []
  },
  {
   "cell_type": "code",
   "execution_count": 8,
   "metadata": {
    "collapsed": false
   },
   "outputs": [
    {
     "ename": "ValueError",
     "evalue": "invalid literal for int() with base 10: 'a'",
     "output_type": "error",
     "traceback": [
      "\u001b[1;31m---------------------------------------------------------------------------\u001b[0m",
      "\u001b[1;31mValueError\u001b[0m                                Traceback (most recent call last)",
      "\u001b[1;32m<ipython-input-8-02571180bc6f>\u001b[0m in \u001b[0;36m<module>\u001b[1;34m()\u001b[0m\n\u001b[1;32m----> 1\u001b[1;33m \u001b[1;36m10\u001b[0m\u001b[1;33m/\u001b[0m\u001b[0mint\u001b[0m\u001b[1;33m(\u001b[0m\u001b[1;34m'a'\u001b[0m\u001b[1;33m)\u001b[0m\u001b[1;33m\u001b[0m\u001b[0m\n\u001b[0m",
      "\u001b[1;31mValueError\u001b[0m: invalid literal for int() with base 10: 'a'"
     ]
    }
   ],
   "source": [
    "10/int('a')"
   ]
  },
  {
   "cell_type": "code",
   "execution_count": null,
   "metadata": {
    "collapsed": true
   },
   "outputs": [],
   "source": []
  },
  {
   "cell_type": "code",
   "execution_count": 11,
   "metadata": {
    "collapsed": false
   },
   "outputs": [
    {
     "name": "stdout",
     "output_type": "stream",
     "text": [
      "try...\n",
      "result: 5.0\n",
      "no error!\n",
      "finally...\n",
      "END\n"
     ]
    }
   ],
   "source": [
    "try:\n",
    "    print('try...')\n",
    "    r = 10 / int('2')\n",
    "    print('result:', r)\n",
    "except ValueError as e:\n",
    "    print('ValueError:', e)\n",
    "except ZeroDivisionError as e:\n",
    "    print('ZeroDivisionError:', e)\n",
    "else:\n",
    "    print('no error!')\n",
    "finally:\n",
    "    print('finally...')\n",
    "print('END')"
   ]
  },
  {
   "cell_type": "code",
   "execution_count": 14,
   "metadata": {
    "collapsed": false
   },
   "outputs": [
    {
     "ename": "ZeroDivisionError",
     "evalue": "division by zero",
     "output_type": "error",
     "traceback": [
      "\u001b[1;31m---------------------------------------------------------------------------\u001b[0m",
      "\u001b[1;31mZeroDivisionError\u001b[0m                         Traceback (most recent call last)",
      "\u001b[1;32m<ipython-input-14-89ebb83ccfc2>\u001b[0m in \u001b[0;36m<module>\u001b[1;34m()\u001b[0m\n\u001b[0;32m      8\u001b[0m     \u001b[0mbar\u001b[0m\u001b[1;33m(\u001b[0m\u001b[1;34m'0'\u001b[0m\u001b[1;33m)\u001b[0m\u001b[1;33m\u001b[0m\u001b[0m\n\u001b[0;32m      9\u001b[0m \u001b[1;33m\u001b[0m\u001b[0m\n\u001b[1;32m---> 10\u001b[1;33m \u001b[0mmain\u001b[0m\u001b[1;33m(\u001b[0m\u001b[1;33m)\u001b[0m\u001b[1;33m\u001b[0m\u001b[0m\n\u001b[0m",
      "\u001b[1;32m<ipython-input-14-89ebb83ccfc2>\u001b[0m in \u001b[0;36mmain\u001b[1;34m()\u001b[0m\n\u001b[0;32m      6\u001b[0m \u001b[1;33m\u001b[0m\u001b[0m\n\u001b[0;32m      7\u001b[0m \u001b[1;32mdef\u001b[0m \u001b[0mmain\u001b[0m\u001b[1;33m(\u001b[0m\u001b[1;33m)\u001b[0m\u001b[1;33m:\u001b[0m\u001b[1;33m\u001b[0m\u001b[0m\n\u001b[1;32m----> 8\u001b[1;33m     \u001b[0mbar\u001b[0m\u001b[1;33m(\u001b[0m\u001b[1;34m'0'\u001b[0m\u001b[1;33m)\u001b[0m\u001b[1;33m\u001b[0m\u001b[0m\n\u001b[0m\u001b[0;32m      9\u001b[0m \u001b[1;33m\u001b[0m\u001b[0m\n\u001b[0;32m     10\u001b[0m \u001b[0mmain\u001b[0m\u001b[1;33m(\u001b[0m\u001b[1;33m)\u001b[0m\u001b[1;33m\u001b[0m\u001b[0m\n",
      "\u001b[1;32m<ipython-input-14-89ebb83ccfc2>\u001b[0m in \u001b[0;36mbar\u001b[1;34m(s)\u001b[0m\n\u001b[0;32m      3\u001b[0m \u001b[1;33m\u001b[0m\u001b[0m\n\u001b[0;32m      4\u001b[0m \u001b[1;32mdef\u001b[0m \u001b[0mbar\u001b[0m\u001b[1;33m(\u001b[0m\u001b[0ms\u001b[0m\u001b[1;33m)\u001b[0m\u001b[1;33m:\u001b[0m\u001b[1;33m\u001b[0m\u001b[0m\n\u001b[1;32m----> 5\u001b[1;33m     \u001b[1;32mreturn\u001b[0m \u001b[0mfoo\u001b[0m\u001b[1;33m(\u001b[0m\u001b[0ms\u001b[0m\u001b[1;33m)\u001b[0m \u001b[1;33m*\u001b[0m \u001b[1;36m2\u001b[0m\u001b[1;33m\u001b[0m\u001b[0m\n\u001b[0m\u001b[0;32m      6\u001b[0m \u001b[1;33m\u001b[0m\u001b[0m\n\u001b[0;32m      7\u001b[0m \u001b[1;32mdef\u001b[0m \u001b[0mmain\u001b[0m\u001b[1;33m(\u001b[0m\u001b[1;33m)\u001b[0m\u001b[1;33m:\u001b[0m\u001b[1;33m\u001b[0m\u001b[0m\n",
      "\u001b[1;32m<ipython-input-14-89ebb83ccfc2>\u001b[0m in \u001b[0;36mfoo\u001b[1;34m(s)\u001b[0m\n\u001b[0;32m      1\u001b[0m \u001b[1;32mdef\u001b[0m \u001b[0mfoo\u001b[0m\u001b[1;33m(\u001b[0m\u001b[0ms\u001b[0m\u001b[1;33m)\u001b[0m\u001b[1;33m:\u001b[0m\u001b[1;33m\u001b[0m\u001b[0m\n\u001b[1;32m----> 2\u001b[1;33m     \u001b[1;32mreturn\u001b[0m \u001b[1;36m10\u001b[0m \u001b[1;33m/\u001b[0m \u001b[0mint\u001b[0m\u001b[1;33m(\u001b[0m\u001b[0ms\u001b[0m\u001b[1;33m)\u001b[0m\u001b[1;33m\u001b[0m\u001b[0m\n\u001b[0m\u001b[0;32m      3\u001b[0m \u001b[1;33m\u001b[0m\u001b[0m\n\u001b[0;32m      4\u001b[0m \u001b[1;32mdef\u001b[0m \u001b[0mbar\u001b[0m\u001b[1;33m(\u001b[0m\u001b[0ms\u001b[0m\u001b[1;33m)\u001b[0m\u001b[1;33m:\u001b[0m\u001b[1;33m\u001b[0m\u001b[0m\n\u001b[0;32m      5\u001b[0m     \u001b[1;32mreturn\u001b[0m \u001b[0mfoo\u001b[0m\u001b[1;33m(\u001b[0m\u001b[0ms\u001b[0m\u001b[1;33m)\u001b[0m \u001b[1;33m*\u001b[0m \u001b[1;36m2\u001b[0m\u001b[1;33m\u001b[0m\u001b[0m\n",
      "\u001b[1;31mZeroDivisionError\u001b[0m: division by zero"
     ]
    }
   ],
   "source": [
    "def foo(s):\n",
    "    return 10 / int(s)\n",
    "\n",
    "def bar(s):\n",
    "    return foo(s) * 2\n",
    "\n",
    "def main():\n",
    "    bar('0')\n",
    "\n",
    "main()"
   ]
  },
  {
   "cell_type": "code",
   "execution_count": 15,
   "metadata": {
    "collapsed": false
   },
   "outputs": [
    {
     "name": "stdout",
     "output_type": "stream",
     "text": [
      "END\n"
     ]
    }
   ],
   "source": [
    "import logging\n",
    "\n",
    "def foo(s):\n",
    "    return 10 / int(s)\n",
    "\n",
    "def bar(s):\n",
    "    return foo(s) * 2\n",
    "\n",
    "def main():\n",
    "    try:\n",
    "        bar('0')\n",
    "    except Exception as e:\n",
    "        logging.exception(e)\n",
    "\n",
    "main()\n",
    "print('END')"
   ]
  },
  {
   "cell_type": "code",
   "execution_count": 16,
   "metadata": {
    "collapsed": false
   },
   "outputs": [
    {
     "name": "stdout",
     "output_type": "stream",
     "text": [
      "Help on class int in module builtins:\n",
      "\n",
      "class int(object)\n",
      " |  int(x=0) -> integer\n",
      " |  int(x, base=10) -> integer\n",
      " |  \n",
      " |  Convert a number or string to an integer, or return 0 if no arguments\n",
      " |  are given.  If x is a number, return x.__int__().  For floating point\n",
      " |  numbers, this truncates towards zero.\n",
      " |  \n",
      " |  If x is not a number or if base is given, then x must be a string,\n",
      " |  bytes, or bytearray instance representing an integer literal in the\n",
      " |  given base.  The literal can be preceded by '+' or '-' and be surrounded\n",
      " |  by whitespace.  The base defaults to 10.  Valid bases are 0 and 2-36.\n",
      " |  Base 0 means to interpret the base from the string as an integer literal.\n",
      " |  >>> int('0b100', base=0)\n",
      " |  4\n",
      " |  \n",
      " |  Methods defined here:\n",
      " |  \n",
      " |  __abs__(self, /)\n",
      " |      abs(self)\n",
      " |  \n",
      " |  __add__(self, value, /)\n",
      " |      Return self+value.\n",
      " |  \n",
      " |  __and__(self, value, /)\n",
      " |      Return self&value.\n",
      " |  \n",
      " |  __bool__(self, /)\n",
      " |      self != 0\n",
      " |  \n",
      " |  __ceil__(...)\n",
      " |      Ceiling of an Integral returns itself.\n",
      " |  \n",
      " |  __divmod__(self, value, /)\n",
      " |      Return divmod(self, value).\n",
      " |  \n",
      " |  __eq__(self, value, /)\n",
      " |      Return self==value.\n",
      " |  \n",
      " |  __float__(self, /)\n",
      " |      float(self)\n",
      " |  \n",
      " |  __floor__(...)\n",
      " |      Flooring an Integral returns itself.\n",
      " |  \n",
      " |  __floordiv__(self, value, /)\n",
      " |      Return self//value.\n",
      " |  \n",
      " |  __format__(...)\n",
      " |      default object formatter\n",
      " |  \n",
      " |  __ge__(self, value, /)\n",
      " |      Return self>=value.\n",
      " |  \n",
      " |  __getattribute__(self, name, /)\n",
      " |      Return getattr(self, name).\n",
      " |  \n",
      " |  __getnewargs__(...)\n",
      " |  \n",
      " |  __gt__(self, value, /)\n",
      " |      Return self>value.\n",
      " |  \n",
      " |  __hash__(self, /)\n",
      " |      Return hash(self).\n",
      " |  \n",
      " |  __index__(self, /)\n",
      " |      Return self converted to an integer, if self is suitable for use as an index into a list.\n",
      " |  \n",
      " |  __int__(self, /)\n",
      " |      int(self)\n",
      " |  \n",
      " |  __invert__(self, /)\n",
      " |      ~self\n",
      " |  \n",
      " |  __le__(self, value, /)\n",
      " |      Return self<=value.\n",
      " |  \n",
      " |  __lshift__(self, value, /)\n",
      " |      Return self<<value.\n",
      " |  \n",
      " |  __lt__(self, value, /)\n",
      " |      Return self<value.\n",
      " |  \n",
      " |  __mod__(self, value, /)\n",
      " |      Return self%value.\n",
      " |  \n",
      " |  __mul__(self, value, /)\n",
      " |      Return self*value.\n",
      " |  \n",
      " |  __ne__(self, value, /)\n",
      " |      Return self!=value.\n",
      " |  \n",
      " |  __neg__(self, /)\n",
      " |      -self\n",
      " |  \n",
      " |  __new__(*args, **kwargs) from builtins.type\n",
      " |      Create and return a new object.  See help(type) for accurate signature.\n",
      " |  \n",
      " |  __or__(self, value, /)\n",
      " |      Return self|value.\n",
      " |  \n",
      " |  __pos__(self, /)\n",
      " |      +self\n",
      " |  \n",
      " |  __pow__(self, value, mod=None, /)\n",
      " |      Return pow(self, value, mod).\n",
      " |  \n",
      " |  __radd__(self, value, /)\n",
      " |      Return value+self.\n",
      " |  \n",
      " |  __rand__(self, value, /)\n",
      " |      Return value&self.\n",
      " |  \n",
      " |  __rdivmod__(self, value, /)\n",
      " |      Return divmod(value, self).\n",
      " |  \n",
      " |  __repr__(self, /)\n",
      " |      Return repr(self).\n",
      " |  \n",
      " |  __rfloordiv__(self, value, /)\n",
      " |      Return value//self.\n",
      " |  \n",
      " |  __rlshift__(self, value, /)\n",
      " |      Return value<<self.\n",
      " |  \n",
      " |  __rmod__(self, value, /)\n",
      " |      Return value%self.\n",
      " |  \n",
      " |  __rmul__(self, value, /)\n",
      " |      Return value*self.\n",
      " |  \n",
      " |  __ror__(self, value, /)\n",
      " |      Return value|self.\n",
      " |  \n",
      " |  __round__(...)\n",
      " |      Rounding an Integral returns itself.\n",
      " |      Rounding with an ndigits argument also returns an integer.\n",
      " |  \n",
      " |  __rpow__(self, value, mod=None, /)\n",
      " |      Return pow(value, self, mod).\n",
      " |  \n",
      " |  __rrshift__(self, value, /)\n",
      " |      Return value>>self.\n",
      " |  \n",
      " |  __rshift__(self, value, /)\n",
      " |      Return self>>value.\n",
      " |  \n",
      " |  __rsub__(self, value, /)\n",
      " |      Return value-self.\n",
      " |  \n",
      " |  __rtruediv__(self, value, /)\n",
      " |      Return value/self.\n",
      " |  \n",
      " |  __rxor__(self, value, /)\n",
      " |      Return value^self.\n",
      " |  \n",
      " |  __sizeof__(...)\n",
      " |      Returns size in memory, in bytes\n",
      " |  \n",
      " |  __str__(self, /)\n",
      " |      Return str(self).\n",
      " |  \n",
      " |  __sub__(self, value, /)\n",
      " |      Return self-value.\n",
      " |  \n",
      " |  __truediv__(self, value, /)\n",
      " |      Return self/value.\n",
      " |  \n",
      " |  __trunc__(...)\n",
      " |      Truncating an Integral returns itself.\n",
      " |  \n",
      " |  __xor__(self, value, /)\n",
      " |      Return self^value.\n",
      " |  \n",
      " |  bit_length(...)\n",
      " |      int.bit_length() -> int\n",
      " |      \n",
      " |      Number of bits necessary to represent self in binary.\n",
      " |      >>> bin(37)\n",
      " |      '0b100101'\n",
      " |      >>> (37).bit_length()\n",
      " |      6\n",
      " |  \n",
      " |  conjugate(...)\n",
      " |      Returns self, the complex conjugate of any int.\n",
      " |  \n",
      " |  from_bytes(...) from builtins.type\n",
      " |      int.from_bytes(bytes, byteorder, *, signed=False) -> int\n",
      " |      \n",
      " |      Return the integer represented by the given array of bytes.\n",
      " |      \n",
      " |      The bytes argument must be a bytes-like object (e.g. bytes or bytearray).\n",
      " |      \n",
      " |      The byteorder argument determines the byte order used to represent the\n",
      " |      integer.  If byteorder is 'big', the most significant byte is at the\n",
      " |      beginning of the byte array.  If byteorder is 'little', the most\n",
      " |      significant byte is at the end of the byte array.  To request the native\n",
      " |      byte order of the host system, use `sys.byteorder' as the byte order value.\n",
      " |      \n",
      " |      The signed keyword-only argument indicates whether two's complement is\n",
      " |      used to represent the integer.\n",
      " |  \n",
      " |  to_bytes(...)\n",
      " |      int.to_bytes(length, byteorder, *, signed=False) -> bytes\n",
      " |      \n",
      " |      Return an array of bytes representing an integer.\n",
      " |      \n",
      " |      The integer is represented using length bytes.  An OverflowError is\n",
      " |      raised if the integer is not representable with the given number of\n",
      " |      bytes.\n",
      " |      \n",
      " |      The byteorder argument determines the byte order used to represent the\n",
      " |      integer.  If byteorder is 'big', the most significant byte is at the\n",
      " |      beginning of the byte array.  If byteorder is 'little', the most\n",
      " |      significant byte is at the end of the byte array.  To request the native\n",
      " |      byte order of the host system, use `sys.byteorder' as the byte order value.\n",
      " |      \n",
      " |      The signed keyword-only argument determines whether two's complement is\n",
      " |      used to represent the integer.  If signed is False and a negative integer\n",
      " |      is given, an OverflowError is raised.\n",
      " |  \n",
      " |  ----------------------------------------------------------------------\n",
      " |  Data descriptors defined here:\n",
      " |  \n",
      " |  denominator\n",
      " |      the denominator of a rational number in lowest terms\n",
      " |  \n",
      " |  imag\n",
      " |      the imaginary part of a complex number\n",
      " |  \n",
      " |  numerator\n",
      " |      the numerator of a rational number in lowest terms\n",
      " |  \n",
      " |  real\n",
      " |      the real part of a complex number\n",
      "\n"
     ]
    }
   ],
   "source": [
    "help(int)"
   ]
  },
  {
   "cell_type": "code",
   "execution_count": 17,
   "metadata": {
    "collapsed": false
   },
   "outputs": [
    {
     "data": {
      "text/plain": [
       "10"
      ]
     },
     "execution_count": 17,
     "metadata": {},
     "output_type": "execute_result"
    }
   ],
   "source": [
    "int(10)"
   ]
  },
  {
   "cell_type": "code",
   "execution_count": 21,
   "metadata": {
    "collapsed": false
   },
   "outputs": [
    {
     "ename": "TypeError",
     "evalue": "int() can't convert non-string with explicit base",
     "output_type": "error",
     "traceback": [
      "\u001b[1;31m---------------------------------------------------------------------------\u001b[0m",
      "\u001b[1;31mTypeError\u001b[0m                                 Traceback (most recent call last)",
      "\u001b[1;32m<ipython-input-21-6d9e0ed17fe6>\u001b[0m in \u001b[0;36m<module>\u001b[1;34m()\u001b[0m\n\u001b[1;32m----> 1\u001b[1;33m \u001b[0mint\u001b[0m\u001b[1;33m(\u001b[0m\u001b[1;36m2\u001b[0m\u001b[1;33m,\u001b[0m \u001b[1;36m10\u001b[0m\u001b[1;33m)\u001b[0m\u001b[1;33m\u001b[0m\u001b[0m\n\u001b[0m",
      "\u001b[1;31mTypeError\u001b[0m: int() can't convert non-string with explicit base"
     ]
    }
   ],
   "source": [
    "int(2, 10)"
   ]
  },
  {
   "cell_type": "code",
   "execution_count": 1,
   "metadata": {
    "collapsed": false
   },
   "outputs": [
    {
     "name": "stdout",
     "output_type": "stream",
     "text": [
      "111       hello               test1.exe        utf8.txt  \u001b[0m\u001b[01;32mxin.py\u001b[0m*\r\n",
      "gbk.txt   IO与文件操作.ipynb  Untitled1.ipynb  x2.txt    xxx.txt\r\n",
      "haha.txt  passwd              Untitled.ipynb   x3.txt\r\n"
     ]
    }
   ],
   "source": [
    "ls"
   ]
  },
  {
   "cell_type": "code",
   "execution_count": 2,
   "metadata": {
    "collapsed": false
   },
   "outputs": [
    {
     "name": "stdout",
     "output_type": "stream",
     "text": [
      "root:x:0:0:root:/root:/bin/bash\r\n",
      "bin:x:1:1:bin:/bin:/sbin/nologin\r\n",
      "daemon:x:2:2:daemon:/sbin:/sbin/nologin\r\n",
      "adm:x:3:4:adm:/var/adm:/sbin/nologin\r\n",
      "lp:x:4:7:lp:/var/spool/lpd:/sbin/nologin\r\n",
      "sync:x:5:0:sync:/sbin:/bin/sync\r\n",
      "shutdown:x:6:0:shutdown:/sbin:/sbin/shutdown\r\n",
      "halt:x:7:0:halt:/sbin:/sbin/halt\r\n",
      "mail:x:8:12:mail:/var/spool/mail:/sbin/nologin\r\n",
      "operator:x:11:0:operator:/root:/sbin/nologin\r\n",
      "games:x:12:100:games:/usr/games:/sbin/nologin\r\n",
      "ftp:x:14:50:FTP User:/var/ftp:/sbin/nologin\r\n",
      "nobody:x:99:99:Nobody:/:/sbin/nologin\r\n",
      "systemd-bus-proxy:x:999:998:systemd Bus Proxy:/:/sbin/nologin\r\n",
      "systemd-network:x:998:997:systemd Network Management:/:/sbin/nologin\r\n",
      "dbus:x:81:81:System message bus:/:/sbin/nologin\r\n",
      "polkitd:x:997:996:User for polkitd:/:/sbin/nologin\r\n",
      "abrt:x:173:173::/etc/abrt:/sbin/nologin\r\n",
      "unbound:x:996:994:Unbound DNS resolver:/etc/unbound:/sbin/nologin\r\n",
      "tss:x:59:59:Account used by the trousers package to sandbox the tcsd daemon:/dev/null:/sbin/nologin\r\n",
      "colord:x:995:993:User for colord:/var/lib/colord:/sbin/nologin\r\n",
      "usbmuxd:x:113:113:usbmuxd user:/:/sbin/nologin\r\n",
      "geoclue:x:994:991:User for geoclue:/var/lib/geoclue:/sbin/nologin\r\n",
      "saslauth:x:993:76:Saslauthd user:/run/saslauthd:/sbin/nologin\r\n",
      "libstoragemgmt:x:992:990:daemon account for libstoragemgmt:/var/run/lsm:/sbin/nologin\r\n",
      "rpc:x:32:32:Rpcbind Daemon:/var/lib/rpcbind:/sbin/nologin\r\n",
      "rtkit:x:172:172:RealtimeKit:/proc:/sbin/nologin\r\n",
      "chrony:x:991:988::/var/lib/chrony:/sbin/nologin\r\n",
      "radvd:x:75:75:radvd user:/:/sbin/nologin\r\n",
      "qemu:x:107:107:qemu user:/:/sbin/nologin\r\n",
      "ntp:x:38:38::/etc/ntp:/sbin/nologin\r\n",
      "rpcuser:x:29:29:RPC Service User:/var/lib/nfs:/sbin/nologin\r\n",
      "nfsnobody:x:65534:65534:Anonymous NFS User:/var/lib/nfs:/sbin/nologin\r\n",
      "avahi-autoipd:x:170:170:Avahi IPv4LL Stack:/var/lib/avahi-autoipd:/sbin/nologin\r\n",
      "setroubleshoot:x:990:987::/var/lib/setroubleshoot:/sbin/nologin\r\n",
      "sssd:x:989:986:User for sssd:/:/sbin/nologin\r\n",
      "pulse:x:171:171:PulseAudio System Daemon:/var/run/pulse:/sbin/nologin\r\n",
      "gdm:x:42:42::/var/lib/gdm:/sbin/nologin\r\n",
      "gnome-initial-setup:x:988:983::/run/gnome-initial-setup/:/sbin/nologin\r\n",
      "sshd:x:74:74:Privilege-separated SSH:/var/empty/sshd:/sbin/nologin\r\n",
      "avahi:x:70:70:Avahi mDNS/DNS-SD Stack:/var/run/avahi-daemon:/sbin/nologin\r\n",
      "postfix:x:89:89::/var/spool/postfix:/sbin/nologin\r\n",
      "tcpdump:x:72:72::/:/sbin/nologin\r\n",
      "chen:x:1000:1000:chen:/home/chen:/bin/bash\r\n",
      "apache:x:48:48:Apache:/usr/share/httpd:/sbin/nologin\r\n"
     ]
    }
   ],
   "source": [
    "cat passwd"
   ]
  },
  {
   "cell_type": "code",
   "execution_count": 12,
   "metadata": {
    "collapsed": true
   },
   "outputs": [],
   "source": [
    "a = open('passwd')"
   ]
  },
  {
   "cell_type": "code",
   "execution_count": 13,
   "metadata": {
    "collapsed": false
   },
   "outputs": [
    {
     "data": {
      "text/plain": [
       "'root:x:0:0:root:/root:/bin/bash\\nbin:x:1:1:bin:/bin:/sbin/nologin\\ndaemon:x:2:2:daemon:/sbin:/sbin/nologin\\nadm:x:3:4:adm:/var/adm:/sbin/nologin\\nlp:x:4:7:lp:/var/spool/lpd:/sbin/nologin\\nsync:x:5:0:sync:/sbin:/bin/sync\\nshutdown:x:6:0:shutdown:/sbin:/sbin/shutdown\\nhalt:x:7:0:halt:/sbin:/sbin/halt\\nmail:x:8:12:mail:/var/spool/mail:/sbin/nologin\\noperator:x:11:0:operator:/root:/sbin/nologin\\ngames:x:12:100:games:/usr/games:/sbin/nologin\\nftp:x:14:50:FTP User:/var/ftp:/sbin/nologin\\nnobody:x:99:99:Nobody:/:/sbin/nologin\\nsystemd-bus-proxy:x:999:998:systemd Bus Proxy:/:/sbin/nologin\\nsystemd-network:x:998:997:systemd Network Management:/:/sbin/nologin\\ndbus:x:81:81:System message bus:/:/sbin/nologin\\npolkitd:x:997:996:User for polkitd:/:/sbin/nologin\\nabrt:x:173:173::/etc/abrt:/sbin/nologin\\nunbound:x:996:994:Unbound DNS resolver:/etc/unbound:/sbin/nologin\\ntss:x:59:59:Account used by the trousers package to sandbox the tcsd daemon:/dev/null:/sbin/nologin\\ncolord:x:995:993:User for colord:/var/lib/colord:/sbin/nologin\\nusbmuxd:x:113:113:usbmuxd user:/:/sbin/nologin\\ngeoclue:x:994:991:User for geoclue:/var/lib/geoclue:/sbin/nologin\\nsaslauth:x:993:76:Saslauthd user:/run/saslauthd:/sbin/nologin\\nlibstoragemgmt:x:992:990:daemon account for libstoragemgmt:/var/run/lsm:/sbin/nologin\\nrpc:x:32:32:Rpcbind Daemon:/var/lib/rpcbind:/sbin/nologin\\nrtkit:x:172:172:RealtimeKit:/proc:/sbin/nologin\\nchrony:x:991:988::/var/lib/chrony:/sbin/nologin\\nradvd:x:75:75:radvd user:/:/sbin/nologin\\nqemu:x:107:107:qemu user:/:/sbin/nologin\\nntp:x:38:38::/etc/ntp:/sbin/nologin\\nrpcuser:x:29:29:RPC Service User:/var/lib/nfs:/sbin/nologin\\nnfsnobody:x:65534:65534:Anonymous NFS User:/var/lib/nfs:/sbin/nologin\\navahi-autoipd:x:170:170:Avahi IPv4LL Stack:/var/lib/avahi-autoipd:/sbin/nologin\\nsetroubleshoot:x:990:987::/var/lib/setroubleshoot:/sbin/nologin\\nsssd:x:989:986:User for sssd:/:/sbin/nologin\\npulse:x:171:171:PulseAudio System Daemon:/var/run/pulse:/sbin/nologin\\ngdm:x:42:42::/var/lib/gdm:/sbin/nologin\\ngnome-initial-setup:x:988:983::/run/gnome-initial-setup/:/sbin/nologin\\nsshd:x:74:74:Privilege-separated SSH:/var/empty/sshd:/sbin/nologin\\navahi:x:70:70:Avahi mDNS/DNS-SD Stack:/var/run/avahi-daemon:/sbin/nologin\\npostfix:x:89:89::/var/spool/postfix:/sbin/nologin\\ntcpdump:x:72:72::/:/sbin/nologin\\nchen:x:1000:1000:chen:/home/chen:/bin/bash\\napache:x:48:48:Apache:/usr/share/httpd:/sbin/nologin\\n'"
      ]
     },
     "execution_count": 13,
     "metadata": {},
     "output_type": "execute_result"
    }
   ],
   "source": [
    "a.read()"
   ]
  },
  {
   "cell_type": "code",
   "execution_count": 14,
   "metadata": {
    "collapsed": false
   },
   "outputs": [
    {
     "data": {
      "text/plain": [
       "'UTF-8'"
      ]
     },
     "execution_count": 14,
     "metadata": {},
     "output_type": "execute_result"
    }
   ],
   "source": [
    "a.encoding"
   ]
  },
  {
   "cell_type": "code",
   "execution_count": null,
   "metadata": {
    "collapsed": true
   },
   "outputs": [],
   "source": []
  },
  {
   "cell_type": "code",
   "execution_count": 11,
   "metadata": {
    "collapsed": false
   },
   "outputs": [
    {
     "name": "stdout",
     "output_type": "stream",
     "text": [
      "root:x:0:0:root:/root:/bin/bash\n",
      "bin:x:1:1:bin:/bin:/sbin/nologin\n",
      "daemon:x:2:2:daemon:/sbin:/sbin/nologin\n",
      "adm:x:3:4:adm:/var/adm:/sbin/nologin\n",
      "lp:x:4:7:lp:/var/spool/lpd:/sbin/nologin\n",
      "sync:x:5:0:sync:/sbin:/bin/sync\n",
      "shutdown:x:6:0:shutdown:/sbin:/sbin/shutdown\n",
      "halt:x:7:0:halt:/sbin:/sbin/halt\n",
      "mail:x:8:12:mail:/var/spool/mail:/sbin/nologin\n",
      "operator:x:11:0:operator:/root:/sbin/nologin\n",
      "games:x:12:100:games:/usr/games:/sbin/nologin\n",
      "ftp:x:14:50:FTP User:/var/ftp:/sbin/nologin\n",
      "nobody:x:99:99:Nobody:/:/sbin/nologin\n",
      "systemd-bus-proxy:x:999:998:systemd Bus Proxy:/:/sbin/nologin\n",
      "systemd-network:x:998:997:systemd Network Management:/:/sbin/nologin\n",
      "dbus:x:81:81:System message bus:/:/sbin/nologin\n",
      "polkitd:x:997:996:User for polkitd:/:/sbin/nologin\n",
      "abrt:x:173:173::/etc/abrt:/sbin/nologin\n",
      "unbound:x:996:994:Unbound DNS resolver:/etc/unbound:/sbin/nologin\n",
      "tss:x:59:59:Account used by the trousers package to sandbox the tcsd daemon:/dev/null:/sbin/nologin\n",
      "colord:x:995:993:User for colord:/var/lib/colord:/sbin/nologin\n",
      "usbmuxd:x:113:113:usbmuxd user:/:/sbin/nologin\n",
      "geoclue:x:994:991:User for geoclue:/var/lib/geoclue:/sbin/nologin\n",
      "saslauth:x:993:76:Saslauthd user:/run/saslauthd:/sbin/nologin\n",
      "libstoragemgmt:x:992:990:daemon account for libstoragemgmt:/var/run/lsm:/sbin/nologin\n",
      "rpc:x:32:32:Rpcbind Daemon:/var/lib/rpcbind:/sbin/nologin\n",
      "rtkit:x:172:172:RealtimeKit:/proc:/sbin/nologin\n",
      "chrony:x:991:988::/var/lib/chrony:/sbin/nologin\n",
      "radvd:x:75:75:radvd user:/:/sbin/nologin\n",
      "qemu:x:107:107:qemu user:/:/sbin/nologin\n",
      "ntp:x:38:38::/etc/ntp:/sbin/nologin\n",
      "rpcuser:x:29:29:RPC Service User:/var/lib/nfs:/sbin/nologin\n",
      "nfsnobody:x:65534:65534:Anonymous NFS User:/var/lib/nfs:/sbin/nologin\n",
      "avahi-autoipd:x:170:170:Avahi IPv4LL Stack:/var/lib/avahi-autoipd:/sbin/nologin\n",
      "setroubleshoot:x:990:987::/var/lib/setroubleshoot:/sbin/nologin\n",
      "sssd:x:989:986:User for sssd:/:/sbin/nologin\n",
      "pulse:x:171:171:PulseAudio System Daemon:/var/run/pulse:/sbin/nologin\n",
      "gdm:x:42:42::/var/lib/gdm:/sbin/nologin\n",
      "gnome-initial-setup:x:988:983::/run/gnome-initial-setup/:/sbin/nologin\n",
      "sshd:x:74:74:Privilege-separated SSH:/var/empty/sshd:/sbin/nologin\n",
      "avahi:x:70:70:Avahi mDNS/DNS-SD Stack:/var/run/avahi-daemon:/sbin/nologin\n",
      "postfix:x:89:89::/var/spool/postfix:/sbin/nologin\n",
      "tcpdump:x:72:72::/:/sbin/nologin\n",
      "chen:x:1000:1000:chen:/home/chen:/bin/bash\n",
      "apache:x:48:48:Apache:/usr/share/httpd:/sbin/nologin\n",
      "\n"
     ]
    }
   ],
   "source": [
    "print (data)"
   ]
  },
  {
   "cell_type": "code",
   "execution_count": 15,
   "metadata": {
    "collapsed": false
   },
   "outputs": [
    {
     "data": {
      "text/plain": [
       "<_io.TextIOWrapper name='passwd' mode='r' encoding='UTF-8'>"
      ]
     },
     "execution_count": 15,
     "metadata": {},
     "output_type": "execute_result"
    }
   ],
   "source": [
    "a"
   ]
  },
  {
   "cell_type": "code",
   "execution_count": 16,
   "metadata": {
    "collapsed": false
   },
   "outputs": [
    {
     "data": {
      "text/plain": [
       "'root:x:0:0:root:/root:/bin/bash\\nbin:x:1:1:bin:/bin:/sbin/nologin\\ndaemon:x:2:2:daemon:/sbin:/sbin/nologin\\nadm:x:3:4:adm:/var/adm:/sbin/nologin\\nlp:x:4:7:lp:/var/spool/lpd:/sbin/nologin\\nsync:x:5:0:sync:/sbin:/bin/sync\\nshutdown:x:6:0:shutdown:/sbin:/sbin/shutdown\\nhalt:x:7:0:halt:/sbin:/sbin/halt\\nmail:x:8:12:mail:/var/spool/mail:/sbin/nologin\\noperator:x:11:0:operator:/root:/sbin/nologin\\ngames:x:12:100:games:/usr/games:/sbin/nologin\\nftp:x:14:50:FTP User:/var/ftp:/sbin/nologin\\nnobody:x:99:99:Nobody:/:/sbin/nologin\\nsystemd-bus-proxy:x:999:998:systemd Bus Proxy:/:/sbin/nologin\\nsystemd-network:x:998:997:systemd Network Management:/:/sbin/nologin\\ndbus:x:81:81:System message bus:/:/sbin/nologin\\npolkitd:x:997:996:User for polkitd:/:/sbin/nologin\\nabrt:x:173:173::/etc/abrt:/sbin/nologin\\nunbound:x:996:994:Unbound DNS resolver:/etc/unbound:/sbin/nologin\\ntss:x:59:59:Account used by the trousers package to sandbox the tcsd daemon:/dev/null:/sbin/nologin\\ncolord:x:995:993:User for colord:/var/lib/colord:/sbin/nologin\\nusbmuxd:x:113:113:usbmuxd user:/:/sbin/nologin\\ngeoclue:x:994:991:User for geoclue:/var/lib/geoclue:/sbin/nologin\\nsaslauth:x:993:76:Saslauthd user:/run/saslauthd:/sbin/nologin\\nlibstoragemgmt:x:992:990:daemon account for libstoragemgmt:/var/run/lsm:/sbin/nologin\\nrpc:x:32:32:Rpcbind Daemon:/var/lib/rpcbind:/sbin/nologin\\nrtkit:x:172:172:RealtimeKit:/proc:/sbin/nologin\\nchrony:x:991:988::/var/lib/chrony:/sbin/nologin\\nradvd:x:75:75:radvd user:/:/sbin/nologin\\nqemu:x:107:107:qemu user:/:/sbin/nologin\\nntp:x:38:38::/etc/ntp:/sbin/nologin\\nrpcuser:x:29:29:RPC Service User:/var/lib/nfs:/sbin/nologin\\nnfsnobody:x:65534:65534:Anonymous NFS User:/var/lib/nfs:/sbin/nologin\\navahi-autoipd:x:170:170:Avahi IPv4LL Stack:/var/lib/avahi-autoipd:/sbin/nologin\\nsetroubleshoot:x:990:987::/var/lib/setroubleshoot:/sbin/nologin\\nsssd:x:989:986:User for sssd:/:/sbin/nologin\\npulse:x:171:171:PulseAudio System Daemon:/var/run/pulse:/sbin/nologin\\ngdm:x:42:42::/var/lib/gdm:/sbin/nologin\\ngnome-initial-setup:x:988:983::/run/gnome-initial-setup/:/sbin/nologin\\nsshd:x:74:74:Privilege-separated SSH:/var/empty/sshd:/sbin/nologin\\navahi:x:70:70:Avahi mDNS/DNS-SD Stack:/var/run/avahi-daemon:/sbin/nologin\\npostfix:x:89:89::/var/spool/postfix:/sbin/nologin\\ntcpdump:x:72:72::/:/sbin/nologin\\nchen:x:1000:1000:chen:/home/chen:/bin/bash\\napache:x:48:48:Apache:/usr/share/httpd:/sbin/nologin\\n'"
      ]
     },
     "execution_count": 16,
     "metadata": {},
     "output_type": "execute_result"
    }
   ],
   "source": [
    "data"
   ]
  },
  {
   "cell_type": "code",
   "execution_count": 17,
   "metadata": {
    "collapsed": true
   },
   "outputs": [],
   "source": [
    "f = open('passwd','a')"
   ]
  },
  {
   "cell_type": "code",
   "execution_count": 18,
   "metadata": {
    "collapsed": false
   },
   "outputs": [
    {
     "data": {
      "text/plain": [
       "10"
      ]
     },
     "execution_count": 18,
     "metadata": {},
     "output_type": "execute_result"
    }
   ],
   "source": [
    "f.truncate(10)"
   ]
  },
  {
   "cell_type": "code",
   "execution_count": 20,
   "metadata": {
    "collapsed": false
   },
   "outputs": [
    {
     "name": "stdout",
     "output_type": "stream",
     "text": [
      "root:x:0:0"
     ]
    }
   ],
   "source": [
    "cat passwd"
   ]
  },
  {
   "cell_type": "code",
   "execution_count": null,
   "metadata": {
    "collapsed": true
   },
   "outputs": [],
   "source": []
  },
  {
   "cell_type": "code",
   "execution_count": 1,
   "metadata": {
    "collapsed": false
   },
   "outputs": [
    {
     "name": "stdout",
     "output_type": "stream",
     "text": [
      "root:x:0:0"
     ]
    }
   ],
   "source": [
    "cat passwd"
   ]
  },
  {
   "cell_type": "code",
   "execution_count": 3,
   "metadata": {
    "collapsed": false
   },
   "outputs": [
    {
     "data": {
      "text/plain": [
       "False"
      ]
     },
     "execution_count": 3,
     "metadata": {},
     "output_type": "execute_result"
    }
   ],
   "source": [
    "'1abc'.isidentifier()"
   ]
  },
  {
   "cell_type": "code",
   "execution_count": 5,
   "metadata": {
    "collapsed": false
   },
   "outputs": [
    {
     "data": {
      "text/plain": [
       "'ab$$cd'"
      ]
     },
     "execution_count": 5,
     "metadata": {},
     "output_type": "execute_result"
    }
   ],
   "source": [
    "'$$'.join(['ab','cd'])"
   ]
  },
  {
   "cell_type": "code",
   "execution_count": 6,
   "metadata": {
    "collapsed": true
   },
   "outputs": [],
   "source": [
    "a = ['1','2','3']"
   ]
  },
  {
   "cell_type": "code",
   "execution_count": 7,
   "metadata": {
    "collapsed": false
   },
   "outputs": [
    {
     "data": {
      "text/plain": [
       "'1$$2$$3'"
      ]
     },
     "execution_count": 7,
     "metadata": {},
     "output_type": "execute_result"
    }
   ],
   "source": [
    "'$$'.join(a)"
   ]
  },
  {
   "cell_type": "code",
   "execution_count": 10,
   "metadata": {
    "collapsed": false
   },
   "outputs": [],
   "source": [
    "a = a[0].replace('1','a')"
   ]
  },
  {
   "cell_type": "code",
   "execution_count": 11,
   "metadata": {
    "collapsed": false
   },
   "outputs": [
    {
     "data": {
      "text/plain": [
       "'a'"
      ]
     },
     "execution_count": 11,
     "metadata": {},
     "output_type": "execute_result"
    }
   ],
   "source": [
    "a"
   ]
  },
  {
   "cell_type": "code",
   "execution_count": 12,
   "metadata": {
    "collapsed": false
   },
   "outputs": [
    {
     "data": {
      "text/plain": [
       "'a'"
      ]
     },
     "execution_count": 12,
     "metadata": {},
     "output_type": "execute_result"
    }
   ],
   "source": [
    "a"
   ]
  },
  {
   "cell_type": "code",
   "execution_count": 13,
   "metadata": {
    "collapsed": true
   },
   "outputs": [],
   "source": [
    "net = 'www.sina.com.cn'"
   ]
  },
  {
   "cell_type": "code",
   "execution_count": 14,
   "metadata": {
    "collapsed": false
   },
   "outputs": [
    {
     "data": {
      "text/plain": [
       "'www.sina.log.cn'"
      ]
     },
     "execution_count": 14,
     "metadata": {},
     "output_type": "execute_result"
    }
   ],
   "source": [
    "net.replace('com','log')"
   ]
  },
  {
   "cell_type": "code",
   "execution_count": 15,
   "metadata": {
    "collapsed": false
   },
   "outputs": [
    {
     "data": {
      "text/plain": [
       "'www.sina.com.cn'"
      ]
     },
     "execution_count": 15,
     "metadata": {},
     "output_type": "execute_result"
    }
   ],
   "source": [
    "net"
   ]
  },
  {
   "cell_type": "code",
   "execution_count": 16,
   "metadata": {
    "collapsed": true
   },
   "outputs": [],
   "source": [
    "a = net.replace('com','log')"
   ]
  },
  {
   "cell_type": "code",
   "execution_count": 17,
   "metadata": {
    "collapsed": false
   },
   "outputs": [
    {
     "data": {
      "text/plain": [
       "'www.sina.log.cn'"
      ]
     },
     "execution_count": 17,
     "metadata": {},
     "output_type": "execute_result"
    }
   ],
   "source": [
    "a"
   ]
  },
  {
   "cell_type": "code",
   "execution_count": 18,
   "metadata": {
    "collapsed": false
   },
   "outputs": [
    {
     "data": {
      "text/plain": [
       "'www.sina.com.cn'"
      ]
     },
     "execution_count": 18,
     "metadata": {},
     "output_type": "execute_result"
    }
   ],
   "source": [
    "net"
   ]
  },
  {
   "cell_type": "code",
   "execution_count": 19,
   "metadata": {
    "collapsed": true
   },
   "outputs": [],
   "source": [
    "info = {'chen':35,'li':28,'han':9}"
   ]
  },
  {
   "cell_type": "code",
   "execution_count": 20,
   "metadata": {
    "collapsed": false
   },
   "outputs": [
    {
     "data": {
      "text/plain": [
       "{'chen': 35, 'han': 9, 'li': 28}"
      ]
     },
     "execution_count": 20,
     "metadata": {},
     "output_type": "execute_result"
    }
   ],
   "source": [
    "info"
   ]
  },
  {
   "cell_type": "code",
   "execution_count": 21,
   "metadata": {
    "collapsed": true
   },
   "outputs": [],
   "source": [
    "info['chenhong'] = 'wawa'"
   ]
  },
  {
   "cell_type": "code",
   "execution_count": 22,
   "metadata": {
    "collapsed": false
   },
   "outputs": [
    {
     "data": {
      "text/plain": [
       "{'chen': 35, 'chenhong': 'wawa', 'han': 9, 'li': 28}"
      ]
     },
     "execution_count": 22,
     "metadata": {},
     "output_type": "execute_result"
    }
   ],
   "source": [
    "info"
   ]
  },
  {
   "cell_type": "code",
   "execution_count": 23,
   "metadata": {
    "collapsed": false
   },
   "outputs": [
    {
     "name": "stdout",
     "output_type": "stream",
     "text": [
      "chen 35\n",
      "li 28\n",
      "chenhong wawa\n",
      "han 9\n"
     ]
    }
   ],
   "source": [
    "for k,v in info.items():\n",
    "    print (k,v)"
   ]
  },
  {
   "cell_type": "code",
   "execution_count": 24,
   "metadata": {
    "collapsed": true
   },
   "outputs": [],
   "source": [
    "info['chen'] = \"haha\""
   ]
  },
  {
   "cell_type": "code",
   "execution_count": 25,
   "metadata": {
    "collapsed": false
   },
   "outputs": [
    {
     "data": {
      "text/plain": [
       "{'chen': 'haha', 'chenhong': 'wawa', 'han': 9, 'li': 28}"
      ]
     },
     "execution_count": 25,
     "metadata": {},
     "output_type": "execute_result"
    }
   ],
   "source": [
    "info"
   ]
  },
  {
   "cell_type": "code",
   "execution_count": 27,
   "metadata": {
    "collapsed": false
   },
   "outputs": [
    {
     "data": {
      "text/plain": [
       "'haha'"
      ]
     },
     "execution_count": 27,
     "metadata": {},
     "output_type": "execute_result"
    }
   ],
   "source": [
    "info['chen']"
   ]
  },
  {
   "cell_type": "code",
   "execution_count": 28,
   "metadata": {
    "collapsed": false
   },
   "outputs": [
    {
     "ename": "KeyError",
     "evalue": "'xixi'",
     "output_type": "error",
     "traceback": [
      "\u001b[1;31m---------------------------------------------------------------------------\u001b[0m",
      "\u001b[1;31mKeyError\u001b[0m                                  Traceback (most recent call last)",
      "\u001b[1;32m<ipython-input-28-7d4c392cb5c5>\u001b[0m in \u001b[0;36m<module>\u001b[1;34m()\u001b[0m\n\u001b[1;32m----> 1\u001b[1;33m \u001b[0minfo\u001b[0m\u001b[1;33m[\u001b[0m\u001b[1;34m'xixi'\u001b[0m\u001b[1;33m]\u001b[0m\u001b[1;33m\u001b[0m\u001b[0m\n\u001b[0m",
      "\u001b[1;31mKeyError\u001b[0m: 'xixi'"
     ]
    }
   ],
   "source": [
    "info['xixi']"
   ]
  },
  {
   "cell_type": "code",
   "execution_count": 30,
   "metadata": {
    "collapsed": false
   },
   "outputs": [],
   "source": [
    "info.get('xixi')"
   ]
  },
  {
   "cell_type": "code",
   "execution_count": 31,
   "metadata": {
    "collapsed": false
   },
   "outputs": [
    {
     "data": {
      "text/plain": [
       "{'chen': 'haha', 'chenhong': 'wawa', 'han': 9, 'li': 28}"
      ]
     },
     "execution_count": 31,
     "metadata": {},
     "output_type": "execute_result"
    }
   ],
   "source": [
    "info"
   ]
  },
  {
   "cell_type": "code",
   "execution_count": 33,
   "metadata": {
    "collapsed": false
   },
   "outputs": [
    {
     "data": {
      "text/plain": [
       "'玩具'"
      ]
     },
     "execution_count": 33,
     "metadata": {},
     "output_type": "execute_result"
    }
   ],
   "source": [
    "info.setdefault('xiaoxiong','玩具')"
   ]
  },
  {
   "cell_type": "code",
   "execution_count": 34,
   "metadata": {
    "collapsed": false
   },
   "outputs": [
    {
     "data": {
      "text/plain": [
       "{'chen': 'haha', 'chenhong': 'wawa', 'han': 9, 'li': 28, 'xiaoxiong': '玩具'}"
      ]
     },
     "execution_count": 34,
     "metadata": {},
     "output_type": "execute_result"
    }
   ],
   "source": [
    "info"
   ]
  },
  {
   "cell_type": "code",
   "execution_count": 35,
   "metadata": {
    "collapsed": false
   },
   "outputs": [
    {
     "data": {
      "text/plain": [
       "'玩具'"
      ]
     },
     "execution_count": 35,
     "metadata": {},
     "output_type": "execute_result"
    }
   ],
   "source": [
    "info.setdefault('xiaoxiong','小玩具')"
   ]
  },
  {
   "cell_type": "code",
   "execution_count": 48,
   "metadata": {
    "collapsed": false
   },
   "outputs": [
    {
     "data": {
      "text/plain": [
       "{'chen': 'haha', 'chenhong': 'wawa', 'han': 9, 'li': 28, 'xiaoxiong': '玩具'}"
      ]
     },
     "execution_count": 48,
     "metadata": {},
     "output_type": "execute_result"
    }
   ],
   "source": [
    "info"
   ]
  },
  {
   "cell_type": "code",
   "execution_count": 49,
   "metadata": {
    "collapsed": true
   },
   "outputs": [],
   "source": [
    "info1 = {'chen':30}"
   ]
  },
  {
   "cell_type": "code",
   "execution_count": 50,
   "metadata": {
    "collapsed": false
   },
   "outputs": [],
   "source": [
    "info.update(info1)"
   ]
  },
  {
   "cell_type": "code",
   "execution_count": 51,
   "metadata": {
    "collapsed": false
   },
   "outputs": [
    {
     "data": {
      "text/plain": [
       "{'chen': 30, 'chenhong': 'wawa', 'han': 9, 'li': 28, 'xiaoxiong': '玩具'}"
      ]
     },
     "execution_count": 51,
     "metadata": {},
     "output_type": "execute_result"
    }
   ],
   "source": [
    "info"
   ]
  },
  {
   "cell_type": "code",
   "execution_count": null,
   "metadata": {
    "collapsed": true
   },
   "outputs": [],
   "source": []
  },
  {
   "cell_type": "code",
   "execution_count": 47,
   "metadata": {
    "collapsed": false
   },
   "outputs": [
    {
     "name": "stdout",
     "output_type": "stream",
     "text": [
      "Help on built-in function update:\n",
      "\n",
      "update(...) method of builtins.dict instance\n",
      "    D.update([E, ]**F) -> None.  Update D from dict/iterable E and F.\n",
      "    If E is present and has a .keys() method, then does:  for k in E: D[k] = E[k]\n",
      "    If E is present and lacks a .keys() method, then does:  for k, v in E: D[k] = v\n",
      "    In either case, this is followed by: for k in F:  D[k] = F[k]\n",
      "\n"
     ]
    }
   ],
   "source": [
    "help(info.update)"
   ]
  },
  {
   "cell_type": "code",
   "execution_count": null,
   "metadata": {
    "collapsed": true
   },
   "outputs": [],
   "source": []
  },
  {
   "cell_type": "code",
   "execution_count": 52,
   "metadata": {
    "collapsed": false
   },
   "outputs": [
    {
     "data": {
      "text/plain": [
       "{'chen': 30, 'chenhong': 'wawa', 'han': 9, 'li': 28, 'xiaoxiong': '玩具'}"
      ]
     },
     "execution_count": 52,
     "metadata": {},
     "output_type": "execute_result"
    }
   ],
   "source": [
    "info"
   ]
  },
  {
   "cell_type": "code",
   "execution_count": 53,
   "metadata": {
    "collapsed": false
   },
   "outputs": [
    {
     "data": {
      "text/plain": [
       "dict_items([('chen', 30), ('han', 9), ('li', 28), ('xiaoxiong', '玩具'), ('chenhong', 'wawa')])"
      ]
     },
     "execution_count": 53,
     "metadata": {},
     "output_type": "execute_result"
    }
   ],
   "source": [
    "info.items()"
   ]
  },
  {
   "cell_type": "code",
   "execution_count": 55,
   "metadata": {
    "collapsed": false
   },
   "outputs": [
    {
     "name": "stdout",
     "output_type": "stream",
     "text": [
      "chen 30\n",
      "han 9\n",
      "li 28\n",
      "xiaoxiong 玩具\n",
      "chenhong wawa\n"
     ]
    }
   ],
   "source": [
    "for k,v in info.items():\n",
    "    print(k,v)"
   ]
  },
  {
   "cell_type": "code",
   "execution_count": 56,
   "metadata": {
    "collapsed": false
   },
   "outputs": [
    {
     "name": "stdout",
     "output_type": "stream",
     "text": [
      "chen\n",
      "han\n",
      "li\n",
      "xiaoxiong\n",
      "chenhong\n"
     ]
    }
   ],
   "source": [
    "for i in info:\n",
    "    print(i)"
   ]
  },
  {
   "cell_type": "code",
   "execution_count": 57,
   "metadata": {
    "collapsed": false
   },
   "outputs": [
    {
     "name": "stdout",
     "output_type": "stream",
     "text": [
      "chen\n",
      "han\n",
      "li\n",
      "xiaoxiong\n",
      "chenhong\n"
     ]
    }
   ],
   "source": [
    "for i in info.keys():\n",
    "    print(i)"
   ]
  },
  {
   "cell_type": "code",
   "execution_count": 58,
   "metadata": {
    "collapsed": false
   },
   "outputs": [
    {
     "data": {
      "text/plain": [
       "dict_keys(['chen', 'han', 'li', 'xiaoxiong', 'chenhong'])"
      ]
     },
     "execution_count": 58,
     "metadata": {},
     "output_type": "execute_result"
    }
   ],
   "source": [
    "info.keys()"
   ]
  },
  {
   "cell_type": "code",
   "execution_count": 60,
   "metadata": {
    "collapsed": false
   },
   "outputs": [
    {
     "data": {
      "text/plain": [
       "30"
      ]
     },
     "execution_count": 60,
     "metadata": {},
     "output_type": "execute_result"
    }
   ],
   "source": [
    "info['chen']"
   ]
  },
  {
   "cell_type": "code",
   "execution_count": 61,
   "metadata": {
    "collapsed": true
   },
   "outputs": [],
   "source": [
    "a = 'chen'"
   ]
  },
  {
   "cell_type": "code",
   "execution_count": 62,
   "metadata": {
    "collapsed": false
   },
   "outputs": [
    {
     "data": {
      "text/plain": [
       "'h'"
      ]
     },
     "execution_count": 62,
     "metadata": {},
     "output_type": "execute_result"
    }
   ],
   "source": [
    "a[1]"
   ]
  },
  {
   "cell_type": "code",
   "execution_count": 63,
   "metadata": {
    "collapsed": false
   },
   "outputs": [
    {
     "ename": "TypeError",
     "evalue": "'str' object does not support item assignment",
     "output_type": "error",
     "traceback": [
      "\u001b[1;31m---------------------------------------------------------------------------\u001b[0m",
      "\u001b[1;31mTypeError\u001b[0m                                 Traceback (most recent call last)",
      "\u001b[1;32m<ipython-input-63-811dc9bffc18>\u001b[0m in \u001b[0;36m<module>\u001b[1;34m()\u001b[0m\n\u001b[1;32m----> 1\u001b[1;33m \u001b[0ma\u001b[0m\u001b[1;33m[\u001b[0m\u001b[1;36m1\u001b[0m\u001b[1;33m]\u001b[0m\u001b[1;33m=\u001b[0m \u001b[1;34m'H'\u001b[0m\u001b[1;33m\u001b[0m\u001b[0m\n\u001b[0m",
      "\u001b[1;31mTypeError\u001b[0m: 'str' object does not support item assignment"
     ]
    }
   ],
   "source": [
    "a[1]= 'H'"
   ]
  },
  {
   "cell_type": "code",
   "execution_count": 64,
   "metadata": {
    "collapsed": true
   },
   "outputs": [],
   "source": [
    "list1 = [1,2,2,3,4,4,5,6,6,7,8,9]"
   ]
  },
  {
   "cell_type": "code",
   "execution_count": 65,
   "metadata": {
    "collapsed": false
   },
   "outputs": [
    {
     "data": {
      "text/plain": [
       "{1, 2, 3, 4, 5, 6, 7, 8, 9}"
      ]
     },
     "execution_count": 65,
     "metadata": {},
     "output_type": "execute_result"
    }
   ],
   "source": [
    "set(list1)"
   ]
  },
  {
   "cell_type": "code",
   "execution_count": 67,
   "metadata": {
    "collapsed": false
   },
   "outputs": [
    {
     "data": {
      "text/plain": [
       "list"
      ]
     },
     "execution_count": 67,
     "metadata": {},
     "output_type": "execute_result"
    }
   ],
   "source": [
    "type(list1)"
   ]
  },
  {
   "cell_type": "code",
   "execution_count": 68,
   "metadata": {
    "collapsed": true
   },
   "outputs": [],
   "source": [
    "set1 = set(list1)"
   ]
  },
  {
   "cell_type": "code",
   "execution_count": 69,
   "metadata": {
    "collapsed": false
   },
   "outputs": [
    {
     "data": {
      "text/plain": [
       "set"
      ]
     },
     "execution_count": 69,
     "metadata": {},
     "output_type": "execute_result"
    }
   ],
   "source": [
    "type(set1)"
   ]
  },
  {
   "cell_type": "code",
   "execution_count": 70,
   "metadata": {
    "collapsed": true
   },
   "outputs": [],
   "source": [
    "set2 = set([2,3,4,5,'a','b','c'])"
   ]
  },
  {
   "cell_type": "code",
   "execution_count": 71,
   "metadata": {
    "collapsed": false
   },
   "outputs": [
    {
     "data": {
      "text/plain": [
       "set"
      ]
     },
     "execution_count": 71,
     "metadata": {},
     "output_type": "execute_result"
    }
   ],
   "source": [
    "type(set2)"
   ]
  },
  {
   "cell_type": "code",
   "execution_count": 72,
   "metadata": {
    "collapsed": false
   },
   "outputs": [
    {
     "data": {
      "text/plain": [
       "{2, 3, 4, 5}"
      ]
     },
     "execution_count": 72,
     "metadata": {},
     "output_type": "execute_result"
    }
   ],
   "source": [
    "set1.intersection(set2)"
   ]
  },
  {
   "cell_type": "code",
   "execution_count": 73,
   "metadata": {
    "collapsed": false
   },
   "outputs": [
    {
     "data": {
      "text/plain": [
       "{1, 2, 3, 4, 5, 6, 7, 8, 9, 'c', 'a', 'b'}"
      ]
     },
     "execution_count": 73,
     "metadata": {},
     "output_type": "execute_result"
    }
   ],
   "source": [
    "set1.union(set2)"
   ]
  },
  {
   "cell_type": "code",
   "execution_count": 74,
   "metadata": {
    "collapsed": false
   },
   "outputs": [
    {
     "data": {
      "text/plain": [
       "{1, 6, 7, 8, 9}"
      ]
     },
     "execution_count": 74,
     "metadata": {},
     "output_type": "execute_result"
    }
   ],
   "source": [
    "set1.difference(set2)"
   ]
  },
  {
   "cell_type": "code",
   "execution_count": 75,
   "metadata": {
    "collapsed": false
   },
   "outputs": [
    {
     "data": {
      "text/plain": [
       "{'a', 'b', 'c'}"
      ]
     },
     "execution_count": 75,
     "metadata": {},
     "output_type": "execute_result"
    }
   ],
   "source": [
    "set2.difference(set1)"
   ]
  },
  {
   "cell_type": "code",
   "execution_count": 76,
   "metadata": {
    "collapsed": false
   },
   "outputs": [
    {
     "data": {
      "text/plain": [
       "False"
      ]
     },
     "execution_count": 76,
     "metadata": {},
     "output_type": "execute_result"
    }
   ],
   "source": [
    "set1.issubset(set2)"
   ]
  },
  {
   "cell_type": "code",
   "execution_count": 77,
   "metadata": {
    "collapsed": false
   },
   "outputs": [
    {
     "data": {
      "text/plain": [
       "{2, 3, 4, 5}"
      ]
     },
     "execution_count": 77,
     "metadata": {},
     "output_type": "execute_result"
    }
   ],
   "source": [
    "set1 & set2"
   ]
  },
  {
   "cell_type": "code",
   "execution_count": 78,
   "metadata": {
    "collapsed": false
   },
   "outputs": [
    {
     "data": {
      "text/plain": [
       "{1, 2, 3, 4, 5, 6, 7, 8, 9, 'a', 'b', 'c'}"
      ]
     },
     "execution_count": 78,
     "metadata": {},
     "output_type": "execute_result"
    }
   ],
   "source": [
    "set2 | set1"
   ]
  },
  {
   "cell_type": "code",
   "execution_count": 79,
   "metadata": {
    "collapsed": false
   },
   "outputs": [
    {
     "data": {
      "text/plain": [
       "{1, 2, 3, 4, 5, 6, 7, 8, 9}"
      ]
     },
     "execution_count": 79,
     "metadata": {},
     "output_type": "execute_result"
    }
   ],
   "source": [
    "set1"
   ]
  },
  {
   "cell_type": "code",
   "execution_count": 80,
   "metadata": {
    "collapsed": true
   },
   "outputs": [],
   "source": [
    "set1.remove(3)"
   ]
  },
  {
   "cell_type": "code",
   "execution_count": 81,
   "metadata": {
    "collapsed": false
   },
   "outputs": [
    {
     "data": {
      "text/plain": [
       "{1, 2, 4, 5, 6, 7, 8, 9}"
      ]
     },
     "execution_count": 81,
     "metadata": {},
     "output_type": "execute_result"
    }
   ],
   "source": [
    "set1"
   ]
  },
  {
   "cell_type": "code",
   "execution_count": 82,
   "metadata": {
    "collapsed": true
   },
   "outputs": [],
   "source": [
    "set1.discard('dddddd')"
   ]
  },
  {
   "cell_type": "code",
   "execution_count": 83,
   "metadata": {
    "collapsed": false
   },
   "outputs": [
    {
     "data": {
      "text/plain": [
       "{1, 2, 4, 5, 6, 7, 8, 9}"
      ]
     },
     "execution_count": 83,
     "metadata": {},
     "output_type": "execute_result"
    }
   ],
   "source": [
    "set1"
   ]
  },
  {
   "cell_type": "code",
   "execution_count": 84,
   "metadata": {
    "collapsed": false
   },
   "outputs": [
    {
     "data": {
      "text/plain": [
       "False"
      ]
     },
     "execution_count": 84,
     "metadata": {},
     "output_type": "execute_result"
    }
   ],
   "source": [
    "3 in set1"
   ]
  },
  {
   "cell_type": "code",
   "execution_count": 85,
   "metadata": {
    "collapsed": false
   },
   "outputs": [
    {
     "data": {
      "text/plain": [
       "False"
      ]
     },
     "execution_count": 85,
     "metadata": {},
     "output_type": "execute_result"
    }
   ],
   "source": [
    "1 in set2"
   ]
  },
  {
   "cell_type": "code",
   "execution_count": 86,
   "metadata": {
    "collapsed": false
   },
   "outputs": [
    {
     "data": {
      "text/plain": [
       "True"
      ]
     },
     "execution_count": 86,
     "metadata": {},
     "output_type": "execute_result"
    }
   ],
   "source": [
    "1 in set1"
   ]
  },
  {
   "cell_type": "code",
   "execution_count": 87,
   "metadata": {
    "collapsed": false
   },
   "outputs": [
    {
     "name": "stdout",
     "output_type": "stream",
     "text": [
      "111       hello               test1.exe        utf8.txt  \u001b[0m\u001b[01;32mxin.py\u001b[0m*\r\n",
      "gbk.txt   IO与文件操作.ipynb  Untitled1.ipynb  x2.txt    xxx.txt\r\n",
      "haha.txt  passwd              Untitled.ipynb   x3.txt\r\n"
     ]
    }
   ],
   "source": [
    "ls"
   ]
  },
  {
   "cell_type": "code",
   "execution_count": 88,
   "metadata": {
    "collapsed": true
   },
   "outputs": [],
   "source": [
    "f = open('test1.exe','r')"
   ]
  },
  {
   "cell_type": "code",
   "execution_count": 89,
   "metadata": {
    "collapsed": false
   },
   "outputs": [
    {
     "data": {
      "text/plain": [
       "'UTF-8'"
      ]
     },
     "execution_count": 89,
     "metadata": {},
     "output_type": "execute_result"
    }
   ],
   "source": [
    "f.encoding"
   ]
  },
  {
   "cell_type": "code",
   "execution_count": 90,
   "metadata": {
    "collapsed": false
   },
   "outputs": [
    {
     "name": "stdout",
     "output_type": "stream",
     "text": [
      "陈陈陈陈1234\n",
      "\n",
      "李李李李1234\n",
      "\n",
      "哈哈哈哈1234\n",
      "\n",
      "123\n",
      "\n"
     ]
    }
   ],
   "source": [
    "with open('test1.exe','r',encoding='utf-8') as n:\n",
    "    for line in n:\n",
    "        print (line)"
   ]
  },
  {
   "cell_type": "code",
   "execution_count": 91,
   "metadata": {
    "collapsed": false
   },
   "outputs": [
    {
     "data": {
      "text/plain": [
       "True"
      ]
     },
     "execution_count": 91,
     "metadata": {},
     "output_type": "execute_result"
    }
   ],
   "source": [
    "n.closed"
   ]
  },
  {
   "cell_type": "code",
   "execution_count": 92,
   "metadata": {
    "collapsed": false
   },
   "outputs": [
    {
     "data": {
      "text/plain": [
       "False"
      ]
     },
     "execution_count": 92,
     "metadata": {},
     "output_type": "execute_result"
    }
   ],
   "source": [
    "f.closed"
   ]
  },
  {
   "cell_type": "code",
   "execution_count": 93,
   "metadata": {
    "collapsed": true
   },
   "outputs": [],
   "source": [
    "f.close()"
   ]
  },
  {
   "cell_type": "code",
   "execution_count": 95,
   "metadata": {
    "collapsed": false
   },
   "outputs": [
    {
     "data": {
      "text/plain": [
       "True"
      ]
     },
     "execution_count": 95,
     "metadata": {},
     "output_type": "execute_result"
    }
   ],
   "source": [
    "f.closed"
   ]
  },
  {
   "cell_type": "code",
   "execution_count": 96,
   "metadata": {
    "collapsed": true
   },
   "outputs": [],
   "source": [
    "import sys"
   ]
  },
  {
   "cell_type": "code",
   "execution_count": 97,
   "metadata": {
    "collapsed": false
   },
   "outputs": [
    {
     "data": {
      "text/plain": [
       "'utf-8'"
      ]
     },
     "execution_count": 97,
     "metadata": {},
     "output_type": "execute_result"
    }
   ],
   "source": [
    "sys.getdefaultencoding(\n",
    ")"
   ]
  },
  {
   "cell_type": "code",
   "execution_count": 98,
   "metadata": {
    "collapsed": true
   },
   "outputs": [],
   "source": [
    "s = 'abc'"
   ]
  },
  {
   "cell_type": "code",
   "execution_count": 99,
   "metadata": {
    "collapsed": false
   },
   "outputs": [
    {
     "data": {
      "text/plain": [
       "str"
      ]
     },
     "execution_count": 99,
     "metadata": {},
     "output_type": "execute_result"
    }
   ],
   "source": [
    "type(s)"
   ]
  },
  {
   "cell_type": "code",
   "execution_count": 100,
   "metadata": {
    "collapsed": true
   },
   "outputs": [],
   "source": [
    "y = \"陈\""
   ]
  },
  {
   "cell_type": "code",
   "execution_count": 101,
   "metadata": {
    "collapsed": false
   },
   "outputs": [
    {
     "data": {
      "text/plain": [
       "str"
      ]
     },
     "execution_count": 101,
     "metadata": {},
     "output_type": "execute_result"
    }
   ],
   "source": [
    "type(y)"
   ]
  },
  {
   "cell_type": "code",
   "execution_count": 103,
   "metadata": {
    "collapsed": false
   },
   "outputs": [
    {
     "data": {
      "text/plain": [
       "'utf-8'"
      ]
     },
     "execution_count": 103,
     "metadata": {},
     "output_type": "execute_result"
    }
   ],
   "source": [
    "sys.getdefaultencoding()"
   ]
  },
  {
   "cell_type": "code",
   "execution_count": 104,
   "metadata": {
    "collapsed": true
   },
   "outputs": [],
   "source": [
    "t = y.encode('gbk')"
   ]
  },
  {
   "cell_type": "code",
   "execution_count": 105,
   "metadata": {
    "collapsed": false
   },
   "outputs": [
    {
     "data": {
      "text/plain": [
       "b'\\xb3\\xc2'"
      ]
     },
     "execution_count": 105,
     "metadata": {},
     "output_type": "execute_result"
    }
   ],
   "source": [
    "t"
   ]
  },
  {
   "cell_type": "code",
   "execution_count": 106,
   "metadata": {
    "collapsed": true
   },
   "outputs": [],
   "source": [
    "e = y.encode('utf-8')"
   ]
  },
  {
   "cell_type": "code",
   "execution_count": 107,
   "metadata": {
    "collapsed": false
   },
   "outputs": [
    {
     "data": {
      "text/plain": [
       "b'\\xe9\\x99\\x88'"
      ]
     },
     "execution_count": 107,
     "metadata": {},
     "output_type": "execute_result"
    }
   ],
   "source": [
    "e"
   ]
  },
  {
   "cell_type": "code",
   "execution_count": 108,
   "metadata": {
    "collapsed": false
   },
   "outputs": [
    {
     "data": {
      "text/plain": [
       "'陈'"
      ]
     },
     "execution_count": 108,
     "metadata": {},
     "output_type": "execute_result"
    }
   ],
   "source": [
    "e.decode('utf-8')"
   ]
  },
  {
   "cell_type": "code",
   "execution_count": 110,
   "metadata": {
    "collapsed": false
   },
   "outputs": [
    {
     "data": {
      "text/plain": [
       "'陈'"
      ]
     },
     "execution_count": 110,
     "metadata": {},
     "output_type": "execute_result"
    }
   ],
   "source": [
    "t.decode('gbk')"
   ]
  },
  {
   "cell_type": "code",
   "execution_count": 111,
   "metadata": {
    "collapsed": false
   },
   "outputs": [
    {
     "data": {
      "text/plain": [
       "bytes"
      ]
     },
     "execution_count": 111,
     "metadata": {},
     "output_type": "execute_result"
    }
   ],
   "source": [
    "type(t)"
   ]
  },
  {
   "cell_type": "code",
   "execution_count": 112,
   "metadata": {
    "collapsed": false
   },
   "outputs": [
    {
     "data": {
      "text/plain": [
       "bytes"
      ]
     },
     "execution_count": 112,
     "metadata": {},
     "output_type": "execute_result"
    }
   ],
   "source": [
    "type(e)"
   ]
  },
  {
   "cell_type": "code",
   "execution_count": 113,
   "metadata": {
    "collapsed": false
   },
   "outputs": [
    {
     "name": "stdout",
     "output_type": "stream",
     "text": [
      "<class 'bytes'>\n"
     ]
    }
   ],
   "source": [
    "print(type(e))"
   ]
  },
  {
   "cell_type": "code",
   "execution_count": 114,
   "metadata": {
    "collapsed": false
   },
   "outputs": [
    {
     "name": "stdout",
     "output_type": "stream",
     "text": [
      "The Zen of Python, by Tim Peters\n",
      "\n",
      "Beautiful is better than ugly.\n",
      "Explicit is better than implicit.\n",
      "Simple is better than complex.\n",
      "Complex is better than complicated.\n",
      "Flat is better than nested.\n",
      "Sparse is better than dense.\n",
      "Readability counts.\n",
      "Special cases aren't special enough to break the rules.\n",
      "Although practicality beats purity.\n",
      "Errors should never pass silently.\n",
      "Unless explicitly silenced.\n",
      "In the face of ambiguity, refuse the temptation to guess.\n",
      "There should be one-- and preferably only one --obvious way to do it.\n",
      "Although that way may not be obvious at first unless you're Dutch.\n",
      "Now is better than never.\n",
      "Although never is often better than *right* now.\n",
      "If the implementation is hard to explain, it's a bad idea.\n",
      "If the implementation is easy to explain, it may be a good idea.\n",
      "Namespaces are one honking great idea -- let's do more of those!\n"
     ]
    }
   ],
   "source": [
    "import this"
   ]
  },
  {
   "cell_type": "code",
   "execution_count": 115,
   "metadata": {
    "collapsed": true
   },
   "outputs": [],
   "source": [
    "def a():\n",
    "    print('test')\n",
    "    return 'tt'"
   ]
  },
  {
   "cell_type": "code",
   "execution_count": 116,
   "metadata": {
    "collapsed": false
   },
   "outputs": [
    {
     "name": "stdout",
     "output_type": "stream",
     "text": [
      "test\n"
     ]
    },
    {
     "data": {
      "text/plain": [
       "'tt'"
      ]
     },
     "execution_count": 116,
     "metadata": {},
     "output_type": "execute_result"
    }
   ],
   "source": [
    "a()"
   ]
  },
  {
   "cell_type": "code",
   "execution_count": 117,
   "metadata": {
    "collapsed": false
   },
   "outputs": [
    {
     "name": "stdout",
     "output_type": "stream",
     "text": [
      "test\n"
     ]
    }
   ],
   "source": [
    "b = a()"
   ]
  },
  {
   "cell_type": "code",
   "execution_count": 118,
   "metadata": {
    "collapsed": false
   },
   "outputs": [
    {
     "data": {
      "text/plain": [
       "'tt'"
      ]
     },
     "execution_count": 118,
     "metadata": {},
     "output_type": "execute_result"
    }
   ],
   "source": [
    "b"
   ]
  },
  {
   "cell_type": "code",
   "execution_count": null,
   "metadata": {
    "collapsed": true
   },
   "outputs": [],
   "source": []
  },
  {
   "cell_type": "code",
   "execution_count": 1,
   "metadata": {
    "collapsed": true
   },
   "outputs": [],
   "source": [
    "def a(**kwargs):\n",
    "    print(kwargs)"
   ]
  },
  {
   "cell_type": "code",
   "execution_count": 2,
   "metadata": {
    "collapsed": false
   },
   "outputs": [
    {
     "name": "stdout",
     "output_type": "stream",
     "text": [
      "{'name': 'chen', 'age': 35}\n"
     ]
    }
   ],
   "source": [
    "a(name='chen',age=35)"
   ]
  },
  {
   "cell_type": "code",
   "execution_count": 6,
   "metadata": {
    "collapsed": false
   },
   "outputs": [
    {
     "name": "stdout",
     "output_type": "stream",
     "text": [
      "{'name': 'li', 'age': 35}\n"
     ]
    }
   ],
   "source": [
    "a(**{'name':'li','age':35})"
   ]
  },
  {
   "cell_type": "code",
   "execution_count": 7,
   "metadata": {
    "collapsed": true
   },
   "outputs": [],
   "source": [
    "def b(*args):\n",
    "    print(args)"
   ]
  },
  {
   "cell_type": "code",
   "execution_count": 8,
   "metadata": {
    "collapsed": false
   },
   "outputs": [
    {
     "name": "stdout",
     "output_type": "stream",
     "text": [
      "(1, 2, 3)\n"
     ]
    }
   ],
   "source": [
    "b(*(1,2,3))"
   ]
  },
  {
   "cell_type": "code",
   "execution_count": 9,
   "metadata": {
    "collapsed": false
   },
   "outputs": [
    {
     "name": "stdout",
     "output_type": "stream",
     "text": [
      "('d', 'e', 'f')\n"
     ]
    }
   ],
   "source": [
    "b(*('d','e','f'))"
   ]
  },
  {
   "cell_type": "code",
   "execution_count": 10,
   "metadata": {
    "collapsed": false
   },
   "outputs": [
    {
     "name": "stdout",
     "output_type": "stream",
     "text": [
      "(1, 2, 3)\n"
     ]
    }
   ],
   "source": [
    "b(1,2,3)"
   ]
  },
  {
   "cell_type": "code",
   "execution_count": 11,
   "metadata": {
    "collapsed": false
   },
   "outputs": [
    {
     "data": {
      "text/plain": [
       "1267650600228229401496703205376"
      ]
     },
     "execution_count": 11,
     "metadata": {},
     "output_type": "execute_result"
    }
   ],
   "source": [
    "2**100"
   ]
  },
  {
   "cell_type": "code",
   "execution_count": 12,
   "metadata": {
    "collapsed": true
   },
   "outputs": [],
   "source": [
    "import os"
   ]
  },
  {
   "cell_type": "code",
   "execution_count": 13,
   "metadata": {
    "collapsed": false
   },
   "outputs": [
    {
     "data": {
      "text/plain": [
       "'/root/py3.5.2/python3.5.2/notes/6'"
      ]
     },
     "execution_count": 13,
     "metadata": {},
     "output_type": "execute_result"
    }
   ],
   "source": [
    "os.getcwd()"
   ]
  },
  {
   "cell_type": "code",
   "execution_count": 14,
   "metadata": {
    "collapsed": true
   },
   "outputs": [],
   "source": [
    "import sys"
   ]
  },
  {
   "cell_type": "code",
   "execution_count": 15,
   "metadata": {
    "collapsed": false
   },
   "outputs": [
    {
     "data": {
      "text/plain": [
       "'linux'"
      ]
     },
     "execution_count": 15,
     "metadata": {},
     "output_type": "execute_result"
    }
   ],
   "source": [
    "sys.platform"
   ]
  },
  {
   "cell_type": "code",
   "execution_count": null,
   "metadata": {
    "collapsed": true
   },
   "outputs": [],
   "source": []
  },
  {
   "cell_type": "code",
   "execution_count": 2,
   "metadata": {
    "collapsed": false
   },
   "outputs": [
    {
     "data": {
      "text/plain": [
       "'utf-8'"
      ]
     },
     "execution_count": 2,
     "metadata": {},
     "output_type": "execute_result"
    }
   ],
   "source": [
    "import sys\n",
    "sys.getdefaultencoding()"
   ]
  },
  {
   "cell_type": "code",
   "execution_count": 3,
   "metadata": {
    "collapsed": true
   },
   "outputs": [],
   "source": [
    "a = \"陈陈\""
   ]
  },
  {
   "cell_type": "code",
   "execution_count": 4,
   "metadata": {
    "collapsed": false
   },
   "outputs": [
    {
     "data": {
      "text/plain": [
       "str"
      ]
     },
     "execution_count": 4,
     "metadata": {},
     "output_type": "execute_result"
    }
   ],
   "source": [
    "type(a)"
   ]
  },
  {
   "cell_type": "code",
   "execution_count": 7,
   "metadata": {
    "collapsed": false
   },
   "outputs": [
    {
     "data": {
      "text/plain": [
       "b'\\xe9\\x99\\x88\\xe9\\x99\\x88'"
      ]
     },
     "execution_count": 7,
     "metadata": {},
     "output_type": "execute_result"
    }
   ],
   "source": [
    "a.encode('utf-8')"
   ]
  },
  {
   "cell_type": "code",
   "execution_count": 8,
   "metadata": {
    "collapsed": false
   },
   "outputs": [
    {
     "data": {
      "text/plain": [
       "'陈陈'"
      ]
     },
     "execution_count": 8,
     "metadata": {},
     "output_type": "execute_result"
    }
   ],
   "source": [
    "a.encode('utf-8').decode('utf-8')"
   ]
  },
  {
   "cell_type": "code",
   "execution_count": null,
   "metadata": {
    "collapsed": true
   },
   "outputs": [],
   "source": []
  },
  {
   "cell_type": "code",
   "execution_count": null,
   "metadata": {
    "collapsed": true
   },
   "outputs": [],
   "source": []
  },
  {
   "cell_type": "code",
   "execution_count": 1,
   "metadata": {
    "collapsed": false
   },
   "outputs": [
    {
     "name": "stdout",
     "output_type": "stream",
     "text": [
      "111      haha.txt            one.py     two.py           utf8.txt  \u001b[0m\u001b[01;32mxin.py\u001b[0m*\r\n",
      "\u001b[01;34mab\u001b[0m/      hello               passwd     Untitled1.ipynb  x2.txt    xxx.txt\r\n",
      "gbk.txt  IO与文件操作.ipynb  test1.exe  Untitled.ipynb   x3.txt\r\n"
     ]
    }
   ],
   "source": [
    "ls"
   ]
  },
  {
   "cell_type": "code",
   "execution_count": 2,
   "metadata": {
    "collapsed": true
   },
   "outputs": [],
   "source": [
    "import os "
   ]
  },
  {
   "cell_type": "code",
   "execution_count": 3,
   "metadata": {
    "collapsed": true
   },
   "outputs": [],
   "source": [
    "os.mkdir('dk')"
   ]
  },
  {
   "cell_type": "code",
   "execution_count": 4,
   "metadata": {
    "collapsed": false
   },
   "outputs": [
    {
     "name": "stdout",
     "output_type": "stream",
     "text": [
      "111  gbk.txt   IO与文件操作.ipynb  test1.exe        Untitled.ipynb  x3.txt\r\n",
      "\u001b[0m\u001b[01;34mab\u001b[0m/  haha.txt  one.py              two.py           utf8.txt        \u001b[01;32mxin.py\u001b[0m*\r\n",
      "\u001b[01;34mdk\u001b[0m/  hello     passwd              Untitled1.ipynb  x2.txt          xxx.txt\r\n"
     ]
    }
   ],
   "source": [
    "ls"
   ]
  },
  {
   "cell_type": "code",
   "execution_count": 5,
   "metadata": {
    "collapsed": true
   },
   "outputs": [],
   "source": [
    "os.rmdir('dk')"
   ]
  },
  {
   "cell_type": "code",
   "execution_count": 6,
   "metadata": {
    "collapsed": false
   },
   "outputs": [
    {
     "name": "stdout",
     "output_type": "stream",
     "text": [
      "111      haha.txt            one.py     two.py           utf8.txt  \u001b[0m\u001b[01;32mxin.py\u001b[0m*\r\n",
      "\u001b[01;34mab\u001b[0m/      hello               passwd     Untitled1.ipynb  x2.txt    xxx.txt\r\n",
      "gbk.txt  IO与文件操作.ipynb  test1.exe  Untitled.ipynb   x3.txt\r\n"
     ]
    }
   ],
   "source": [
    "ls"
   ]
  },
  {
   "cell_type": "code",
   "execution_count": 7,
   "metadata": {
    "collapsed": false
   },
   "outputs": [
    {
     "name": "stdout",
     "output_type": "stream",
     "text": [
      "\u001b[0m\u001b[01;34mcd\u001b[0m/\r\n"
     ]
    }
   ],
   "source": [
    "ls ab/"
   ]
  },
  {
   "cell_type": "code",
   "execution_count": 8,
   "metadata": {
    "collapsed": false
   },
   "outputs": [
    {
     "name": "stdout",
     "output_type": "stream",
     "text": [
      "Help on built-in function rmdir in module posix:\n",
      "\n",
      "rmdir(path, *, dir_fd=None)\n",
      "    Remove a directory.\n",
      "    \n",
      "    If dir_fd is not None, it should be a file descriptor open to a directory,\n",
      "      and path should be relative; path will then be relative to that directory.\n",
      "    dir_fd may not be implemented on your platform.\n",
      "      If it is unavailable, using it will raise a NotImplementedError.\n",
      "\n"
     ]
    }
   ],
   "source": [
    "help(os.rmdir)"
   ]
  },
  {
   "cell_type": "code",
   "execution_count": 9,
   "metadata": {
    "collapsed": false
   },
   "outputs": [
    {
     "ename": "OSError",
     "evalue": "[Errno 39] Directory not empty: 'ab'",
     "output_type": "error",
     "traceback": [
      "\u001b[1;31m---------------------------------------------------------------------------\u001b[0m",
      "\u001b[1;31mOSError\u001b[0m                                   Traceback (most recent call last)",
      "\u001b[1;32m<ipython-input-9-2f454633468d>\u001b[0m in \u001b[0;36m<module>\u001b[1;34m()\u001b[0m\n\u001b[1;32m----> 1\u001b[1;33m \u001b[0mos\u001b[0m\u001b[1;33m.\u001b[0m\u001b[0mrmdir\u001b[0m\u001b[1;33m(\u001b[0m\u001b[1;34m'ab'\u001b[0m\u001b[1;33m)\u001b[0m\u001b[1;33m\u001b[0m\u001b[0m\n\u001b[0m",
      "\u001b[1;31mOSError\u001b[0m: [Errno 39] Directory not empty: 'ab'"
     ]
    }
   ],
   "source": [
    "os.rmdir('ab')"
   ]
  },
  {
   "cell_type": "code",
   "execution_count": 10,
   "metadata": {
    "collapsed": true
   },
   "outputs": [],
   "source": [
    "os.rename('ab','aa')"
   ]
  },
  {
   "cell_type": "code",
   "execution_count": 11,
   "metadata": {
    "collapsed": false
   },
   "outputs": [
    {
     "name": "stdout",
     "output_type": "stream",
     "text": [
      "111      haha.txt            one.py     two.py           utf8.txt  \u001b[0m\u001b[01;32mxin.py\u001b[0m*\r\n",
      "\u001b[01;34maa\u001b[0m/      hello               passwd     Untitled1.ipynb  x2.txt    xxx.txt\r\n",
      "gbk.txt  IO与文件操作.ipynb  test1.exe  Untitled.ipynb   x3.txt\r\n"
     ]
    }
   ],
   "source": [
    "ls"
   ]
  },
  {
   "cell_type": "code",
   "execution_count": 12,
   "metadata": {
    "collapsed": false
   },
   "outputs": [
    {
     "name": "stdout",
     "output_type": "stream",
     "text": [
      "aa/cd/ef/1\r\n"
     ]
    }
   ],
   "source": [
    "ls aa/cd/ef/1"
   ]
  },
  {
   "cell_type": "code",
   "execution_count": 13,
   "metadata": {
    "collapsed": true
   },
   "outputs": [],
   "source": [
    "import shutil"
   ]
  },
  {
   "cell_type": "code",
   "execution_count": 14,
   "metadata": {
    "collapsed": true
   },
   "outputs": [],
   "source": [
    "shutil.rmtree('aa')"
   ]
  },
  {
   "cell_type": "code",
   "execution_count": 15,
   "metadata": {
    "collapsed": false
   },
   "outputs": [
    {
     "name": "stdout",
     "output_type": "stream",
     "text": [
      "111       hello               passwd     Untitled1.ipynb  x2.txt   xxx.txt\r\n",
      "gbk.txt   IO与文件操作.ipynb  test1.exe  Untitled.ipynb   x3.txt\r\n",
      "haha.txt  one.py              two.py     utf8.txt         \u001b[0m\u001b[01;32mxin.py\u001b[0m*\r\n"
     ]
    }
   ],
   "source": [
    "ls"
   ]
  },
  {
   "cell_type": "code",
   "execution_count": 17,
   "metadata": {
    "collapsed": false
   },
   "outputs": [
    {
     "name": "stdout",
     "output_type": "stream",
     "text": [
      "111       hello               passwd     two.py           utf8.txt  \u001b[0m\u001b[01;32mxin.py\u001b[0m*\r\n",
      "gbk.txt   IO与文件操作.ipynb  test1.exe  Untitled1.ipynb  x2.txt    xxx.txt\r\n",
      "haha.txt  one.py              \u001b[01;34mtt\u001b[0m/        Untitled.ipynb   x3.txt\r\n"
     ]
    }
   ],
   "source": [
    "ls"
   ]
  },
  {
   "cell_type": "code",
   "execution_count": null,
   "metadata": {
    "collapsed": true
   },
   "outputs": [],
   "source": []
  },
  {
   "cell_type": "code",
   "execution_count": 18,
   "metadata": {
    "collapsed": false
   },
   "outputs": [
    {
     "data": {
      "text/plain": [
       "'mm'"
      ]
     },
     "execution_count": 18,
     "metadata": {},
     "output_type": "execute_result"
    }
   ],
   "source": [
    "shutil.copytree('tt','mm')"
   ]
  },
  {
   "cell_type": "code",
   "execution_count": 19,
   "metadata": {
    "collapsed": false
   },
   "outputs": [
    {
     "name": "stdout",
     "output_type": "stream",
     "text": [
      "111       IO与文件操作.ipynb  test1.exe        Untitled.ipynb  \u001b[0m\u001b[01;32mxin.py\u001b[0m*\r\n",
      "gbk.txt   \u001b[01;34mmm\u001b[0m/                 \u001b[01;34mtt\u001b[0m/              utf8.txt        xxx.txt\r\n",
      "haha.txt  one.py              two.py           x2.txt\r\n",
      "hello     passwd              Untitled1.ipynb  x3.txt\r\n"
     ]
    }
   ],
   "source": [
    "ls"
   ]
  },
  {
   "cell_type": "code",
   "execution_count": 20,
   "metadata": {
    "collapsed": false
   },
   "outputs": [
    {
     "name": "stdout",
     "output_type": "stream",
     "text": [
      "1.py\r\n"
     ]
    }
   ],
   "source": [
    "ls mm/"
   ]
  },
  {
   "cell_type": "code",
   "execution_count": 21,
   "metadata": {
    "collapsed": false
   },
   "outputs": [
    {
     "name": "stdout",
     "output_type": "stream",
     "text": [
      "xxxxiii\r\n"
     ]
    }
   ],
   "source": [
    "cat mm/1.py"
   ]
  },
  {
   "cell_type": "code",
   "execution_count": 22,
   "metadata": {
    "collapsed": false
   },
   "outputs": [
    {
     "data": {
      "text/plain": [
       "['.ipynb_checkpoints',\n",
       " 'IO与文件操作.ipynb',\n",
       " 'xxx.txt',\n",
       " 'x2.txt',\n",
       " 'x3.txt',\n",
       " 'Untitled.ipynb',\n",
       " 'gbk.txt',\n",
       " 'test1.exe',\n",
       " 'utf8.txt',\n",
       " 'xin.py',\n",
       " 'hello',\n",
       " '111',\n",
       " 'haha.txt',\n",
       " 'Untitled1.ipynb',\n",
       " 'passwd',\n",
       " 'one.py',\n",
       " 'two.py',\n",
       " 'tt',\n",
       " 'mm']"
      ]
     },
     "execution_count": 22,
     "metadata": {},
     "output_type": "execute_result"
    }
   ],
   "source": [
    "os.listdir()"
   ]
  },
  {
   "cell_type": "code",
   "execution_count": 4,
   "metadata": {
    "collapsed": true
   },
   "outputs": [],
   "source": [
    "import sys\n",
    "import os"
   ]
  },
  {
   "cell_type": "code",
   "execution_count": null,
   "metadata": {
    "collapsed": true
   },
   "outputs": [],
   "source": []
  },
  {
   "cell_type": "code",
   "execution_count": 2,
   "metadata": {
    "collapsed": false
   },
   "outputs": [
    {
     "data": {
      "text/plain": [
       "['/root/.pyenv/versions/3.5.2/envs/python/lib/python3.5/site-packages/ipykernel/__main__.py',\n",
       " '-f',\n",
       " '/run/user/0/jupyter/kernel-fb5be639-879d-48d0-9020-6b96cc65d8bb.json']"
      ]
     },
     "execution_count": 2,
     "metadata": {},
     "output_type": "execute_result"
    }
   ],
   "source": [
    "sys.argv"
   ]
  },
  {
   "cell_type": "code",
   "execution_count": 5,
   "metadata": {
    "collapsed": false
   },
   "outputs": [
    {
     "data": {
      "text/plain": [
       "'/root/.pyenv/versions/3.5.2/envs/python/lib/python3.5/site-packages/ipykernel'"
      ]
     },
     "execution_count": 5,
     "metadata": {},
     "output_type": "execute_result"
    }
   ],
   "source": [
    "os.path.dirname(sys.argv[0])"
   ]
  },
  {
   "cell_type": "code",
   "execution_count": 6,
   "metadata": {
    "collapsed": false
   },
   "outputs": [
    {
     "name": "stdout",
     "output_type": "stream",
     "text": [
      "/root/.pyenv/versions/3.5.2/envs/python/lib/python3.5/site-packages/ipykernel\n"
     ]
    }
   ],
   "source": [
    "print(os.path.abspath(os.path.dirname(sys.argv[0]))  )"
   ]
  },
  {
   "cell_type": "code",
   "execution_count": 7,
   "metadata": {
    "collapsed": true
   },
   "outputs": [],
   "source": [
    "import json"
   ]
  },
  {
   "cell_type": "code",
   "execution_count": 10,
   "metadata": {
    "collapsed": false
   },
   "outputs": [
    {
     "data": {
      "text/plain": [
       "True"
      ]
     },
     "execution_count": 10,
     "metadata": {},
     "output_type": "execute_result"
    }
   ],
   "source": [
    "json.dumps((1,2,3)) ==  json.dumps([1,2,3])"
   ]
  },
  {
   "cell_type": "code",
   "execution_count": null,
   "metadata": {
    "collapsed": true
   },
   "outputs": [],
   "source": []
  },
  {
   "cell_type": "code",
   "execution_count": 9,
   "metadata": {
    "collapsed": false
   },
   "outputs": [
    {
     "data": {
      "text/plain": [
       "'[1, 2, 3]'"
      ]
     },
     "execution_count": 9,
     "metadata": {},
     "output_type": "execute_result"
    }
   ],
   "source": [
    "json.dumps([1,2,3])"
   ]
  },
  {
   "cell_type": "code",
   "execution_count": 11,
   "metadata": {
    "collapsed": true
   },
   "outputs": [],
   "source": [
    "import pathlib"
   ]
  },
  {
   "cell_type": "code",
   "execution_count": 12,
   "metadata": {
    "collapsed": true
   },
   "outputs": [],
   "source": [
    "def get_home(user):\n",
    "    return pathlib.Path('/home',user)"
   ]
  },
  {
   "cell_type": "code",
   "execution_count": 13,
   "metadata": {
    "collapsed": false
   },
   "outputs": [
    {
     "data": {
      "text/plain": [
       "PosixPath('/home/chen')"
      ]
     },
     "execution_count": 13,
     "metadata": {},
     "output_type": "execute_result"
    }
   ],
   "source": [
    "get_home('chen')"
   ]
  },
  {
   "cell_type": "code",
   "execution_count": null,
   "metadata": {
    "collapsed": true
   },
   "outputs": [],
   "source": []
  },
  {
   "cell_type": "code",
   "execution_count": 1,
   "metadata": {
    "collapsed": false
   },
   "outputs": [
    {
     "name": "stdout",
     "output_type": "stream",
     "text": [
      "111       IO与文件操作.ipynb  test1.exe        Untitled.ipynb  \u001b[0m\u001b[01;32mxin.py\u001b[0m*\r\n",
      "gbk.txt   \u001b[01;34mmm\u001b[0m/                 \u001b[01;34mtt\u001b[0m/              utf8.txt        xxx.txt\r\n",
      "haha.txt  one.py              two.py           x2.txt\r\n",
      "hello     passwd              Untitled1.ipynb  x3.txt\r\n"
     ]
    }
   ],
   "source": [
    "ls "
   ]
  },
  {
   "cell_type": "code",
   "execution_count": 4,
   "metadata": {
    "collapsed": false
   },
   "outputs": [
    {
     "name": "stdout",
     "output_type": "stream",
     "text": [
      "111       IO与文件操作.ipynb  test1.exe        Untitled.ipynb  \u001b[0m\u001b[01;32mxin.py\u001b[0m*\r\n",
      "gbk.txt   \u001b[01;34mmm\u001b[0m/                 \u001b[01;34mtt\u001b[0m/              utf8.txt        xxx.txt\r\n",
      "haha.txt  one.py              two.py           x2.txt\r\n",
      "hello     passwd              Untitled1.ipynb  x3.txt\r\n"
     ]
    }
   ],
   "source": [
    "ls"
   ]
  },
  {
   "cell_type": "code",
   "execution_count": 5,
   "metadata": {
    "collapsed": false
   },
   "outputs": [
    {
     "name": "stdout",
     "output_type": "stream",
     "text": [
      "helloxixi \r\n",
      " haha"
     ]
    }
   ],
   "source": [
    "cat 111"
   ]
  },
  {
   "cell_type": "code",
   "execution_count": 6,
   "metadata": {
    "collapsed": false
   },
   "outputs": [
    {
     "name": "stdout",
     "output_type": "stream",
     "text": [
      "helloxixi \r\n",
      " haha"
     ]
    }
   ],
   "source": [
    "cat 111"
   ]
  },
  {
   "cell_type": "code",
   "execution_count": 7,
   "metadata": {
    "collapsed": false
   },
   "outputs": [
    {
     "name": "stdout",
     "output_type": "stream",
     "text": [
      "????????2.ipynb              lili.py                            ttttttt\r\n",
      "anaconda-ks.cfg              mxdx2.ipynb                        :wq\r\n",
      "\u001b[0m\u001b[01;34mbackup-script\u001b[0m/               \u001b[01;34mpy3.5.2\u001b[0m/                           \u001b[01;32mxin.py\u001b[0m*\r\n",
      "\u001b[01;34mchen\u001b[0m/                        \u001b[01;34mpycharm-community-2016.2.2\u001b[0m/        \u001b[01;31mzip.zip\u001b[0m\r\n",
      "\u001b[01;34mdocker\u001b[0m/                      \u001b[01;31mpycharm-community-2016.2.2.tar.gz\u001b[0m  \u001b[01;34m公共\u001b[0m/\r\n",
      "\u001b[01;31mepel-release-7-6.noarch.rpm\u001b[0m  \u001b[01;34mPycharmProjects\u001b[0m/                   \u001b[01;34m模板\u001b[0m/\r\n",
      "\u001b[01;32meth.sh\u001b[0m*                      \u001b[01;34mpython\u001b[0m/                            \u001b[01;34m视频\u001b[0m/\r\n",
      "\u001b[01;34mgit\u001b[0m/                         \u001b[01;34mroot\u001b[0m/                              \u001b[01;34m图片\u001b[0m/\r\n",
      "haha                         staff.txt                          \u001b[01;34m文档\u001b[0m/\r\n",
      "hahaxixi                     tar.py                             \u001b[01;34m下载\u001b[0m/\r\n",
      "\u001b[01;34mhello\u001b[0m/                       \u001b[01;34mtest\u001b[0m/                              \u001b[01;34m音乐\u001b[0m/\r\n",
      "initial-setup-ks.cfg         \u001b[01;32mtest3.py\u001b[0m*                          \u001b[01;34m桌面\u001b[0m/\r\n",
      "\u001b[01;34mli\u001b[0m/                          \u001b[01;32mtest.py\u001b[0m*\r\n"
     ]
    }
   ],
   "source": [
    "ls /root/"
   ]
  },
  {
   "cell_type": "code",
   "execution_count": 8,
   "metadata": {
    "collapsed": true
   },
   "outputs": [],
   "source": [
    "f =  open('./111','r')"
   ]
  },
  {
   "cell_type": "code",
   "execution_count": 9,
   "metadata": {
    "collapsed": false
   },
   "outputs": [
    {
     "data": {
      "text/plain": [
       "'helloxixi \\n haha'"
      ]
     },
     "execution_count": 9,
     "metadata": {},
     "output_type": "execute_result"
    }
   ],
   "source": [
    "f.read()"
   ]
  },
  {
   "cell_type": "code",
   "execution_count": 10,
   "metadata": {
    "collapsed": false
   },
   "outputs": [
    {
     "data": {
      "text/plain": [
       "''"
      ]
     },
     "execution_count": 10,
     "metadata": {},
     "output_type": "execute_result"
    }
   ],
   "source": [
    "f.read(3)"
   ]
  },
  {
   "cell_type": "code",
   "execution_count": 11,
   "metadata": {
    "collapsed": false
   },
   "outputs": [
    {
     "data": {
      "text/plain": [
       "0"
      ]
     },
     "execution_count": 11,
     "metadata": {},
     "output_type": "execute_result"
    }
   ],
   "source": [
    "f.seek(0)"
   ]
  },
  {
   "cell_type": "code",
   "execution_count": 12,
   "metadata": {
    "collapsed": false
   },
   "outputs": [
    {
     "data": {
      "text/plain": [
       "'h'"
      ]
     },
     "execution_count": 12,
     "metadata": {},
     "output_type": "execute_result"
    }
   ],
   "source": [
    "f.read(1)"
   ]
  },
  {
   "cell_type": "code",
   "execution_count": 13,
   "metadata": {
    "collapsed": false
   },
   "outputs": [
    {
     "ename": "UnsupportedOperation",
     "evalue": "can't do nonzero end-relative seeks",
     "output_type": "error",
     "traceback": [
      "\u001b[1;31m---------------------------------------------------------------------------\u001b[0m",
      "\u001b[1;31mUnsupportedOperation\u001b[0m                      Traceback (most recent call last)",
      "\u001b[1;32m<ipython-input-13-7491020552ea>\u001b[0m in \u001b[0;36m<module>\u001b[1;34m()\u001b[0m\n\u001b[1;32m----> 1\u001b[1;33m \u001b[0mf\u001b[0m\u001b[1;33m.\u001b[0m\u001b[0mseek\u001b[0m\u001b[1;33m(\u001b[0m\u001b[1;36m2\u001b[0m\u001b[1;33m,\u001b[0m\u001b[1;36m2\u001b[0m\u001b[1;33m)\u001b[0m\u001b[1;33m\u001b[0m\u001b[0m\n\u001b[0m",
      "\u001b[1;31mUnsupportedOperation\u001b[0m: can't do nonzero end-relative seeks"
     ]
    }
   ],
   "source": [
    "f.seek(2,2)"
   ]
  },
  {
   "cell_type": "code",
   "execution_count": 14,
   "metadata": {
    "collapsed": true
   },
   "outputs": [],
   "source": [
    "f.close()"
   ]
  },
  {
   "cell_type": "code",
   "execution_count": 15,
   "metadata": {
    "collapsed": true
   },
   "outputs": [],
   "source": [
    "f = open('./111','rb')"
   ]
  },
  {
   "cell_type": "code",
   "execution_count": 16,
   "metadata": {
    "collapsed": false
   },
   "outputs": [
    {
     "data": {
      "text/plain": [
       "b'helloxixi \\n haha'"
      ]
     },
     "execution_count": 16,
     "metadata": {},
     "output_type": "execute_result"
    }
   ],
   "source": [
    "f.read()"
   ]
  },
  {
   "cell_type": "code",
   "execution_count": 17,
   "metadata": {
    "collapsed": false
   },
   "outputs": [
    {
     "data": {
      "text/plain": [
       "0"
      ]
     },
     "execution_count": 17,
     "metadata": {},
     "output_type": "execute_result"
    }
   ],
   "source": [
    "f.seek(0)"
   ]
  },
  {
   "cell_type": "code",
   "execution_count": 18,
   "metadata": {
    "collapsed": false
   },
   "outputs": [
    {
     "data": {
      "text/plain": [
       "0"
      ]
     },
     "execution_count": 18,
     "metadata": {},
     "output_type": "execute_result"
    }
   ],
   "source": [
    "f.tell()"
   ]
  },
  {
   "cell_type": "code",
   "execution_count": 19,
   "metadata": {
    "collapsed": false
   },
   "outputs": [
    {
     "data": {
      "text/plain": [
       "18"
      ]
     },
     "execution_count": 19,
     "metadata": {},
     "output_type": "execute_result"
    }
   ],
   "source": [
    "f.seek(2,2)"
   ]
  },
  {
   "cell_type": "code",
   "execution_count": 20,
   "metadata": {
    "collapsed": false
   },
   "outputs": [
    {
     "data": {
      "text/plain": [
       "b''"
      ]
     },
     "execution_count": 20,
     "metadata": {},
     "output_type": "execute_result"
    }
   ],
   "source": [
    "f.read()"
   ]
  },
  {
   "cell_type": "code",
   "execution_count": 21,
   "metadata": {
    "collapsed": false
   },
   "outputs": [
    {
     "data": {
      "text/plain": [
       "18"
      ]
     },
     "execution_count": 21,
     "metadata": {},
     "output_type": "execute_result"
    }
   ],
   "source": [
    "f.tell()"
   ]
  },
  {
   "cell_type": "code",
   "execution_count": 22,
   "metadata": {
    "collapsed": false
   },
   "outputs": [
    {
     "data": {
      "text/plain": [
       "11"
      ]
     },
     "execution_count": 22,
     "metadata": {},
     "output_type": "execute_result"
    }
   ],
   "source": [
    "f.seek(-5,2)"
   ]
  },
  {
   "cell_type": "code",
   "execution_count": 23,
   "metadata": {
    "collapsed": false
   },
   "outputs": [
    {
     "data": {
      "text/plain": [
       "b' haha'"
      ]
     },
     "execution_count": 23,
     "metadata": {},
     "output_type": "execute_result"
    }
   ],
   "source": [
    "f.read()"
   ]
  },
  {
   "cell_type": "code",
   "execution_count": 27,
   "metadata": {
    "collapsed": false
   },
   "outputs": [
    {
     "data": {
      "text/plain": [
       "'helloxixi \\n haha'"
      ]
     },
     "execution_count": 27,
     "metadata": {},
     "output_type": "execute_result"
    }
   ],
   "source": [
    "f.read().decode()"
   ]
  },
  {
   "cell_type": "code",
   "execution_count": null,
   "metadata": {
    "collapsed": true
   },
   "outputs": [],
   "source": []
  },
  {
   "cell_type": "code",
   "execution_count": 25,
   "metadata": {
    "collapsed": false
   },
   "outputs": [
    {
     "data": {
      "text/plain": [
       "b''"
      ]
     },
     "execution_count": 25,
     "metadata": {},
     "output_type": "execute_result"
    }
   ],
   "source": [
    "f.read()"
   ]
  },
  {
   "cell_type": "code",
   "execution_count": 28,
   "metadata": {
    "collapsed": false
   },
   "outputs": [
    {
     "data": {
      "text/plain": [
       "0"
      ]
     },
     "execution_count": 28,
     "metadata": {},
     "output_type": "execute_result"
    }
   ],
   "source": [
    "f.seek(0)"
   ]
  },
  {
   "cell_type": "code",
   "execution_count": 29,
   "metadata": {
    "collapsed": false
   },
   "outputs": [
    {
     "data": {
      "text/plain": [
       "b'helloxixi \\n haha'"
      ]
     },
     "execution_count": 29,
     "metadata": {},
     "output_type": "execute_result"
    }
   ],
   "source": [
    "f.read()"
   ]
  },
  {
   "cell_type": "code",
   "execution_count": 30,
   "metadata": {
    "collapsed": false
   },
   "outputs": [
    {
     "data": {
      "text/plain": [
       "0"
      ]
     },
     "execution_count": 30,
     "metadata": {},
     "output_type": "execute_result"
    }
   ],
   "source": [
    "f.seek(0)"
   ]
  },
  {
   "cell_type": "code",
   "execution_count": 31,
   "metadata": {
    "collapsed": false
   },
   "outputs": [
    {
     "data": {
      "text/plain": [
       "3"
      ]
     },
     "execution_count": 31,
     "metadata": {},
     "output_type": "execute_result"
    }
   ],
   "source": [
    "f.seek(3)"
   ]
  },
  {
   "cell_type": "code",
   "execution_count": 32,
   "metadata": {
    "collapsed": false
   },
   "outputs": [
    {
     "data": {
      "text/plain": [
       "3"
      ]
     },
     "execution_count": 32,
     "metadata": {},
     "output_type": "execute_result"
    }
   ],
   "source": [
    "f.tell()"
   ]
  },
  {
   "cell_type": "code",
   "execution_count": 33,
   "metadata": {
    "collapsed": false
   },
   "outputs": [
    {
     "data": {
      "text/plain": [
       "1"
      ]
     },
     "execution_count": 33,
     "metadata": {},
     "output_type": "execute_result"
    }
   ],
   "source": [
    "f.seek(-2,1)"
   ]
  },
  {
   "cell_type": "code",
   "execution_count": 34,
   "metadata": {
    "collapsed": false
   },
   "outputs": [
    {
     "data": {
      "text/plain": [
       "1"
      ]
     },
     "execution_count": 34,
     "metadata": {},
     "output_type": "execute_result"
    }
   ],
   "source": [
    "f.tell()"
   ]
  },
  {
   "cell_type": "code",
   "execution_count": 35,
   "metadata": {
    "collapsed": false
   },
   "outputs": [
    {
     "data": {
      "text/plain": [
       "b'el'"
      ]
     },
     "execution_count": 35,
     "metadata": {},
     "output_type": "execute_result"
    }
   ],
   "source": [
    "f.read(2)"
   ]
  },
  {
   "cell_type": "code",
   "execution_count": 36,
   "metadata": {
    "collapsed": false
   },
   "outputs": [
    {
     "ename": "ValueError",
     "evalue": "read length must be positive or -1",
     "output_type": "error",
     "traceback": [
      "\u001b[1;31m---------------------------------------------------------------------------\u001b[0m",
      "\u001b[1;31mValueError\u001b[0m                                Traceback (most recent call last)",
      "\u001b[1;32m<ipython-input-36-07aa68d89412>\u001b[0m in \u001b[0;36m<module>\u001b[1;34m()\u001b[0m\n\u001b[1;32m----> 1\u001b[1;33m \u001b[0mf\u001b[0m\u001b[1;33m.\u001b[0m\u001b[0mread\u001b[0m\u001b[1;33m(\u001b[0m\u001b[1;33m-\u001b[0m\u001b[1;36m2\u001b[0m\u001b[1;33m)\u001b[0m\u001b[1;33m\u001b[0m\u001b[0m\n\u001b[0m",
      "\u001b[1;31mValueError\u001b[0m: read length must be positive or -1"
     ]
    }
   ],
   "source": [
    "f.read(-2)"
   ]
  },
  {
   "cell_type": "code",
   "execution_count": 37,
   "metadata": {
    "collapsed": false
   },
   "outputs": [
    {
     "data": {
      "text/plain": [
       "<_io.BufferedReader name='./111'>"
      ]
     },
     "execution_count": 37,
     "metadata": {},
     "output_type": "execute_result"
    }
   ],
   "source": [
    "f"
   ]
  },
  {
   "cell_type": "code",
   "execution_count": 38,
   "metadata": {
    "collapsed": false
   },
   "outputs": [
    {
     "data": {
      "text/plain": [
       "False"
      ]
     },
     "execution_count": 38,
     "metadata": {},
     "output_type": "execute_result"
    }
   ],
   "source": [
    "f.writable()"
   ]
  },
  {
   "cell_type": "code",
   "execution_count": 39,
   "metadata": {
    "collapsed": false
   },
   "outputs": [
    {
     "data": {
      "text/plain": [
       "True"
      ]
     },
     "execution_count": 39,
     "metadata": {},
     "output_type": "execute_result"
    }
   ],
   "source": [
    "f.readable()"
   ]
  },
  {
   "cell_type": "code",
   "execution_count": 40,
   "metadata": {
    "collapsed": true
   },
   "outputs": [],
   "source": [
    "f.close()"
   ]
  },
  {
   "cell_type": "code",
   "execution_count": 41,
   "metadata": {
    "collapsed": true
   },
   "outputs": [],
   "source": [
    "f = open('./111','a')"
   ]
  },
  {
   "cell_type": "code",
   "execution_count": 42,
   "metadata": {
    "collapsed": false
   },
   "outputs": [
    {
     "data": {
      "text/plain": [
       "16"
      ]
     },
     "execution_count": 42,
     "metadata": {},
     "output_type": "execute_result"
    }
   ],
   "source": [
    "f.tell()"
   ]
  },
  {
   "cell_type": "code",
   "execution_count": 43,
   "metadata": {
    "collapsed": false
   },
   "outputs": [
    {
     "data": {
      "text/plain": [
       "0"
      ]
     },
     "execution_count": 43,
     "metadata": {},
     "output_type": "execute_result"
    }
   ],
   "source": [
    "f.seek(0)"
   ]
  },
  {
   "cell_type": "code",
   "execution_count": 44,
   "metadata": {
    "collapsed": false
   },
   "outputs": [
    {
     "data": {
      "text/plain": [
       "0"
      ]
     },
     "execution_count": 44,
     "metadata": {},
     "output_type": "execute_result"
    }
   ],
   "source": [
    "f.tell()"
   ]
  },
  {
   "cell_type": "code",
   "execution_count": 45,
   "metadata": {
    "collapsed": false
   },
   "outputs": [
    {
     "data": {
      "text/plain": [
       "True"
      ]
     },
     "execution_count": 45,
     "metadata": {},
     "output_type": "execute_result"
    }
   ],
   "source": [
    "f.writable()"
   ]
  },
  {
   "cell_type": "code",
   "execution_count": 46,
   "metadata": {
    "collapsed": false
   },
   "outputs": [
    {
     "data": {
      "text/plain": [
       "False"
      ]
     },
     "execution_count": 46,
     "metadata": {},
     "output_type": "execute_result"
    }
   ],
   "source": [
    "f.readable()"
   ]
  },
  {
   "cell_type": "code",
   "execution_count": 47,
   "metadata": {
    "collapsed": false
   },
   "outputs": [
    {
     "data": {
      "text/plain": [
       "4"
      ]
     },
     "execution_count": 47,
     "metadata": {},
     "output_type": "execute_result"
    }
   ],
   "source": [
    "f.write('1111')"
   ]
  },
  {
   "cell_type": "code",
   "execution_count": 48,
   "metadata": {
    "collapsed": false
   },
   "outputs": [
    {
     "data": {
      "text/plain": [
       "20"
      ]
     },
     "execution_count": 48,
     "metadata": {},
     "output_type": "execute_result"
    }
   ],
   "source": [
    "f.tell()"
   ]
  },
  {
   "cell_type": "code",
   "execution_count": 49,
   "metadata": {
    "collapsed": true
   },
   "outputs": [],
   "source": [
    "f.flush()"
   ]
  },
  {
   "cell_type": "code",
   "execution_count": 50,
   "metadata": {
    "collapsed": false
   },
   "outputs": [
    {
     "name": "stdout",
     "output_type": "stream",
     "text": [
      "helloxixi \r\n",
      " haha1111"
     ]
    }
   ],
   "source": [
    "cat 111"
   ]
  },
  {
   "cell_type": "code",
   "execution_count": 51,
   "metadata": {
    "collapsed": true
   },
   "outputs": [],
   "source": [
    "f.close()"
   ]
  },
  {
   "cell_type": "code",
   "execution_count": 52,
   "metadata": {
    "collapsed": true
   },
   "outputs": [],
   "source": [
    "f =  open('./111','r+')"
   ]
  },
  {
   "cell_type": "code",
   "execution_count": 53,
   "metadata": {
    "collapsed": false
   },
   "outputs": [
    {
     "data": {
      "text/plain": [
       "True"
      ]
     },
     "execution_count": 53,
     "metadata": {},
     "output_type": "execute_result"
    }
   ],
   "source": [
    "f.writable()"
   ]
  },
  {
   "cell_type": "code",
   "execution_count": 54,
   "metadata": {
    "collapsed": false
   },
   "outputs": [
    {
     "data": {
      "text/plain": [
       "'helloxixi \\n haha1111'"
      ]
     },
     "execution_count": 54,
     "metadata": {},
     "output_type": "execute_result"
    }
   ],
   "source": [
    "f.read()"
   ]
  },
  {
   "cell_type": "code",
   "execution_count": 55,
   "metadata": {
    "collapsed": false
   },
   "outputs": [
    {
     "data": {
      "text/plain": [
       "0"
      ]
     },
     "execution_count": 55,
     "metadata": {},
     "output_type": "execute_result"
    }
   ],
   "source": [
    "f.seek(0)"
   ]
  },
  {
   "cell_type": "code",
   "execution_count": 56,
   "metadata": {
    "collapsed": false
   },
   "outputs": [
    {
     "data": {
      "text/plain": [
       "0"
      ]
     },
     "execution_count": 56,
     "metadata": {},
     "output_type": "execute_result"
    }
   ],
   "source": [
    "f.tell()"
   ]
  },
  {
   "cell_type": "code",
   "execution_count": 57,
   "metadata": {
    "collapsed": false
   },
   "outputs": [
    {
     "data": {
      "text/plain": [
       "4"
      ]
     },
     "execution_count": 57,
     "metadata": {},
     "output_type": "execute_result"
    }
   ],
   "source": [
    "f.write('chen')"
   ]
  },
  {
   "cell_type": "code",
   "execution_count": 58,
   "metadata": {
    "collapsed": false
   },
   "outputs": [
    {
     "data": {
      "text/plain": [
       "4"
      ]
     },
     "execution_count": 58,
     "metadata": {},
     "output_type": "execute_result"
    }
   ],
   "source": [
    "f.tell()"
   ]
  },
  {
   "cell_type": "code",
   "execution_count": 59,
   "metadata": {
    "collapsed": true
   },
   "outputs": [],
   "source": [
    "f.flush()"
   ]
  },
  {
   "cell_type": "code",
   "execution_count": 60,
   "metadata": {
    "collapsed": false
   },
   "outputs": [
    {
     "name": "stdout",
     "output_type": "stream",
     "text": [
      "chenoxixi \r\n",
      " haha1111"
     ]
    }
   ],
   "source": [
    "cat 111"
   ]
  },
  {
   "cell_type": "code",
   "execution_count": 61,
   "metadata": {
    "collapsed": false
   },
   "outputs": [
    {
     "data": {
      "text/plain": [
       "'oxixi \\n haha1111'"
      ]
     },
     "execution_count": 61,
     "metadata": {},
     "output_type": "execute_result"
    }
   ],
   "source": [
    "f.read()"
   ]
  },
  {
   "cell_type": "code",
   "execution_count": 62,
   "metadata": {
    "collapsed": false
   },
   "outputs": [
    {
     "data": {
      "text/plain": [
       "20"
      ]
     },
     "execution_count": 62,
     "metadata": {},
     "output_type": "execute_result"
    }
   ],
   "source": [
    "f.tell()"
   ]
  },
  {
   "cell_type": "code",
   "execution_count": 63,
   "metadata": {
    "collapsed": false
   },
   "outputs": [
    {
     "data": {
      "text/plain": [
       "2"
      ]
     },
     "execution_count": 63,
     "metadata": {},
     "output_type": "execute_result"
    }
   ],
   "source": [
    "f.write('li')"
   ]
  },
  {
   "cell_type": "code",
   "execution_count": 64,
   "metadata": {
    "collapsed": true
   },
   "outputs": [],
   "source": [
    "f.flush()"
   ]
  },
  {
   "cell_type": "code",
   "execution_count": 65,
   "metadata": {
    "collapsed": false
   },
   "outputs": [
    {
     "name": "stdout",
     "output_type": "stream",
     "text": [
      "chenoxixi \r\n",
      " haha1111li"
     ]
    }
   ],
   "source": [
    "cat 111"
   ]
  },
  {
   "cell_type": "code",
   "execution_count": 66,
   "metadata": {
    "collapsed": true
   },
   "outputs": [],
   "source": [
    "f.close()"
   ]
  },
  {
   "cell_type": "code",
   "execution_count": 67,
   "metadata": {
    "collapsed": true
   },
   "outputs": [],
   "source": [
    "f = open('./111','w+')"
   ]
  },
  {
   "cell_type": "code",
   "execution_count": 68,
   "metadata": {
    "collapsed": true
   },
   "outputs": [],
   "source": [
    "cat 111"
   ]
  },
  {
   "cell_type": "code",
   "execution_count": 69,
   "metadata": {
    "collapsed": false
   },
   "outputs": [
    {
     "data": {
      "text/plain": [
       "''"
      ]
     },
     "execution_count": 69,
     "metadata": {},
     "output_type": "execute_result"
    }
   ],
   "source": [
    "f.read()"
   ]
  },
  {
   "cell_type": "code",
   "execution_count": 70,
   "metadata": {
    "collapsed": false
   },
   "outputs": [
    {
     "data": {
      "text/plain": [
       "5"
      ]
     },
     "execution_count": 70,
     "metadata": {},
     "output_type": "execute_result"
    }
   ],
   "source": [
    "f.write('hello')"
   ]
  },
  {
   "cell_type": "code",
   "execution_count": 71,
   "metadata": {
    "collapsed": false
   },
   "outputs": [
    {
     "data": {
      "text/plain": [
       "5"
      ]
     },
     "execution_count": 71,
     "metadata": {},
     "output_type": "execute_result"
    }
   ],
   "source": [
    "f.tell()"
   ]
  },
  {
   "cell_type": "code",
   "execution_count": 72,
   "metadata": {
    "collapsed": false
   },
   "outputs": [
    {
     "data": {
      "text/plain": [
       "0"
      ]
     },
     "execution_count": 72,
     "metadata": {},
     "output_type": "execute_result"
    }
   ],
   "source": [
    "f.seek(0)"
   ]
  },
  {
   "cell_type": "code",
   "execution_count": 74,
   "metadata": {
    "collapsed": false
   },
   "outputs": [
    {
     "data": {
      "text/plain": [
       "1"
      ]
     },
     "execution_count": 74,
     "metadata": {},
     "output_type": "execute_result"
    }
   ],
   "source": [
    "f.write('1')"
   ]
  },
  {
   "cell_type": "code",
   "execution_count": 75,
   "metadata": {
    "collapsed": true
   },
   "outputs": [],
   "source": [
    "f.flush()"
   ]
  },
  {
   "cell_type": "code",
   "execution_count": 76,
   "metadata": {
    "collapsed": false
   },
   "outputs": [
    {
     "name": "stdout",
     "output_type": "stream",
     "text": [
      "1ello"
     ]
    }
   ],
   "source": [
    "cat 111"
   ]
  },
  {
   "cell_type": "code",
   "execution_count": 77,
   "metadata": {
    "collapsed": true
   },
   "outputs": [],
   "source": [
    "f.close()"
   ]
  },
  {
   "cell_type": "code",
   "execution_count": 78,
   "metadata": {
    "collapsed": false
   },
   "outputs": [
    {
     "ename": "FileExistsError",
     "evalue": "[Errno 17] File exists: './111'",
     "output_type": "error",
     "traceback": [
      "\u001b[1;31m---------------------------------------------------------------------------\u001b[0m",
      "\u001b[1;31mFileExistsError\u001b[0m                           Traceback (most recent call last)",
      "\u001b[1;32m<ipython-input-78-dc41ef85c4a2>\u001b[0m in \u001b[0;36m<module>\u001b[1;34m()\u001b[0m\n\u001b[1;32m----> 1\u001b[1;33m \u001b[0mf\u001b[0m \u001b[1;33m=\u001b[0m \u001b[0mopen\u001b[0m\u001b[1;33m(\u001b[0m\u001b[1;34m'./111'\u001b[0m\u001b[1;33m,\u001b[0m\u001b[1;34m'x'\u001b[0m\u001b[1;33m)\u001b[0m\u001b[1;33m\u001b[0m\u001b[0m\n\u001b[0m",
      "\u001b[1;31mFileExistsError\u001b[0m: [Errno 17] File exists: './111'"
     ]
    }
   ],
   "source": [
    "f = open('./111','x')"
   ]
  },
  {
   "cell_type": "code",
   "execution_count": 79,
   "metadata": {
    "collapsed": true
   },
   "outputs": [],
   "source": [
    "f = open('xj','w')"
   ]
  },
  {
   "cell_type": "code",
   "execution_count": 80,
   "metadata": {
    "collapsed": false
   },
   "outputs": [
    {
     "name": "stdout",
     "output_type": "stream",
     "text": [
      "111       IO与文件操作.ipynb  test1.exe        Untitled.ipynb  \u001b[0m\u001b[01;32mxin.py\u001b[0m*\r\n",
      "gbk.txt   \u001b[01;34mmm\u001b[0m/                 \u001b[01;34mtt\u001b[0m/              utf8.txt        xj\r\n",
      "haha.txt  one.py              two.py           x2.txt          xxx.txt\r\n",
      "hello     passwd              Untitled1.ipynb  x3.txt\r\n"
     ]
    }
   ],
   "source": [
    "ls "
   ]
  },
  {
   "cell_type": "code",
   "execution_count": 81,
   "metadata": {
    "collapsed": true
   },
   "outputs": [],
   "source": [
    "f.close()"
   ]
  },
  {
   "cell_type": "code",
   "execution_count": 82,
   "metadata": {
    "collapsed": true
   },
   "outputs": [],
   "source": [
    "import shutil"
   ]
  },
  {
   "cell_type": "code",
   "execution_count": 84,
   "metadata": {
    "collapsed": false
   },
   "outputs": [],
   "source": [
    "import os "
   ]
  },
  {
   "cell_type": "code",
   "execution_count": 85,
   "metadata": {
    "collapsed": true
   },
   "outputs": [],
   "source": [
    "os.remove('xj')"
   ]
  },
  {
   "cell_type": "code",
   "execution_count": 86,
   "metadata": {
    "collapsed": false
   },
   "outputs": [
    {
     "name": "stdout",
     "output_type": "stream",
     "text": [
      "111       IO与文件操作.ipynb  test1.exe        Untitled.ipynb  \u001b[0m\u001b[01;32mxin.py\u001b[0m*\r\n",
      "gbk.txt   \u001b[01;34mmm\u001b[0m/                 \u001b[01;34mtt\u001b[0m/              utf8.txt        xxx.txt\r\n",
      "haha.txt  one.py              two.py           x2.txt\r\n",
      "hello     passwd              Untitled1.ipynb  x3.txt\r\n"
     ]
    }
   ],
   "source": [
    "ls"
   ]
  },
  {
   "cell_type": "code",
   "execution_count": 138,
   "metadata": {
    "collapsed": true
   },
   "outputs": [],
   "source": [
    "f = open('gbk.txt','rb')"
   ]
  },
  {
   "cell_type": "code",
   "execution_count": 139,
   "metadata": {
    "collapsed": true
   },
   "outputs": [],
   "source": [
    "f.close()"
   ]
  },
  {
   "cell_type": "code",
   "execution_count": null,
   "metadata": {
    "collapsed": true
   },
   "outputs": [],
   "source": []
  },
  {
   "cell_type": "code",
   "execution_count": 115,
   "metadata": {
    "collapsed": false
   },
   "outputs": [
    {
     "data": {
      "text/plain": [
       "49"
      ]
     },
     "execution_count": 115,
     "metadata": {},
     "output_type": "execute_result"
    }
   ],
   "source": [
    "f.fileno()"
   ]
  },
  {
   "cell_type": "code",
   "execution_count": 116,
   "metadata": {
    "collapsed": true
   },
   "outputs": [],
   "source": [
    "f.close()"
   ]
  },
  {
   "cell_type": "code",
   "execution_count": 117,
   "metadata": {
    "collapsed": false
   },
   "outputs": [
    {
     "name": "stdout",
     "output_type": "stream",
     "text": [
      "111       IO与文件操作.ipynb  test1.exe        Untitled.ipynb  \u001b[0m\u001b[01;32mxin.py\u001b[0m*\r\n",
      "gbk.txt   \u001b[01;34mmm\u001b[0m/                 \u001b[01;34mtt\u001b[0m/              utf8.txt        xxx.txt\r\n",
      "haha.txt  one.py              two.py           x2.txt\r\n",
      "hello     passwd              Untitled1.ipynb  x3.txt\r\n"
     ]
    }
   ],
   "source": [
    "ls"
   ]
  },
  {
   "cell_type": "code",
   "execution_count": 119,
   "metadata": {
    "collapsed": false
   },
   "outputs": [
    {
     "data": {
      "text/plain": [
       "True"
      ]
     },
     "execution_count": 119,
     "metadata": {},
     "output_type": "execute_result"
    }
   ],
   "source": [
    "f.closed"
   ]
  },
  {
   "cell_type": "code",
   "execution_count": null,
   "metadata": {
    "collapsed": true
   },
   "outputs": [],
   "source": []
  },
  {
   "cell_type": "code",
   "execution_count": 140,
   "metadata": {
    "collapsed": true
   },
   "outputs": [],
   "source": [
    "f = open('./xin.py','rb')"
   ]
  },
  {
   "cell_type": "code",
   "execution_count": null,
   "metadata": {
    "collapsed": true
   },
   "outputs": [],
   "source": []
  },
  {
   "cell_type": "code",
   "execution_count": 122,
   "metadata": {
    "collapsed": false
   },
   "outputs": [
    {
     "data": {
      "text/plain": [
       "True"
      ]
     },
     "execution_count": 122,
     "metadata": {},
     "output_type": "execute_result"
    }
   ],
   "source": [
    "f.readable()"
   ]
  },
  {
   "cell_type": "code",
   "execution_count": 141,
   "metadata": {
    "collapsed": false
   },
   "outputs": [
    {
     "data": {
      "text/plain": [
       "b'#!/usr/bin/env python\\n'"
      ]
     },
     "execution_count": 141,
     "metadata": {},
     "output_type": "execute_result"
    }
   ],
   "source": [
    "f.readline()"
   ]
  },
  {
   "cell_type": "code",
   "execution_count": null,
   "metadata": {
    "collapsed": true
   },
   "outputs": [],
   "source": []
  },
  {
   "cell_type": "code",
   "execution_count": 142,
   "metadata": {
    "collapsed": false
   },
   "outputs": [
    {
     "data": {
      "text/plain": [
       "b'#_*_ coding:utf-8 _*_'"
      ]
     },
     "execution_count": 142,
     "metadata": {},
     "output_type": "execute_result"
    }
   ],
   "source": [
    "f.readline().strip()"
   ]
  },
  {
   "cell_type": "code",
   "execution_count": 144,
   "metadata": {
    "collapsed": false
   },
   "outputs": [
    {
     "data": {
      "text/plain": [
       "2938"
      ]
     },
     "execution_count": 144,
     "metadata": {},
     "output_type": "execute_result"
    }
   ],
   "source": [
    "f.tell()"
   ]
  },
  {
   "cell_type": "code",
   "execution_count": null,
   "metadata": {
    "collapsed": true
   },
   "outputs": [],
   "source": []
  },
  {
   "cell_type": "code",
   "execution_count": 136,
   "metadata": {
    "collapsed": false
   },
   "outputs": [
    {
     "data": {
      "text/plain": [
       "'\\t\\t \\\\033[31;1m*\\t2.Add、Del、Change\\t      *\\\\033[0m'"
      ]
     },
     "execution_count": 136,
     "metadata": {},
     "output_type": "execute_result"
    }
   ],
   "source": [
    "f.readline().rstrip()"
   ]
  },
  {
   "cell_type": "code",
   "execution_count": 137,
   "metadata": {
    "collapsed": true
   },
   "outputs": [],
   "source": [
    "f.close()"
   ]
  },
  {
   "cell_type": "code",
   "execution_count": 145,
   "metadata": {
    "collapsed": true
   },
   "outputs": [],
   "source": [
    "import os"
   ]
  },
  {
   "cell_type": "code",
   "execution_count": 146,
   "metadata": {
    "collapsed": false
   },
   "outputs": [
    {
     "data": {
      "text/plain": [
       "os.stat_result(st_mode=33188, st_ino=204065439, st_dev=64768, st_nlink=1, st_uid=0, st_gid=0, st_size=5, st_atime=1487733506, st_mtime=1487733503, st_ctime=1487733503)"
      ]
     },
     "execution_count": 146,
     "metadata": {},
     "output_type": "execute_result"
    }
   ],
   "source": [
    "os.stat('111')"
   ]
  },
  {
   "cell_type": "code",
   "execution_count": null,
   "metadata": {
    "collapsed": true
   },
   "outputs": [],
   "source": []
  },
  {
   "cell_type": "code",
   "execution_count": 147,
   "metadata": {
    "collapsed": true
   },
   "outputs": [],
   "source": [
    "f = open('./111','w')"
   ]
  },
  {
   "cell_type": "code",
   "execution_count": 148,
   "metadata": {
    "collapsed": true
   },
   "outputs": [],
   "source": [
    "f.writelines(['1234','\\n','abc'])"
   ]
  },
  {
   "cell_type": "code",
   "execution_count": 149,
   "metadata": {
    "collapsed": true
   },
   "outputs": [],
   "source": [
    "f.flush()"
   ]
  },
  {
   "cell_type": "code",
   "execution_count": 150,
   "metadata": {
    "collapsed": false
   },
   "outputs": [
    {
     "name": "stdout",
     "output_type": "stream",
     "text": [
      "1234\r\n",
      "abc"
     ]
    }
   ],
   "source": [
    "cat 111"
   ]
  },
  {
   "cell_type": "code",
   "execution_count": 159,
   "metadata": {
    "collapsed": false
   },
   "outputs": [],
   "source": [
    "a = ['e','f','g']"
   ]
  },
  {
   "cell_type": "code",
   "execution_count": null,
   "metadata": {
    "collapsed": true
   },
   "outputs": [],
   "source": []
  },
  {
   "cell_type": "code",
   "execution_count": null,
   "metadata": {
    "collapsed": true
   },
   "outputs": [],
   "source": []
  },
  {
   "cell_type": "code",
   "execution_count": 158,
   "metadata": {
    "collapsed": true
   },
   "outputs": [],
   "source": [
    "a = [6,7,8,9]"
   ]
  },
  {
   "cell_type": "code",
   "execution_count": null,
   "metadata": {
    "collapsed": true
   },
   "outputs": [],
   "source": []
  },
  {
   "cell_type": "code",
   "execution_count": 160,
   "metadata": {
    "collapsed": false
   },
   "outputs": [
    {
     "data": {
      "text/plain": [
       "['e', 'f', 'g']"
      ]
     },
     "execution_count": 160,
     "metadata": {},
     "output_type": "execute_result"
    }
   ],
   "source": [
    "a"
   ]
  },
  {
   "cell_type": "code",
   "execution_count": null,
   "metadata": {
    "collapsed": true
   },
   "outputs": [],
   "source": []
  },
  {
   "cell_type": "code",
   "execution_count": 154,
   "metadata": {
    "collapsed": false
   },
   "outputs": [
    {
     "name": "stdout",
     "output_type": "stream",
     "text": [
      "1234\r\n",
      "abc"
     ]
    }
   ],
   "source": [
    "cat 111"
   ]
  },
  {
   "cell_type": "code",
   "execution_count": 155,
   "metadata": {
    "collapsed": false
   },
   "outputs": [
    {
     "data": {
      "text/plain": [
       "8"
      ]
     },
     "execution_count": 155,
     "metadata": {},
     "output_type": "execute_result"
    }
   ],
   "source": [
    "f.tell()"
   ]
  },
  {
   "cell_type": "code",
   "execution_count": 161,
   "metadata": {
    "collapsed": false
   },
   "outputs": [],
   "source": [
    "f.writelines(a)"
   ]
  },
  {
   "cell_type": "code",
   "execution_count": 162,
   "metadata": {
    "collapsed": true
   },
   "outputs": [],
   "source": [
    "f.flush()"
   ]
  },
  {
   "cell_type": "code",
   "execution_count": 163,
   "metadata": {
    "collapsed": false
   },
   "outputs": [
    {
     "name": "stdout",
     "output_type": "stream",
     "text": [
      "1234\r\n",
      "abcefg"
     ]
    }
   ],
   "source": [
    "cat 111"
   ]
  },
  {
   "cell_type": "code",
   "execution_count": 164,
   "metadata": {
    "collapsed": false
   },
   "outputs": [
    {
     "data": {
      "text/plain": [
       "11"
      ]
     },
     "execution_count": 164,
     "metadata": {},
     "output_type": "execute_result"
    }
   ],
   "source": [
    "f.truncate()"
   ]
  },
  {
   "cell_type": "code",
   "execution_count": 165,
   "metadata": {
    "collapsed": false
   },
   "outputs": [
    {
     "name": "stdout",
     "output_type": "stream",
     "text": [
      "1234\r\n",
      "abcefg"
     ]
    }
   ],
   "source": [
    "cat 111"
   ]
  },
  {
   "cell_type": "code",
   "execution_count": 166,
   "metadata": {
    "collapsed": false
   },
   "outputs": [
    {
     "data": {
      "text/plain": [
       "0"
      ]
     },
     "execution_count": 166,
     "metadata": {},
     "output_type": "execute_result"
    }
   ],
   "source": [
    "f.seek(0)"
   ]
  },
  {
   "cell_type": "code",
   "execution_count": 167,
   "metadata": {
    "collapsed": false
   },
   "outputs": [
    {
     "data": {
      "text/plain": [
       "0"
      ]
     },
     "execution_count": 167,
     "metadata": {},
     "output_type": "execute_result"
    }
   ],
   "source": [
    "f.truncate()"
   ]
  },
  {
   "cell_type": "code",
   "execution_count": 168,
   "metadata": {
    "collapsed": true
   },
   "outputs": [],
   "source": [
    "cat 111"
   ]
  },
  {
   "cell_type": "code",
   "execution_count": 169,
   "metadata": {
    "collapsed": true
   },
   "outputs": [],
   "source": [
    "f.close()"
   ]
  },
  {
   "cell_type": "code",
   "execution_count": 171,
   "metadata": {
    "collapsed": false
   },
   "outputs": [],
   "source": [
    "f = open('./111','r')"
   ]
  },
  {
   "cell_type": "code",
   "execution_count": 172,
   "metadata": {
    "collapsed": false
   },
   "outputs": [
    {
     "ename": "UnsupportedOperation",
     "evalue": "File not open for writing",
     "output_type": "error",
     "traceback": [
      "\u001b[1;31m---------------------------------------------------------------------------\u001b[0m",
      "\u001b[1;31mUnsupportedOperation\u001b[0m                      Traceback (most recent call last)",
      "\u001b[1;32m<ipython-input-172-1f4e2d563b19>\u001b[0m in \u001b[0;36m<module>\u001b[1;34m()\u001b[0m\n\u001b[1;32m----> 1\u001b[1;33m \u001b[0mf\u001b[0m\u001b[1;33m.\u001b[0m\u001b[0mtruncate\u001b[0m\u001b[1;33m(\u001b[0m\u001b[1;36m0\u001b[0m\u001b[1;33m)\u001b[0m\u001b[1;33m\u001b[0m\u001b[0m\n\u001b[0m",
      "\u001b[1;31mUnsupportedOperation\u001b[0m: File not open for writing"
     ]
    }
   ],
   "source": [
    "f.truncate(0)"
   ]
  },
  {
   "cell_type": "code",
   "execution_count": 175,
   "metadata": {
    "collapsed": false
   },
   "outputs": [
    {
     "ename": "OSError",
     "evalue": "[Errno 24] Too many open files: '111'",
     "output_type": "error",
     "traceback": [
      "\u001b[1;31m---------------------------------------------------------------------------\u001b[0m",
      "\u001b[1;31mOSError\u001b[0m                                   Traceback (most recent call last)",
      "\u001b[1;32m<ipython-input-175-943ee5650510>\u001b[0m in \u001b[0;36m<module>\u001b[1;34m()\u001b[0m\n\u001b[0;32m      1\u001b[0m \u001b[0mfiles\u001b[0m \u001b[1;33m=\u001b[0m \u001b[1;33m[\u001b[0m\u001b[1;33m]\u001b[0m\u001b[1;33m\u001b[0m\u001b[0m\n\u001b[0;32m      2\u001b[0m \u001b[1;32mfor\u001b[0m \u001b[0m_\u001b[0m \u001b[1;32min\u001b[0m \u001b[0mrange\u001b[0m\u001b[1;33m(\u001b[0m\u001b[1;36m1028\u001b[0m\u001b[1;33m)\u001b[0m\u001b[1;33m:\u001b[0m         \u001b[1;31m## 循环1028次\u001b[0m\u001b[1;33m\u001b[0m\u001b[0m\n\u001b[1;32m----> 3\u001b[1;33m     \u001b[0mf\u001b[0m \u001b[1;33m=\u001b[0m \u001b[0mopen\u001b[0m\u001b[1;33m(\u001b[0m\u001b[1;34m'111'\u001b[0m\u001b[1;33m,\u001b[0m\u001b[1;34m'r'\u001b[0m\u001b[1;33m)\u001b[0m\u001b[1;33m\u001b[0m\u001b[0m\n\u001b[0m\u001b[0;32m      4\u001b[0m     \u001b[0mfiles\u001b[0m\u001b[1;33m.\u001b[0m\u001b[0mappend\u001b[0m\u001b[1;33m(\u001b[0m\u001b[0mf\u001b[0m\u001b[1;33m)\u001b[0m\u001b[1;33m\u001b[0m\u001b[0m\n",
      "\u001b[1;31mOSError\u001b[0m: [Errno 24] Too many open files: '111'"
     ]
    }
   ],
   "source": [
    "files = []\n",
    "for _ in range(1028):         ## 循环1028次\n",
    "    f = open('111','r')\n",
    "    files.append(f)"
   ]
  },
  {
   "cell_type": "code",
   "execution_count": null,
   "metadata": {
    "collapsed": true
   },
   "outputs": [],
   "source": []
  },
  {
   "cell_type": "code",
   "execution_count": 186,
   "metadata": {
    "collapsed": false
   },
   "outputs": [
    {
     "data": {
      "text/plain": [
       "975"
      ]
     },
     "execution_count": 186,
     "metadata": {},
     "output_type": "execute_result"
    }
   ],
   "source": [
    "len(files)"
   ]
  },
  {
   "cell_type": "code",
   "execution_count": null,
   "metadata": {
    "collapsed": true
   },
   "outputs": [],
   "source": []
  },
  {
   "cell_type": "code",
   "execution_count": 187,
   "metadata": {
    "collapsed": false
   },
   "outputs": [
    {
     "data": {
      "text/plain": [
       "[<_io.TextIOWrapper name='111' mode='r' encoding='UTF-8'>,\n",
       " <_io.TextIOWrapper name='111' mode='r' encoding='UTF-8'>,\n",
       " <_io.TextIOWrapper name='111' mode='r' encoding='UTF-8'>,\n",
       " <_io.TextIOWrapper name='111' mode='r' encoding='UTF-8'>,\n",
       " <_io.TextIOWrapper name='111' mode='r' encoding='UTF-8'>,\n",
       " <_io.TextIOWrapper name='111' mode='r' encoding='UTF-8'>,\n",
       " <_io.TextIOWrapper name='111' mode='r' encoding='UTF-8'>,\n",
       " <_io.TextIOWrapper name='111' mode='r' encoding='UTF-8'>,\n",
       " <_io.TextIOWrapper name='111' mode='r' encoding='UTF-8'>,\n",
       " <_io.TextIOWrapper name='111' mode='r' encoding='UTF-8'>,\n",
       " <_io.TextIOWrapper name='111' mode='r' encoding='UTF-8'>,\n",
       " <_io.TextIOWrapper name='111' mode='r' encoding='UTF-8'>,\n",
       " <_io.TextIOWrapper name='111' mode='r' encoding='UTF-8'>,\n",
       " <_io.TextIOWrapper name='111' mode='r' encoding='UTF-8'>,\n",
       " <_io.TextIOWrapper name='111' mode='r' encoding='UTF-8'>,\n",
       " <_io.TextIOWrapper name='111' mode='r' encoding='UTF-8'>,\n",
       " <_io.TextIOWrapper name='111' mode='r' encoding='UTF-8'>,\n",
       " <_io.TextIOWrapper name='111' mode='r' encoding='UTF-8'>,\n",
       " <_io.TextIOWrapper name='111' mode='r' encoding='UTF-8'>,\n",
       " <_io.TextIOWrapper name='111' mode='r' encoding='UTF-8'>,\n",
       " <_io.TextIOWrapper name='111' mode='r' encoding='UTF-8'>,\n",
       " <_io.TextIOWrapper name='111' mode='r' encoding='UTF-8'>,\n",
       " <_io.TextIOWrapper name='111' mode='r' encoding='UTF-8'>,\n",
       " <_io.TextIOWrapper name='111' mode='r' encoding='UTF-8'>,\n",
       " <_io.TextIOWrapper name='111' mode='r' encoding='UTF-8'>,\n",
       " <_io.TextIOWrapper name='111' mode='r' encoding='UTF-8'>,\n",
       " <_io.TextIOWrapper name='111' mode='r' encoding='UTF-8'>,\n",
       " <_io.TextIOWrapper name='111' mode='r' encoding='UTF-8'>,\n",
       " <_io.TextIOWrapper name='111' mode='r' encoding='UTF-8'>,\n",
       " <_io.TextIOWrapper name='111' mode='r' encoding='UTF-8'>,\n",
       " <_io.TextIOWrapper name='111' mode='r' encoding='UTF-8'>,\n",
       " <_io.TextIOWrapper name='111' mode='r' encoding='UTF-8'>,\n",
       " <_io.TextIOWrapper name='111' mode='r' encoding='UTF-8'>,\n",
       " <_io.TextIOWrapper name='111' mode='r' encoding='UTF-8'>,\n",
       " <_io.TextIOWrapper name='111' mode='r' encoding='UTF-8'>,\n",
       " <_io.TextIOWrapper name='111' mode='r' encoding='UTF-8'>,\n",
       " <_io.TextIOWrapper name='111' mode='r' encoding='UTF-8'>,\n",
       " <_io.TextIOWrapper name='111' mode='r' encoding='UTF-8'>,\n",
       " <_io.TextIOWrapper name='111' mode='r' encoding='UTF-8'>,\n",
       " <_io.TextIOWrapper name='111' mode='r' encoding='UTF-8'>,\n",
       " <_io.TextIOWrapper name='111' mode='r' encoding='UTF-8'>,\n",
       " <_io.TextIOWrapper name='111' mode='r' encoding='UTF-8'>,\n",
       " <_io.TextIOWrapper name='111' mode='r' encoding='UTF-8'>,\n",
       " <_io.TextIOWrapper name='111' mode='r' encoding='UTF-8'>,\n",
       " <_io.TextIOWrapper name='111' mode='r' encoding='UTF-8'>,\n",
       " <_io.TextIOWrapper name='111' mode='r' encoding='UTF-8'>,\n",
       " <_io.TextIOWrapper name='111' mode='r' encoding='UTF-8'>,\n",
       " <_io.TextIOWrapper name='111' mode='r' encoding='UTF-8'>,\n",
       " <_io.TextIOWrapper name='111' mode='r' encoding='UTF-8'>,\n",
       " <_io.TextIOWrapper name='111' mode='r' encoding='UTF-8'>,\n",
       " <_io.TextIOWrapper name='111' mode='r' encoding='UTF-8'>,\n",
       " <_io.TextIOWrapper name='111' mode='r' encoding='UTF-8'>,\n",
       " <_io.TextIOWrapper name='111' mode='r' encoding='UTF-8'>,\n",
       " <_io.TextIOWrapper name='111' mode='r' encoding='UTF-8'>,\n",
       " <_io.TextIOWrapper name='111' mode='r' encoding='UTF-8'>,\n",
       " <_io.TextIOWrapper name='111' mode='r' encoding='UTF-8'>,\n",
       " <_io.TextIOWrapper name='111' mode='r' encoding='UTF-8'>,\n",
       " <_io.TextIOWrapper name='111' mode='r' encoding='UTF-8'>,\n",
       " <_io.TextIOWrapper name='111' mode='r' encoding='UTF-8'>,\n",
       " <_io.TextIOWrapper name='111' mode='r' encoding='UTF-8'>,\n",
       " <_io.TextIOWrapper name='111' mode='r' encoding='UTF-8'>,\n",
       " <_io.TextIOWrapper name='111' mode='r' encoding='UTF-8'>,\n",
       " <_io.TextIOWrapper name='111' mode='r' encoding='UTF-8'>,\n",
       " <_io.TextIOWrapper name='111' mode='r' encoding='UTF-8'>,\n",
       " <_io.TextIOWrapper name='111' mode='r' encoding='UTF-8'>,\n",
       " <_io.TextIOWrapper name='111' mode='r' encoding='UTF-8'>,\n",
       " <_io.TextIOWrapper name='111' mode='r' encoding='UTF-8'>,\n",
       " <_io.TextIOWrapper name='111' mode='r' encoding='UTF-8'>,\n",
       " <_io.TextIOWrapper name='111' mode='r' encoding='UTF-8'>,\n",
       " <_io.TextIOWrapper name='111' mode='r' encoding='UTF-8'>,\n",
       " <_io.TextIOWrapper name='111' mode='r' encoding='UTF-8'>,\n",
       " <_io.TextIOWrapper name='111' mode='r' encoding='UTF-8'>,\n",
       " <_io.TextIOWrapper name='111' mode='r' encoding='UTF-8'>,\n",
       " <_io.TextIOWrapper name='111' mode='r' encoding='UTF-8'>,\n",
       " <_io.TextIOWrapper name='111' mode='r' encoding='UTF-8'>,\n",
       " <_io.TextIOWrapper name='111' mode='r' encoding='UTF-8'>,\n",
       " <_io.TextIOWrapper name='111' mode='r' encoding='UTF-8'>,\n",
       " <_io.TextIOWrapper name='111' mode='r' encoding='UTF-8'>,\n",
       " <_io.TextIOWrapper name='111' mode='r' encoding='UTF-8'>,\n",
       " <_io.TextIOWrapper name='111' mode='r' encoding='UTF-8'>,\n",
       " <_io.TextIOWrapper name='111' mode='r' encoding='UTF-8'>,\n",
       " <_io.TextIOWrapper name='111' mode='r' encoding='UTF-8'>,\n",
       " <_io.TextIOWrapper name='111' mode='r' encoding='UTF-8'>,\n",
       " <_io.TextIOWrapper name='111' mode='r' encoding='UTF-8'>,\n",
       " <_io.TextIOWrapper name='111' mode='r' encoding='UTF-8'>,\n",
       " <_io.TextIOWrapper name='111' mode='r' encoding='UTF-8'>,\n",
       " <_io.TextIOWrapper name='111' mode='r' encoding='UTF-8'>,\n",
       " <_io.TextIOWrapper name='111' mode='r' encoding='UTF-8'>,\n",
       " <_io.TextIOWrapper name='111' mode='r' encoding='UTF-8'>,\n",
       " <_io.TextIOWrapper name='111' mode='r' encoding='UTF-8'>,\n",
       " <_io.TextIOWrapper name='111' mode='r' encoding='UTF-8'>,\n",
       " <_io.TextIOWrapper name='111' mode='r' encoding='UTF-8'>,\n",
       " <_io.TextIOWrapper name='111' mode='r' encoding='UTF-8'>,\n",
       " <_io.TextIOWrapper name='111' mode='r' encoding='UTF-8'>,\n",
       " <_io.TextIOWrapper name='111' mode='r' encoding='UTF-8'>,\n",
       " <_io.TextIOWrapper name='111' mode='r' encoding='UTF-8'>,\n",
       " <_io.TextIOWrapper name='111' mode='r' encoding='UTF-8'>,\n",
       " <_io.TextIOWrapper name='111' mode='r' encoding='UTF-8'>,\n",
       " <_io.TextIOWrapper name='111' mode='r' encoding='UTF-8'>,\n",
       " <_io.TextIOWrapper name='111' mode='r' encoding='UTF-8'>,\n",
       " <_io.TextIOWrapper name='111' mode='r' encoding='UTF-8'>,\n",
       " <_io.TextIOWrapper name='111' mode='r' encoding='UTF-8'>,\n",
       " <_io.TextIOWrapper name='111' mode='r' encoding='UTF-8'>,\n",
       " <_io.TextIOWrapper name='111' mode='r' encoding='UTF-8'>,\n",
       " <_io.TextIOWrapper name='111' mode='r' encoding='UTF-8'>,\n",
       " <_io.TextIOWrapper name='111' mode='r' encoding='UTF-8'>,\n",
       " <_io.TextIOWrapper name='111' mode='r' encoding='UTF-8'>,\n",
       " <_io.TextIOWrapper name='111' mode='r' encoding='UTF-8'>,\n",
       " <_io.TextIOWrapper name='111' mode='r' encoding='UTF-8'>,\n",
       " <_io.TextIOWrapper name='111' mode='r' encoding='UTF-8'>,\n",
       " <_io.TextIOWrapper name='111' mode='r' encoding='UTF-8'>,\n",
       " <_io.TextIOWrapper name='111' mode='r' encoding='UTF-8'>,\n",
       " <_io.TextIOWrapper name='111' mode='r' encoding='UTF-8'>,\n",
       " <_io.TextIOWrapper name='111' mode='r' encoding='UTF-8'>,\n",
       " <_io.TextIOWrapper name='111' mode='r' encoding='UTF-8'>,\n",
       " <_io.TextIOWrapper name='111' mode='r' encoding='UTF-8'>,\n",
       " <_io.TextIOWrapper name='111' mode='r' encoding='UTF-8'>,\n",
       " <_io.TextIOWrapper name='111' mode='r' encoding='UTF-8'>,\n",
       " <_io.TextIOWrapper name='111' mode='r' encoding='UTF-8'>,\n",
       " <_io.TextIOWrapper name='111' mode='r' encoding='UTF-8'>,\n",
       " <_io.TextIOWrapper name='111' mode='r' encoding='UTF-8'>,\n",
       " <_io.TextIOWrapper name='111' mode='r' encoding='UTF-8'>,\n",
       " <_io.TextIOWrapper name='111' mode='r' encoding='UTF-8'>,\n",
       " <_io.TextIOWrapper name='111' mode='r' encoding='UTF-8'>,\n",
       " <_io.TextIOWrapper name='111' mode='r' encoding='UTF-8'>,\n",
       " <_io.TextIOWrapper name='111' mode='r' encoding='UTF-8'>,\n",
       " <_io.TextIOWrapper name='111' mode='r' encoding='UTF-8'>,\n",
       " <_io.TextIOWrapper name='111' mode='r' encoding='UTF-8'>,\n",
       " <_io.TextIOWrapper name='111' mode='r' encoding='UTF-8'>,\n",
       " <_io.TextIOWrapper name='111' mode='r' encoding='UTF-8'>,\n",
       " <_io.TextIOWrapper name='111' mode='r' encoding='UTF-8'>,\n",
       " <_io.TextIOWrapper name='111' mode='r' encoding='UTF-8'>,\n",
       " <_io.TextIOWrapper name='111' mode='r' encoding='UTF-8'>,\n",
       " <_io.TextIOWrapper name='111' mode='r' encoding='UTF-8'>,\n",
       " <_io.TextIOWrapper name='111' mode='r' encoding='UTF-8'>,\n",
       " <_io.TextIOWrapper name='111' mode='r' encoding='UTF-8'>,\n",
       " <_io.TextIOWrapper name='111' mode='r' encoding='UTF-8'>,\n",
       " <_io.TextIOWrapper name='111' mode='r' encoding='UTF-8'>,\n",
       " <_io.TextIOWrapper name='111' mode='r' encoding='UTF-8'>,\n",
       " <_io.TextIOWrapper name='111' mode='r' encoding='UTF-8'>,\n",
       " <_io.TextIOWrapper name='111' mode='r' encoding='UTF-8'>,\n",
       " <_io.TextIOWrapper name='111' mode='r' encoding='UTF-8'>,\n",
       " <_io.TextIOWrapper name='111' mode='r' encoding='UTF-8'>,\n",
       " <_io.TextIOWrapper name='111' mode='r' encoding='UTF-8'>,\n",
       " <_io.TextIOWrapper name='111' mode='r' encoding='UTF-8'>,\n",
       " <_io.TextIOWrapper name='111' mode='r' encoding='UTF-8'>,\n",
       " <_io.TextIOWrapper name='111' mode='r' encoding='UTF-8'>,\n",
       " <_io.TextIOWrapper name='111' mode='r' encoding='UTF-8'>,\n",
       " <_io.TextIOWrapper name='111' mode='r' encoding='UTF-8'>,\n",
       " <_io.TextIOWrapper name='111' mode='r' encoding='UTF-8'>,\n",
       " <_io.TextIOWrapper name='111' mode='r' encoding='UTF-8'>,\n",
       " <_io.TextIOWrapper name='111' mode='r' encoding='UTF-8'>,\n",
       " <_io.TextIOWrapper name='111' mode='r' encoding='UTF-8'>,\n",
       " <_io.TextIOWrapper name='111' mode='r' encoding='UTF-8'>,\n",
       " <_io.TextIOWrapper name='111' mode='r' encoding='UTF-8'>,\n",
       " <_io.TextIOWrapper name='111' mode='r' encoding='UTF-8'>,\n",
       " <_io.TextIOWrapper name='111' mode='r' encoding='UTF-8'>,\n",
       " <_io.TextIOWrapper name='111' mode='r' encoding='UTF-8'>,\n",
       " <_io.TextIOWrapper name='111' mode='r' encoding='UTF-8'>,\n",
       " <_io.TextIOWrapper name='111' mode='r' encoding='UTF-8'>,\n",
       " <_io.TextIOWrapper name='111' mode='r' encoding='UTF-8'>,\n",
       " <_io.TextIOWrapper name='111' mode='r' encoding='UTF-8'>,\n",
       " <_io.TextIOWrapper name='111' mode='r' encoding='UTF-8'>,\n",
       " <_io.TextIOWrapper name='111' mode='r' encoding='UTF-8'>,\n",
       " <_io.TextIOWrapper name='111' mode='r' encoding='UTF-8'>,\n",
       " <_io.TextIOWrapper name='111' mode='r' encoding='UTF-8'>,\n",
       " <_io.TextIOWrapper name='111' mode='r' encoding='UTF-8'>,\n",
       " <_io.TextIOWrapper name='111' mode='r' encoding='UTF-8'>,\n",
       " <_io.TextIOWrapper name='111' mode='r' encoding='UTF-8'>,\n",
       " <_io.TextIOWrapper name='111' mode='r' encoding='UTF-8'>,\n",
       " <_io.TextIOWrapper name='111' mode='r' encoding='UTF-8'>,\n",
       " <_io.TextIOWrapper name='111' mode='r' encoding='UTF-8'>,\n",
       " <_io.TextIOWrapper name='111' mode='r' encoding='UTF-8'>,\n",
       " <_io.TextIOWrapper name='111' mode='r' encoding='UTF-8'>,\n",
       " <_io.TextIOWrapper name='111' mode='r' encoding='UTF-8'>,\n",
       " <_io.TextIOWrapper name='111' mode='r' encoding='UTF-8'>,\n",
       " <_io.TextIOWrapper name='111' mode='r' encoding='UTF-8'>,\n",
       " <_io.TextIOWrapper name='111' mode='r' encoding='UTF-8'>,\n",
       " <_io.TextIOWrapper name='111' mode='r' encoding='UTF-8'>,\n",
       " <_io.TextIOWrapper name='111' mode='r' encoding='UTF-8'>,\n",
       " <_io.TextIOWrapper name='111' mode='r' encoding='UTF-8'>,\n",
       " <_io.TextIOWrapper name='111' mode='r' encoding='UTF-8'>,\n",
       " <_io.TextIOWrapper name='111' mode='r' encoding='UTF-8'>,\n",
       " <_io.TextIOWrapper name='111' mode='r' encoding='UTF-8'>,\n",
       " <_io.TextIOWrapper name='111' mode='r' encoding='UTF-8'>,\n",
       " <_io.TextIOWrapper name='111' mode='r' encoding='UTF-8'>,\n",
       " <_io.TextIOWrapper name='111' mode='r' encoding='UTF-8'>,\n",
       " <_io.TextIOWrapper name='111' mode='r' encoding='UTF-8'>,\n",
       " <_io.TextIOWrapper name='111' mode='r' encoding='UTF-8'>,\n",
       " <_io.TextIOWrapper name='111' mode='r' encoding='UTF-8'>,\n",
       " <_io.TextIOWrapper name='111' mode='r' encoding='UTF-8'>,\n",
       " <_io.TextIOWrapper name='111' mode='r' encoding='UTF-8'>,\n",
       " <_io.TextIOWrapper name='111' mode='r' encoding='UTF-8'>,\n",
       " <_io.TextIOWrapper name='111' mode='r' encoding='UTF-8'>,\n",
       " <_io.TextIOWrapper name='111' mode='r' encoding='UTF-8'>,\n",
       " <_io.TextIOWrapper name='111' mode='r' encoding='UTF-8'>,\n",
       " <_io.TextIOWrapper name='111' mode='r' encoding='UTF-8'>,\n",
       " <_io.TextIOWrapper name='111' mode='r' encoding='UTF-8'>,\n",
       " <_io.TextIOWrapper name='111' mode='r' encoding='UTF-8'>,\n",
       " <_io.TextIOWrapper name='111' mode='r' encoding='UTF-8'>,\n",
       " <_io.TextIOWrapper name='111' mode='r' encoding='UTF-8'>,\n",
       " <_io.TextIOWrapper name='111' mode='r' encoding='UTF-8'>,\n",
       " <_io.TextIOWrapper name='111' mode='r' encoding='UTF-8'>,\n",
       " <_io.TextIOWrapper name='111' mode='r' encoding='UTF-8'>,\n",
       " <_io.TextIOWrapper name='111' mode='r' encoding='UTF-8'>,\n",
       " <_io.TextIOWrapper name='111' mode='r' encoding='UTF-8'>,\n",
       " <_io.TextIOWrapper name='111' mode='r' encoding='UTF-8'>,\n",
       " <_io.TextIOWrapper name='111' mode='r' encoding='UTF-8'>,\n",
       " <_io.TextIOWrapper name='111' mode='r' encoding='UTF-8'>,\n",
       " <_io.TextIOWrapper name='111' mode='r' encoding='UTF-8'>,\n",
       " <_io.TextIOWrapper name='111' mode='r' encoding='UTF-8'>,\n",
       " <_io.TextIOWrapper name='111' mode='r' encoding='UTF-8'>,\n",
       " <_io.TextIOWrapper name='111' mode='r' encoding='UTF-8'>,\n",
       " <_io.TextIOWrapper name='111' mode='r' encoding='UTF-8'>,\n",
       " <_io.TextIOWrapper name='111' mode='r' encoding='UTF-8'>,\n",
       " <_io.TextIOWrapper name='111' mode='r' encoding='UTF-8'>,\n",
       " <_io.TextIOWrapper name='111' mode='r' encoding='UTF-8'>,\n",
       " <_io.TextIOWrapper name='111' mode='r' encoding='UTF-8'>,\n",
       " <_io.TextIOWrapper name='111' mode='r' encoding='UTF-8'>,\n",
       " <_io.TextIOWrapper name='111' mode='r' encoding='UTF-8'>,\n",
       " <_io.TextIOWrapper name='111' mode='r' encoding='UTF-8'>,\n",
       " <_io.TextIOWrapper name='111' mode='r' encoding='UTF-8'>,\n",
       " <_io.TextIOWrapper name='111' mode='r' encoding='UTF-8'>,\n",
       " <_io.TextIOWrapper name='111' mode='r' encoding='UTF-8'>,\n",
       " <_io.TextIOWrapper name='111' mode='r' encoding='UTF-8'>,\n",
       " <_io.TextIOWrapper name='111' mode='r' encoding='UTF-8'>,\n",
       " <_io.TextIOWrapper name='111' mode='r' encoding='UTF-8'>,\n",
       " <_io.TextIOWrapper name='111' mode='r' encoding='UTF-8'>,\n",
       " <_io.TextIOWrapper name='111' mode='r' encoding='UTF-8'>,\n",
       " <_io.TextIOWrapper name='111' mode='r' encoding='UTF-8'>,\n",
       " <_io.TextIOWrapper name='111' mode='r' encoding='UTF-8'>,\n",
       " <_io.TextIOWrapper name='111' mode='r' encoding='UTF-8'>,\n",
       " <_io.TextIOWrapper name='111' mode='r' encoding='UTF-8'>,\n",
       " <_io.TextIOWrapper name='111' mode='r' encoding='UTF-8'>,\n",
       " <_io.TextIOWrapper name='111' mode='r' encoding='UTF-8'>,\n",
       " <_io.TextIOWrapper name='111' mode='r' encoding='UTF-8'>,\n",
       " <_io.TextIOWrapper name='111' mode='r' encoding='UTF-8'>,\n",
       " <_io.TextIOWrapper name='111' mode='r' encoding='UTF-8'>,\n",
       " <_io.TextIOWrapper name='111' mode='r' encoding='UTF-8'>,\n",
       " <_io.TextIOWrapper name='111' mode='r' encoding='UTF-8'>,\n",
       " <_io.TextIOWrapper name='111' mode='r' encoding='UTF-8'>,\n",
       " <_io.TextIOWrapper name='111' mode='r' encoding='UTF-8'>,\n",
       " <_io.TextIOWrapper name='111' mode='r' encoding='UTF-8'>,\n",
       " <_io.TextIOWrapper name='111' mode='r' encoding='UTF-8'>,\n",
       " <_io.TextIOWrapper name='111' mode='r' encoding='UTF-8'>,\n",
       " <_io.TextIOWrapper name='111' mode='r' encoding='UTF-8'>,\n",
       " <_io.TextIOWrapper name='111' mode='r' encoding='UTF-8'>,\n",
       " <_io.TextIOWrapper name='111' mode='r' encoding='UTF-8'>,\n",
       " <_io.TextIOWrapper name='111' mode='r' encoding='UTF-8'>,\n",
       " <_io.TextIOWrapper name='111' mode='r' encoding='UTF-8'>,\n",
       " <_io.TextIOWrapper name='111' mode='r' encoding='UTF-8'>,\n",
       " <_io.TextIOWrapper name='111' mode='r' encoding='UTF-8'>,\n",
       " <_io.TextIOWrapper name='111' mode='r' encoding='UTF-8'>,\n",
       " <_io.TextIOWrapper name='111' mode='r' encoding='UTF-8'>,\n",
       " <_io.TextIOWrapper name='111' mode='r' encoding='UTF-8'>,\n",
       " <_io.TextIOWrapper name='111' mode='r' encoding='UTF-8'>,\n",
       " <_io.TextIOWrapper name='111' mode='r' encoding='UTF-8'>,\n",
       " <_io.TextIOWrapper name='111' mode='r' encoding='UTF-8'>,\n",
       " <_io.TextIOWrapper name='111' mode='r' encoding='UTF-8'>,\n",
       " <_io.TextIOWrapper name='111' mode='r' encoding='UTF-8'>,\n",
       " <_io.TextIOWrapper name='111' mode='r' encoding='UTF-8'>,\n",
       " <_io.TextIOWrapper name='111' mode='r' encoding='UTF-8'>,\n",
       " <_io.TextIOWrapper name='111' mode='r' encoding='UTF-8'>,\n",
       " <_io.TextIOWrapper name='111' mode='r' encoding='UTF-8'>,\n",
       " <_io.TextIOWrapper name='111' mode='r' encoding='UTF-8'>,\n",
       " <_io.TextIOWrapper name='111' mode='r' encoding='UTF-8'>,\n",
       " <_io.TextIOWrapper name='111' mode='r' encoding='UTF-8'>,\n",
       " <_io.TextIOWrapper name='111' mode='r' encoding='UTF-8'>,\n",
       " <_io.TextIOWrapper name='111' mode='r' encoding='UTF-8'>,\n",
       " <_io.TextIOWrapper name='111' mode='r' encoding='UTF-8'>,\n",
       " <_io.TextIOWrapper name='111' mode='r' encoding='UTF-8'>,\n",
       " <_io.TextIOWrapper name='111' mode='r' encoding='UTF-8'>,\n",
       " <_io.TextIOWrapper name='111' mode='r' encoding='UTF-8'>,\n",
       " <_io.TextIOWrapper name='111' mode='r' encoding='UTF-8'>,\n",
       " <_io.TextIOWrapper name='111' mode='r' encoding='UTF-8'>,\n",
       " <_io.TextIOWrapper name='111' mode='r' encoding='UTF-8'>,\n",
       " <_io.TextIOWrapper name='111' mode='r' encoding='UTF-8'>,\n",
       " <_io.TextIOWrapper name='111' mode='r' encoding='UTF-8'>,\n",
       " <_io.TextIOWrapper name='111' mode='r' encoding='UTF-8'>,\n",
       " <_io.TextIOWrapper name='111' mode='r' encoding='UTF-8'>,\n",
       " <_io.TextIOWrapper name='111' mode='r' encoding='UTF-8'>,\n",
       " <_io.TextIOWrapper name='111' mode='r' encoding='UTF-8'>,\n",
       " <_io.TextIOWrapper name='111' mode='r' encoding='UTF-8'>,\n",
       " <_io.TextIOWrapper name='111' mode='r' encoding='UTF-8'>,\n",
       " <_io.TextIOWrapper name='111' mode='r' encoding='UTF-8'>,\n",
       " <_io.TextIOWrapper name='111' mode='r' encoding='UTF-8'>,\n",
       " <_io.TextIOWrapper name='111' mode='r' encoding='UTF-8'>,\n",
       " <_io.TextIOWrapper name='111' mode='r' encoding='UTF-8'>,\n",
       " <_io.TextIOWrapper name='111' mode='r' encoding='UTF-8'>,\n",
       " <_io.TextIOWrapper name='111' mode='r' encoding='UTF-8'>,\n",
       " <_io.TextIOWrapper name='111' mode='r' encoding='UTF-8'>,\n",
       " <_io.TextIOWrapper name='111' mode='r' encoding='UTF-8'>,\n",
       " <_io.TextIOWrapper name='111' mode='r' encoding='UTF-8'>,\n",
       " <_io.TextIOWrapper name='111' mode='r' encoding='UTF-8'>,\n",
       " <_io.TextIOWrapper name='111' mode='r' encoding='UTF-8'>,\n",
       " <_io.TextIOWrapper name='111' mode='r' encoding='UTF-8'>,\n",
       " <_io.TextIOWrapper name='111' mode='r' encoding='UTF-8'>,\n",
       " <_io.TextIOWrapper name='111' mode='r' encoding='UTF-8'>,\n",
       " <_io.TextIOWrapper name='111' mode='r' encoding='UTF-8'>,\n",
       " <_io.TextIOWrapper name='111' mode='r' encoding='UTF-8'>,\n",
       " <_io.TextIOWrapper name='111' mode='r' encoding='UTF-8'>,\n",
       " <_io.TextIOWrapper name='111' mode='r' encoding='UTF-8'>,\n",
       " <_io.TextIOWrapper name='111' mode='r' encoding='UTF-8'>,\n",
       " <_io.TextIOWrapper name='111' mode='r' encoding='UTF-8'>,\n",
       " <_io.TextIOWrapper name='111' mode='r' encoding='UTF-8'>,\n",
       " <_io.TextIOWrapper name='111' mode='r' encoding='UTF-8'>,\n",
       " <_io.TextIOWrapper name='111' mode='r' encoding='UTF-8'>,\n",
       " <_io.TextIOWrapper name='111' mode='r' encoding='UTF-8'>,\n",
       " <_io.TextIOWrapper name='111' mode='r' encoding='UTF-8'>,\n",
       " <_io.TextIOWrapper name='111' mode='r' encoding='UTF-8'>,\n",
       " <_io.TextIOWrapper name='111' mode='r' encoding='UTF-8'>,\n",
       " <_io.TextIOWrapper name='111' mode='r' encoding='UTF-8'>,\n",
       " <_io.TextIOWrapper name='111' mode='r' encoding='UTF-8'>,\n",
       " <_io.TextIOWrapper name='111' mode='r' encoding='UTF-8'>,\n",
       " <_io.TextIOWrapper name='111' mode='r' encoding='UTF-8'>,\n",
       " <_io.TextIOWrapper name='111' mode='r' encoding='UTF-8'>,\n",
       " <_io.TextIOWrapper name='111' mode='r' encoding='UTF-8'>,\n",
       " <_io.TextIOWrapper name='111' mode='r' encoding='UTF-8'>,\n",
       " <_io.TextIOWrapper name='111' mode='r' encoding='UTF-8'>,\n",
       " <_io.TextIOWrapper name='111' mode='r' encoding='UTF-8'>,\n",
       " <_io.TextIOWrapper name='111' mode='r' encoding='UTF-8'>,\n",
       " <_io.TextIOWrapper name='111' mode='r' encoding='UTF-8'>,\n",
       " <_io.TextIOWrapper name='111' mode='r' encoding='UTF-8'>,\n",
       " <_io.TextIOWrapper name='111' mode='r' encoding='UTF-8'>,\n",
       " <_io.TextIOWrapper name='111' mode='r' encoding='UTF-8'>,\n",
       " <_io.TextIOWrapper name='111' mode='r' encoding='UTF-8'>,\n",
       " <_io.TextIOWrapper name='111' mode='r' encoding='UTF-8'>,\n",
       " <_io.TextIOWrapper name='111' mode='r' encoding='UTF-8'>,\n",
       " <_io.TextIOWrapper name='111' mode='r' encoding='UTF-8'>,\n",
       " <_io.TextIOWrapper name='111' mode='r' encoding='UTF-8'>,\n",
       " <_io.TextIOWrapper name='111' mode='r' encoding='UTF-8'>,\n",
       " <_io.TextIOWrapper name='111' mode='r' encoding='UTF-8'>,\n",
       " <_io.TextIOWrapper name='111' mode='r' encoding='UTF-8'>,\n",
       " <_io.TextIOWrapper name='111' mode='r' encoding='UTF-8'>,\n",
       " <_io.TextIOWrapper name='111' mode='r' encoding='UTF-8'>,\n",
       " <_io.TextIOWrapper name='111' mode='r' encoding='UTF-8'>,\n",
       " <_io.TextIOWrapper name='111' mode='r' encoding='UTF-8'>,\n",
       " <_io.TextIOWrapper name='111' mode='r' encoding='UTF-8'>,\n",
       " <_io.TextIOWrapper name='111' mode='r' encoding='UTF-8'>,\n",
       " <_io.TextIOWrapper name='111' mode='r' encoding='UTF-8'>,\n",
       " <_io.TextIOWrapper name='111' mode='r' encoding='UTF-8'>,\n",
       " <_io.TextIOWrapper name='111' mode='r' encoding='UTF-8'>,\n",
       " <_io.TextIOWrapper name='111' mode='r' encoding='UTF-8'>,\n",
       " <_io.TextIOWrapper name='111' mode='r' encoding='UTF-8'>,\n",
       " <_io.TextIOWrapper name='111' mode='r' encoding='UTF-8'>,\n",
       " <_io.TextIOWrapper name='111' mode='r' encoding='UTF-8'>,\n",
       " <_io.TextIOWrapper name='111' mode='r' encoding='UTF-8'>,\n",
       " <_io.TextIOWrapper name='111' mode='r' encoding='UTF-8'>,\n",
       " <_io.TextIOWrapper name='111' mode='r' encoding='UTF-8'>,\n",
       " <_io.TextIOWrapper name='111' mode='r' encoding='UTF-8'>,\n",
       " <_io.TextIOWrapper name='111' mode='r' encoding='UTF-8'>,\n",
       " <_io.TextIOWrapper name='111' mode='r' encoding='UTF-8'>,\n",
       " <_io.TextIOWrapper name='111' mode='r' encoding='UTF-8'>,\n",
       " <_io.TextIOWrapper name='111' mode='r' encoding='UTF-8'>,\n",
       " <_io.TextIOWrapper name='111' mode='r' encoding='UTF-8'>,\n",
       " <_io.TextIOWrapper name='111' mode='r' encoding='UTF-8'>,\n",
       " <_io.TextIOWrapper name='111' mode='r' encoding='UTF-8'>,\n",
       " <_io.TextIOWrapper name='111' mode='r' encoding='UTF-8'>,\n",
       " <_io.TextIOWrapper name='111' mode='r' encoding='UTF-8'>,\n",
       " <_io.TextIOWrapper name='111' mode='r' encoding='UTF-8'>,\n",
       " <_io.TextIOWrapper name='111' mode='r' encoding='UTF-8'>,\n",
       " <_io.TextIOWrapper name='111' mode='r' encoding='UTF-8'>,\n",
       " <_io.TextIOWrapper name='111' mode='r' encoding='UTF-8'>,\n",
       " <_io.TextIOWrapper name='111' mode='r' encoding='UTF-8'>,\n",
       " <_io.TextIOWrapper name='111' mode='r' encoding='UTF-8'>,\n",
       " <_io.TextIOWrapper name='111' mode='r' encoding='UTF-8'>,\n",
       " <_io.TextIOWrapper name='111' mode='r' encoding='UTF-8'>,\n",
       " <_io.TextIOWrapper name='111' mode='r' encoding='UTF-8'>,\n",
       " <_io.TextIOWrapper name='111' mode='r' encoding='UTF-8'>,\n",
       " <_io.TextIOWrapper name='111' mode='r' encoding='UTF-8'>,\n",
       " <_io.TextIOWrapper name='111' mode='r' encoding='UTF-8'>,\n",
       " <_io.TextIOWrapper name='111' mode='r' encoding='UTF-8'>,\n",
       " <_io.TextIOWrapper name='111' mode='r' encoding='UTF-8'>,\n",
       " <_io.TextIOWrapper name='111' mode='r' encoding='UTF-8'>,\n",
       " <_io.TextIOWrapper name='111' mode='r' encoding='UTF-8'>,\n",
       " <_io.TextIOWrapper name='111' mode='r' encoding='UTF-8'>,\n",
       " <_io.TextIOWrapper name='111' mode='r' encoding='UTF-8'>,\n",
       " <_io.TextIOWrapper name='111' mode='r' encoding='UTF-8'>,\n",
       " <_io.TextIOWrapper name='111' mode='r' encoding='UTF-8'>,\n",
       " <_io.TextIOWrapper name='111' mode='r' encoding='UTF-8'>,\n",
       " <_io.TextIOWrapper name='111' mode='r' encoding='UTF-8'>,\n",
       " <_io.TextIOWrapper name='111' mode='r' encoding='UTF-8'>,\n",
       " <_io.TextIOWrapper name='111' mode='r' encoding='UTF-8'>,\n",
       " <_io.TextIOWrapper name='111' mode='r' encoding='UTF-8'>,\n",
       " <_io.TextIOWrapper name='111' mode='r' encoding='UTF-8'>,\n",
       " <_io.TextIOWrapper name='111' mode='r' encoding='UTF-8'>,\n",
       " <_io.TextIOWrapper name='111' mode='r' encoding='UTF-8'>,\n",
       " <_io.TextIOWrapper name='111' mode='r' encoding='UTF-8'>,\n",
       " <_io.TextIOWrapper name='111' mode='r' encoding='UTF-8'>,\n",
       " <_io.TextIOWrapper name='111' mode='r' encoding='UTF-8'>,\n",
       " <_io.TextIOWrapper name='111' mode='r' encoding='UTF-8'>,\n",
       " <_io.TextIOWrapper name='111' mode='r' encoding='UTF-8'>,\n",
       " <_io.TextIOWrapper name='111' mode='r' encoding='UTF-8'>,\n",
       " <_io.TextIOWrapper name='111' mode='r' encoding='UTF-8'>,\n",
       " <_io.TextIOWrapper name='111' mode='r' encoding='UTF-8'>,\n",
       " <_io.TextIOWrapper name='111' mode='r' encoding='UTF-8'>,\n",
       " <_io.TextIOWrapper name='111' mode='r' encoding='UTF-8'>,\n",
       " <_io.TextIOWrapper name='111' mode='r' encoding='UTF-8'>,\n",
       " <_io.TextIOWrapper name='111' mode='r' encoding='UTF-8'>,\n",
       " <_io.TextIOWrapper name='111' mode='r' encoding='UTF-8'>,\n",
       " <_io.TextIOWrapper name='111' mode='r' encoding='UTF-8'>,\n",
       " <_io.TextIOWrapper name='111' mode='r' encoding='UTF-8'>,\n",
       " <_io.TextIOWrapper name='111' mode='r' encoding='UTF-8'>,\n",
       " <_io.TextIOWrapper name='111' mode='r' encoding='UTF-8'>,\n",
       " <_io.TextIOWrapper name='111' mode='r' encoding='UTF-8'>,\n",
       " <_io.TextIOWrapper name='111' mode='r' encoding='UTF-8'>,\n",
       " <_io.TextIOWrapper name='111' mode='r' encoding='UTF-8'>,\n",
       " <_io.TextIOWrapper name='111' mode='r' encoding='UTF-8'>,\n",
       " <_io.TextIOWrapper name='111' mode='r' encoding='UTF-8'>,\n",
       " <_io.TextIOWrapper name='111' mode='r' encoding='UTF-8'>,\n",
       " <_io.TextIOWrapper name='111' mode='r' encoding='UTF-8'>,\n",
       " <_io.TextIOWrapper name='111' mode='r' encoding='UTF-8'>,\n",
       " <_io.TextIOWrapper name='111' mode='r' encoding='UTF-8'>,\n",
       " <_io.TextIOWrapper name='111' mode='r' encoding='UTF-8'>,\n",
       " <_io.TextIOWrapper name='111' mode='r' encoding='UTF-8'>,\n",
       " <_io.TextIOWrapper name='111' mode='r' encoding='UTF-8'>,\n",
       " <_io.TextIOWrapper name='111' mode='r' encoding='UTF-8'>,\n",
       " <_io.TextIOWrapper name='111' mode='r' encoding='UTF-8'>,\n",
       " <_io.TextIOWrapper name='111' mode='r' encoding='UTF-8'>,\n",
       " <_io.TextIOWrapper name='111' mode='r' encoding='UTF-8'>,\n",
       " <_io.TextIOWrapper name='111' mode='r' encoding='UTF-8'>,\n",
       " <_io.TextIOWrapper name='111' mode='r' encoding='UTF-8'>,\n",
       " <_io.TextIOWrapper name='111' mode='r' encoding='UTF-8'>,\n",
       " <_io.TextIOWrapper name='111' mode='r' encoding='UTF-8'>,\n",
       " <_io.TextIOWrapper name='111' mode='r' encoding='UTF-8'>,\n",
       " <_io.TextIOWrapper name='111' mode='r' encoding='UTF-8'>,\n",
       " <_io.TextIOWrapper name='111' mode='r' encoding='UTF-8'>,\n",
       " <_io.TextIOWrapper name='111' mode='r' encoding='UTF-8'>,\n",
       " <_io.TextIOWrapper name='111' mode='r' encoding='UTF-8'>,\n",
       " <_io.TextIOWrapper name='111' mode='r' encoding='UTF-8'>,\n",
       " <_io.TextIOWrapper name='111' mode='r' encoding='UTF-8'>,\n",
       " <_io.TextIOWrapper name='111' mode='r' encoding='UTF-8'>,\n",
       " <_io.TextIOWrapper name='111' mode='r' encoding='UTF-8'>,\n",
       " <_io.TextIOWrapper name='111' mode='r' encoding='UTF-8'>,\n",
       " <_io.TextIOWrapper name='111' mode='r' encoding='UTF-8'>,\n",
       " <_io.TextIOWrapper name='111' mode='r' encoding='UTF-8'>,\n",
       " <_io.TextIOWrapper name='111' mode='r' encoding='UTF-8'>,\n",
       " <_io.TextIOWrapper name='111' mode='r' encoding='UTF-8'>,\n",
       " <_io.TextIOWrapper name='111' mode='r' encoding='UTF-8'>,\n",
       " <_io.TextIOWrapper name='111' mode='r' encoding='UTF-8'>,\n",
       " <_io.TextIOWrapper name='111' mode='r' encoding='UTF-8'>,\n",
       " <_io.TextIOWrapper name='111' mode='r' encoding='UTF-8'>,\n",
       " <_io.TextIOWrapper name='111' mode='r' encoding='UTF-8'>,\n",
       " <_io.TextIOWrapper name='111' mode='r' encoding='UTF-8'>,\n",
       " <_io.TextIOWrapper name='111' mode='r' encoding='UTF-8'>,\n",
       " <_io.TextIOWrapper name='111' mode='r' encoding='UTF-8'>,\n",
       " <_io.TextIOWrapper name='111' mode='r' encoding='UTF-8'>,\n",
       " <_io.TextIOWrapper name='111' mode='r' encoding='UTF-8'>,\n",
       " <_io.TextIOWrapper name='111' mode='r' encoding='UTF-8'>,\n",
       " <_io.TextIOWrapper name='111' mode='r' encoding='UTF-8'>,\n",
       " <_io.TextIOWrapper name='111' mode='r' encoding='UTF-8'>,\n",
       " <_io.TextIOWrapper name='111' mode='r' encoding='UTF-8'>,\n",
       " <_io.TextIOWrapper name='111' mode='r' encoding='UTF-8'>,\n",
       " <_io.TextIOWrapper name='111' mode='r' encoding='UTF-8'>,\n",
       " <_io.TextIOWrapper name='111' mode='r' encoding='UTF-8'>,\n",
       " <_io.TextIOWrapper name='111' mode='r' encoding='UTF-8'>,\n",
       " <_io.TextIOWrapper name='111' mode='r' encoding='UTF-8'>,\n",
       " <_io.TextIOWrapper name='111' mode='r' encoding='UTF-8'>,\n",
       " <_io.TextIOWrapper name='111' mode='r' encoding='UTF-8'>,\n",
       " <_io.TextIOWrapper name='111' mode='r' encoding='UTF-8'>,\n",
       " <_io.TextIOWrapper name='111' mode='r' encoding='UTF-8'>,\n",
       " <_io.TextIOWrapper name='111' mode='r' encoding='UTF-8'>,\n",
       " <_io.TextIOWrapper name='111' mode='r' encoding='UTF-8'>,\n",
       " <_io.TextIOWrapper name='111' mode='r' encoding='UTF-8'>,\n",
       " <_io.TextIOWrapper name='111' mode='r' encoding='UTF-8'>,\n",
       " <_io.TextIOWrapper name='111' mode='r' encoding='UTF-8'>,\n",
       " <_io.TextIOWrapper name='111' mode='r' encoding='UTF-8'>,\n",
       " <_io.TextIOWrapper name='111' mode='r' encoding='UTF-8'>,\n",
       " <_io.TextIOWrapper name='111' mode='r' encoding='UTF-8'>,\n",
       " <_io.TextIOWrapper name='111' mode='r' encoding='UTF-8'>,\n",
       " <_io.TextIOWrapper name='111' mode='r' encoding='UTF-8'>,\n",
       " <_io.TextIOWrapper name='111' mode='r' encoding='UTF-8'>,\n",
       " <_io.TextIOWrapper name='111' mode='r' encoding='UTF-8'>,\n",
       " <_io.TextIOWrapper name='111' mode='r' encoding='UTF-8'>,\n",
       " <_io.TextIOWrapper name='111' mode='r' encoding='UTF-8'>,\n",
       " <_io.TextIOWrapper name='111' mode='r' encoding='UTF-8'>,\n",
       " <_io.TextIOWrapper name='111' mode='r' encoding='UTF-8'>,\n",
       " <_io.TextIOWrapper name='111' mode='r' encoding='UTF-8'>,\n",
       " <_io.TextIOWrapper name='111' mode='r' encoding='UTF-8'>,\n",
       " <_io.TextIOWrapper name='111' mode='r' encoding='UTF-8'>,\n",
       " <_io.TextIOWrapper name='111' mode='r' encoding='UTF-8'>,\n",
       " <_io.TextIOWrapper name='111' mode='r' encoding='UTF-8'>,\n",
       " <_io.TextIOWrapper name='111' mode='r' encoding='UTF-8'>,\n",
       " <_io.TextIOWrapper name='111' mode='r' encoding='UTF-8'>,\n",
       " <_io.TextIOWrapper name='111' mode='r' encoding='UTF-8'>,\n",
       " <_io.TextIOWrapper name='111' mode='r' encoding='UTF-8'>,\n",
       " <_io.TextIOWrapper name='111' mode='r' encoding='UTF-8'>,\n",
       " <_io.TextIOWrapper name='111' mode='r' encoding='UTF-8'>,\n",
       " <_io.TextIOWrapper name='111' mode='r' encoding='UTF-8'>,\n",
       " <_io.TextIOWrapper name='111' mode='r' encoding='UTF-8'>,\n",
       " <_io.TextIOWrapper name='111' mode='r' encoding='UTF-8'>,\n",
       " <_io.TextIOWrapper name='111' mode='r' encoding='UTF-8'>,\n",
       " <_io.TextIOWrapper name='111' mode='r' encoding='UTF-8'>,\n",
       " <_io.TextIOWrapper name='111' mode='r' encoding='UTF-8'>,\n",
       " <_io.TextIOWrapper name='111' mode='r' encoding='UTF-8'>,\n",
       " <_io.TextIOWrapper name='111' mode='r' encoding='UTF-8'>,\n",
       " <_io.TextIOWrapper name='111' mode='r' encoding='UTF-8'>,\n",
       " <_io.TextIOWrapper name='111' mode='r' encoding='UTF-8'>,\n",
       " <_io.TextIOWrapper name='111' mode='r' encoding='UTF-8'>,\n",
       " <_io.TextIOWrapper name='111' mode='r' encoding='UTF-8'>,\n",
       " <_io.TextIOWrapper name='111' mode='r' encoding='UTF-8'>,\n",
       " <_io.TextIOWrapper name='111' mode='r' encoding='UTF-8'>,\n",
       " <_io.TextIOWrapper name='111' mode='r' encoding='UTF-8'>,\n",
       " <_io.TextIOWrapper name='111' mode='r' encoding='UTF-8'>,\n",
       " <_io.TextIOWrapper name='111' mode='r' encoding='UTF-8'>,\n",
       " <_io.TextIOWrapper name='111' mode='r' encoding='UTF-8'>,\n",
       " <_io.TextIOWrapper name='111' mode='r' encoding='UTF-8'>,\n",
       " <_io.TextIOWrapper name='111' mode='r' encoding='UTF-8'>,\n",
       " <_io.TextIOWrapper name='111' mode='r' encoding='UTF-8'>,\n",
       " <_io.TextIOWrapper name='111' mode='r' encoding='UTF-8'>,\n",
       " <_io.TextIOWrapper name='111' mode='r' encoding='UTF-8'>,\n",
       " <_io.TextIOWrapper name='111' mode='r' encoding='UTF-8'>,\n",
       " <_io.TextIOWrapper name='111' mode='r' encoding='UTF-8'>,\n",
       " <_io.TextIOWrapper name='111' mode='r' encoding='UTF-8'>,\n",
       " <_io.TextIOWrapper name='111' mode='r' encoding='UTF-8'>,\n",
       " <_io.TextIOWrapper name='111' mode='r' encoding='UTF-8'>,\n",
       " <_io.TextIOWrapper name='111' mode='r' encoding='UTF-8'>,\n",
       " <_io.TextIOWrapper name='111' mode='r' encoding='UTF-8'>,\n",
       " <_io.TextIOWrapper name='111' mode='r' encoding='UTF-8'>,\n",
       " <_io.TextIOWrapper name='111' mode='r' encoding='UTF-8'>,\n",
       " <_io.TextIOWrapper name='111' mode='r' encoding='UTF-8'>,\n",
       " <_io.TextIOWrapper name='111' mode='r' encoding='UTF-8'>,\n",
       " <_io.TextIOWrapper name='111' mode='r' encoding='UTF-8'>,\n",
       " <_io.TextIOWrapper name='111' mode='r' encoding='UTF-8'>,\n",
       " <_io.TextIOWrapper name='111' mode='r' encoding='UTF-8'>,\n",
       " <_io.TextIOWrapper name='111' mode='r' encoding='UTF-8'>,\n",
       " <_io.TextIOWrapper name='111' mode='r' encoding='UTF-8'>,\n",
       " <_io.TextIOWrapper name='111' mode='r' encoding='UTF-8'>,\n",
       " <_io.TextIOWrapper name='111' mode='r' encoding='UTF-8'>,\n",
       " <_io.TextIOWrapper name='111' mode='r' encoding='UTF-8'>,\n",
       " <_io.TextIOWrapper name='111' mode='r' encoding='UTF-8'>,\n",
       " <_io.TextIOWrapper name='111' mode='r' encoding='UTF-8'>,\n",
       " <_io.TextIOWrapper name='111' mode='r' encoding='UTF-8'>,\n",
       " <_io.TextIOWrapper name='111' mode='r' encoding='UTF-8'>,\n",
       " <_io.TextIOWrapper name='111' mode='r' encoding='UTF-8'>,\n",
       " <_io.TextIOWrapper name='111' mode='r' encoding='UTF-8'>,\n",
       " <_io.TextIOWrapper name='111' mode='r' encoding='UTF-8'>,\n",
       " <_io.TextIOWrapper name='111' mode='r' encoding='UTF-8'>,\n",
       " <_io.TextIOWrapper name='111' mode='r' encoding='UTF-8'>,\n",
       " <_io.TextIOWrapper name='111' mode='r' encoding='UTF-8'>,\n",
       " <_io.TextIOWrapper name='111' mode='r' encoding='UTF-8'>,\n",
       " <_io.TextIOWrapper name='111' mode='r' encoding='UTF-8'>,\n",
       " <_io.TextIOWrapper name='111' mode='r' encoding='UTF-8'>,\n",
       " <_io.TextIOWrapper name='111' mode='r' encoding='UTF-8'>,\n",
       " <_io.TextIOWrapper name='111' mode='r' encoding='UTF-8'>,\n",
       " <_io.TextIOWrapper name='111' mode='r' encoding='UTF-8'>,\n",
       " <_io.TextIOWrapper name='111' mode='r' encoding='UTF-8'>,\n",
       " <_io.TextIOWrapper name='111' mode='r' encoding='UTF-8'>,\n",
       " <_io.TextIOWrapper name='111' mode='r' encoding='UTF-8'>,\n",
       " <_io.TextIOWrapper name='111' mode='r' encoding='UTF-8'>,\n",
       " <_io.TextIOWrapper name='111' mode='r' encoding='UTF-8'>,\n",
       " <_io.TextIOWrapper name='111' mode='r' encoding='UTF-8'>,\n",
       " <_io.TextIOWrapper name='111' mode='r' encoding='UTF-8'>,\n",
       " <_io.TextIOWrapper name='111' mode='r' encoding='UTF-8'>,\n",
       " <_io.TextIOWrapper name='111' mode='r' encoding='UTF-8'>,\n",
       " <_io.TextIOWrapper name='111' mode='r' encoding='UTF-8'>,\n",
       " <_io.TextIOWrapper name='111' mode='r' encoding='UTF-8'>,\n",
       " <_io.TextIOWrapper name='111' mode='r' encoding='UTF-8'>,\n",
       " <_io.TextIOWrapper name='111' mode='r' encoding='UTF-8'>,\n",
       " <_io.TextIOWrapper name='111' mode='r' encoding='UTF-8'>,\n",
       " <_io.TextIOWrapper name='111' mode='r' encoding='UTF-8'>,\n",
       " <_io.TextIOWrapper name='111' mode='r' encoding='UTF-8'>,\n",
       " <_io.TextIOWrapper name='111' mode='r' encoding='UTF-8'>,\n",
       " <_io.TextIOWrapper name='111' mode='r' encoding='UTF-8'>,\n",
       " <_io.TextIOWrapper name='111' mode='r' encoding='UTF-8'>,\n",
       " <_io.TextIOWrapper name='111' mode='r' encoding='UTF-8'>,\n",
       " <_io.TextIOWrapper name='111' mode='r' encoding='UTF-8'>,\n",
       " <_io.TextIOWrapper name='111' mode='r' encoding='UTF-8'>,\n",
       " <_io.TextIOWrapper name='111' mode='r' encoding='UTF-8'>,\n",
       " <_io.TextIOWrapper name='111' mode='r' encoding='UTF-8'>,\n",
       " <_io.TextIOWrapper name='111' mode='r' encoding='UTF-8'>,\n",
       " <_io.TextIOWrapper name='111' mode='r' encoding='UTF-8'>,\n",
       " <_io.TextIOWrapper name='111' mode='r' encoding='UTF-8'>,\n",
       " <_io.TextIOWrapper name='111' mode='r' encoding='UTF-8'>,\n",
       " <_io.TextIOWrapper name='111' mode='r' encoding='UTF-8'>,\n",
       " <_io.TextIOWrapper name='111' mode='r' encoding='UTF-8'>,\n",
       " <_io.TextIOWrapper name='111' mode='r' encoding='UTF-8'>,\n",
       " <_io.TextIOWrapper name='111' mode='r' encoding='UTF-8'>,\n",
       " <_io.TextIOWrapper name='111' mode='r' encoding='UTF-8'>,\n",
       " <_io.TextIOWrapper name='111' mode='r' encoding='UTF-8'>,\n",
       " <_io.TextIOWrapper name='111' mode='r' encoding='UTF-8'>,\n",
       " <_io.TextIOWrapper name='111' mode='r' encoding='UTF-8'>,\n",
       " <_io.TextIOWrapper name='111' mode='r' encoding='UTF-8'>,\n",
       " <_io.TextIOWrapper name='111' mode='r' encoding='UTF-8'>,\n",
       " <_io.TextIOWrapper name='111' mode='r' encoding='UTF-8'>,\n",
       " <_io.TextIOWrapper name='111' mode='r' encoding='UTF-8'>,\n",
       " <_io.TextIOWrapper name='111' mode='r' encoding='UTF-8'>,\n",
       " <_io.TextIOWrapper name='111' mode='r' encoding='UTF-8'>,\n",
       " <_io.TextIOWrapper name='111' mode='r' encoding='UTF-8'>,\n",
       " <_io.TextIOWrapper name='111' mode='r' encoding='UTF-8'>,\n",
       " <_io.TextIOWrapper name='111' mode='r' encoding='UTF-8'>,\n",
       " <_io.TextIOWrapper name='111' mode='r' encoding='UTF-8'>,\n",
       " <_io.TextIOWrapper name='111' mode='r' encoding='UTF-8'>,\n",
       " <_io.TextIOWrapper name='111' mode='r' encoding='UTF-8'>,\n",
       " <_io.TextIOWrapper name='111' mode='r' encoding='UTF-8'>,\n",
       " <_io.TextIOWrapper name='111' mode='r' encoding='UTF-8'>,\n",
       " <_io.TextIOWrapper name='111' mode='r' encoding='UTF-8'>,\n",
       " <_io.TextIOWrapper name='111' mode='r' encoding='UTF-8'>,\n",
       " <_io.TextIOWrapper name='111' mode='r' encoding='UTF-8'>,\n",
       " <_io.TextIOWrapper name='111' mode='r' encoding='UTF-8'>,\n",
       " <_io.TextIOWrapper name='111' mode='r' encoding='UTF-8'>,\n",
       " <_io.TextIOWrapper name='111' mode='r' encoding='UTF-8'>,\n",
       " <_io.TextIOWrapper name='111' mode='r' encoding='UTF-8'>,\n",
       " <_io.TextIOWrapper name='111' mode='r' encoding='UTF-8'>,\n",
       " <_io.TextIOWrapper name='111' mode='r' encoding='UTF-8'>,\n",
       " <_io.TextIOWrapper name='111' mode='r' encoding='UTF-8'>,\n",
       " <_io.TextIOWrapper name='111' mode='r' encoding='UTF-8'>,\n",
       " <_io.TextIOWrapper name='111' mode='r' encoding='UTF-8'>,\n",
       " <_io.TextIOWrapper name='111' mode='r' encoding='UTF-8'>,\n",
       " <_io.TextIOWrapper name='111' mode='r' encoding='UTF-8'>,\n",
       " <_io.TextIOWrapper name='111' mode='r' encoding='UTF-8'>,\n",
       " <_io.TextIOWrapper name='111' mode='r' encoding='UTF-8'>,\n",
       " <_io.TextIOWrapper name='111' mode='r' encoding='UTF-8'>,\n",
       " <_io.TextIOWrapper name='111' mode='r' encoding='UTF-8'>,\n",
       " <_io.TextIOWrapper name='111' mode='r' encoding='UTF-8'>,\n",
       " <_io.TextIOWrapper name='111' mode='r' encoding='UTF-8'>,\n",
       " <_io.TextIOWrapper name='111' mode='r' encoding='UTF-8'>,\n",
       " <_io.TextIOWrapper name='111' mode='r' encoding='UTF-8'>,\n",
       " <_io.TextIOWrapper name='111' mode='r' encoding='UTF-8'>,\n",
       " <_io.TextIOWrapper name='111' mode='r' encoding='UTF-8'>,\n",
       " <_io.TextIOWrapper name='111' mode='r' encoding='UTF-8'>,\n",
       " <_io.TextIOWrapper name='111' mode='r' encoding='UTF-8'>,\n",
       " <_io.TextIOWrapper name='111' mode='r' encoding='UTF-8'>,\n",
       " <_io.TextIOWrapper name='111' mode='r' encoding='UTF-8'>,\n",
       " <_io.TextIOWrapper name='111' mode='r' encoding='UTF-8'>,\n",
       " <_io.TextIOWrapper name='111' mode='r' encoding='UTF-8'>,\n",
       " <_io.TextIOWrapper name='111' mode='r' encoding='UTF-8'>,\n",
       " <_io.TextIOWrapper name='111' mode='r' encoding='UTF-8'>,\n",
       " <_io.TextIOWrapper name='111' mode='r' encoding='UTF-8'>,\n",
       " <_io.TextIOWrapper name='111' mode='r' encoding='UTF-8'>,\n",
       " <_io.TextIOWrapper name='111' mode='r' encoding='UTF-8'>,\n",
       " <_io.TextIOWrapper name='111' mode='r' encoding='UTF-8'>,\n",
       " <_io.TextIOWrapper name='111' mode='r' encoding='UTF-8'>,\n",
       " <_io.TextIOWrapper name='111' mode='r' encoding='UTF-8'>,\n",
       " <_io.TextIOWrapper name='111' mode='r' encoding='UTF-8'>,\n",
       " <_io.TextIOWrapper name='111' mode='r' encoding='UTF-8'>,\n",
       " <_io.TextIOWrapper name='111' mode='r' encoding='UTF-8'>,\n",
       " <_io.TextIOWrapper name='111' mode='r' encoding='UTF-8'>,\n",
       " <_io.TextIOWrapper name='111' mode='r' encoding='UTF-8'>,\n",
       " <_io.TextIOWrapper name='111' mode='r' encoding='UTF-8'>,\n",
       " <_io.TextIOWrapper name='111' mode='r' encoding='UTF-8'>,\n",
       " <_io.TextIOWrapper name='111' mode='r' encoding='UTF-8'>,\n",
       " <_io.TextIOWrapper name='111' mode='r' encoding='UTF-8'>,\n",
       " <_io.TextIOWrapper name='111' mode='r' encoding='UTF-8'>,\n",
       " <_io.TextIOWrapper name='111' mode='r' encoding='UTF-8'>,\n",
       " <_io.TextIOWrapper name='111' mode='r' encoding='UTF-8'>,\n",
       " <_io.TextIOWrapper name='111' mode='r' encoding='UTF-8'>,\n",
       " <_io.TextIOWrapper name='111' mode='r' encoding='UTF-8'>,\n",
       " <_io.TextIOWrapper name='111' mode='r' encoding='UTF-8'>,\n",
       " <_io.TextIOWrapper name='111' mode='r' encoding='UTF-8'>,\n",
       " <_io.TextIOWrapper name='111' mode='r' encoding='UTF-8'>,\n",
       " <_io.TextIOWrapper name='111' mode='r' encoding='UTF-8'>,\n",
       " <_io.TextIOWrapper name='111' mode='r' encoding='UTF-8'>,\n",
       " <_io.TextIOWrapper name='111' mode='r' encoding='UTF-8'>,\n",
       " <_io.TextIOWrapper name='111' mode='r' encoding='UTF-8'>,\n",
       " <_io.TextIOWrapper name='111' mode='r' encoding='UTF-8'>,\n",
       " <_io.TextIOWrapper name='111' mode='r' encoding='UTF-8'>,\n",
       " <_io.TextIOWrapper name='111' mode='r' encoding='UTF-8'>,\n",
       " <_io.TextIOWrapper name='111' mode='r' encoding='UTF-8'>,\n",
       " <_io.TextIOWrapper name='111' mode='r' encoding='UTF-8'>,\n",
       " <_io.TextIOWrapper name='111' mode='r' encoding='UTF-8'>,\n",
       " <_io.TextIOWrapper name='111' mode='r' encoding='UTF-8'>,\n",
       " <_io.TextIOWrapper name='111' mode='r' encoding='UTF-8'>,\n",
       " <_io.TextIOWrapper name='111' mode='r' encoding='UTF-8'>,\n",
       " <_io.TextIOWrapper name='111' mode='r' encoding='UTF-8'>,\n",
       " <_io.TextIOWrapper name='111' mode='r' encoding='UTF-8'>,\n",
       " <_io.TextIOWrapper name='111' mode='r' encoding='UTF-8'>,\n",
       " <_io.TextIOWrapper name='111' mode='r' encoding='UTF-8'>,\n",
       " <_io.TextIOWrapper name='111' mode='r' encoding='UTF-8'>,\n",
       " <_io.TextIOWrapper name='111' mode='r' encoding='UTF-8'>,\n",
       " <_io.TextIOWrapper name='111' mode='r' encoding='UTF-8'>,\n",
       " <_io.TextIOWrapper name='111' mode='r' encoding='UTF-8'>,\n",
       " <_io.TextIOWrapper name='111' mode='r' encoding='UTF-8'>,\n",
       " <_io.TextIOWrapper name='111' mode='r' encoding='UTF-8'>,\n",
       " <_io.TextIOWrapper name='111' mode='r' encoding='UTF-8'>,\n",
       " <_io.TextIOWrapper name='111' mode='r' encoding='UTF-8'>,\n",
       " <_io.TextIOWrapper name='111' mode='r' encoding='UTF-8'>,\n",
       " <_io.TextIOWrapper name='111' mode='r' encoding='UTF-8'>,\n",
       " <_io.TextIOWrapper name='111' mode='r' encoding='UTF-8'>,\n",
       " <_io.TextIOWrapper name='111' mode='r' encoding='UTF-8'>,\n",
       " <_io.TextIOWrapper name='111' mode='r' encoding='UTF-8'>,\n",
       " <_io.TextIOWrapper name='111' mode='r' encoding='UTF-8'>,\n",
       " <_io.TextIOWrapper name='111' mode='r' encoding='UTF-8'>,\n",
       " <_io.TextIOWrapper name='111' mode='r' encoding='UTF-8'>,\n",
       " <_io.TextIOWrapper name='111' mode='r' encoding='UTF-8'>,\n",
       " <_io.TextIOWrapper name='111' mode='r' encoding='UTF-8'>,\n",
       " <_io.TextIOWrapper name='111' mode='r' encoding='UTF-8'>,\n",
       " <_io.TextIOWrapper name='111' mode='r' encoding='UTF-8'>,\n",
       " <_io.TextIOWrapper name='111' mode='r' encoding='UTF-8'>,\n",
       " <_io.TextIOWrapper name='111' mode='r' encoding='UTF-8'>,\n",
       " <_io.TextIOWrapper name='111' mode='r' encoding='UTF-8'>,\n",
       " <_io.TextIOWrapper name='111' mode='r' encoding='UTF-8'>,\n",
       " <_io.TextIOWrapper name='111' mode='r' encoding='UTF-8'>,\n",
       " <_io.TextIOWrapper name='111' mode='r' encoding='UTF-8'>,\n",
       " <_io.TextIOWrapper name='111' mode='r' encoding='UTF-8'>,\n",
       " <_io.TextIOWrapper name='111' mode='r' encoding='UTF-8'>,\n",
       " <_io.TextIOWrapper name='111' mode='r' encoding='UTF-8'>,\n",
       " <_io.TextIOWrapper name='111' mode='r' encoding='UTF-8'>,\n",
       " <_io.TextIOWrapper name='111' mode='r' encoding='UTF-8'>,\n",
       " <_io.TextIOWrapper name='111' mode='r' encoding='UTF-8'>,\n",
       " <_io.TextIOWrapper name='111' mode='r' encoding='UTF-8'>,\n",
       " <_io.TextIOWrapper name='111' mode='r' encoding='UTF-8'>,\n",
       " <_io.TextIOWrapper name='111' mode='r' encoding='UTF-8'>,\n",
       " <_io.TextIOWrapper name='111' mode='r' encoding='UTF-8'>,\n",
       " <_io.TextIOWrapper name='111' mode='r' encoding='UTF-8'>,\n",
       " <_io.TextIOWrapper name='111' mode='r' encoding='UTF-8'>,\n",
       " <_io.TextIOWrapper name='111' mode='r' encoding='UTF-8'>,\n",
       " <_io.TextIOWrapper name='111' mode='r' encoding='UTF-8'>,\n",
       " <_io.TextIOWrapper name='111' mode='r' encoding='UTF-8'>,\n",
       " <_io.TextIOWrapper name='111' mode='r' encoding='UTF-8'>,\n",
       " <_io.TextIOWrapper name='111' mode='r' encoding='UTF-8'>,\n",
       " <_io.TextIOWrapper name='111' mode='r' encoding='UTF-8'>,\n",
       " <_io.TextIOWrapper name='111' mode='r' encoding='UTF-8'>,\n",
       " <_io.TextIOWrapper name='111' mode='r' encoding='UTF-8'>,\n",
       " <_io.TextIOWrapper name='111' mode='r' encoding='UTF-8'>,\n",
       " <_io.TextIOWrapper name='111' mode='r' encoding='UTF-8'>,\n",
       " <_io.TextIOWrapper name='111' mode='r' encoding='UTF-8'>,\n",
       " <_io.TextIOWrapper name='111' mode='r' encoding='UTF-8'>,\n",
       " <_io.TextIOWrapper name='111' mode='r' encoding='UTF-8'>,\n",
       " <_io.TextIOWrapper name='111' mode='r' encoding='UTF-8'>,\n",
       " <_io.TextIOWrapper name='111' mode='r' encoding='UTF-8'>,\n",
       " <_io.TextIOWrapper name='111' mode='r' encoding='UTF-8'>,\n",
       " <_io.TextIOWrapper name='111' mode='r' encoding='UTF-8'>,\n",
       " <_io.TextIOWrapper name='111' mode='r' encoding='UTF-8'>,\n",
       " <_io.TextIOWrapper name='111' mode='r' encoding='UTF-8'>,\n",
       " <_io.TextIOWrapper name='111' mode='r' encoding='UTF-8'>,\n",
       " <_io.TextIOWrapper name='111' mode='r' encoding='UTF-8'>,\n",
       " <_io.TextIOWrapper name='111' mode='r' encoding='UTF-8'>,\n",
       " <_io.TextIOWrapper name='111' mode='r' encoding='UTF-8'>,\n",
       " <_io.TextIOWrapper name='111' mode='r' encoding='UTF-8'>,\n",
       " <_io.TextIOWrapper name='111' mode='r' encoding='UTF-8'>,\n",
       " <_io.TextIOWrapper name='111' mode='r' encoding='UTF-8'>,\n",
       " <_io.TextIOWrapper name='111' mode='r' encoding='UTF-8'>,\n",
       " <_io.TextIOWrapper name='111' mode='r' encoding='UTF-8'>,\n",
       " <_io.TextIOWrapper name='111' mode='r' encoding='UTF-8'>,\n",
       " <_io.TextIOWrapper name='111' mode='r' encoding='UTF-8'>,\n",
       " <_io.TextIOWrapper name='111' mode='r' encoding='UTF-8'>,\n",
       " <_io.TextIOWrapper name='111' mode='r' encoding='UTF-8'>,\n",
       " <_io.TextIOWrapper name='111' mode='r' encoding='UTF-8'>,\n",
       " <_io.TextIOWrapper name='111' mode='r' encoding='UTF-8'>,\n",
       " <_io.TextIOWrapper name='111' mode='r' encoding='UTF-8'>,\n",
       " <_io.TextIOWrapper name='111' mode='r' encoding='UTF-8'>,\n",
       " <_io.TextIOWrapper name='111' mode='r' encoding='UTF-8'>,\n",
       " <_io.TextIOWrapper name='111' mode='r' encoding='UTF-8'>,\n",
       " <_io.TextIOWrapper name='111' mode='r' encoding='UTF-8'>,\n",
       " <_io.TextIOWrapper name='111' mode='r' encoding='UTF-8'>,\n",
       " <_io.TextIOWrapper name='111' mode='r' encoding='UTF-8'>,\n",
       " <_io.TextIOWrapper name='111' mode='r' encoding='UTF-8'>,\n",
       " <_io.TextIOWrapper name='111' mode='r' encoding='UTF-8'>,\n",
       " <_io.TextIOWrapper name='111' mode='r' encoding='UTF-8'>,\n",
       " <_io.TextIOWrapper name='111' mode='r' encoding='UTF-8'>,\n",
       " <_io.TextIOWrapper name='111' mode='r' encoding='UTF-8'>,\n",
       " <_io.TextIOWrapper name='111' mode='r' encoding='UTF-8'>,\n",
       " <_io.TextIOWrapper name='111' mode='r' encoding='UTF-8'>,\n",
       " <_io.TextIOWrapper name='111' mode='r' encoding='UTF-8'>,\n",
       " <_io.TextIOWrapper name='111' mode='r' encoding='UTF-8'>,\n",
       " <_io.TextIOWrapper name='111' mode='r' encoding='UTF-8'>,\n",
       " <_io.TextIOWrapper name='111' mode='r' encoding='UTF-8'>,\n",
       " <_io.TextIOWrapper name='111' mode='r' encoding='UTF-8'>,\n",
       " <_io.TextIOWrapper name='111' mode='r' encoding='UTF-8'>,\n",
       " <_io.TextIOWrapper name='111' mode='r' encoding='UTF-8'>,\n",
       " <_io.TextIOWrapper name='111' mode='r' encoding='UTF-8'>,\n",
       " <_io.TextIOWrapper name='111' mode='r' encoding='UTF-8'>,\n",
       " <_io.TextIOWrapper name='111' mode='r' encoding='UTF-8'>,\n",
       " <_io.TextIOWrapper name='111' mode='r' encoding='UTF-8'>,\n",
       " <_io.TextIOWrapper name='111' mode='r' encoding='UTF-8'>,\n",
       " <_io.TextIOWrapper name='111' mode='r' encoding='UTF-8'>,\n",
       " <_io.TextIOWrapper name='111' mode='r' encoding='UTF-8'>,\n",
       " <_io.TextIOWrapper name='111' mode='r' encoding='UTF-8'>,\n",
       " <_io.TextIOWrapper name='111' mode='r' encoding='UTF-8'>,\n",
       " <_io.TextIOWrapper name='111' mode='r' encoding='UTF-8'>,\n",
       " <_io.TextIOWrapper name='111' mode='r' encoding='UTF-8'>,\n",
       " <_io.TextIOWrapper name='111' mode='r' encoding='UTF-8'>,\n",
       " <_io.TextIOWrapper name='111' mode='r' encoding='UTF-8'>,\n",
       " <_io.TextIOWrapper name='111' mode='r' encoding='UTF-8'>,\n",
       " <_io.TextIOWrapper name='111' mode='r' encoding='UTF-8'>,\n",
       " <_io.TextIOWrapper name='111' mode='r' encoding='UTF-8'>,\n",
       " <_io.TextIOWrapper name='111' mode='r' encoding='UTF-8'>,\n",
       " <_io.TextIOWrapper name='111' mode='r' encoding='UTF-8'>,\n",
       " <_io.TextIOWrapper name='111' mode='r' encoding='UTF-8'>,\n",
       " <_io.TextIOWrapper name='111' mode='r' encoding='UTF-8'>,\n",
       " <_io.TextIOWrapper name='111' mode='r' encoding='UTF-8'>,\n",
       " <_io.TextIOWrapper name='111' mode='r' encoding='UTF-8'>,\n",
       " <_io.TextIOWrapper name='111' mode='r' encoding='UTF-8'>,\n",
       " <_io.TextIOWrapper name='111' mode='r' encoding='UTF-8'>,\n",
       " <_io.TextIOWrapper name='111' mode='r' encoding='UTF-8'>,\n",
       " <_io.TextIOWrapper name='111' mode='r' encoding='UTF-8'>,\n",
       " <_io.TextIOWrapper name='111' mode='r' encoding='UTF-8'>,\n",
       " <_io.TextIOWrapper name='111' mode='r' encoding='UTF-8'>,\n",
       " <_io.TextIOWrapper name='111' mode='r' encoding='UTF-8'>,\n",
       " <_io.TextIOWrapper name='111' mode='r' encoding='UTF-8'>,\n",
       " <_io.TextIOWrapper name='111' mode='r' encoding='UTF-8'>,\n",
       " <_io.TextIOWrapper name='111' mode='r' encoding='UTF-8'>,\n",
       " <_io.TextIOWrapper name='111' mode='r' encoding='UTF-8'>,\n",
       " <_io.TextIOWrapper name='111' mode='r' encoding='UTF-8'>,\n",
       " <_io.TextIOWrapper name='111' mode='r' encoding='UTF-8'>,\n",
       " <_io.TextIOWrapper name='111' mode='r' encoding='UTF-8'>,\n",
       " <_io.TextIOWrapper name='111' mode='r' encoding='UTF-8'>,\n",
       " <_io.TextIOWrapper name='111' mode='r' encoding='UTF-8'>,\n",
       " <_io.TextIOWrapper name='111' mode='r' encoding='UTF-8'>,\n",
       " <_io.TextIOWrapper name='111' mode='r' encoding='UTF-8'>,\n",
       " <_io.TextIOWrapper name='111' mode='r' encoding='UTF-8'>,\n",
       " <_io.TextIOWrapper name='111' mode='r' encoding='UTF-8'>,\n",
       " <_io.TextIOWrapper name='111' mode='r' encoding='UTF-8'>,\n",
       " <_io.TextIOWrapper name='111' mode='r' encoding='UTF-8'>,\n",
       " <_io.TextIOWrapper name='111' mode='r' encoding='UTF-8'>,\n",
       " <_io.TextIOWrapper name='111' mode='r' encoding='UTF-8'>,\n",
       " <_io.TextIOWrapper name='111' mode='r' encoding='UTF-8'>,\n",
       " <_io.TextIOWrapper name='111' mode='r' encoding='UTF-8'>,\n",
       " <_io.TextIOWrapper name='111' mode='r' encoding='UTF-8'>,\n",
       " <_io.TextIOWrapper name='111' mode='r' encoding='UTF-8'>,\n",
       " <_io.TextIOWrapper name='111' mode='r' encoding='UTF-8'>,\n",
       " <_io.TextIOWrapper name='111' mode='r' encoding='UTF-8'>,\n",
       " <_io.TextIOWrapper name='111' mode='r' encoding='UTF-8'>,\n",
       " <_io.TextIOWrapper name='111' mode='r' encoding='UTF-8'>,\n",
       " <_io.TextIOWrapper name='111' mode='r' encoding='UTF-8'>,\n",
       " <_io.TextIOWrapper name='111' mode='r' encoding='UTF-8'>,\n",
       " <_io.TextIOWrapper name='111' mode='r' encoding='UTF-8'>,\n",
       " <_io.TextIOWrapper name='111' mode='r' encoding='UTF-8'>,\n",
       " <_io.TextIOWrapper name='111' mode='r' encoding='UTF-8'>,\n",
       " <_io.TextIOWrapper name='111' mode='r' encoding='UTF-8'>,\n",
       " <_io.TextIOWrapper name='111' mode='r' encoding='UTF-8'>,\n",
       " <_io.TextIOWrapper name='111' mode='r' encoding='UTF-8'>,\n",
       " <_io.TextIOWrapper name='111' mode='r' encoding='UTF-8'>,\n",
       " <_io.TextIOWrapper name='111' mode='r' encoding='UTF-8'>,\n",
       " <_io.TextIOWrapper name='111' mode='r' encoding='UTF-8'>,\n",
       " <_io.TextIOWrapper name='111' mode='r' encoding='UTF-8'>,\n",
       " <_io.TextIOWrapper name='111' mode='r' encoding='UTF-8'>,\n",
       " <_io.TextIOWrapper name='111' mode='r' encoding='UTF-8'>,\n",
       " <_io.TextIOWrapper name='111' mode='r' encoding='UTF-8'>,\n",
       " <_io.TextIOWrapper name='111' mode='r' encoding='UTF-8'>,\n",
       " <_io.TextIOWrapper name='111' mode='r' encoding='UTF-8'>,\n",
       " <_io.TextIOWrapper name='111' mode='r' encoding='UTF-8'>,\n",
       " <_io.TextIOWrapper name='111' mode='r' encoding='UTF-8'>,\n",
       " <_io.TextIOWrapper name='111' mode='r' encoding='UTF-8'>,\n",
       " <_io.TextIOWrapper name='111' mode='r' encoding='UTF-8'>,\n",
       " <_io.TextIOWrapper name='111' mode='r' encoding='UTF-8'>,\n",
       " <_io.TextIOWrapper name='111' mode='r' encoding='UTF-8'>,\n",
       " <_io.TextIOWrapper name='111' mode='r' encoding='UTF-8'>,\n",
       " <_io.TextIOWrapper name='111' mode='r' encoding='UTF-8'>,\n",
       " <_io.TextIOWrapper name='111' mode='r' encoding='UTF-8'>,\n",
       " <_io.TextIOWrapper name='111' mode='r' encoding='UTF-8'>,\n",
       " <_io.TextIOWrapper name='111' mode='r' encoding='UTF-8'>,\n",
       " <_io.TextIOWrapper name='111' mode='r' encoding='UTF-8'>,\n",
       " <_io.TextIOWrapper name='111' mode='r' encoding='UTF-8'>,\n",
       " <_io.TextIOWrapper name='111' mode='r' encoding='UTF-8'>,\n",
       " <_io.TextIOWrapper name='111' mode='r' encoding='UTF-8'>,\n",
       " <_io.TextIOWrapper name='111' mode='r' encoding='UTF-8'>,\n",
       " <_io.TextIOWrapper name='111' mode='r' encoding='UTF-8'>,\n",
       " <_io.TextIOWrapper name='111' mode='r' encoding='UTF-8'>,\n",
       " <_io.TextIOWrapper name='111' mode='r' encoding='UTF-8'>,\n",
       " <_io.TextIOWrapper name='111' mode='r' encoding='UTF-8'>,\n",
       " <_io.TextIOWrapper name='111' mode='r' encoding='UTF-8'>,\n",
       " <_io.TextIOWrapper name='111' mode='r' encoding='UTF-8'>,\n",
       " <_io.TextIOWrapper name='111' mode='r' encoding='UTF-8'>,\n",
       " <_io.TextIOWrapper name='111' mode='r' encoding='UTF-8'>,\n",
       " <_io.TextIOWrapper name='111' mode='r' encoding='UTF-8'>,\n",
       " <_io.TextIOWrapper name='111' mode='r' encoding='UTF-8'>,\n",
       " <_io.TextIOWrapper name='111' mode='r' encoding='UTF-8'>,\n",
       " <_io.TextIOWrapper name='111' mode='r' encoding='UTF-8'>,\n",
       " <_io.TextIOWrapper name='111' mode='r' encoding='UTF-8'>,\n",
       " <_io.TextIOWrapper name='111' mode='r' encoding='UTF-8'>,\n",
       " <_io.TextIOWrapper name='111' mode='r' encoding='UTF-8'>,\n",
       " <_io.TextIOWrapper name='111' mode='r' encoding='UTF-8'>,\n",
       " <_io.TextIOWrapper name='111' mode='r' encoding='UTF-8'>,\n",
       " <_io.TextIOWrapper name='111' mode='r' encoding='UTF-8'>,\n",
       " <_io.TextIOWrapper name='111' mode='r' encoding='UTF-8'>,\n",
       " <_io.TextIOWrapper name='111' mode='r' encoding='UTF-8'>,\n",
       " <_io.TextIOWrapper name='111' mode='r' encoding='UTF-8'>,\n",
       " <_io.TextIOWrapper name='111' mode='r' encoding='UTF-8'>,\n",
       " <_io.TextIOWrapper name='111' mode='r' encoding='UTF-8'>,\n",
       " <_io.TextIOWrapper name='111' mode='r' encoding='UTF-8'>,\n",
       " <_io.TextIOWrapper name='111' mode='r' encoding='UTF-8'>,\n",
       " <_io.TextIOWrapper name='111' mode='r' encoding='UTF-8'>,\n",
       " <_io.TextIOWrapper name='111' mode='r' encoding='UTF-8'>,\n",
       " <_io.TextIOWrapper name='111' mode='r' encoding='UTF-8'>,\n",
       " <_io.TextIOWrapper name='111' mode='r' encoding='UTF-8'>,\n",
       " <_io.TextIOWrapper name='111' mode='r' encoding='UTF-8'>,\n",
       " <_io.TextIOWrapper name='111' mode='r' encoding='UTF-8'>,\n",
       " <_io.TextIOWrapper name='111' mode='r' encoding='UTF-8'>,\n",
       " <_io.TextIOWrapper name='111' mode='r' encoding='UTF-8'>,\n",
       " <_io.TextIOWrapper name='111' mode='r' encoding='UTF-8'>,\n",
       " <_io.TextIOWrapper name='111' mode='r' encoding='UTF-8'>,\n",
       " <_io.TextIOWrapper name='111' mode='r' encoding='UTF-8'>,\n",
       " <_io.TextIOWrapper name='111' mode='r' encoding='UTF-8'>,\n",
       " <_io.TextIOWrapper name='111' mode='r' encoding='UTF-8'>,\n",
       " <_io.TextIOWrapper name='111' mode='r' encoding='UTF-8'>,\n",
       " <_io.TextIOWrapper name='111' mode='r' encoding='UTF-8'>,\n",
       " <_io.TextIOWrapper name='111' mode='r' encoding='UTF-8'>,\n",
       " <_io.TextIOWrapper name='111' mode='r' encoding='UTF-8'>,\n",
       " <_io.TextIOWrapper name='111' mode='r' encoding='UTF-8'>,\n",
       " <_io.TextIOWrapper name='111' mode='r' encoding='UTF-8'>,\n",
       " <_io.TextIOWrapper name='111' mode='r' encoding='UTF-8'>,\n",
       " <_io.TextIOWrapper name='111' mode='r' encoding='UTF-8'>,\n",
       " <_io.TextIOWrapper name='111' mode='r' encoding='UTF-8'>,\n",
       " <_io.TextIOWrapper name='111' mode='r' encoding='UTF-8'>,\n",
       " <_io.TextIOWrapper name='111' mode='r' encoding='UTF-8'>,\n",
       " <_io.TextIOWrapper name='111' mode='r' encoding='UTF-8'>,\n",
       " <_io.TextIOWrapper name='111' mode='r' encoding='UTF-8'>,\n",
       " <_io.TextIOWrapper name='111' mode='r' encoding='UTF-8'>,\n",
       " <_io.TextIOWrapper name='111' mode='r' encoding='UTF-8'>,\n",
       " <_io.TextIOWrapper name='111' mode='r' encoding='UTF-8'>,\n",
       " <_io.TextIOWrapper name='111' mode='r' encoding='UTF-8'>,\n",
       " <_io.TextIOWrapper name='111' mode='r' encoding='UTF-8'>,\n",
       " <_io.TextIOWrapper name='111' mode='r' encoding='UTF-8'>,\n",
       " <_io.TextIOWrapper name='111' mode='r' encoding='UTF-8'>,\n",
       " <_io.TextIOWrapper name='111' mode='r' encoding='UTF-8'>,\n",
       " <_io.TextIOWrapper name='111' mode='r' encoding='UTF-8'>,\n",
       " <_io.TextIOWrapper name='111' mode='r' encoding='UTF-8'>,\n",
       " <_io.TextIOWrapper name='111' mode='r' encoding='UTF-8'>,\n",
       " <_io.TextIOWrapper name='111' mode='r' encoding='UTF-8'>,\n",
       " <_io.TextIOWrapper name='111' mode='r' encoding='UTF-8'>,\n",
       " <_io.TextIOWrapper name='111' mode='r' encoding='UTF-8'>,\n",
       " <_io.TextIOWrapper name='111' mode='r' encoding='UTF-8'>,\n",
       " <_io.TextIOWrapper name='111' mode='r' encoding='UTF-8'>,\n",
       " <_io.TextIOWrapper name='111' mode='r' encoding='UTF-8'>,\n",
       " <_io.TextIOWrapper name='111' mode='r' encoding='UTF-8'>,\n",
       " <_io.TextIOWrapper name='111' mode='r' encoding='UTF-8'>,\n",
       " <_io.TextIOWrapper name='111' mode='r' encoding='UTF-8'>,\n",
       " <_io.TextIOWrapper name='111' mode='r' encoding='UTF-8'>,\n",
       " <_io.TextIOWrapper name='111' mode='r' encoding='UTF-8'>,\n",
       " <_io.TextIOWrapper name='111' mode='r' encoding='UTF-8'>,\n",
       " <_io.TextIOWrapper name='111' mode='r' encoding='UTF-8'>,\n",
       " <_io.TextIOWrapper name='111' mode='r' encoding='UTF-8'>,\n",
       " <_io.TextIOWrapper name='111' mode='r' encoding='UTF-8'>,\n",
       " <_io.TextIOWrapper name='111' mode='r' encoding='UTF-8'>,\n",
       " <_io.TextIOWrapper name='111' mode='r' encoding='UTF-8'>,\n",
       " <_io.TextIOWrapper name='111' mode='r' encoding='UTF-8'>,\n",
       " <_io.TextIOWrapper name='111' mode='r' encoding='UTF-8'>,\n",
       " <_io.TextIOWrapper name='111' mode='r' encoding='UTF-8'>,\n",
       " <_io.TextIOWrapper name='111' mode='r' encoding='UTF-8'>,\n",
       " <_io.TextIOWrapper name='111' mode='r' encoding='UTF-8'>,\n",
       " <_io.TextIOWrapper name='111' mode='r' encoding='UTF-8'>,\n",
       " <_io.TextIOWrapper name='111' mode='r' encoding='UTF-8'>,\n",
       " <_io.TextIOWrapper name='111' mode='r' encoding='UTF-8'>,\n",
       " <_io.TextIOWrapper name='111' mode='r' encoding='UTF-8'>,\n",
       " <_io.TextIOWrapper name='111' mode='r' encoding='UTF-8'>,\n",
       " <_io.TextIOWrapper name='111' mode='r' encoding='UTF-8'>,\n",
       " <_io.TextIOWrapper name='111' mode='r' encoding='UTF-8'>,\n",
       " <_io.TextIOWrapper name='111' mode='r' encoding='UTF-8'>,\n",
       " <_io.TextIOWrapper name='111' mode='r' encoding='UTF-8'>,\n",
       " <_io.TextIOWrapper name='111' mode='r' encoding='UTF-8'>,\n",
       " <_io.TextIOWrapper name='111' mode='r' encoding='UTF-8'>,\n",
       " <_io.TextIOWrapper name='111' mode='r' encoding='UTF-8'>,\n",
       " <_io.TextIOWrapper name='111' mode='r' encoding='UTF-8'>,\n",
       " <_io.TextIOWrapper name='111' mode='r' encoding='UTF-8'>,\n",
       " <_io.TextIOWrapper name='111' mode='r' encoding='UTF-8'>,\n",
       " <_io.TextIOWrapper name='111' mode='r' encoding='UTF-8'>,\n",
       " <_io.TextIOWrapper name='111' mode='r' encoding='UTF-8'>,\n",
       " <_io.TextIOWrapper name='111' mode='r' encoding='UTF-8'>,\n",
       " <_io.TextIOWrapper name='111' mode='r' encoding='UTF-8'>,\n",
       " <_io.TextIOWrapper name='111' mode='r' encoding='UTF-8'>,\n",
       " <_io.TextIOWrapper name='111' mode='r' encoding='UTF-8'>,\n",
       " <_io.TextIOWrapper name='111' mode='r' encoding='UTF-8'>,\n",
       " <_io.TextIOWrapper name='111' mode='r' encoding='UTF-8'>,\n",
       " <_io.TextIOWrapper name='111' mode='r' encoding='UTF-8'>,\n",
       " <_io.TextIOWrapper name='111' mode='r' encoding='UTF-8'>,\n",
       " <_io.TextIOWrapper name='111' mode='r' encoding='UTF-8'>,\n",
       " <_io.TextIOWrapper name='111' mode='r' encoding='UTF-8'>,\n",
       " <_io.TextIOWrapper name='111' mode='r' encoding='UTF-8'>,\n",
       " <_io.TextIOWrapper name='111' mode='r' encoding='UTF-8'>,\n",
       " <_io.TextIOWrapper name='111' mode='r' encoding='UTF-8'>,\n",
       " <_io.TextIOWrapper name='111' mode='r' encoding='UTF-8'>,\n",
       " <_io.TextIOWrapper name='111' mode='r' encoding='UTF-8'>,\n",
       " <_io.TextIOWrapper name='111' mode='r' encoding='UTF-8'>,\n",
       " <_io.TextIOWrapper name='111' mode='r' encoding='UTF-8'>,\n",
       " <_io.TextIOWrapper name='111' mode='r' encoding='UTF-8'>,\n",
       " <_io.TextIOWrapper name='111' mode='r' encoding='UTF-8'>,\n",
       " <_io.TextIOWrapper name='111' mode='r' encoding='UTF-8'>,\n",
       " <_io.TextIOWrapper name='111' mode='r' encoding='UTF-8'>,\n",
       " <_io.TextIOWrapper name='111' mode='r' encoding='UTF-8'>,\n",
       " <_io.TextIOWrapper name='111' mode='r' encoding='UTF-8'>,\n",
       " <_io.TextIOWrapper name='111' mode='r' encoding='UTF-8'>,\n",
       " <_io.TextIOWrapper name='111' mode='r' encoding='UTF-8'>,\n",
       " <_io.TextIOWrapper name='111' mode='r' encoding='UTF-8'>]"
      ]
     },
     "execution_count": 187,
     "metadata": {},
     "output_type": "execute_result"
    }
   ],
   "source": [
    "files"
   ]
  },
  {
   "cell_type": "code",
   "execution_count": null,
   "metadata": {
    "collapsed": true
   },
   "outputs": [],
   "source": []
  },
  {
   "cell_type": "code",
   "execution_count": null,
   "metadata": {
    "collapsed": true
   },
   "outputs": [],
   "source": []
  },
  {
   "cell_type": "code",
   "execution_count": null,
   "metadata": {
    "collapsed": true
   },
   "outputs": [],
   "source": []
  },
  {
   "cell_type": "code",
   "execution_count": null,
   "metadata": {
    "collapsed": true
   },
   "outputs": [],
   "source": []
  },
  {
   "cell_type": "code",
   "execution_count": 204,
   "metadata": {
    "collapsed": false
   },
   "outputs": [],
   "source": [
    "t = open('xin.py')"
   ]
  },
  {
   "cell_type": "code",
   "execution_count": 205,
   "metadata": {
    "collapsed": false
   },
   "outputs": [
    {
     "data": {
      "text/plain": [
       "'xin.py'"
      ]
     },
     "execution_count": 205,
     "metadata": {},
     "output_type": "execute_result"
    }
   ],
   "source": [
    "t.name"
   ]
  },
  {
   "cell_type": "code",
   "execution_count": 206,
   "metadata": {
    "collapsed": false
   },
   "outputs": [
    {
     "data": {
      "text/plain": [
       "'UTF-8'"
      ]
     },
     "execution_count": 206,
     "metadata": {},
     "output_type": "execute_result"
    }
   ],
   "source": [
    "t.encoding"
   ]
  },
  {
   "cell_type": "code",
   "execution_count": 207,
   "metadata": {
    "collapsed": true
   },
   "outputs": [],
   "source": [
    "f.newlines"
   ]
  },
  {
   "cell_type": "code",
   "execution_count": 208,
   "metadata": {
    "collapsed": true
   },
   "outputs": [],
   "source": [
    "from io import StringIO, BytesIO"
   ]
  },
  {
   "cell_type": "code",
   "execution_count": null,
   "metadata": {
    "collapsed": true
   },
   "outputs": [],
   "source": []
  },
  {
   "cell_type": "code",
   "execution_count": 209,
   "metadata": {
    "collapsed": true
   },
   "outputs": [],
   "source": [
    "t.close()"
   ]
  },
  {
   "cell_type": "code",
   "execution_count": 210,
   "metadata": {
    "collapsed": true
   },
   "outputs": [],
   "source": [
    "import os"
   ]
  },
  {
   "cell_type": "code",
   "execution_count": 211,
   "metadata": {
    "collapsed": true
   },
   "outputs": [],
   "source": [
    "os.mkdir('aa')"
   ]
  },
  {
   "cell_type": "code",
   "execution_count": 212,
   "metadata": {
    "collapsed": false
   },
   "outputs": [
    {
     "name": "stdout",
     "output_type": "stream",
     "text": [
      "111       hello               passwd     Untitled1.ipynb  x3.txt\r\n",
      "\u001b[0m\u001b[01;34maa\u001b[0m/       IO与文件操作.ipynb  test1.exe  Untitled.ipynb   \u001b[01;32mxin.py\u001b[0m*\r\n",
      "gbk.txt   \u001b[01;34mmm\u001b[0m/                 \u001b[01;34mtt\u001b[0m/        utf8.txt         xxx.txt\r\n",
      "haha.txt  one.py              two.py     x2.txt\r\n"
     ]
    }
   ],
   "source": [
    "ls"
   ]
  },
  {
   "cell_type": "code",
   "execution_count": 213,
   "metadata": {
    "collapsed": false
   },
   "outputs": [
    {
     "data": {
      "text/plain": [
       "'/root/py3.5.2/python3.5.2/notes/6'"
      ]
     },
     "execution_count": 213,
     "metadata": {},
     "output_type": "execute_result"
    }
   ],
   "source": [
    "pwd"
   ]
  },
  {
   "cell_type": "code",
   "execution_count": 235,
   "metadata": {
    "collapsed": false
   },
   "outputs": [],
   "source": [
    "os.makedirs('ab/cd/ef/gh',exist_ok=True)"
   ]
  },
  {
   "cell_type": "code",
   "execution_count": 237,
   "metadata": {
    "collapsed": false
   },
   "outputs": [],
   "source": [
    "import shutil"
   ]
  },
  {
   "cell_type": "code",
   "execution_count": 238,
   "metadata": {
    "collapsed": true
   },
   "outputs": [],
   "source": [
    "shutil.rmtree('ab')"
   ]
  },
  {
   "cell_type": "code",
   "execution_count": 239,
   "metadata": {
    "collapsed": false
   },
   "outputs": [
    {
     "name": "stdout",
     "output_type": "stream",
     "text": [
      "111       hello               passwd     Untitled1.ipynb  x3.txt\r\n",
      "\u001b[0m\u001b[01;34maa\u001b[0m/       IO与文件操作.ipynb  test1.exe  Untitled.ipynb   \u001b[01;32mxin.py\u001b[0m*\r\n",
      "gbk.txt   \u001b[01;34mmm\u001b[0m/                 \u001b[01;34mtt\u001b[0m/        utf8.txt         xxx.txt\r\n",
      "haha.txt  one.py              two.py     x2.txt\r\n"
     ]
    }
   ],
   "source": [
    "ls"
   ]
  },
  {
   "cell_type": "code",
   "execution_count": 240,
   "metadata": {
    "collapsed": true
   },
   "outputs": [],
   "source": [
    "ls aa"
   ]
  },
  {
   "cell_type": "code",
   "execution_count": 241,
   "metadata": {
    "collapsed": false
   },
   "outputs": [
    {
     "data": {
      "text/plain": [
       "0"
      ]
     },
     "execution_count": 241,
     "metadata": {},
     "output_type": "execute_result"
    }
   ],
   "source": [
    "os.getegid()"
   ]
  },
  {
   "cell_type": "code",
   "execution_count": 242,
   "metadata": {
    "collapsed": false
   },
   "outputs": [
    {
     "data": {
      "text/plain": [
       "'./222'"
      ]
     },
     "execution_count": 242,
     "metadata": {},
     "output_type": "execute_result"
    }
   ],
   "source": [
    "shutil.move('111','./222')"
   ]
  },
  {
   "cell_type": "code",
   "execution_count": 243,
   "metadata": {
    "collapsed": false
   },
   "outputs": [
    {
     "name": "stdout",
     "output_type": "stream",
     "text": [
      "222       hello               passwd     Untitled1.ipynb  x3.txt\r\n",
      "\u001b[0m\u001b[01;34maa\u001b[0m/       IO与文件操作.ipynb  test1.exe  Untitled.ipynb   \u001b[01;32mxin.py\u001b[0m*\r\n",
      "gbk.txt   \u001b[01;34mmm\u001b[0m/                 \u001b[01;34mtt\u001b[0m/        utf8.txt         xxx.txt\r\n",
      "haha.txt  one.py              two.py     x2.txt\r\n"
     ]
    }
   ],
   "source": [
    "ls"
   ]
  },
  {
   "cell_type": "code",
   "execution_count": 247,
   "metadata": {
    "collapsed": false
   },
   "outputs": [
    {
     "name": "stdout",
     "output_type": "stream",
     "text": [
      "abc"
     ]
    }
   ],
   "source": [
    "cat 222"
   ]
  },
  {
   "cell_type": "code",
   "execution_count": 275,
   "metadata": {
    "collapsed": true
   },
   "outputs": [],
   "source": [
    "f1 = open('222')"
   ]
  },
  {
   "cell_type": "code",
   "execution_count": null,
   "metadata": {
    "collapsed": true
   },
   "outputs": [],
   "source": []
  },
  {
   "cell_type": "code",
   "execution_count": 276,
   "metadata": {
    "collapsed": false
   },
   "outputs": [],
   "source": [
    "f2 = open('haha.txt','w')"
   ]
  },
  {
   "cell_type": "code",
   "execution_count": null,
   "metadata": {
    "collapsed": true
   },
   "outputs": [],
   "source": []
  },
  {
   "cell_type": "code",
   "execution_count": null,
   "metadata": {
    "collapsed": true
   },
   "outputs": [],
   "source": []
  },
  {
   "cell_type": "code",
   "execution_count": null,
   "metadata": {
    "collapsed": true
   },
   "outputs": [],
   "source": []
  },
  {
   "cell_type": "code",
   "execution_count": 277,
   "metadata": {
    "collapsed": false
   },
   "outputs": [],
   "source": [
    "cat haha.txt"
   ]
  },
  {
   "cell_type": "code",
   "execution_count": null,
   "metadata": {
    "collapsed": true
   },
   "outputs": [],
   "source": []
  },
  {
   "cell_type": "code",
   "execution_count": null,
   "metadata": {
    "collapsed": true
   },
   "outputs": [],
   "source": []
  },
  {
   "cell_type": "code",
   "execution_count": 267,
   "metadata": {
    "collapsed": false
   },
   "outputs": [
    {
     "name": "stdout",
     "output_type": "stream",
     "text": [
      "abc"
     ]
    }
   ],
   "source": [
    "cat 222"
   ]
  },
  {
   "cell_type": "code",
   "execution_count": null,
   "metadata": {
    "collapsed": true
   },
   "outputs": [],
   "source": []
  },
  {
   "cell_type": "code",
   "execution_count": 258,
   "metadata": {
    "collapsed": false
   },
   "outputs": [
    {
     "ename": "AttributeError",
     "evalue": "'_io.TextIOWrapper' object has no attribute 'flash'",
     "output_type": "error",
     "traceback": [
      "\u001b[1;31m---------------------------------------------------------------------------\u001b[0m",
      "\u001b[1;31mAttributeError\u001b[0m                            Traceback (most recent call last)",
      "\u001b[1;32m<ipython-input-258-d81d95eb654a>\u001b[0m in \u001b[0;36m<module>\u001b[1;34m()\u001b[0m\n\u001b[1;32m----> 1\u001b[1;33m \u001b[0mf2\u001b[0m\u001b[1;33m.\u001b[0m\u001b[0mflash\u001b[0m\u001b[1;33m(\u001b[0m\u001b[1;33m)\u001b[0m\u001b[1;33m\u001b[0m\u001b[0m\n\u001b[0m",
      "\u001b[1;31mAttributeError\u001b[0m: '_io.TextIOWrapper' object has no attribute 'flash'"
     ]
    }
   ],
   "source": [
    "f2.flash()"
   ]
  },
  {
   "cell_type": "code",
   "execution_count": 259,
   "metadata": {
    "collapsed": true
   },
   "outputs": [],
   "source": [
    "f2.flush()"
   ]
  },
  {
   "cell_type": "code",
   "execution_count": 260,
   "metadata": {
    "collapsed": false
   },
   "outputs": [
    {
     "name": "stdout",
     "output_type": "stream",
     "text": [
      "12345\r\n",
      "xixihaha\r\n",
      "{a}:1666111111111111"
     ]
    }
   ],
   "source": [
    "cat haha.txt"
   ]
  },
  {
   "cell_type": "code",
   "execution_count": 261,
   "metadata": {
    "collapsed": false
   },
   "outputs": [
    {
     "name": "stdout",
     "output_type": "stream",
     "text": [
      "abc"
     ]
    }
   ],
   "source": [
    "cat 222"
   ]
  },
  {
   "cell_type": "code",
   "execution_count": null,
   "metadata": {
    "collapsed": true
   },
   "outputs": [],
   "source": []
  },
  {
   "cell_type": "code",
   "execution_count": null,
   "metadata": {
    "collapsed": true
   },
   "outputs": [],
   "source": []
  },
  {
   "cell_type": "code",
   "execution_count": null,
   "metadata": {
    "collapsed": true
   },
   "outputs": [],
   "source": []
  },
  {
   "cell_type": "code",
   "execution_count": 278,
   "metadata": {
    "collapsed": false
   },
   "outputs": [],
   "source": [
    "shutil.copyfileobj(f1,f2)"
   ]
  },
  {
   "cell_type": "code",
   "execution_count": 279,
   "metadata": {
    "collapsed": true
   },
   "outputs": [],
   "source": [
    "f2.close()"
   ]
  },
  {
   "cell_type": "code",
   "execution_count": 280,
   "metadata": {
    "collapsed": false
   },
   "outputs": [
    {
     "name": "stdout",
     "output_type": "stream",
     "text": [
      "abc"
     ]
    }
   ],
   "source": [
    "cat haha.txt"
   ]
  },
  {
   "cell_type": "code",
   "execution_count": 281,
   "metadata": {
    "collapsed": false
   },
   "outputs": [
    {
     "data": {
      "text/plain": [
       "'444'"
      ]
     },
     "execution_count": 281,
     "metadata": {},
     "output_type": "execute_result"
    }
   ],
   "source": [
    "shutil.copyfile('222','444')"
   ]
  },
  {
   "cell_type": "code",
   "execution_count": 282,
   "metadata": {
    "collapsed": false
   },
   "outputs": [
    {
     "name": "stdout",
     "output_type": "stream",
     "text": [
      "abc"
     ]
    }
   ],
   "source": [
    "cat 444"
   ]
  },
  {
   "cell_type": "code",
   "execution_count": 283,
   "metadata": {
    "collapsed": false
   },
   "outputs": [
    {
     "data": {
      "text/plain": [
       "'555'"
      ]
     },
     "execution_count": 283,
     "metadata": {},
     "output_type": "execute_result"
    }
   ],
   "source": [
    "shutil.copy('222','555')"
   ]
  },
  {
   "cell_type": "code",
   "execution_count": 284,
   "metadata": {
    "collapsed": false
   },
   "outputs": [
    {
     "name": "stdout",
     "output_type": "stream",
     "text": [
      "555\r\n"
     ]
    }
   ],
   "source": [
    "ls 555"
   ]
  },
  {
   "cell_type": "code",
   "execution_count": 285,
   "metadata": {
    "collapsed": false
   },
   "outputs": [
    {
     "name": "stdout",
     "output_type": "stream",
     "text": [
      "abc"
     ]
    }
   ],
   "source": [
    "cat 555"
   ]
  },
  {
   "cell_type": "code",
   "execution_count": 290,
   "metadata": {
    "collapsed": false
   },
   "outputs": [
    {
     "data": {
      "text/plain": [
       "['.bash_logout',\n",
       " '.bashrc',\n",
       " '.cshrc',\n",
       " '.tcshrc',\n",
       " 'anaconda-ks.cfg',\n",
       " 'initial-setup-ks.cfg',\n",
       " 'docker',\n",
       " '.cache',\n",
       " '.config',\n",
       " '.bash_history',\n",
       " '桌面',\n",
       " '下载',\n",
       " '模板',\n",
       " '公共',\n",
       " '文档',\n",
       " '音乐',\n",
       " '图片',\n",
       " '视频',\n",
       " '.ICEauthority',\n",
       " '.local',\n",
       " '.esd_auth',\n",
       " '.docker',\n",
       " 'epel-release-7-6.noarch.rpm',\n",
       " '.pki',\n",
       " '.pyenv',\n",
       " '.bash_profile',\n",
       " 'root',\n",
       " 'tar.py',\n",
       " '.viminfo',\n",
       " 'chen',\n",
       " '.python_history',\n",
       " '.ipython',\n",
       " '.pip',\n",
       " '.jupyter',\n",
       " '.dbus',\n",
       " '.mozilla',\n",
       " 'git',\n",
       " ':wq',\n",
       " '.java',\n",
       " '.gnome',\n",
       " 'test.py',\n",
       " 'haha',\n",
       " 'test3.py',\n",
       " 'mxdx2.ipynb',\n",
       " '.Xauthority',\n",
       " 'eth.sh',\n",
       " 'python',\n",
       " '.pycharm_helpers',\n",
       " 'xin.py',\n",
       " 'py3.5.2',\n",
       " 'pycharm-community-2016.2.2.tar.gz',\n",
       " 'pycharm-community-2016.2.2',\n",
       " 'PycharmProjects',\n",
       " 'staff.txt',\n",
       " 'li',\n",
       " 'lili.py',\n",
       " 'ttttttt',\n",
       " 'zip.zip',\n",
       " 'hahaxixi',\n",
       " 'test',\n",
       " '.ssh',\n",
       " 'hello',\n",
       " '.gitconfig',\n",
       " '.PyCharm2016.2',\n",
       " 'backup-script',\n",
       " '\\udcc3\\udce6\\udccf\\udcf2\\udcb6\\udcd4\\udccf\\udcf32.ipynb']"
      ]
     },
     "execution_count": 290,
     "metadata": {},
     "output_type": "execute_result"
    }
   ],
   "source": [
    "os.listdir('/root')"
   ]
  },
  {
   "cell_type": "code",
   "execution_count": 291,
   "metadata": {
    "collapsed": true
   },
   "outputs": [],
   "source": [
    "def listdir(path=None):       ## 广度优先遍历\n",
    "    if path is None:\n",
    "        path = '.'\n",
    "    dirs = [path]        \n",
    "    files = []\n",
    "    while dirs:\n",
    "       # print(dirs)\n",
    "        path = dirs.pop()\n",
    "        for f in os.listdir(path):\n",
    "            f = os.path.join(path,f)\n",
    "            if os.path.isdir(f):\n",
    "                dirs.append(f)\n",
    "            else:\n",
    "                files.append(f)\n",
    "    return files"
   ]
  },
  {
   "cell_type": "code",
   "execution_count": 292,
   "metadata": {
    "collapsed": false
   },
   "outputs": [
    {
     "data": {
      "text/plain": [
       "['/root/.bash_logout',\n",
       " '/root/.bashrc',\n",
       " '/root/.cshrc',\n",
       " '/root/.tcshrc',\n",
       " '/root/anaconda-ks.cfg',\n",
       " '/root/initial-setup-ks.cfg',\n",
       " '/root/.bash_history',\n",
       " '/root/.ICEauthority',\n",
       " '/root/.esd_auth',\n",
       " '/root/epel-release-7-6.noarch.rpm',\n",
       " '/root/.bash_profile',\n",
       " '/root/tar.py',\n",
       " '/root/.viminfo',\n",
       " '/root/.python_history',\n",
       " '/root/:wq',\n",
       " '/root/test.py',\n",
       " '/root/haha',\n",
       " '/root/test3.py',\n",
       " '/root/mxdx2.ipynb',\n",
       " '/root/.Xauthority',\n",
       " '/root/eth.sh',\n",
       " '/root/xin.py',\n",
       " '/root/pycharm-community-2016.2.2.tar.gz',\n",
       " '/root/staff.txt',\n",
       " '/root/lili.py',\n",
       " '/root/ttttttt',\n",
       " '/root/zip.zip',\n",
       " '/root/hahaxixi',\n",
       " '/root/.gitconfig',\n",
       " '/root/\\udcc3\\udce6\\udccf\\udcf2\\udcb6\\udcd4\\udccf\\udcf32.ipynb',\n",
       " '/root/backup-script/backup.py',\n",
       " '/root/backup-script/backuptest.py',\n",
       " '/root/backup-script/tt/haha',\n",
       " '/root/.PyCharm2016.2/config/port.lock',\n",
       " '/root/.PyCharm2016.2/config/inspection/Default.xml',\n",
       " '/root/.PyCharm2016.2/config/tasks/untitled.contexts.zip',\n",
       " '/root/.PyCharm2016.2/config/tasks/untitled.tasks.zip',\n",
       " '/root/.PyCharm2016.2/config/options/proxy.settings.pwd',\n",
       " '/root/.PyCharm2016.2/config/options/project.default.xml',\n",
       " '/root/.PyCharm2016.2/config/options/editor.codeinsight.xml',\n",
       " '/root/.PyCharm2016.2/config/options/diff.xml',\n",
       " '/root/.PyCharm2016.2/config/options/recentProjectDirectories.xml',\n",
       " '/root/.PyCharm2016.2/config/options/options.xml',\n",
       " '/root/.PyCharm2016.2/config/options/extensionsRootType.xml',\n",
       " '/root/.PyCharm2016.2/config/options/feature.usage.statistics.xml',\n",
       " '/root/.PyCharm2016.2/config/options/stubIndex.xml',\n",
       " '/root/.PyCharm2016.2/config/options/filetypes.xml',\n",
       " '/root/.PyCharm2016.2/config/options/keymap.xml',\n",
       " '/root/.PyCharm2016.2/config/options/laf.xml',\n",
       " '/root/.PyCharm2016.2/config/options/jdk.table.xml',\n",
       " '/root/.PyCharm2016.2/config/options/conda_packages.xml',\n",
       " '/root/.PyCharm2016.2/config/options/packages.xml',\n",
       " '/root/.PyCharm2016.2/config/options/dimensions.xml',\n",
       " '/root/.PyCharm2016.2/config/options/usage.statistics.xml',\n",
       " '/root/.PyCharm2016.2/config/options/web-browsers.xml',\n",
       " '/root/.PyCharm2016.2/config/options/git.xml',\n",
       " '/root/.PyCharm2016.2/config/options/runner.layout.xml',\n",
       " '/root/.PyCharm2016.2/config/options/debugger.xml',\n",
       " '/root/.PyCharm2016.2/config/options/statistics.application.usages.xml',\n",
       " '/root/.PyCharm2016.2/config/options/colors.scheme.xml',\n",
       " '/root/.PyCharm2016.2/config/options/window.manager.xml',\n",
       " '/root/.PyCharm2016.2/system/port.lock',\n",
       " '/root/.PyCharm2016.2/system/.home',\n",
       " '/root/.PyCharm2016.2/system/vcs-users/8cdd1fea.1.len',\n",
       " '/root/.PyCharm2016.2/system/vcs-users/8cdd1fea.1',\n",
       " '/root/.PyCharm2016.2/system/vcs-users/8cdd1fea.1.keystream.len',\n",
       " '/root/.PyCharm2016.2/system/vcs-users/8cdd1fea.1.keystream',\n",
       " '/root/.PyCharm2016.2/system/python_stubs/-893658930/_ast.py',\n",
       " '/root/.PyCharm2016.2/system/python_stubs/-893658930/_codecs.py',\n",
       " '/root/.PyCharm2016.2/system/python_stubs/-893658930/_collections.py',\n",
       " '/root/.PyCharm2016.2/system/python_stubs/-893658930/_functools.py',\n",
       " '/root/.PyCharm2016.2/system/python_stubs/-893658930/_imp.py',\n",
       " '/root/.PyCharm2016.2/system/python_stubs/-893658930/_io.py',\n",
       " '/root/.PyCharm2016.2/system/python_stubs/-893658930/_locale.py',\n",
       " '/root/.PyCharm2016.2/system/python_stubs/-893658930/_operator.py',\n",
       " '/root/.PyCharm2016.2/system/python_stubs/-893658930/_signal.py',\n",
       " '/root/.PyCharm2016.2/system/python_stubs/-893658930/_sre.py',\n",
       " '/root/.PyCharm2016.2/system/python_stubs/-893658930/_stat.py',\n",
       " '/root/.PyCharm2016.2/system/python_stubs/-893658930/_string.py',\n",
       " '/root/.PyCharm2016.2/system/python_stubs/-893658930/_symtable.py',\n",
       " '/root/.PyCharm2016.2/system/python_stubs/-893658930/_thread.py',\n",
       " '/root/.PyCharm2016.2/system/python_stubs/-893658930/_tracemalloc.py',\n",
       " '/root/.PyCharm2016.2/system/python_stubs/-893658930/_warnings.py',\n",
       " '/root/.PyCharm2016.2/system/python_stubs/-893658930/_weakref.py',\n",
       " '/root/.PyCharm2016.2/system/python_stubs/-893658930/atexit.py',\n",
       " '/root/.PyCharm2016.2/system/python_stubs/-893658930/builtins.py',\n",
       " '/root/.PyCharm2016.2/system/python_stubs/-893658930/errno.py',\n",
       " '/root/.PyCharm2016.2/system/python_stubs/-893658930/faulthandler.py',\n",
       " '/root/.PyCharm2016.2/system/python_stubs/-893658930/gc.py',\n",
       " '/root/.PyCharm2016.2/system/python_stubs/-893658930/itertools.py',\n",
       " '/root/.PyCharm2016.2/system/python_stubs/-893658930/marshal.py',\n",
       " '/root/.PyCharm2016.2/system/python_stubs/-893658930/posix.py',\n",
       " '/root/.PyCharm2016.2/system/python_stubs/-893658930/pwd.py',\n",
       " '/root/.PyCharm2016.2/system/python_stubs/-893658930/sys.py',\n",
       " '/root/.PyCharm2016.2/system/python_stubs/-893658930/time.py',\n",
       " '/root/.PyCharm2016.2/system/python_stubs/-893658930/xxsubtype.py',\n",
       " '/root/.PyCharm2016.2/system/python_stubs/-893658930/zipimport.py',\n",
       " '/root/.PyCharm2016.2/system/python_stubs/-893658930/_bisect.py',\n",
       " '/root/.PyCharm2016.2/system/python_stubs/-893658930/_bz2.py',\n",
       " '/root/.PyCharm2016.2/system/python_stubs/-893658930/_codecs_cn.py',\n",
       " '/root/.PyCharm2016.2/system/python_stubs/-893658930/_codecs_hk.py',\n",
       " '/root/.PyCharm2016.2/system/python_stubs/-893658930/_codecs_iso2022.py',\n",
       " '/root/.PyCharm2016.2/system/python_stubs/-893658930/_codecs_jp.py',\n",
       " '/root/.PyCharm2016.2/system/python_stubs/-893658930/_codecs_kr.py',\n",
       " '/root/.PyCharm2016.2/system/python_stubs/-893658930/_codecs_tw.py',\n",
       " '/root/.PyCharm2016.2/system/python_stubs/-893658930/_crypt.py',\n",
       " '/root/.PyCharm2016.2/system/python_stubs/-893658930/_csv.py',\n",
       " '/root/.PyCharm2016.2/system/python_stubs/-893658930/_ctypes.py',\n",
       " '/root/.PyCharm2016.2/system/python_stubs/-893658930/_ctypes_test.py',\n",
       " '/root/.PyCharm2016.2/system/python_stubs/-893658930/_curses.py',\n",
       " '/root/.PyCharm2016.2/system/python_stubs/-893658930/_curses_panel.py',\n",
       " '/root/.PyCharm2016.2/system/python_stubs/-893658930/_datetime.py',\n",
       " '/root/.PyCharm2016.2/system/python_stubs/-893658930/_dbm.py',\n",
       " '/root/.PyCharm2016.2/system/python_stubs/-893658930/_decimal.py',\n",
       " '/root/.PyCharm2016.2/system/python_stubs/-893658930/_elementtree.py',\n",
       " '/root/.PyCharm2016.2/system/python_stubs/-893658930/_gdbm.py',\n",
       " '/root/.PyCharm2016.2/system/python_stubs/-893658930/_hashlib.py',\n",
       " '/root/.PyCharm2016.2/system/python_stubs/-893658930/_heapq.py',\n",
       " '/root/.PyCharm2016.2/system/python_stubs/-893658930/_json.py',\n",
       " '/root/.PyCharm2016.2/system/python_stubs/-893658930/_lsprof.py',\n",
       " '/root/.PyCharm2016.2/system/python_stubs/-893658930/_md5.py',\n",
       " '/root/.PyCharm2016.2/system/python_stubs/-893658930/_multibytecodec.py',\n",
       " '/root/.PyCharm2016.2/system/python_stubs/-893658930/_multiprocessing.py',\n",
       " '/root/.PyCharm2016.2/system/python_stubs/-893658930/_opcode.py',\n",
       " '/root/.PyCharm2016.2/system/python_stubs/-893658930/_pickle.py',\n",
       " '/root/.PyCharm2016.2/system/python_stubs/-893658930/_posixsubprocess.py',\n",
       " '/root/.PyCharm2016.2/system/python_stubs/-893658930/_random.py',\n",
       " '/root/.PyCharm2016.2/system/python_stubs/-893658930/_sha1.py',\n",
       " '/root/.PyCharm2016.2/system/python_stubs/-893658930/_sha256.py',\n",
       " '/root/.PyCharm2016.2/system/python_stubs/-893658930/_sha512.py',\n",
       " '/root/.PyCharm2016.2/system/python_stubs/-893658930/_socket.py',\n",
       " '/root/.PyCharm2016.2/system/python_stubs/-893658930/_sqlite3.py',\n",
       " '/root/.PyCharm2016.2/system/python_stubs/-893658930/_ssl.py',\n",
       " '/root/.PyCharm2016.2/system/python_stubs/-893658930/_struct.py',\n",
       " '/root/.PyCharm2016.2/system/python_stubs/-893658930/_testbuffer.py',\n",
       " '/root/.PyCharm2016.2/system/python_stubs/-893658930/_testcapi.py',\n",
       " '/root/.PyCharm2016.2/system/python_stubs/-893658930/_testimportmultiple.py',\n",
       " '/root/.PyCharm2016.2/system/python_stubs/-893658930/_testmultiphase.py',\n",
       " '/root/.PyCharm2016.2/system/python_stubs/-893658930/array.py',\n",
       " '/root/.PyCharm2016.2/system/python_stubs/-893658930/audioop.py',\n",
       " '/root/.PyCharm2016.2/system/python_stubs/-893658930/binascii.py',\n",
       " '/root/.PyCharm2016.2/system/python_stubs/-893658930/cmath.py',\n",
       " '/root/.PyCharm2016.2/system/python_stubs/-893658930/fcntl.py',\n",
       " '/root/.PyCharm2016.2/system/python_stubs/-893658930/grp.py',\n",
       " '/root/.PyCharm2016.2/system/python_stubs/-893658930/math.py',\n",
       " '/root/.PyCharm2016.2/system/python_stubs/-893658930/mmap.py',\n",
       " '/root/.PyCharm2016.2/system/python_stubs/-893658930/nis.py',\n",
       " '/root/.PyCharm2016.2/system/python_stubs/-893658930/ossaudiodev.py',\n",
       " '/root/.PyCharm2016.2/system/python_stubs/-893658930/parser.py',\n",
       " '/root/.PyCharm2016.2/system/python_stubs/-893658930/pyexpat.py',\n",
       " '/root/.PyCharm2016.2/system/python_stubs/-893658930/readline.py',\n",
       " '/root/.PyCharm2016.2/system/python_stubs/-893658930/resource.py',\n",
       " '/root/.PyCharm2016.2/system/python_stubs/-893658930/select.py',\n",
       " '/root/.PyCharm2016.2/system/python_stubs/-893658930/spwd.py',\n",
       " '/root/.PyCharm2016.2/system/python_stubs/-893658930/syslog.py',\n",
       " '/root/.PyCharm2016.2/system/python_stubs/-893658930/termios.py',\n",
       " '/root/.PyCharm2016.2/system/python_stubs/-893658930/unicodedata.py',\n",
       " '/root/.PyCharm2016.2/system/python_stubs/-893658930/xxlimited.py',\n",
       " '/root/.PyCharm2016.2/system/python_stubs/-893658930/zlib.py',\n",
       " '/root/.PyCharm2016.2/system/frameworks/detection/detectors-registry.dat',\n",
       " '/root/.PyCharm2016.2/system/LocalHistory/changes.storageRecordIndex',\n",
       " '/root/.PyCharm2016.2/system/LocalHistory/changes.storageData',\n",
       " '/root/.PyCharm2016.2/system/index/indices.enum',\n",
       " '/root/.PyCharm2016.2/system/index/rep.names.len',\n",
       " '/root/.PyCharm2016.2/system/index/rep.names',\n",
       " '/root/.PyCharm2016.2/system/index/rep.names_i.len',\n",
       " '/root/.PyCharm2016.2/system/index/rep.names_i',\n",
       " '/root/.PyCharm2016.2/system/index/rep.names.keystream.len',\n",
       " '/root/.PyCharm2016.2/system/index/rep.names.keystream',\n",
       " '/root/.PyCharm2016.2/system/index/registered',\n",
       " '/root/.PyCharm2016.2/system/index/py.setuptools.namespace/Py.setuptools.namespace.ver',\n",
       " '/root/.PyCharm2016.2/system/index/py.setuptools.namespace/Py.setuptools.namespace.storage.len',\n",
       " '/root/.PyCharm2016.2/system/index/py.setuptools.namespace/Py.setuptools.namespace.storage',\n",
       " '/root/.PyCharm2016.2/system/index/py.setuptools.namespace/Py.setuptools.namespace.storage_i.len',\n",
       " '/root/.PyCharm2016.2/system/index/py.setuptools.namespace/Py.setuptools.namespace.storage_i',\n",
       " '/root/.PyCharm2016.2/system/index/py.setuptools.namespace/Py.setuptools.namespace.storage.keystream.len',\n",
       " '/root/.PyCharm2016.2/system/index/py.setuptools.namespace/Py.setuptools.namespace.storage.keystream',\n",
       " '/root/.PyCharm2016.2/system/index/py.setuptools.namespace/Py.setuptools.namespace_inputs.len',\n",
       " '/root/.PyCharm2016.2/system/index/py.setuptools.namespace/Py.setuptools.namespace_inputs',\n",
       " '/root/.PyCharm2016.2/system/index/py.setuptools.namespace/Py.setuptools.namespace_inputs_i.len',\n",
       " '/root/.PyCharm2016.2/system/index/py.setuptools.namespace/Py.setuptools.namespace_inputs_i',\n",
       " '/root/.PyCharm2016.2/system/index/py.setuptools.namespace/Py.setuptools.namespace_inputs.values.at',\n",
       " '/root/.PyCharm2016.2/system/index/py.setuptools.namespace/Py.setuptools.namespace.storage.values.at',\n",
       " '/root/.PyCharm2016.2/system/index/py.module.name/Py.module.name.ver',\n",
       " '/root/.PyCharm2016.2/system/index/py.module.name/Py.module.name.storage.len',\n",
       " '/root/.PyCharm2016.2/system/index/py.module.name/Py.module.name.storage',\n",
       " '/root/.PyCharm2016.2/system/index/py.module.name/Py.module.name.storage_i.len',\n",
       " '/root/.PyCharm2016.2/system/index/py.module.name/Py.module.name.storage_i',\n",
       " '/root/.PyCharm2016.2/system/index/py.module.name/Py.module.name.storage.keystream.len',\n",
       " '/root/.PyCharm2016.2/system/index/py.module.name/Py.module.name.storage.keystream',\n",
       " '/root/.PyCharm2016.2/system/index/py.module.name/Py.module.name_inputs.len',\n",
       " '/root/.PyCharm2016.2/system/index/py.module.name/Py.module.name_inputs',\n",
       " '/root/.PyCharm2016.2/system/index/py.module.name/Py.module.name_inputs_i.len',\n",
       " '/root/.PyCharm2016.2/system/index/py.module.name/Py.module.name_inputs_i',\n",
       " '/root/.PyCharm2016.2/system/index/py.module.name/Py.module.name_inputs.values.at',\n",
       " '/root/.PyCharm2016.2/system/index/py.module.name/Py.module.name.storage.values.at',\n",
       " '/root/.PyCharm2016.2/system/index/imagefileinfoindex/ImageFileInfoIndex.ver',\n",
       " '/root/.PyCharm2016.2/system/index/imagefileinfoindex/ImageFileInfoIndex.storage.len',\n",
       " '/root/.PyCharm2016.2/system/index/imagefileinfoindex/ImageFileInfoIndex.storage',\n",
       " '/root/.PyCharm2016.2/system/index/imagefileinfoindex/ImageFileInfoIndex.storage_i.len',\n",
       " '/root/.PyCharm2016.2/system/index/imagefileinfoindex/ImageFileInfoIndex.storage_i',\n",
       " '/root/.PyCharm2016.2/system/index/imagefileinfoindex/ImageFileInfoIndex_inputs.len',\n",
       " '/root/.PyCharm2016.2/system/index/imagefileinfoindex/ImageFileInfoIndex_inputs',\n",
       " '/root/.PyCharm2016.2/system/index/imagefileinfoindex/ImageFileInfoIndex_inputs_i.len',\n",
       " '/root/.PyCharm2016.2/system/index/imagefileinfoindex/ImageFileInfoIndex_inputs_i',\n",
       " '/root/.PyCharm2016.2/system/index/imagefileinfoindex/ImageFileInfoIndex_inputs.values.at',\n",
       " '/root/.PyCharm2016.2/system/index/imagefileinfoindex/ImageFileInfoIndex.storage.values.at',\n",
       " '/root/.PyCharm2016.2/system/index/json.schema.properties.index/json.schema.properties.index.ver',\n",
       " '/root/.PyCharm2016.2/system/index/json.schema.properties.index/json.schema.properties.index.storage.len',\n",
       " '/root/.PyCharm2016.2/system/index/json.schema.properties.index/json.schema.properties.index.storage',\n",
       " '/root/.PyCharm2016.2/system/index/json.schema.properties.index/json.schema.properties.index.storage_i.len',\n",
       " '/root/.PyCharm2016.2/system/index/json.schema.properties.index/json.schema.properties.index.storage_i',\n",
       " '/root/.PyCharm2016.2/system/index/json.schema.properties.index/json.schema.properties.index.storage.keystream.len',\n",
       " '/root/.PyCharm2016.2/system/index/json.schema.properties.index/json.schema.properties.index.storage.keystream',\n",
       " '/root/.PyCharm2016.2/system/index/json.schema.properties.index/json.schema.properties.index_inputs.len',\n",
       " '/root/.PyCharm2016.2/system/index/json.schema.properties.index/json.schema.properties.index_inputs',\n",
       " '/root/.PyCharm2016.2/system/index/json.schema.properties.index/json.schema.properties.index_inputs_i.len',\n",
       " '/root/.PyCharm2016.2/system/index/json.schema.properties.index/json.schema.properties.index_inputs_i',\n",
       " '/root/.PyCharm2016.2/system/index/json.schema.properties.index/json.schema.properties.index_inputs.values.at',\n",
       " '/root/.PyCharm2016.2/system/index/json.schema.properties.index/json.schema.properties.index.storage.values.at',\n",
       " '/root/.PyCharm2016.2/system/index/schematypeinheritance/SchemaTypeInheritance.ver',\n",
       " '/root/.PyCharm2016.2/system/index/schematypeinheritance/SchemaTypeInheritance.storage.len',\n",
       " '/root/.PyCharm2016.2/system/index/schematypeinheritance/SchemaTypeInheritance.storage',\n",
       " '/root/.PyCharm2016.2/system/index/schematypeinheritance/SchemaTypeInheritance.storage_i.len',\n",
       " '/root/.PyCharm2016.2/system/index/schematypeinheritance/SchemaTypeInheritance.storage_i',\n",
       " '/root/.PyCharm2016.2/system/index/schematypeinheritance/SchemaTypeInheritance.storage.keystream.len',\n",
       " '/root/.PyCharm2016.2/system/index/schematypeinheritance/SchemaTypeInheritance.storage.keystream',\n",
       " '/root/.PyCharm2016.2/system/index/schematypeinheritance/SchemaTypeInheritance_inputs.len',\n",
       " '/root/.PyCharm2016.2/system/index/schematypeinheritance/SchemaTypeInheritance_inputs',\n",
       " '/root/.PyCharm2016.2/system/index/schematypeinheritance/SchemaTypeInheritance_inputs_i.len',\n",
       " '/root/.PyCharm2016.2/system/index/schematypeinheritance/SchemaTypeInheritance_inputs_i',\n",
       " '/root/.PyCharm2016.2/system/index/schematypeinheritance/SchemaTypeInheritance_inputs.values.at',\n",
       " '/root/.PyCharm2016.2/system/index/schematypeinheritance/SchemaTypeInheritance.storage.values.at',\n",
       " '/root/.PyCharm2016.2/system/index/html5.custom.attributes.index/html5.custom.attributes.index.ver',\n",
       " '/root/.PyCharm2016.2/system/index/html5.custom.attributes.index/html5.custom.attributes.index.storage.len',\n",
       " '/root/.PyCharm2016.2/system/index/html5.custom.attributes.index/html5.custom.attributes.index.storage',\n",
       " '/root/.PyCharm2016.2/system/index/html5.custom.attributes.index/html5.custom.attributes.index.storage_i.len',\n",
       " '/root/.PyCharm2016.2/system/index/html5.custom.attributes.index/html5.custom.attributes.index.storage_i',\n",
       " '/root/.PyCharm2016.2/system/index/html5.custom.attributes.index/html5.custom.attributes.index.storage.keystream.len',\n",
       " '/root/.PyCharm2016.2/system/index/html5.custom.attributes.index/html5.custom.attributes.index.storage.keystream',\n",
       " '/root/.PyCharm2016.2/system/index/html5.custom.attributes.index/html5.custom.attributes.index_inputs.len',\n",
       " '/root/.PyCharm2016.2/system/index/html5.custom.attributes.index/html5.custom.attributes.index_inputs',\n",
       " '/root/.PyCharm2016.2/system/index/html5.custom.attributes.index/html5.custom.attributes.index_inputs_i.len',\n",
       " '/root/.PyCharm2016.2/system/index/html5.custom.attributes.index/html5.custom.attributes.index_inputs_i',\n",
       " '/root/.PyCharm2016.2/system/index/html5.custom.attributes.index/html5.custom.attributes.index_inputs.values.at',\n",
       " '/root/.PyCharm2016.2/system/index/html5.custom.attributes.index/html5.custom.attributes.index.storage.values.at',\n",
       " '/root/.PyCharm2016.2/system/index/xmlnamespaces/XmlNamespaces.ver',\n",
       " '/root/.PyCharm2016.2/system/index/xmlnamespaces/XmlNamespaces.storage.len',\n",
       " '/root/.PyCharm2016.2/system/index/xmlnamespaces/XmlNamespaces.storage',\n",
       " '/root/.PyCharm2016.2/system/index/xmlnamespaces/XmlNamespaces.storage_i.len',\n",
       " '/root/.PyCharm2016.2/system/index/xmlnamespaces/XmlNamespaces.storage_i',\n",
       " '/root/.PyCharm2016.2/system/index/xmlnamespaces/XmlNamespaces.storage.keystream.len',\n",
       " '/root/.PyCharm2016.2/system/index/xmlnamespaces/XmlNamespaces.storage.keystream',\n",
       " '/root/.PyCharm2016.2/system/index/xmlnamespaces/XmlNamespaces_inputs.len',\n",
       " '/root/.PyCharm2016.2/system/index/xmlnamespaces/XmlNamespaces_inputs',\n",
       " '/root/.PyCharm2016.2/system/index/xmlnamespaces/XmlNamespaces_inputs_i.len',\n",
       " '/root/.PyCharm2016.2/system/index/xmlnamespaces/XmlNamespaces_inputs_i',\n",
       " '/root/.PyCharm2016.2/system/index/xmlnamespaces/XmlNamespaces_inputs.values.at',\n",
       " '/root/.PyCharm2016.2/system/index/xmlnamespaces/XmlNamespaces.storage.values.at',\n",
       " '/root/.PyCharm2016.2/system/index/xmltagnames/XmlTagNames.ver',\n",
       " '/root/.PyCharm2016.2/system/index/xmltagnames/XmlTagNames.storage.len',\n",
       " '/root/.PyCharm2016.2/system/index/xmltagnames/XmlTagNames.storage',\n",
       " '/root/.PyCharm2016.2/system/index/xmltagnames/XmlTagNames.storage_i.len',\n",
       " '/root/.PyCharm2016.2/system/index/xmltagnames/XmlTagNames.storage_i',\n",
       " '/root/.PyCharm2016.2/system/index/xmltagnames/XmlTagNames.storage.keystream.len',\n",
       " '/root/.PyCharm2016.2/system/index/xmltagnames/XmlTagNames.storage.keystream',\n",
       " '/root/.PyCharm2016.2/system/index/xmltagnames/XmlTagNames_inputs.len',\n",
       " '/root/.PyCharm2016.2/system/index/xmltagnames/XmlTagNames_inputs',\n",
       " '/root/.PyCharm2016.2/system/index/xmltagnames/XmlTagNames_inputs_i.len',\n",
       " '/root/.PyCharm2016.2/system/index/xmltagnames/XmlTagNames_inputs_i',\n",
       " '/root/.PyCharm2016.2/system/index/xmltagnames/XmlTagNames_inputs.values.at',\n",
       " '/root/.PyCharm2016.2/system/index/xmltagnames/XmlTagNames.storage.values.at',\n",
       " '/root/.PyCharm2016.2/system/index/relaxsymbolindex/RelaxSymbolIndex.ver',\n",
       " '/root/.PyCharm2016.2/system/index/relaxsymbolindex/RelaxSymbolIndex.storage.len',\n",
       " '/root/.PyCharm2016.2/system/index/relaxsymbolindex/RelaxSymbolIndex.storage',\n",
       " '/root/.PyCharm2016.2/system/index/relaxsymbolindex/RelaxSymbolIndex.storage_i.len',\n",
       " '/root/.PyCharm2016.2/system/index/relaxsymbolindex/RelaxSymbolIndex.storage_i',\n",
       " '/root/.PyCharm2016.2/system/index/relaxsymbolindex/RelaxSymbolIndex.storage.keystream.len',\n",
       " '/root/.PyCharm2016.2/system/index/relaxsymbolindex/RelaxSymbolIndex.storage.keystream',\n",
       " '/root/.PyCharm2016.2/system/index/relaxsymbolindex/RelaxSymbolIndex_inputs.len',\n",
       " '/root/.PyCharm2016.2/system/index/relaxsymbolindex/RelaxSymbolIndex_inputs',\n",
       " '/root/.PyCharm2016.2/system/index/relaxsymbolindex/RelaxSymbolIndex_inputs_i.len',\n",
       " '/root/.PyCharm2016.2/system/index/relaxsymbolindex/RelaxSymbolIndex_inputs_i',\n",
       " '/root/.PyCharm2016.2/system/index/relaxsymbolindex/RelaxSymbolIndex_inputs.values.at',\n",
       " '/root/.PyCharm2016.2/system/index/relaxsymbolindex/RelaxSymbolIndex.storage.values.at',\n",
       " '/root/.PyCharm2016.2/system/index/domfileindex/DomFileIndex.ver',\n",
       " '/root/.PyCharm2016.2/system/index/domfileindex/DomFileIndex.storage.len',\n",
       " '/root/.PyCharm2016.2/system/index/domfileindex/DomFileIndex.storage',\n",
       " '/root/.PyCharm2016.2/system/index/domfileindex/DomFileIndex.storage_i.len',\n",
       " '/root/.PyCharm2016.2/system/index/domfileindex/DomFileIndex.storage_i',\n",
       " '/root/.PyCharm2016.2/system/index/domfileindex/DomFileIndex.storage.keystream.len',\n",
       " '/root/.PyCharm2016.2/system/index/domfileindex/DomFileIndex.storage.keystream',\n",
       " '/root/.PyCharm2016.2/system/index/domfileindex/DomFileIndex_inputs.len',\n",
       " '/root/.PyCharm2016.2/system/index/domfileindex/DomFileIndex_inputs',\n",
       " '/root/.PyCharm2016.2/system/index/domfileindex/DomFileIndex_inputs_i.len',\n",
       " '/root/.PyCharm2016.2/system/index/domfileindex/DomFileIndex_inputs_i',\n",
       " '/root/.PyCharm2016.2/system/index/domfileindex/DomFileIndex_inputs.values.at',\n",
       " '/root/.PyCharm2016.2/system/index/domfileindex/DomFileIndex.storage.values.at',\n",
       " '/root/.PyCharm2016.2/system/index/fileincludes/fileIncludes.ver',\n",
       " '/root/.PyCharm2016.2/system/index/fileincludes/fileIncludes.storage.len',\n",
       " '/root/.PyCharm2016.2/system/index/fileincludes/fileIncludes.storage',\n",
       " '/root/.PyCharm2016.2/system/index/fileincludes/fileIncludes.storage_i.len',\n",
       " '/root/.PyCharm2016.2/system/index/fileincludes/fileIncludes.storage_i',\n",
       " '/root/.PyCharm2016.2/system/index/fileincludes/fileIncludes.storage.keystream.len',\n",
       " '/root/.PyCharm2016.2/system/index/fileincludes/fileIncludes.storage.keystream',\n",
       " '/root/.PyCharm2016.2/system/index/fileincludes/fileIncludes_inputs.len',\n",
       " '/root/.PyCharm2016.2/system/index/fileincludes/fileIncludes_inputs',\n",
       " '/root/.PyCharm2016.2/system/index/fileincludes/fileIncludes_inputs_i.len',\n",
       " '/root/.PyCharm2016.2/system/index/fileincludes/fileIncludes_inputs_i',\n",
       " '/root/.PyCharm2016.2/system/index/fileincludes/fileIncludes_inputs.values.at',\n",
       " '/root/.PyCharm2016.2/system/index/fileincludes/fileIncludes.storage.values.at',\n",
       " '/root/.PyCharm2016.2/system/index/trigram.index/Trigram.Index.ver',\n",
       " '/root/.PyCharm2016.2/system/index/trigram.index/Trigram.Index.storage.len',\n",
       " '/root/.PyCharm2016.2/system/index/trigram.index/Trigram.Index.storage',\n",
       " '/root/.PyCharm2016.2/system/index/trigram.index/Trigram.Index.storage_i.len',\n",
       " '/root/.PyCharm2016.2/system/index/trigram.index/Trigram.Index.storage_i',\n",
       " '/root/.PyCharm2016.2/system/index/trigram.index/fileIdToHashId.len',\n",
       " '/root/.PyCharm2016.2/system/index/trigram.index/fileIdToHashId',\n",
       " '/root/.PyCharm2016.2/system/index/trigram.index/fileIdToHashId_i.len',\n",
       " '/root/.PyCharm2016.2/system/index/trigram.index/fileIdToHashId_i',\n",
       " '/root/.PyCharm2016.2/system/index/trigram.index/fileIdToHashId.values.at',\n",
       " '/root/.PyCharm2016.2/system/index/trigram.index/Trigram.Index.storage.values.at',\n",
       " '/root/.PyCharm2016.2/system/index/trigram.index/Trigram.Index.storage.values',\n",
       " '/root/.PyCharm2016.2/system/index/trigram.index/Trigram.Index.storage.values.s',\n",
       " '/root/.PyCharm2016.2/system/index/stubs/Stubs.ver',\n",
       " '/root/.PyCharm2016.2/system/index/stubs/Stubs.storage.len',\n",
       " '/root/.PyCharm2016.2/system/index/stubs/Stubs.storage',\n",
       " '/root/.PyCharm2016.2/system/index/stubs/Stubs.storage_i.len',\n",
       " '/root/.PyCharm2016.2/system/index/stubs/Stubs.storage_i',\n",
       " '/root/.PyCharm2016.2/system/index/stubs/Stubs_inputs.len',\n",
       " '/root/.PyCharm2016.2/system/index/stubs/Stubs_inputs',\n",
       " '/root/.PyCharm2016.2/system/index/stubs/Stubs_inputs_i.len',\n",
       " '/root/.PyCharm2016.2/system/index/stubs/Stubs_inputs_i',\n",
       " '/root/.PyCharm2016.2/system/index/stubs/Stubs_inputs.values.at',\n",
       " '/root/.PyCharm2016.2/system/index/stubs/Stubs.storage.values.at',\n",
       " '/root/.PyCharm2016.2/system/index/stubs/Stubs.storage.values',\n",
       " '/root/.PyCharm2016.2/system/index/stubs/Stubs_inputs.values',\n",
       " '/root/.PyCharm2016.2/system/index/stubs/Stubs_inputs.values.s',\n",
       " '/root/.PyCharm2016.2/system/index/stubs/Stubs.storage.values.s',\n",
       " '/root/.PyCharm2016.2/system/index/stubs/py.class.attributes/Py.class.attributes.storage.len',\n",
       " '/root/.PyCharm2016.2/system/index/stubs/py.class.attributes/Py.class.attributes.storage',\n",
       " '/root/.PyCharm2016.2/system/index/stubs/py.class.attributes/Py.class.attributes.storage_i.len',\n",
       " '/root/.PyCharm2016.2/system/index/stubs/py.class.attributes/Py.class.attributes.storage_i',\n",
       " '/root/.PyCharm2016.2/system/index/stubs/py.class.attributes/Py.class.attributes.storage.keystream.len',\n",
       " '/root/.PyCharm2016.2/system/index/stubs/py.class.attributes/Py.class.attributes.storage.keystream',\n",
       " '/root/.PyCharm2016.2/system/index/stubs/py.class.attributes/Py.class.attributes_inputs.len',\n",
       " '/root/.PyCharm2016.2/system/index/stubs/py.class.attributes/Py.class.attributes_inputs',\n",
       " '/root/.PyCharm2016.2/system/index/stubs/py.class.attributes/Py.class.attributes_inputs_i.len',\n",
       " '/root/.PyCharm2016.2/system/index/stubs/py.class.attributes/Py.class.attributes_inputs_i',\n",
       " '/root/.PyCharm2016.2/system/index/stubs/py.class.attributes/Py.class.attributes_inputs.values.at',\n",
       " '/root/.PyCharm2016.2/system/index/stubs/py.class.attributes/Py.class.attributes.storage.values.at',\n",
       " '/root/.PyCharm2016.2/system/index/stubs/py.class.attributes/Py.class.attributes.storage.values',\n",
       " '/root/.PyCharm2016.2/system/index/stubs/py.class.attributes/Py.class.attributes.storage.values.s',\n",
       " '/root/.PyCharm2016.2/system/index/stubs/python.decorator/Python.Decorator.storage.len',\n",
       " '/root/.PyCharm2016.2/system/index/stubs/python.decorator/Python.Decorator.storage',\n",
       " '/root/.PyCharm2016.2/system/index/stubs/python.decorator/Python.Decorator.storage_i.len',\n",
       " '/root/.PyCharm2016.2/system/index/stubs/python.decorator/Python.Decorator.storage_i',\n",
       " '/root/.PyCharm2016.2/system/index/stubs/python.decorator/Python.Decorator.storage.keystream.len',\n",
       " '/root/.PyCharm2016.2/system/index/stubs/python.decorator/Python.Decorator.storage.keystream',\n",
       " '/root/.PyCharm2016.2/system/index/stubs/python.decorator/Python.Decorator_inputs.len',\n",
       " '/root/.PyCharm2016.2/system/index/stubs/python.decorator/Python.Decorator_inputs',\n",
       " '/root/.PyCharm2016.2/system/index/stubs/python.decorator/Python.Decorator_inputs_i.len',\n",
       " '/root/.PyCharm2016.2/system/index/stubs/python.decorator/Python.Decorator_inputs_i',\n",
       " '/root/.PyCharm2016.2/system/index/stubs/python.decorator/Python.Decorator_inputs.values.at',\n",
       " '/root/.PyCharm2016.2/system/index/stubs/python.decorator/Python.Decorator.storage.values.at',\n",
       " '/root/.PyCharm2016.2/system/index/stubs/py.instanceattribute.name/Py.instanceAttribute.name.storage.len',\n",
       " '/root/.PyCharm2016.2/system/index/stubs/py.instanceattribute.name/Py.instanceAttribute.name.storage',\n",
       " '/root/.PyCharm2016.2/system/index/stubs/py.instanceattribute.name/Py.instanceAttribute.name.storage_i.len',\n",
       " '/root/.PyCharm2016.2/system/index/stubs/py.instanceattribute.name/Py.instanceAttribute.name.storage_i',\n",
       " '/root/.PyCharm2016.2/system/index/stubs/py.instanceattribute.name/Py.instanceAttribute.name.storage.keystream.len',\n",
       " '/root/.PyCharm2016.2/system/index/stubs/py.instanceattribute.name/Py.instanceAttribute.name.storage.keystream',\n",
       " '/root/.PyCharm2016.2/system/index/stubs/py.instanceattribute.name/Py.instanceAttribute.name_inputs.len',\n",
       " '/root/.PyCharm2016.2/system/index/stubs/py.instanceattribute.name/Py.instanceAttribute.name_inputs',\n",
       " '/root/.PyCharm2016.2/system/index/stubs/py.instanceattribute.name/Py.instanceAttribute.name_inputs_i.len',\n",
       " '/root/.PyCharm2016.2/system/index/stubs/py.instanceattribute.name/Py.instanceAttribute.name_inputs_i',\n",
       " '/root/.PyCharm2016.2/system/index/stubs/py.instanceattribute.name/Py.instanceAttribute.name_inputs.values.at',\n",
       " '/root/.PyCharm2016.2/system/index/stubs/py.instanceattribute.name/Py.instanceAttribute.name.storage.values.at',\n",
       " '/root/.PyCharm2016.2/system/index/stubs/py.instanceattribute.name/Py.instanceAttribute.name.storage.values',\n",
       " '/root/.PyCharm2016.2/system/index/stubs/py.instanceattribute.name/Py.instanceAttribute.name.storage.values.s',\n",
       " '/root/.PyCharm2016.2/system/index/stubs/py.variable.shortname/Py.variable.shortName.storage.len',\n",
       " '/root/.PyCharm2016.2/system/index/stubs/py.variable.shortname/Py.variable.shortName.storage',\n",
       " '/root/.PyCharm2016.2/system/index/stubs/py.variable.shortname/Py.variable.shortName.storage_i.len',\n",
       " '/root/.PyCharm2016.2/system/index/stubs/py.variable.shortname/Py.variable.shortName.storage_i',\n",
       " '/root/.PyCharm2016.2/system/index/stubs/py.variable.shortname/Py.variable.shortName.storage.keystream.len',\n",
       " '/root/.PyCharm2016.2/system/index/stubs/py.variable.shortname/Py.variable.shortName.storage.keystream',\n",
       " '/root/.PyCharm2016.2/system/index/stubs/py.variable.shortname/Py.variable.shortName_inputs.len',\n",
       " '/root/.PyCharm2016.2/system/index/stubs/py.variable.shortname/Py.variable.shortName_inputs',\n",
       " '/root/.PyCharm2016.2/system/index/stubs/py.variable.shortname/Py.variable.shortName_inputs_i.len',\n",
       " '/root/.PyCharm2016.2/system/index/stubs/py.variable.shortname/Py.variable.shortName_inputs_i',\n",
       " '/root/.PyCharm2016.2/system/index/stubs/py.variable.shortname/Py.variable.shortName_inputs.values.at',\n",
       " '/root/.PyCharm2016.2/system/index/stubs/py.variable.shortname/Py.variable.shortName.storage.values.at',\n",
       " '/root/.PyCharm2016.2/system/index/stubs/py.variable.shortname/Py.variable.shortName.storage.values',\n",
       " '/root/.PyCharm2016.2/system/index/stubs/py.variable.shortname/Py.variable.shortName.storage.values.s',\n",
       " '/root/.PyCharm2016.2/system/index/stubs/py.class.super/Py.class.super.storage.len',\n",
       " '/root/.PyCharm2016.2/system/index/stubs/py.class.super/Py.class.super.storage',\n",
       " '/root/.PyCharm2016.2/system/index/stubs/py.class.super/Py.class.super.storage_i.len',\n",
       " '/root/.PyCharm2016.2/system/index/stubs/py.class.super/Py.class.super.storage_i',\n",
       " '/root/.PyCharm2016.2/system/index/stubs/py.class.super/Py.class.super.storage.keystream.len',\n",
       " '/root/.PyCharm2016.2/system/index/stubs/py.class.super/Py.class.super.storage.keystream',\n",
       " '/root/.PyCharm2016.2/system/index/stubs/py.class.super/Py.class.super_inputs.len',\n",
       " '/root/.PyCharm2016.2/system/index/stubs/py.class.super/Py.class.super_inputs',\n",
       " '/root/.PyCharm2016.2/system/index/stubs/py.class.super/Py.class.super_inputs_i.len',\n",
       " '/root/.PyCharm2016.2/system/index/stubs/py.class.super/Py.class.super_inputs_i',\n",
       " '/root/.PyCharm2016.2/system/index/stubs/py.class.super/Py.class.super_inputs.values.at',\n",
       " '/root/.PyCharm2016.2/system/index/stubs/py.class.super/Py.class.super.storage.values.at',\n",
       " '/root/.PyCharm2016.2/system/index/stubs/py.class.super/Py.class.super.storage.values',\n",
       " '/root/.PyCharm2016.2/system/index/stubs/py.class.super/Py.class.super.storage.values.s',\n",
       " '/root/.PyCharm2016.2/system/index/stubs/py.function.shortname/Py.function.shortName.storage.len',\n",
       " '/root/.PyCharm2016.2/system/index/stubs/py.function.shortname/Py.function.shortName.storage',\n",
       " '/root/.PyCharm2016.2/system/index/stubs/py.function.shortname/Py.function.shortName.storage_i.len',\n",
       " '/root/.PyCharm2016.2/system/index/stubs/py.function.shortname/Py.function.shortName.storage_i',\n",
       " '/root/.PyCharm2016.2/system/index/stubs/py.function.shortname/Py.function.shortName.storage.keystream.len',\n",
       " '/root/.PyCharm2016.2/system/index/stubs/py.function.shortname/Py.function.shortName.storage.keystream',\n",
       " '/root/.PyCharm2016.2/system/index/stubs/py.function.shortname/Py.function.shortName_inputs.len',\n",
       " '/root/.PyCharm2016.2/system/index/stubs/py.function.shortname/Py.function.shortName_inputs',\n",
       " '/root/.PyCharm2016.2/system/index/stubs/py.function.shortname/Py.function.shortName_inputs_i.len',\n",
       " '/root/.PyCharm2016.2/system/index/stubs/py.function.shortname/Py.function.shortName_inputs_i',\n",
       " '/root/.PyCharm2016.2/system/index/stubs/py.function.shortname/Py.function.shortName_inputs.values.at',\n",
       " '/root/.PyCharm2016.2/system/index/stubs/py.function.shortname/Py.function.shortName.storage.values.at',\n",
       " '/root/.PyCharm2016.2/system/index/stubs/py.function.shortname/Py.function.shortName.storage.values',\n",
       " '/root/.PyCharm2016.2/system/index/stubs/py.function.shortname/Py.function.shortName.storage.values.s',\n",
       " '/root/.PyCharm2016.2/system/index/stubs/py.class.shortnameinsensitive/Py.class.shortNameInsensitive.storage.len',\n",
       " '/root/.PyCharm2016.2/system/index/stubs/py.class.shortnameinsensitive/Py.class.shortNameInsensitive.storage',\n",
       " '/root/.PyCharm2016.2/system/index/stubs/py.class.shortnameinsensitive/Py.class.shortNameInsensitive.storage_i.len',\n",
       " '/root/.PyCharm2016.2/system/index/stubs/py.class.shortnameinsensitive/Py.class.shortNameInsensitive.storage_i',\n",
       " '/root/.PyCharm2016.2/system/index/stubs/py.class.shortnameinsensitive/Py.class.shortNameInsensitive.storage.keystream.len',\n",
       " '/root/.PyCharm2016.2/system/index/stubs/py.class.shortnameinsensitive/Py.class.shortNameInsensitive.storage.keystream',\n",
       " '/root/.PyCharm2016.2/system/index/stubs/py.class.shortnameinsensitive/Py.class.shortNameInsensitive_inputs.len',\n",
       " '/root/.PyCharm2016.2/system/index/stubs/py.class.shortnameinsensitive/Py.class.shortNameInsensitive_inputs',\n",
       " '/root/.PyCharm2016.2/system/index/stubs/py.class.shortnameinsensitive/Py.class.shortNameInsensitive_inputs_i.len',\n",
       " '/root/.PyCharm2016.2/system/index/stubs/py.class.shortnameinsensitive/Py.class.shortNameInsensitive_inputs_i',\n",
       " '/root/.PyCharm2016.2/system/index/stubs/py.class.shortnameinsensitive/Py.class.shortNameInsensitive_inputs.values.at',\n",
       " '/root/.PyCharm2016.2/system/index/stubs/py.class.shortnameinsensitive/Py.class.shortNameInsensitive.storage.values.at',\n",
       " '/root/.PyCharm2016.2/system/index/stubs/py.class.shortnameinsensitive/Py.class.shortNameInsensitive.storage.values',\n",
       " '/root/.PyCharm2016.2/system/index/stubs/py.class.shortnameinsensitive/Py.class.shortNameInsensitive.storage.values.s',\n",
       " '/root/.PyCharm2016.2/system/index/stubs/py.class.shortname/Py.class.shortName.storage.len',\n",
       " '/root/.PyCharm2016.2/system/index/stubs/py.class.shortname/Py.class.shortName.storage',\n",
       " '/root/.PyCharm2016.2/system/index/stubs/py.class.shortname/Py.class.shortName.storage_i.len',\n",
       " '/root/.PyCharm2016.2/system/index/stubs/py.class.shortname/Py.class.shortName.storage_i',\n",
       " '/root/.PyCharm2016.2/system/index/stubs/py.class.shortname/Py.class.shortName.storage.keystream.len',\n",
       " '/root/.PyCharm2016.2/system/index/stubs/py.class.shortname/Py.class.shortName.storage.keystream',\n",
       " '/root/.PyCharm2016.2/system/index/stubs/py.class.shortname/Py.class.shortName_inputs.len',\n",
       " '/root/.PyCharm2016.2/system/index/stubs/py.class.shortname/Py.class.shortName_inputs',\n",
       " '/root/.PyCharm2016.2/system/index/stubs/py.class.shortname/Py.class.shortName_inputs_i.len',\n",
       " '/root/.PyCharm2016.2/system/index/stubs/py.class.shortname/Py.class.shortName_inputs_i',\n",
       " '/root/.PyCharm2016.2/system/index/stubs/py.class.shortname/Py.class.shortName_inputs.values.at',\n",
       " '/root/.PyCharm2016.2/system/index/stubs/py.class.shortname/Py.class.shortName.storage.values.at',\n",
       " '/root/.PyCharm2016.2/system/index/stubs/py.class.shortname/Py.class.shortName.storage.values',\n",
       " '/root/.PyCharm2016.2/system/index/stubs/py.class.shortname/Py.class.shortName.storage.values.s',\n",
       " '/root/.PyCharm2016.2/system/index/stubs/dom.elementclass/dom.elementClass.storage.len',\n",
       " '/root/.PyCharm2016.2/system/index/stubs/dom.elementclass/dom.elementClass.storage',\n",
       " '/root/.PyCharm2016.2/system/index/stubs/dom.elementclass/dom.elementClass.storage_i.len',\n",
       " '/root/.PyCharm2016.2/system/index/stubs/dom.elementclass/dom.elementClass.storage_i',\n",
       " '/root/.PyCharm2016.2/system/index/stubs/dom.elementclass/dom.elementClass.storage.keystream.len',\n",
       " '/root/.PyCharm2016.2/system/index/stubs/dom.elementclass/dom.elementClass.storage.keystream',\n",
       " '/root/.PyCharm2016.2/system/index/stubs/dom.elementclass/dom.elementClass_inputs.len',\n",
       " '/root/.PyCharm2016.2/system/index/stubs/dom.elementclass/dom.elementClass_inputs',\n",
       " '/root/.PyCharm2016.2/system/index/stubs/dom.elementclass/dom.elementClass_inputs_i.len',\n",
       " '/root/.PyCharm2016.2/system/index/stubs/dom.elementclass/dom.elementClass_inputs_i',\n",
       " '/root/.PyCharm2016.2/system/index/stubs/dom.elementclass/dom.elementClass_inputs.values.at',\n",
       " '/root/.PyCharm2016.2/system/index/stubs/dom.elementclass/dom.elementClass.storage.values.at',\n",
       " '/root/.PyCharm2016.2/system/index/stubs/dom.namespacekey/dom.namespaceKey.storage.len',\n",
       " '/root/.PyCharm2016.2/system/index/stubs/dom.namespacekey/dom.namespaceKey.storage',\n",
       " '/root/.PyCharm2016.2/system/index/stubs/dom.namespacekey/dom.namespaceKey.storage_i.len',\n",
       " '/root/.PyCharm2016.2/system/index/stubs/dom.namespacekey/dom.namespaceKey.storage_i',\n",
       " '/root/.PyCharm2016.2/system/index/stubs/dom.namespacekey/dom.namespaceKey.storage.keystream.len',\n",
       " '/root/.PyCharm2016.2/system/index/stubs/dom.namespacekey/dom.namespaceKey.storage.keystream',\n",
       " '/root/.PyCharm2016.2/system/index/stubs/dom.namespacekey/dom.namespaceKey_inputs.len',\n",
       " '/root/.PyCharm2016.2/system/index/stubs/dom.namespacekey/dom.namespaceKey_inputs',\n",
       " '/root/.PyCharm2016.2/system/index/stubs/dom.namespacekey/dom.namespaceKey_inputs_i.len',\n",
       " '/root/.PyCharm2016.2/system/index/stubs/dom.namespacekey/dom.namespaceKey_inputs_i',\n",
       " '/root/.PyCharm2016.2/system/index/stubs/dom.namespacekey/dom.namespaceKey_inputs.values.at',\n",
       " '/root/.PyCharm2016.2/system/index/stubs/dom.namespacekey/dom.namespaceKey.storage.values.at',\n",
       " '/root/.PyCharm2016.2/system/index/stubs/.versions/dom.namespaceKey.ver',\n",
       " '/root/.PyCharm2016.2/system/index/stubs/.versions/dom.elementClass.ver',\n",
       " '/root/.PyCharm2016.2/system/index/stubs/.versions/Py.class.shortName.ver',\n",
       " '/root/.PyCharm2016.2/system/index/stubs/.versions/Py.class.shortNameInsensitive.ver',\n",
       " '/root/.PyCharm2016.2/system/index/stubs/.versions/Py.function.shortName.ver',\n",
       " '/root/.PyCharm2016.2/system/index/stubs/.versions/Py.class.super.ver',\n",
       " '/root/.PyCharm2016.2/system/index/stubs/.versions/Py.variable.shortName.ver',\n",
       " '/root/.PyCharm2016.2/system/index/stubs/.versions/Py.instanceAttribute.name.ver',\n",
       " '/root/.PyCharm2016.2/system/index/stubs/.versions/Python.Decorator.ver',\n",
       " '/root/.PyCharm2016.2/system/index/stubs/.versions/Py.class.attributes.ver',\n",
       " '/root/.PyCharm2016.2/system/index/stubs/.fileTypes/indexed_filetypes',\n",
       " '/root/.PyCharm2016.2/system/index/filetypes/filetypes.ver',\n",
       " '/root/.PyCharm2016.2/system/index/filetypes/filetypes.storage.len',\n",
       " '/root/.PyCharm2016.2/system/index/filetypes/filetypes.storage',\n",
       " '/root/.PyCharm2016.2/system/index/filetypes/filetypes.storage_i.len',\n",
       " '/root/.PyCharm2016.2/system/index/filetypes/filetypes.storage_i',\n",
       " '/root/.PyCharm2016.2/system/index/filetypes/filetypes.storage.keystream.len',\n",
       " '/root/.PyCharm2016.2/system/index/filetypes/filetypes.storage.keystream',\n",
       " '/root/.PyCharm2016.2/system/index/filetypes/filetypes_inputs.len',\n",
       " '/root/.PyCharm2016.2/system/index/filetypes/filetypes_inputs',\n",
       " '/root/.PyCharm2016.2/system/index/filetypes/filetypes_inputs_i.len',\n",
       " '/root/.PyCharm2016.2/system/index/filetypes/filetypes_inputs_i',\n",
       " '/root/.PyCharm2016.2/system/index/filetypes/filetypes_inputs.values.at',\n",
       " '/root/.PyCharm2016.2/system/index/filetypes/filetypes.storage.values.at',\n",
       " '/root/.PyCharm2016.2/system/index/filenameindex/FilenameIndex.ver',\n",
       " '/root/.PyCharm2016.2/system/index/filenameindex/FilenameIndex.storage.len',\n",
       " '/root/.PyCharm2016.2/system/index/filenameindex/FilenameIndex.storage',\n",
       " '/root/.PyCharm2016.2/system/index/filenameindex/FilenameIndex.storage_i.len',\n",
       " '/root/.PyCharm2016.2/system/index/filenameindex/FilenameIndex.storage_i',\n",
       " '/root/.PyCharm2016.2/system/index/filenameindex/FilenameIndex.storage.keystream.len',\n",
       " '/root/.PyCharm2016.2/system/index/filenameindex/FilenameIndex.storage.keystream',\n",
       " '/root/.PyCharm2016.2/system/index/filenameindex/FilenameIndex.project.len',\n",
       " '/root/.PyCharm2016.2/system/index/filenameindex/FilenameIndex.project',\n",
       " '/root/.PyCharm2016.2/system/index/filenameindex/FilenameIndex.project_i.len',\n",
       " '/root/.PyCharm2016.2/system/index/filenameindex/FilenameIndex.project_i',\n",
       " '/root/.PyCharm2016.2/system/index/filenameindex/FilenameIndex.project.keystream.len',\n",
       " '/root/.PyCharm2016.2/system/index/filenameindex/FilenameIndex.project.keystream',\n",
       " '/root/.PyCharm2016.2/system/index/filenameindex/FilenameIndex_inputs.len',\n",
       " '/root/.PyCharm2016.2/system/index/filenameindex/FilenameIndex_inputs',\n",
       " '/root/.PyCharm2016.2/system/index/filenameindex/FilenameIndex_inputs_i.len',\n",
       " '/root/.PyCharm2016.2/system/index/filenameindex/FilenameIndex_inputs_i',\n",
       " '/root/.PyCharm2016.2/system/index/filenameindex/FilenameIndex_inputs.values.at',\n",
       " '/root/.PyCharm2016.2/system/index/filenameindex/FilenameIndex.storage.values.at',\n",
       " '/root/.PyCharm2016.2/system/index/filenameindex/FilenameIndex_inputs.values',\n",
       " '/root/.PyCharm2016.2/system/index/filenameindex/FilenameIndex_inputs.values.s',\n",
       " '/root/.PyCharm2016.2/system/index/idindex/IdIndex.ver',\n",
       " '/root/.PyCharm2016.2/system/index/idindex/IdIndex.storage.len',\n",
       " '/root/.PyCharm2016.2/system/index/idindex/IdIndex.storage',\n",
       " '/root/.PyCharm2016.2/system/index/idindex/IdIndex.storage_i.len',\n",
       " '/root/.PyCharm2016.2/system/index/idindex/IdIndex.storage_i',\n",
       " '/root/.PyCharm2016.2/system/index/idindex/fileIdToHashId.len',\n",
       " '/root/.PyCharm2016.2/system/index/idindex/fileIdToHashId',\n",
       " '/root/.PyCharm2016.2/system/index/idindex/fileIdToHashId_i.len',\n",
       " '/root/.PyCharm2016.2/system/index/idindex/fileIdToHashId_i',\n",
       " '/root/.PyCharm2016.2/system/index/idindex/fileIdToHashId.values.at',\n",
       " '/root/.PyCharm2016.2/system/index/idindex/IdIndex.storage.values.at',\n",
       " '/root/.PyCharm2016.2/system/index/idindex/IdIndex.storage.values',\n",
       " '/root/.PyCharm2016.2/system/index/idindex/IdIndex.storage.values.s',\n",
       " '/root/.PyCharm2016.2/system/index/.persistent/hashesWithFileType.len',\n",
       " '/root/.PyCharm2016.2/system/index/.persistent/hashesWithFileType',\n",
       " '/root/.PyCharm2016.2/system/index/.persistent/hashesWithFileType_i.len',\n",
       " '/root/.PyCharm2016.2/system/index/.persistent/hashesWithFileType_i',\n",
       " '/root/.PyCharm2016.2/system/index/.persistent/hashesWithFileType.keystream.len',\n",
       " '/root/.PyCharm2016.2/system/index/.persistent/hashesWithFileType.keystream',\n",
       " '/root/.PyCharm2016.2/system/index/.persistent/trigram.index/values.len',\n",
       " '/root/.PyCharm2016.2/system/index/.persistent/trigram.index/values',\n",
       " '/root/.PyCharm2016.2/system/index/.persistent/trigram.index/values_i.len',\n",
       " '/root/.PyCharm2016.2/system/index/.persistent/trigram.index/values_i',\n",
       " '/root/.PyCharm2016.2/system/index/.persistent/trigram.index/values.values.at',\n",
       " '/root/.PyCharm2016.2/system/index/.persistent/trigram.index/values.values',\n",
       " '/root/.PyCharm2016.2/system/index/.persistent/trigram.index/values.values.s',\n",
       " '/root/.PyCharm2016.2/system/index/.persistent/idindex/values.len',\n",
       " '/root/.PyCharm2016.2/system/index/.persistent/idindex/values',\n",
       " '/root/.PyCharm2016.2/system/index/.persistent/idindex/values_i.len',\n",
       " '/root/.PyCharm2016.2/system/index/.persistent/idindex/values_i',\n",
       " '/root/.PyCharm2016.2/system/index/.persistent/idindex/values.values.at',\n",
       " '/root/.PyCharm2016.2/system/index/.persistent/idindex/values.values',\n",
       " '/root/.PyCharm2016.2/system/index/.persistent/idindex/values.values.s',\n",
       " '/root/.PyCharm2016.2/system/index/.persistent/todoindex/values.len',\n",
       " '/root/.PyCharm2016.2/system/index/.persistent/todoindex/values',\n",
       " '/root/.PyCharm2016.2/system/index/.persistent/todoindex/values_i.len',\n",
       " '/root/.PyCharm2016.2/system/index/.persistent/todoindex/values_i',\n",
       " '/root/.PyCharm2016.2/system/index/.persistent/todoindex/values.values.at',\n",
       " '/root/.PyCharm2016.2/system/index/todoindex/TodoIndex.ver',\n",
       " '/root/.PyCharm2016.2/system/index/todoindex/TodoIndex.storage.len',\n",
       " '/root/.PyCharm2016.2/system/index/todoindex/TodoIndex.storage',\n",
       " '/root/.PyCharm2016.2/system/index/todoindex/TodoIndex.storage_i.len',\n",
       " '/root/.PyCharm2016.2/system/index/todoindex/TodoIndex.storage_i',\n",
       " '/root/.PyCharm2016.2/system/index/todoindex/TodoIndex.storage.keystream.len',\n",
       " '/root/.PyCharm2016.2/system/index/todoindex/TodoIndex.storage.keystream',\n",
       " '/root/.PyCharm2016.2/system/index/todoindex/fileIdToHashId.len',\n",
       " '/root/.PyCharm2016.2/system/index/todoindex/fileIdToHashId',\n",
       " '/root/.PyCharm2016.2/system/index/todoindex/fileIdToHashId_i.len',\n",
       " '/root/.PyCharm2016.2/system/index/todoindex/fileIdToHashId_i',\n",
       " '/root/.PyCharm2016.2/system/index/todoindex/fileIdToHashId.values.at',\n",
       " '/root/.PyCharm2016.2/system/index/todoindex/TodoIndex.storage.values.at',\n",
       " '/root/.PyCharm2016.2/system/index/frameworkdetectionindex/FrameworkDetectionIndex.ver',\n",
       " '/root/.PyCharm2016.2/system/index/frameworkdetectionindex/FrameworkDetectionIndex.storage.len',\n",
       " '/root/.PyCharm2016.2/system/index/frameworkdetectionindex/FrameworkDetectionIndex.storage',\n",
       " '/root/.PyCharm2016.2/system/index/frameworkdetectionindex/FrameworkDetectionIndex.storage_i.len',\n",
       " '/root/.PyCharm2016.2/system/index/frameworkdetectionindex/FrameworkDetectionIndex.storage_i',\n",
       " '/root/.PyCharm2016.2/system/index/frameworkdetectionindex/FrameworkDetectionIndex_inputs.len',\n",
       " '/root/.PyCharm2016.2/system/index/frameworkdetectionindex/FrameworkDetectionIndex_inputs',\n",
       " '/root/.PyCharm2016.2/system/index/frameworkdetectionindex/FrameworkDetectionIndex_inputs_i.len',\n",
       " '/root/.PyCharm2016.2/system/index/frameworkdetectionindex/FrameworkDetectionIndex_inputs_i',\n",
       " '/root/.PyCharm2016.2/system/index/frameworkdetectionindex/FrameworkDetectionIndex_inputs.values.at',\n",
       " '/root/.PyCharm2016.2/system/index/frameworkdetectionindex/FrameworkDetectionIndex.storage.values.at',\n",
       " '/root/.PyCharm2016.2/system/caches/names.dat.len',\n",
       " '/root/.PyCharm2016.2/system/caches/names.dat',\n",
       " '/root/.PyCharm2016.2/system/caches/names.dat_i.len',\n",
       " '/root/.PyCharm2016.2/system/caches/names.dat_i',\n",
       " '/root/.PyCharm2016.2/system/caches/names.dat.keystream.len',\n",
       " '/root/.PyCharm2016.2/system/caches/names.dat.keystream',\n",
       " '/root/.PyCharm2016.2/system/caches/attrib.dat.storageRecordIndex',\n",
       " '/root/.PyCharm2016.2/system/caches/attrib.dat.storageData',\n",
       " '/root/.PyCharm2016.2/system/caches/content.dat.storageRecordIndex',\n",
       " '/root/.PyCharm2016.2/system/caches/content.dat.storageData',\n",
       " '/root/.PyCharm2016.2/system/caches/contentHashes.dat.len',\n",
       " '/root/.PyCharm2016.2/system/caches/contentHashes.dat',\n",
       " '/root/.PyCharm2016.2/system/caches/contentHashes.dat_i.len',\n",
       " '/root/.PyCharm2016.2/system/caches/contentHashes.dat_i',\n",
       " '/root/.PyCharm2016.2/system/caches/contentHashes.dat.keystream.len',\n",
       " '/root/.PyCharm2016.2/system/caches/contentHashes.dat.keystream',\n",
       " '/root/.PyCharm2016.2/system/caches/records.dat.len',\n",
       " '/root/.PyCharm2016.2/system/caches/records.dat',\n",
       " '/root/.PyCharm2016.2/system/caches/vfs_enum_attrib.dat',\n",
       " '/root/.PyCharm2016.2/system/log/idea.log',\n",
       " '/root/.PyCharm2016.2/system/log/threadDumps-20160906-103009-PC-162.1812.1/freeze-20160906-103852-9/threadDump-20160906-103852.txt',\n",
       " '/root/.PyCharm2016.2/system/log/threadDumps-20160906-103009-PC-162.1812.1/freeze-20160906-103015-13/threadDump-20160906-103015.txt',\n",
       " '/root/.PyCharm2016.2/system/log/threadDumps-20160906-103009-PC-162.1812.1/freeze-20160906-103015-13/threadDump-20160906-103020.txt',\n",
       " '/root/hello/README.md',\n",
       " '/root/hello/dev.txt',\n",
       " '/root/hello/python3/tizhong.py',\n",
       " '/root/hello/.git/description',\n",
       " '/root/hello/.git/HEAD',\n",
       " '/root/hello/.git/config',\n",
       " '/root/hello/.git/packed-refs',\n",
       " '/root/hello/.git/index',\n",
       " '/root/hello/.git/COMMIT_EDITMSG',\n",
       " '/root/hello/.git/FETCH_HEAD',\n",
       " '/root/hello/.git/ORIG_HEAD',\n",
       " '/root/hello/.git/logs/HEAD',\n",
       " '/root/hello/.git/logs/refs/heads/master',\n",
       " '/root/hello/.git/logs/refs/remotes/origin/HEAD',\n",
       " '/root/hello/.git/logs/refs/remotes/origin/master',\n",
       " '/root/hello/.git/objects/07/7a6d7b70380a8372c2032bdc08e2a05d5da54e',\n",
       " '/root/hello/.git/objects/8b/beb6ff4371a501fe616d2b64e677f20dce8311',\n",
       " '/root/hello/.git/objects/55/d92494246d0ccd88da4893106d161a58159eb8',\n",
       " '/root/hello/.git/objects/14/5158f00d54c3c884a10d85b3b059f4e5d33c22',\n",
       " '/root/hello/.git/objects/ac/69c82c826ab1f801abf670bc050699ffc0aba2',\n",
       " '/root/hello/.git/objects/e6/880309b2e7eec5ede45fa539ce332a0240b2ee',\n",
       " '/root/hello/.git/objects/13/9fb88c806eeb1ee951b1f8fbe351b6dd00007f',\n",
       " '/root/hello/.git/objects/76/f81f4095f66f0964ceebe9b281e3b897866c68',\n",
       " '/root/hello/.git/objects/68/355820de7dd7e81e01dc87ed678f43bd478384',\n",
       " '/root/hello/.git/objects/68/8ee702279fa3634526efe49584650703b65925',\n",
       " '/root/hello/.git/objects/cf/2af1c960ac0191519a2a74e46cfb24ac5d3433',\n",
       " '/root/hello/.git/objects/01/9946ca45fb86860c178153d1d85d8452cd06cf',\n",
       " '/root/hello/.git/objects/09/00aa4fc20dc65ae8515dfbed3132a21852c9b6',\n",
       " '/root/hello/.git/objects/d5/f684c574cc40f65b5d82f94197ac45e148a2c2',\n",
       " '/root/hello/.git/objects/41/2b424103362aded65ffe102b7f321f109b745b',\n",
       " '/root/hello/.git/objects/e4/6c44d5dc67ef1c98822446a9e2c64e55441e3e',\n",
       " '/root/hello/.git/objects/19/d7a75d7e71eee4f61acb37cded11d40eb96c21',\n",
       " '/root/hello/.git/objects/19/198981a40e58dac2e37def5f2c563012b3d388',\n",
       " '/root/hello/.git/objects/9a/079012a2ad9be549cfc3037e15b65a7f9c01d8',\n",
       " '/root/hello/.git/objects/24/cfa8245778b530fc9b81f0b2dc176eccb12891',\n",
       " '/root/hello/.git/objects/pack/pack-3393e157980cc73d15858f82ad5683fc297f49f6.pack',\n",
       " '/root/hello/.git/objects/pack/pack-3393e157980cc73d15858f82ad5683fc297f49f6.idx',\n",
       " '/root/hello/.git/info/exclude',\n",
       " '/root/hello/.git/hooks/applypatch-msg.sample',\n",
       " '/root/hello/.git/hooks/commit-msg.sample',\n",
       " '/root/hello/.git/hooks/post-update.sample',\n",
       " '/root/hello/.git/hooks/pre-applypatch.sample',\n",
       " '/root/hello/.git/hooks/pre-commit.sample',\n",
       " '/root/hello/.git/hooks/pre-push.sample',\n",
       " '/root/hello/.git/hooks/pre-rebase.sample',\n",
       " '/root/hello/.git/hooks/prepare-commit-msg.sample',\n",
       " '/root/hello/.git/hooks/update.sample',\n",
       " '/root/hello/.git/refs/remotes/origin/HEAD',\n",
       " '/root/hello/.git/refs/remotes/origin/master',\n",
       " '/root/hello/.git/refs/heads/master',\n",
       " '/root/.ssh/known_hosts',\n",
       " '/root/.ssh/id_rsa',\n",
       " '/root/.ssh/id_rsa.pub',\n",
       " '/root/test/index.html',\n",
       " '/root/li/haha',\n",
       " '/root/li/hanhan/hello',\n",
       " '/root/PycharmProjects/untitled/abc.py',\n",
       " '/root/PycharmProjects/untitled/__pycache__/abc.cpython-35.pyc',\n",
       " '/root/PycharmProjects/untitled/.idea/misc.xml',\n",
       " '/root/PycharmProjects/untitled/.idea/modules.xml',\n",
       " '/root/PycharmProjects/untitled/.idea/untitled.iml',\n",
       " '/root/PycharmProjects/untitled/.idea/workspace.xml',\n",
       " '/root/pycharm-community-2016.2.2/build.txt',\n",
       " '/root/pycharm-community-2016.2.2/jre/jre/ASSEMBLY_EXCEPTION',\n",
       " '/root/pycharm-community-2016.2.2/jre/jre/LICENSE',\n",
       " '/root/pycharm-community-2016.2.2/jre/jre/THIRD_PARTY_README',\n",
       " '/root/pycharm-community-2016.2.2/jre/jre/release',\n",
       " '/root/pycharm-community-2016.2.2/jre/jre/bin/java',\n",
       " '/root/pycharm-community-2016.2.2/jre/jre/bin/jjs',\n",
       " '/root/pycharm-community-2016.2.2/jre/jre/bin/keytool',\n",
       " '/root/pycharm-community-2016.2.2/jre/jre/bin/orbd',\n",
       " '/root/pycharm-community-2016.2.2/jre/jre/bin/pack200',\n",
       " '/root/pycharm-community-2016.2.2/jre/jre/bin/policytool',\n",
       " '/root/pycharm-community-2016.2.2/jre/jre/bin/rmid',\n",
       " '/root/pycharm-community-2016.2.2/jre/jre/bin/rmiregistry',\n",
       " '/root/pycharm-community-2016.2.2/jre/jre/bin/servertool',\n",
       " '/root/pycharm-community-2016.2.2/jre/jre/bin/tnameserv',\n",
       " '/root/pycharm-community-2016.2.2/jre/jre/bin/unpack200',\n",
       " '/root/pycharm-community-2016.2.2/jre/jre/man/ja',\n",
       " '/root/pycharm-community-2016.2.2/jre/jre/man/man1/java.1',\n",
       " '/root/pycharm-community-2016.2.2/jre/jre/man/man1/jjs.1',\n",
       " '/root/pycharm-community-2016.2.2/jre/jre/man/man1/keytool.1',\n",
       " '/root/pycharm-community-2016.2.2/jre/jre/man/man1/orbd.1',\n",
       " '/root/pycharm-community-2016.2.2/jre/jre/man/man1/pack200.1',\n",
       " '/root/pycharm-community-2016.2.2/jre/jre/man/man1/policytool.1',\n",
       " '/root/pycharm-community-2016.2.2/jre/jre/man/man1/rmid.1',\n",
       " '/root/pycharm-community-2016.2.2/jre/jre/man/man1/rmiregistry.1',\n",
       " '/root/pycharm-community-2016.2.2/jre/jre/man/man1/servertool.1',\n",
       " '/root/pycharm-community-2016.2.2/jre/jre/man/man1/tnameserv.1',\n",
       " '/root/pycharm-community-2016.2.2/jre/jre/man/man1/unpack200.1',\n",
       " '/root/pycharm-community-2016.2.2/jre/jre/man/ja_JP.UTF-8/man1/java.1',\n",
       " '/root/pycharm-community-2016.2.2/jre/jre/man/ja_JP.UTF-8/man1/jjs.1',\n",
       " '/root/pycharm-community-2016.2.2/jre/jre/man/ja_JP.UTF-8/man1/keytool.1',\n",
       " '/root/pycharm-community-2016.2.2/jre/jre/man/ja_JP.UTF-8/man1/orbd.1',\n",
       " '/root/pycharm-community-2016.2.2/jre/jre/man/ja_JP.UTF-8/man1/pack200.1',\n",
       " '/root/pycharm-community-2016.2.2/jre/jre/man/ja_JP.UTF-8/man1/policytool.1',\n",
       " '/root/pycharm-community-2016.2.2/jre/jre/man/ja_JP.UTF-8/man1/rmid.1',\n",
       " '/root/pycharm-community-2016.2.2/jre/jre/man/ja_JP.UTF-8/man1/rmiregistry.1',\n",
       " '/root/pycharm-community-2016.2.2/jre/jre/man/ja_JP.UTF-8/man1/servertool.1',\n",
       " '/root/pycharm-community-2016.2.2/jre/jre/man/ja_JP.UTF-8/man1/tnameserv.1',\n",
       " '/root/pycharm-community-2016.2.2/jre/jre/man/ja_JP.UTF-8/man1/unpack200.1',\n",
       " '/root/pycharm-community-2016.2.2/jre/jre/lib/calendars.properties',\n",
       " '/root/pycharm-community-2016.2.2/jre/jre/lib/charsets.jar',\n",
       " '/root/pycharm-community-2016.2.2/jre/jre/lib/classlist',\n",
       " '/root/pycharm-community-2016.2.2/jre/jre/lib/content-types.properties',\n",
       " '/root/pycharm-community-2016.2.2/jre/jre/lib/currency.data',\n",
       " '/root/pycharm-community-2016.2.2/jre/jre/lib/flavormap.properties',\n",
       " '/root/pycharm-community-2016.2.2/jre/jre/lib/hijrah-config-umalqura.properties',\n",
       " '/root/pycharm-community-2016.2.2/jre/jre/lib/javafx.properties',\n",
       " '/root/pycharm-community-2016.2.2/jre/jre/lib/jce.jar',\n",
       " '/root/pycharm-community-2016.2.2/jre/jre/lib/jexec',\n",
       " '/root/pycharm-community-2016.2.2/jre/jre/lib/jfxswt.jar',\n",
       " '/root/pycharm-community-2016.2.2/jre/jre/lib/jsse.jar',\n",
       " '/root/pycharm-community-2016.2.2/jre/jre/lib/jvm.hprof.txt',\n",
       " '/root/pycharm-community-2016.2.2/jre/jre/lib/logging.properties',\n",
       " '/root/pycharm-community-2016.2.2/jre/jre/lib/management-agent.jar',\n",
       " '/root/pycharm-community-2016.2.2/jre/jre/lib/meta-index',\n",
       " '/root/pycharm-community-2016.2.2/jre/jre/lib/net.properties',\n",
       " '/root/pycharm-community-2016.2.2/jre/jre/lib/psfont.properties.ja',\n",
       " '/root/pycharm-community-2016.2.2/jre/jre/lib/psfontj2d.properties',\n",
       " '/root/pycharm-community-2016.2.2/jre/jre/lib/resources.jar',\n",
       " '/root/pycharm-community-2016.2.2/jre/jre/lib/rt.jar',\n",
       " '/root/pycharm-community-2016.2.2/jre/jre/lib/sound.properties',\n",
       " '/root/pycharm-community-2016.2.2/jre/jre/lib/tzdb.dat',\n",
       " '/root/pycharm-community-2016.2.2/jre/jre/lib/security/US_export_policy.jar',\n",
       " '/root/pycharm-community-2016.2.2/jre/jre/lib/security/blacklisted.certs',\n",
       " '/root/pycharm-community-2016.2.2/jre/jre/lib/security/cacerts',\n",
       " '/root/pycharm-community-2016.2.2/jre/jre/lib/security/java.policy',\n",
       " '/root/pycharm-community-2016.2.2/jre/jre/lib/security/java.security',\n",
       " '/root/pycharm-community-2016.2.2/jre/jre/lib/security/local_policy.jar',\n",
       " '/root/pycharm-community-2016.2.2/jre/jre/lib/management/jmxremote.access',\n",
       " '/root/pycharm-community-2016.2.2/jre/jre/lib/management/jmxremote.password.template',\n",
       " '/root/pycharm-community-2016.2.2/jre/jre/lib/management/management.properties',\n",
       " '/root/pycharm-community-2016.2.2/jre/jre/lib/management/snmp.acl.template',\n",
       " '/root/pycharm-community-2016.2.2/jre/jre/lib/images/cursors/cursors.properties',\n",
       " '/root/pycharm-community-2016.2.2/jre/jre/lib/images/cursors/invalid32x32.gif',\n",
       " '/root/pycharm-community-2016.2.2/jre/jre/lib/images/cursors/motif_CopyDrop32x32.gif',\n",
       " '/root/pycharm-community-2016.2.2/jre/jre/lib/images/cursors/motif_CopyNoDrop32x32.gif',\n",
       " '/root/pycharm-community-2016.2.2/jre/jre/lib/images/cursors/motif_LinkDrop32x32.gif',\n",
       " '/root/pycharm-community-2016.2.2/jre/jre/lib/images/cursors/motif_LinkNoDrop32x32.gif',\n",
       " '/root/pycharm-community-2016.2.2/jre/jre/lib/images/cursors/motif_MoveDrop32x32.gif',\n",
       " '/root/pycharm-community-2016.2.2/jre/jre/lib/images/cursors/motif_MoveNoDrop32x32.gif',\n",
       " '/root/pycharm-community-2016.2.2/jre/jre/lib/ext/cldrdata.jar',\n",
       " '/root/pycharm-community-2016.2.2/jre/jre/lib/ext/dnsns.jar',\n",
       " '/root/pycharm-community-2016.2.2/jre/jre/lib/ext/jaccess.jar',\n",
       " '/root/pycharm-community-2016.2.2/jre/jre/lib/ext/jfxrt.jar',\n",
       " '/root/pycharm-community-2016.2.2/jre/jre/lib/ext/localedata.jar',\n",
       " '/root/pycharm-community-2016.2.2/jre/jre/lib/ext/meta-index',\n",
       " '/root/pycharm-community-2016.2.2/jre/jre/lib/ext/nashorn.jar',\n",
       " '/root/pycharm-community-2016.2.2/jre/jre/lib/ext/sunec.jar',\n",
       " '/root/pycharm-community-2016.2.2/jre/jre/lib/ext/sunjce_provider.jar',\n",
       " '/root/pycharm-community-2016.2.2/jre/jre/lib/ext/sunpkcs11.jar',\n",
       " '/root/pycharm-community-2016.2.2/jre/jre/lib/ext/zipfs.jar',\n",
       " '/root/pycharm-community-2016.2.2/jre/jre/lib/cmm/CIEXYZ.pf',\n",
       " '/root/pycharm-community-2016.2.2/jre/jre/lib/cmm/GRAY.pf',\n",
       " '/root/pycharm-community-2016.2.2/jre/jre/lib/cmm/LINEAR_RGB.pf',\n",
       " '/root/pycharm-community-2016.2.2/jre/jre/lib/cmm/PYCC.pf',\n",
       " '/root/pycharm-community-2016.2.2/jre/jre/lib/cmm/sRGB.pf',\n",
       " '/root/pycharm-community-2016.2.2/jre/jre/lib/amd64/jvm.cfg',\n",
       " '/root/pycharm-community-2016.2.2/jre/jre/lib/amd64/libavplugin.so',\n",
       " '/root/pycharm-community-2016.2.2/jre/jre/lib/amd64/libawt.so',\n",
       " '/root/pycharm-community-2016.2.2/jre/jre/lib/amd64/libawt_headless.so',\n",
       " '/root/pycharm-community-2016.2.2/jre/jre/lib/amd64/libawt_xawt.so',\n",
       " '/root/pycharm-community-2016.2.2/jre/jre/lib/amd64/libdecora_sse.so',\n",
       " '/root/pycharm-community-2016.2.2/jre/jre/lib/amd64/libdt_socket.so',\n",
       " '/root/pycharm-community-2016.2.2/jre/jre/lib/amd64/libfontmanager.so',\n",
       " '/root/pycharm-community-2016.2.2/jre/jre/lib/amd64/libfxplugins.so',\n",
       " '/root/pycharm-community-2016.2.2/jre/jre/lib/amd64/libglass.so',\n",
       " '/root/pycharm-community-2016.2.2/jre/jre/lib/amd64/libgstreamer-lite.so',\n",
       " '/root/pycharm-community-2016.2.2/jre/jre/lib/amd64/libhprof.so',\n",
       " '/root/pycharm-community-2016.2.2/jre/jre/lib/amd64/libinstrument.so',\n",
       " '/root/pycharm-community-2016.2.2/jre/jre/lib/amd64/libj2gss.so',\n",
       " '/root/pycharm-community-2016.2.2/jre/jre/lib/amd64/libj2pcsc.so',\n",
       " '/root/pycharm-community-2016.2.2/jre/jre/lib/amd64/libj2pkcs11.so',\n",
       " '/root/pycharm-community-2016.2.2/jre/jre/lib/amd64/libjaas_unix.so',\n",
       " '/root/pycharm-community-2016.2.2/jre/jre/lib/amd64/libjava.so',\n",
       " '/root/pycharm-community-2016.2.2/jre/jre/lib/amd64/libjava_crw_demo.so',\n",
       " '/root/pycharm-community-2016.2.2/jre/jre/lib/amd64/libjavafx_font.so',\n",
       " '/root/pycharm-community-2016.2.2/jre/jre/lib/amd64/libjavafx_font_freetype.so',\n",
       " '/root/pycharm-community-2016.2.2/jre/jre/lib/amd64/libjavafx_font_pango.so',\n",
       " '/root/pycharm-community-2016.2.2/jre/jre/lib/amd64/libjavafx_iio.so',\n",
       " '/root/pycharm-community-2016.2.2/jre/jre/lib/amd64/libjawt.so',\n",
       " '/root/pycharm-community-2016.2.2/jre/jre/lib/amd64/libjdwp.so',\n",
       " '/root/pycharm-community-2016.2.2/jre/jre/lib/amd64/libjfxmedia.so',\n",
       " '/root/pycharm-community-2016.2.2/jre/jre/lib/amd64/libjfxwebkit.so',\n",
       " '/root/pycharm-community-2016.2.2/jre/jre/lib/amd64/libjpeg.so',\n",
       " '/root/pycharm-community-2016.2.2/jre/jre/lib/amd64/libjsdt.so',\n",
       " '/root/pycharm-community-2016.2.2/jre/jre/lib/amd64/libjsig.so',\n",
       " '/root/pycharm-community-2016.2.2/jre/jre/lib/amd64/libjsound.so',\n",
       " '/root/pycharm-community-2016.2.2/jre/jre/lib/amd64/libjsoundalsa.so',\n",
       " '/root/pycharm-community-2016.2.2/jre/jre/lib/amd64/liblcms.so',\n",
       " '/root/pycharm-community-2016.2.2/jre/jre/lib/amd64/libmanagement.so',\n",
       " '/root/pycharm-community-2016.2.2/jre/jre/lib/amd64/libmlib_image.so',\n",
       " '/root/pycharm-community-2016.2.2/jre/jre/lib/amd64/libnet.so',\n",
       " '/root/pycharm-community-2016.2.2/jre/jre/lib/amd64/libnio.so',\n",
       " '/root/pycharm-community-2016.2.2/jre/jre/lib/amd64/libnpt.so',\n",
       " '/root/pycharm-community-2016.2.2/jre/jre/lib/amd64/libprism_common.so',\n",
       " '/root/pycharm-community-2016.2.2/jre/jre/lib/amd64/libprism_es2.so',\n",
       " '/root/pycharm-community-2016.2.2/jre/jre/lib/amd64/libprism_sw.so',\n",
       " '/root/pycharm-community-2016.2.2/jre/jre/lib/amd64/libsctp.so',\n",
       " '/root/pycharm-community-2016.2.2/jre/jre/lib/amd64/libsplashscreen.so',\n",
       " '/root/pycharm-community-2016.2.2/jre/jre/lib/amd64/libsunec.so',\n",
       " '/root/pycharm-community-2016.2.2/jre/jre/lib/amd64/libunpack.so',\n",
       " '/root/pycharm-community-2016.2.2/jre/jre/lib/amd64/libverify.so',\n",
       " '/root/pycharm-community-2016.2.2/jre/jre/lib/amd64/libzip.so',\n",
       " '/root/pycharm-community-2016.2.2/jre/jre/lib/amd64/server/Xusage.txt',\n",
       " '/root/pycharm-community-2016.2.2/jre/jre/lib/amd64/server/libjsig.so',\n",
       " '/root/pycharm-community-2016.2.2/jre/jre/lib/amd64/server/libjvm.so',\n",
       " '/root/pycharm-community-2016.2.2/jre/jre/lib/amd64/jli/libjli.so',\n",
       " '/root/pycharm-community-2016.2.2/plugins/terminal/lib/jediterm-pty-2.2.jar',\n",
       " '/root/pycharm-community-2016.2.2/plugins/terminal/lib/jediterm.in',\n",
       " '/root/pycharm-community-2016.2.2/plugins/terminal/lib/resources_en.jar',\n",
       " '/root/pycharm-community-2016.2.2/plugins/terminal/lib/terminal.jar',\n",
       " '/root/pycharm-community-2016.2.2/plugins/tasks/lib/axis-1.4.jar',\n",
       " '/root/pycharm-community-2016.2.2/plugins/tasks/lib/axis-jaxrpc-1.4.jar',\n",
       " '/root/pycharm-community-2016.2.2/plugins/tasks/lib/axis-saaj-1.3.jar',\n",
       " '/root/pycharm-community-2016.2.2/plugins/tasks/lib/commons-discovery-0.4.jar',\n",
       " '/root/pycharm-community-2016.2.2/plugins/tasks/lib/jira.jar',\n",
       " '/root/pycharm-community-2016.2.2/plugins/tasks/lib/json-path-0.8.0.jar',\n",
       " '/root/pycharm-community-2016.2.2/plugins/tasks/lib/json-smart-1.1.1.jar',\n",
       " '/root/pycharm-community-2016.2.2/plugins/tasks/lib/tasks-api.jar',\n",
       " '/root/pycharm-community-2016.2.2/plugins/tasks/lib/tasks-core.jar',\n",
       " '/root/pycharm-community-2016.2.2/plugins/tasks/lib/wsdl4j-1.4.jar',\n",
       " '/root/pycharm-community-2016.2.2/plugins/svn4idea/lib/antlr.jar',\n",
       " '/root/pycharm-community-2016.2.2/plugins/svn4idea/lib/jsch.agentproxy.svnkit-trilead-ssh2.jar',\n",
       " '/root/pycharm-community-2016.2.2/plugins/svn4idea/lib/resources_en.jar',\n",
       " '/root/pycharm-community-2016.2.2/plugins/svn4idea/lib/sequence-library.jar',\n",
       " '/root/pycharm-community-2016.2.2/plugins/svn4idea/lib/sqljet.jar',\n",
       " '/root/pycharm-community-2016.2.2/plugins/svn4idea/lib/sqljetsrc.zip',\n",
       " '/root/pycharm-community-2016.2.2/plugins/svn4idea/lib/svn4idea.jar',\n",
       " '/root/pycharm-community-2016.2.2/plugins/svn4idea/lib/svnkit-javahl.jar',\n",
       " '/root/pycharm-community-2016.2.2/plugins/svn4idea/lib/svnkit-javahl16.zip',\n",
       " '/root/pycharm-community-2016.2.2/plugins/svn4idea/lib/svnkit.jar',\n",
       " '/root/pycharm-community-2016.2.2/plugins/svn4idea/lib/trilead.jar',\n",
       " '/root/pycharm-community-2016.2.2/plugins/svn4idea/lib/trileadsrc.zip',\n",
       " '/root/pycharm-community-2016.2.2/plugins/svn4idea/lib/licenses/ANTLR-LICENSE',\n",
       " '/root/pycharm-community-2016.2.2/plugins/svn4idea/lib/licenses/CHANGES.txt',\n",
       " '/root/pycharm-community-2016.2.2/plugins/svn4idea/lib/licenses/COPYING',\n",
       " '/root/pycharm-community-2016.2.2/plugins/svn4idea/lib/licenses/LICENSE-ANTLR.txt',\n",
       " '/root/pycharm-community-2016.2.2/plugins/svn4idea/lib/licenses/LICENSE-JAVAHL.txt',\n",
       " '/root/pycharm-community-2016.2.2/plugins/svn4idea/lib/licenses/LICENSE-JNA.txt',\n",
       " '/root/pycharm-community-2016.2.2/plugins/svn4idea/lib/licenses/LICENSE-SEQUENCE.txt',\n",
       " '/root/pycharm-community-2016.2.2/plugins/svn4idea/lib/licenses/LICENSE-SQLJET.txt',\n",
       " '/root/pycharm-community-2016.2.2/plugins/svn4idea/lib/licenses/LICENSE-TRILEAD.txt',\n",
       " '/root/pycharm-community-2016.2.2/plugins/svn4idea/lib/licenses/LICENSE.txt',\n",
       " '/root/pycharm-community-2016.2.2/plugins/svn4idea/lib/licenses/README.txt',\n",
       " '/root/pycharm-community-2016.2.2/plugins/svn4idea/lib/licenses/SEQUENCE-LICENSE',\n",
       " '/root/pycharm-community-2016.2.2/plugins/svn4idea/lib/licenses/SQLJET-LICENSE',\n",
       " '/root/pycharm-community-2016.2.2/plugins/svn4idea/lib/licenses/SQLJET-README.txt',\n",
       " '/root/pycharm-community-2016.2.2/plugins/svn4idea/lib/licenses/TRILEAD-LICENSE',\n",
       " '/root/pycharm-community-2016.2.2/plugins/svn4idea/lib/licenses/changelog.txt',\n",
       " '/root/pycharm-community-2016.2.2/plugins/settings-repository/lib/jackson-annotations-2.7.1.jar',\n",
       " '/root/pycharm-community-2016.2.2/plugins/settings-repository/lib/jackson-core-2.7.1.jar',\n",
       " '/root/pycharm-community-2016.2.2/plugins/settings-repository/lib/jackson-databind-2.7.1-1.jar',\n",
       " '/root/pycharm-community-2016.2.2/plugins/settings-repository/lib/jgit.jar',\n",
       " '/root/pycharm-community-2016.2.2/plugins/settings-repository/lib/resources_en.jar',\n",
       " '/root/pycharm-community-2016.2.2/plugins/settings-repository/lib/settings-repository.jar',\n",
       " '/root/pycharm-community-2016.2.2/plugins/rest/lib/resources_en.jar',\n",
       " '/root/pycharm-community-2016.2.2/plugins/rest/lib/rest.jar',\n",
       " '/root/pycharm-community-2016.2.2/plugins/python-rest/lib/python-rest.jar',\n",
       " '/root/pycharm-community-2016.2.2/plugins/ipnb/lib/ipnb.jar',\n",
       " '/root/pycharm-community-2016.2.2/plugins/ipnb/lib/java_websocket.jar',\n",
       " '/root/pycharm-community-2016.2.2/plugins/ipnb/lib/resources_en.jar',\n",
       " '/root/pycharm-community-2016.2.2/plugins/hg4idea/lib/hg4idea.jar',\n",
       " '/root/pycharm-community-2016.2.2/plugins/hg4idea/lib/resources_en.jar',\n",
       " '/root/pycharm-community-2016.2.2/plugins/github/lib/github.jar',\n",
       " '/root/pycharm-community-2016.2.2/plugins/git4idea/lib/git4idea-rt.jar',\n",
       " '/root/pycharm-community-2016.2.2/plugins/git4idea/lib/git4idea.jar',\n",
       " '/root/pycharm-community-2016.2.2/plugins/git4idea/lib/ini4j-0.5.2-patched.jar',\n",
       " '/root/pycharm-community-2016.2.2/plugins/git4idea/lib/remote-servers-git.jar',\n",
       " '/root/pycharm-community-2016.2.2/plugins/git4idea/lib/resources_en.jar',\n",
       " '/root/pycharm-community-2016.2.2/plugins/git4idea/lib/trilead-ssh2.jar',\n",
       " '/root/pycharm-community-2016.2.2/plugins/editorconfig/lib/editorconfig-core-java.jar',\n",
       " '/root/pycharm-community-2016.2.2/plugins/editorconfig/lib/editorconfig.jar',\n",
       " '/root/pycharm-community-2016.2.2/plugins/cvsIntegration/lib/cvsIntegration.jar',\n",
       " '/root/pycharm-community-2016.2.2/plugins/cvsIntegration/lib/cvs_util.jar',\n",
       " '/root/pycharm-community-2016.2.2/plugins/cvsIntegration/lib/javacvs-src.jar',\n",
       " '/root/pycharm-community-2016.2.2/plugins/cvsIntegration/lib/resources_en.jar',\n",
       " '/root/pycharm-community-2016.2.2/plugins/cvsIntegration/lib/smartcvs-src.jar',\n",
       " '/root/pycharm-community-2016.2.2/plugins/cvsIntegration/lib/trilead-ssh2-build213.jar',\n",
       " '/root/pycharm-community-2016.2.2/license/LICENSE.txt',\n",
       " '/root/pycharm-community-2016.2.2/license/NOTICE.txt',\n",
       " '/root/pycharm-community-2016.2.2/license/XStream_license.txt',\n",
       " '/root/pycharm-community-2016.2.2/license/ant_license.txt',\n",
       " '/root/pycharm-community-2016.2.2/license/asm_license.txt',\n",
       " '/root/pycharm-community-2016.2.2/license/eclipse_license.txt',\n",
       " '/root/pycharm-community-2016.2.2/license/growl.license',\n",
       " '/root/pycharm-community-2016.2.2/license/gson_license.txt',\n",
       " '/root/pycharm-community-2016.2.2/license/imgscalr_license.txt',\n",
       " '/root/pycharm-community-2016.2.2/license/javahelp_license.html',\n",
       " '/root/pycharm-community-2016.2.2/license/javolution_license.txt',\n",
       " '/root/pycharm-community-2016.2.2/license/jaxb_license.txt',\n",
       " '/root/pycharm-community-2016.2.2/license/jaxen_license.txt',\n",
       " '/root/pycharm-community-2016.2.2/license/jayatana_license.txt',\n",
       " '/root/pycharm-community-2016.2.2/license/jdom_license.txt',\n",
       " '/root/pycharm-community-2016.2.2/license/jgoodies_forms_license.txt',\n",
       " '/root/pycharm-community-2016.2.2/license/junit_license.txt',\n",
       " '/root/pycharm-community-2016.2.2/license/kryo-license.txt',\n",
       " '/root/pycharm-community-2016.2.2/license/log4j_license.txt',\n",
       " '/root/pycharm-community-2016.2.2/license/microba_license.txt',\n",
       " '/root/pycharm-community-2016.2.2/license/miglayout_swing_license.txt',\n",
       " '/root/pycharm-community-2016.2.2/license/nanoxml_license.txt',\n",
       " '/root/pycharm-community-2016.2.2/license/oromatcher_license.txt',\n",
       " '/root/pycharm-community-2016.2.2/license/picoContainer_license.txt',\n",
       " '/root/pycharm-community-2016.2.2/license/sanselan_license.txt',\n",
       " '/root/pycharm-community-2016.2.2/license/saxon-conditions.html',\n",
       " '/root/pycharm-community-2016.2.2/license/sqljet-license.txt',\n",
       " '/root/pycharm-community-2016.2.2/license/svnkit-license.txt',\n",
       " '/root/pycharm-community-2016.2.2/license/swingx_license.txt',\n",
       " '/root/pycharm-community-2016.2.2/license/winp_license.txt',\n",
       " '/root/pycharm-community-2016.2.2/license/xerces_license.txt',\n",
       " '/root/pycharm-community-2016.2.2/license/xmlrpc_license.txt',\n",
       " '/root/pycharm-community-2016.2.2/license/yourkit-license-redist.txt',\n",
       " '/root/pycharm-community-2016.2.2/lib/annotations.jar',\n",
       " '/root/pycharm-community-2016.2.2/lib/asm-all.jar',\n",
       " '/root/pycharm-community-2016.2.2/lib/asm-commons.jar',\n",
       " '/root/pycharm-community-2016.2.2/lib/asm.jar',\n",
       " '/root/pycharm-community-2016.2.2/lib/automaton.jar',\n",
       " '/root/pycharm-community-2016.2.2/lib/batik-all.jar',\n",
       " '/root/pycharm-community-2016.2.2/lib/boot.jar',\n",
       " '/root/pycharm-community-2016.2.2/lib/bootstrap.jar',\n",
       " '/root/pycharm-community-2016.2.2/lib/cglib-2.2.2.jar',\n",
       " '/root/pycharm-community-2016.2.2/lib/cli-parser-1.1.jar',\n",
       " '/root/pycharm-community-2016.2.2/lib/common-image-3.2.1.jar',\n",
       " '/root/pycharm-community-2016.2.2/lib/common-io-3.2.1.jar',\n",
       " '/root/pycharm-community-2016.2.2/lib/common-lang-3.2.1.jar',\n",
       " '/root/pycharm-community-2016.2.2/lib/commons-codec-1.9.jar',\n",
       " '/root/pycharm-community-2016.2.2/lib/commons-httpclient-3.1-patched.jar',\n",
       " '/root/pycharm-community-2016.2.2/lib/commons-logging-1.2.jar',\n",
       " '/root/pycharm-community-2016.2.2/lib/commons-net-3.3.jar',\n",
       " '/root/pycharm-community-2016.2.2/lib/extensions.jar',\n",
       " '/root/pycharm-community-2016.2.2/lib/fluent-hc-4.4.1.jar',\n",
       " '/root/pycharm-community-2016.2.2/lib/forms_rt.jar',\n",
       " '/root/pycharm-community-2016.2.2/lib/groovy-all-2.4.6.jar',\n",
       " '/root/pycharm-community-2016.2.2/lib/gson-2.5.jar',\n",
       " '/root/pycharm-community-2016.2.2/lib/guava-17.0.jar',\n",
       " '/root/pycharm-community-2016.2.2/lib/httpclient-4.4.1.jar',\n",
       " '/root/pycharm-community-2016.2.2/lib/httpcore-4.4.1.jar',\n",
       " '/root/pycharm-community-2016.2.2/lib/httpmime-4.4.1.jar',\n",
       " '/root/pycharm-community-2016.2.2/lib/icons.jar',\n",
       " '/root/pycharm-community-2016.2.2/lib/imageio-core-3.2.1.jar',\n",
       " '/root/pycharm-community-2016.2.2/lib/imageio-metadata-3.2.1.jar',\n",
       " '/root/pycharm-community-2016.2.2/lib/imageio-tiff-3.2.1.jar',\n",
       " '/root/pycharm-community-2016.2.2/lib/imgscalr-lib-4.2.jar',\n",
       " '/root/pycharm-community-2016.2.2/lib/isorelax.jar',\n",
       " '/root/pycharm-community-2016.2.2/lib/jaxen-1.1.3.jar',\n",
       " '/root/pycharm-community-2016.2.2/lib/jayatana-1.2.4.jar',\n",
       " '/root/pycharm-community-2016.2.2/lib/jcip-annotations.jar',\n",
       " '/root/pycharm-community-2016.2.2/lib/jdom.jar',\n",
       " '/root/pycharm-community-2016.2.2/lib/jgoodies-forms.jar',\n",
       " '/root/pycharm-community-2016.2.2/lib/jh.jar',\n",
       " '/root/pycharm-community-2016.2.2/lib/jing.jar',\n",
       " '/root/pycharm-community-2016.2.2/lib/jna-platform.jar',\n",
       " '/root/pycharm-community-2016.2.2/lib/jna.jar',\n",
       " '/root/pycharm-community-2016.2.2/lib/jsch-0.1.53.jar',\n",
       " '/root/pycharm-community-2016.2.2/lib/jsch.agentproxy.connector-factory.jar',\n",
       " '/root/pycharm-community-2016.2.2/lib/jsch.agentproxy.core.jar',\n",
       " '/root/pycharm-community-2016.2.2/lib/jsch.agentproxy.pageant.jar',\n",
       " '/root/pycharm-community-2016.2.2/lib/jsch.agentproxy.sshagent.jar',\n",
       " '/root/pycharm-community-2016.2.2/lib/jsch.agentproxy.usocket-jna.jar',\n",
       " '/root/pycharm-community-2016.2.2/lib/jsch.agentproxy.usocket-nc.jar',\n",
       " '/root/pycharm-community-2016.2.2/lib/jsr173_1.0_api.jar',\n",
       " '/root/pycharm-community-2016.2.2/lib/jzlib-1.1.1.jar',\n",
       " '/root/pycharm-community-2016.2.2/lib/kotlin-reflect.jar',\n",
       " '/root/pycharm-community-2016.2.2/lib/kotlin-runtime.jar',\n",
       " '/root/pycharm-community-2016.2.2/lib/log4j.jar',\n",
       " '/root/pycharm-community-2016.2.2/lib/markdownj-core-0.4.2-SNAPSHOT.jar',\n",
       " '/root/pycharm-community-2016.2.2/lib/microba.jar',\n",
       " '/root/pycharm-community-2016.2.2/lib/miglayout-swing.jar',\n",
       " '/root/pycharm-community-2016.2.2/lib/nanoxml-2.2.3.jar',\n",
       " '/root/pycharm-community-2016.2.2/lib/netty-all-4.1.1.Final.jar',\n",
       " '/root/pycharm-community-2016.2.2/lib/openapi.jar',\n",
       " '/root/pycharm-community-2016.2.2/lib/oromatcher.jar',\n",
       " '/root/pycharm-community-2016.2.2/lib/picocontainer.jar',\n",
       " '/root/pycharm-community-2016.2.2/lib/proxy-vole_20131209.jar',\n",
       " '/root/pycharm-community-2016.2.2/lib/pty4j-0.7.1.jar',\n",
       " '/root/pycharm-community-2016.2.2/lib/purejavacomm.jar',\n",
       " '/root/pycharm-community-2016.2.2/lib/pycharm-pydev.jar',\n",
       " '/root/pycharm-community-2016.2.2/lib/pycharm.jar',\n",
       " '/root/pycharm-community-2016.2.2/lib/resolver.jar',\n",
       " '/root/pycharm-community-2016.2.2/lib/resources.jar',\n",
       " '/root/pycharm-community-2016.2.2/lib/resources_en.jar',\n",
       " '/root/pycharm-community-2016.2.2/lib/rhino-js-1_7R4.jar',\n",
       " '/root/pycharm-community-2016.2.2/lib/rngom-20051226-patched.jar',\n",
       " '/root/pycharm-community-2016.2.2/lib/sanselan-0.98-snapshot.jar',\n",
       " '/root/pycharm-community-2016.2.2/lib/serviceMessages.jar',\n",
       " '/root/pycharm-community-2016.2.2/lib/slf4j-api-1.7.10.jar',\n",
       " '/root/pycharm-community-2016.2.2/lib/slf4j-log4j12-1.7.10.jar',\n",
       " '/root/pycharm-community-2016.2.2/lib/snappy-in-java-0.3.1.jar',\n",
       " '/root/pycharm-community-2016.2.2/lib/sqlite-jdbc-3.6.20.1.jar',\n",
       " '/root/pycharm-community-2016.2.2/lib/swingx-core-1.6.2.jar',\n",
       " '/root/pycharm-community-2016.2.2/lib/trang-core.jar',\n",
       " '/root/pycharm-community-2016.2.2/lib/trove4j.jar',\n",
       " '/root/pycharm-community-2016.2.2/lib/util.jar',\n",
       " '/root/pycharm-community-2016.2.2/lib/velocity.jar',\n",
       " '/root/pycharm-community-2016.2.2/lib/winp-1.23.jar',\n",
       " '/root/pycharm-community-2016.2.2/lib/xbean.jar',\n",
       " ...]"
      ]
     },
     "execution_count": 292,
     "metadata": {},
     "output_type": "execute_result"
    }
   ],
   "source": [
    "listdir('/root')"
   ]
  },
  {
   "cell_type": "code",
   "execution_count": 293,
   "metadata": {
    "collapsed": false
   },
   "outputs": [
    {
     "data": {
      "text/plain": [
       "<generator object walk at 0x7fca997c4d00>"
      ]
     },
     "execution_count": 293,
     "metadata": {},
     "output_type": "execute_result"
    }
   ],
   "source": [
    "os.walk('/root')"
   ]
  },
  {
   "cell_type": "code",
   "execution_count": null,
   "metadata": {
    "collapsed": true
   },
   "outputs": [],
   "source": [
    "for root,dirs"
   ]
  },
  {
   "cell_type": "code",
   "execution_count": 297,
   "metadata": {
    "collapsed": false
   },
   "outputs": [
    {
     "name": "stdout",
     "output_type": "stream",
     "text": [
      "/tmp/\n",
      "/tmp/.ICE-unix\n",
      "/tmp/.XIM-unix\n",
      "/tmp/.font-unix\n",
      "/tmp/.X11-unix\n",
      "/tmp/.Test-unix\n",
      "/tmp/systemd-private-54b349acdc9a45b1b06ad32a60eb79f0-vmtoolsd.service-ePyhmk\n",
      "/tmp/systemd-private-54b349acdc9a45b1b06ad32a60eb79f0-vmtoolsd.service-ePyhmk/tmp\n",
      "/tmp/systemd-private-54b349acdc9a45b1b06ad32a60eb79f0-vmtoolsd.service-ePyhmk/tmp/vmware-root\n",
      "/tmp/systemd-private-54b349acdc9a45b1b06ad32a60eb79f0-cups.service-pK1nUu\n",
      "/tmp/systemd-private-54b349acdc9a45b1b06ad32a60eb79f0-cups.service-pK1nUu/tmp\n"
     ]
    }
   ],
   "source": [
    "for root,dirs,files in os.walk('/tmp/'):\n",
    "    print(root)\n",
    "    #print(dirs)\n",
    "    #print(files)"
   ]
  },
  {
   "cell_type": "code",
   "execution_count": 299,
   "metadata": {
    "collapsed": false
   },
   "outputs": [
    {
     "data": {
      "text/plain": [
       "<posix.ScandirIterator at 0x7fca997ce150>"
      ]
     },
     "execution_count": 299,
     "metadata": {},
     "output_type": "execute_result"
    }
   ],
   "source": [
    "os.scandir('/root')"
   ]
  },
  {
   "cell_type": "code",
   "execution_count": 300,
   "metadata": {
    "collapsed": true
   },
   "outputs": [],
   "source": [
    "it = os.scandir('/root')"
   ]
  },
  {
   "cell_type": "code",
   "execution_count": 301,
   "metadata": {
    "collapsed": false
   },
   "outputs": [
    {
     "name": "stdout",
     "output_type": "stream",
     "text": [
      "<DirEntry '.bash_logout'>\n",
      "<DirEntry '.bashrc'>\n",
      "<DirEntry '.cshrc'>\n",
      "<DirEntry '.tcshrc'>\n",
      "<DirEntry 'anaconda-ks.cfg'>\n",
      "<DirEntry 'initial-setup-ks.cfg'>\n",
      "<DirEntry 'docker'>\n",
      "<DirEntry '.cache'>\n",
      "<DirEntry '.config'>\n",
      "<DirEntry '.bash_history'>\n",
      "<DirEntry '桌面'>\n",
      "<DirEntry '下载'>\n",
      "<DirEntry '模板'>\n",
      "<DirEntry '公共'>\n",
      "<DirEntry '文档'>\n",
      "<DirEntry '音乐'>\n",
      "<DirEntry '图片'>\n",
      "<DirEntry '视频'>\n",
      "<DirEntry '.ICEauthority'>\n",
      "<DirEntry '.local'>\n",
      "<DirEntry '.esd_auth'>\n",
      "<DirEntry '.docker'>\n",
      "<DirEntry 'epel-release-7-6.noarch.rpm'>\n",
      "<DirEntry '.pki'>\n",
      "<DirEntry '.pyenv'>\n",
      "<DirEntry '.bash_profile'>\n",
      "<DirEntry 'root'>\n",
      "<DirEntry 'tar.py'>\n",
      "<DirEntry '.viminfo'>\n",
      "<DirEntry 'chen'>\n",
      "<DirEntry '.python_history'>\n",
      "<DirEntry '.ipython'>\n",
      "<DirEntry '.pip'>\n",
      "<DirEntry '.jupyter'>\n",
      "<DirEntry '.dbus'>\n",
      "<DirEntry '.mozilla'>\n",
      "<DirEntry 'git'>\n",
      "<DirEntry ':wq'>\n",
      "<DirEntry '.java'>\n",
      "<DirEntry '.gnome'>\n",
      "<DirEntry 'test.py'>\n",
      "<DirEntry 'haha'>\n",
      "<DirEntry 'test3.py'>\n",
      "<DirEntry 'mxdx2.ipynb'>\n",
      "<DirEntry '.Xauthority'>\n",
      "<DirEntry 'eth.sh'>\n",
      "<DirEntry 'python'>\n",
      "<DirEntry '.pycharm_helpers'>\n",
      "<DirEntry 'xin.py'>\n",
      "<DirEntry 'py3.5.2'>\n",
      "<DirEntry 'pycharm-community-2016.2.2.tar.gz'>\n",
      "<DirEntry 'pycharm-community-2016.2.2'>\n",
      "<DirEntry 'PycharmProjects'>\n",
      "<DirEntry 'staff.txt'>\n",
      "<DirEntry 'li'>\n",
      "<DirEntry 'lili.py'>\n",
      "<DirEntry 'ttttttt'>\n",
      "<DirEntry 'zip.zip'>\n",
      "<DirEntry 'hahaxixi'>\n",
      "<DirEntry 'test'>\n",
      "<DirEntry '.ssh'>\n",
      "<DirEntry 'hello'>\n",
      "<DirEntry '.gitconfig'>\n",
      "<DirEntry '.PyCharm2016.2'>\n",
      "<DirEntry 'backup-script'>\n",
      "<DirEntry '\\udcc3\\udce6\\udccf\\udcf2\\udcb6\\udcd4\\udccf\\udcf32.ipynb'>\n"
     ]
    }
   ],
   "source": [
    "for i in it:\n",
    "    print(i)"
   ]
  },
  {
   "cell_type": "code",
   "execution_count": null,
   "metadata": {
    "collapsed": true
   },
   "outputs": [],
   "source": []
  },
  {
   "cell_type": "code",
   "execution_count": null,
   "metadata": {
    "collapsed": true
   },
   "outputs": [],
   "source": []
  },
  {
   "cell_type": "code",
   "execution_count": 310,
   "metadata": {
    "collapsed": false
   },
   "outputs": [
    {
     "data": {
      "text/plain": [
       "''"
      ]
     },
     "execution_count": 310,
     "metadata": {},
     "output_type": "execute_result"
    }
   ],
   "source": [
    "os.path.dirname('222')"
   ]
  },
  {
   "cell_type": "code",
   "execution_count": null,
   "metadata": {
    "collapsed": true
   },
   "outputs": [],
   "source": []
  },
  {
   "cell_type": "code",
   "execution_count": null,
   "metadata": {
    "collapsed": true
   },
   "outputs": [],
   "source": []
  },
  {
   "cell_type": "code",
   "execution_count": 307,
   "metadata": {
    "collapsed": false
   },
   "outputs": [
    {
     "data": {
      "text/plain": [
       "'/root/py3.5.2/python3.5.2/notes/6/222'"
      ]
     },
     "execution_count": 307,
     "metadata": {},
     "output_type": "execute_result"
    }
   ],
   "source": [
    "os.path.abspath('./222')"
   ]
  },
  {
   "cell_type": "code",
   "execution_count": null,
   "metadata": {
    "collapsed": true
   },
   "outputs": [],
   "source": []
  },
  {
   "cell_type": "code",
   "execution_count": 306,
   "metadata": {
    "collapsed": false
   },
   "outputs": [
    {
     "data": {
      "text/plain": [
       "'222'"
      ]
     },
     "execution_count": 306,
     "metadata": {},
     "output_type": "execute_result"
    }
   ],
   "source": [
    "os.path.basename(os.path.abspath('./222'))"
   ]
  },
  {
   "cell_type": "code",
   "execution_count": 312,
   "metadata": {
    "collapsed": false
   },
   "outputs": [
    {
     "data": {
      "text/plain": [
       "'/root/py3.5.2/python3.5.2/notes/6'"
      ]
     },
     "execution_count": 312,
     "metadata": {},
     "output_type": "execute_result"
    }
   ],
   "source": [
    "os.path.abspath(os.path.dirname('222'))"
   ]
  },
  {
   "cell_type": "code",
   "execution_count": 313,
   "metadata": {
    "collapsed": false
   },
   "outputs": [
    {
     "data": {
      "text/plain": [
       "'/root/py3.5.2/python3.5.2/notes/6'"
      ]
     },
     "execution_count": 313,
     "metadata": {},
     "output_type": "execute_result"
    }
   ],
   "source": [
    "os.getcwd()"
   ]
  },
  {
   "cell_type": "code",
   "execution_count": 314,
   "metadata": {
    "collapsed": true
   },
   "outputs": [],
   "source": [
    "a = 'abcd'"
   ]
  },
  {
   "cell_type": "code",
   "execution_count": 315,
   "metadata": {
    "collapsed": false
   },
   "outputs": [
    {
     "data": {
      "text/plain": [
       "b'abcd'"
      ]
     },
     "execution_count": 315,
     "metadata": {},
     "output_type": "execute_result"
    }
   ],
   "source": [
    "a.encode()"
   ]
  },
  {
   "cell_type": "code",
   "execution_count": 316,
   "metadata": {
    "collapsed": true
   },
   "outputs": [],
   "source": [
    "a = '一二三'"
   ]
  },
  {
   "cell_type": "code",
   "execution_count": 317,
   "metadata": {
    "collapsed": false
   },
   "outputs": [
    {
     "data": {
      "text/plain": [
       "b'\\xe4\\xb8\\x80\\xe4\\xba\\x8c\\xe4\\xb8\\x89'"
      ]
     },
     "execution_count": 317,
     "metadata": {},
     "output_type": "execute_result"
    }
   ],
   "source": [
    "a.encode()"
   ]
  },
  {
   "cell_type": "code",
   "execution_count": 318,
   "metadata": {
    "collapsed": false
   },
   "outputs": [
    {
     "data": {
      "text/plain": [
       "'一二三'"
      ]
     },
     "execution_count": 318,
     "metadata": {},
     "output_type": "execute_result"
    }
   ],
   "source": [
    "a.encode().decode()"
   ]
  },
  {
   "cell_type": "code",
   "execution_count": 319,
   "metadata": {
    "collapsed": true
   },
   "outputs": [],
   "source": [
    "b = b'\\xe4\\xb8\\x80\\xe4\\xba\\x8c\\xe4\\xb8\\x89'"
   ]
  },
  {
   "cell_type": "code",
   "execution_count": 320,
   "metadata": {
    "collapsed": false
   },
   "outputs": [
    {
     "data": {
      "text/plain": [
       "bytes"
      ]
     },
     "execution_count": 320,
     "metadata": {},
     "output_type": "execute_result"
    }
   ],
   "source": [
    "type(b)"
   ]
  },
  {
   "cell_type": "code",
   "execution_count": 321,
   "metadata": {
    "collapsed": false
   },
   "outputs": [
    {
     "data": {
      "text/plain": [
       "'一二三'"
      ]
     },
     "execution_count": 321,
     "metadata": {},
     "output_type": "execute_result"
    }
   ],
   "source": [
    "b.decode()"
   ]
  },
  {
   "cell_type": "code",
   "execution_count": 322,
   "metadata": {
    "collapsed": true
   },
   "outputs": [],
   "source": [
    "import pickle"
   ]
  },
  {
   "cell_type": "code",
   "execution_count": 323,
   "metadata": {
    "collapsed": false
   },
   "outputs": [
    {
     "data": {
      "text/plain": [
       "b'\\x80\\x03X\\x06\\x00\\x00\\x00\\xe4\\xb8\\x80\\xe4\\xba\\x8cq\\x00.'"
      ]
     },
     "execution_count": 323,
     "metadata": {},
     "output_type": "execute_result"
    }
   ],
   "source": [
    "pickle.dumps('一二')"
   ]
  },
  {
   "cell_type": "code",
   "execution_count": 324,
   "metadata": {
    "collapsed": false
   },
   "outputs": [
    {
     "data": {
      "text/plain": [
       "'一二'"
      ]
     },
     "execution_count": 324,
     "metadata": {},
     "output_type": "execute_result"
    }
   ],
   "source": [
    "pickle.loads(b'\\x80\\x03X\\x06\\x00\\x00\\x00\\xe4\\xb8\\x80\\xe4\\xba\\x8cq\\x00.')"
   ]
  },
  {
   "cell_type": "code",
   "execution_count": 343,
   "metadata": {
    "collapsed": false
   },
   "outputs": [
    {
     "ename": "TypeError",
     "evalue": "write() argument must be str, not bytes",
     "output_type": "error",
     "traceback": [
      "\u001b[1;31m---------------------------------------------------------------------------\u001b[0m",
      "\u001b[1;31mTypeError\u001b[0m                                 Traceback (most recent call last)",
      "\u001b[1;32m<ipython-input-343-485c56d36634>\u001b[0m in \u001b[0;36m<module>\u001b[1;34m()\u001b[0m\n\u001b[1;32m----> 1\u001b[1;33m \u001b[0mpickle\u001b[0m\u001b[1;33m.\u001b[0m\u001b[0mdump\u001b[0m\u001b[1;33m(\u001b[0m\u001b[0ma\u001b[0m\u001b[1;33m,\u001b[0m\u001b[0mfp\u001b[0m\u001b[1;33m)\u001b[0m\u001b[1;33m\u001b[0m\u001b[0m\n\u001b[0m",
      "\u001b[1;31mTypeError\u001b[0m: write() argument must be str, not bytes"
     ]
    }
   ],
   "source": [
    "pickle.dump(a,fp)"
   ]
  },
  {
   "cell_type": "code",
   "execution_count": null,
   "metadata": {
    "collapsed": true
   },
   "outputs": [],
   "source": []
  },
  {
   "cell_type": "code",
   "execution_count": null,
   "metadata": {
    "collapsed": true
   },
   "outputs": [],
   "source": []
  },
  {
   "cell_type": "code",
   "execution_count": null,
   "metadata": {
    "collapsed": true
   },
   "outputs": [],
   "source": []
  },
  {
   "cell_type": "code",
   "execution_count": 345,
   "metadata": {
    "collapsed": false
   },
   "outputs": [],
   "source": [
    "a = 'abcdef'"
   ]
  },
  {
   "cell_type": "code",
   "execution_count": null,
   "metadata": {
    "collapsed": true
   },
   "outputs": [],
   "source": []
  },
  {
   "cell_type": "code",
   "execution_count": 348,
   "metadata": {
    "collapsed": true
   },
   "outputs": [],
   "source": [
    "fp = open('222','rb+')"
   ]
  },
  {
   "cell_type": "code",
   "execution_count": null,
   "metadata": {
    "collapsed": true
   },
   "outputs": [],
   "source": []
  },
  {
   "cell_type": "code",
   "execution_count": null,
   "metadata": {
    "collapsed": true
   },
   "outputs": [],
   "source": []
  },
  {
   "cell_type": "code",
   "execution_count": 349,
   "metadata": {
    "collapsed": false
   },
   "outputs": [],
   "source": [
    "pickle.dump(a,fp)"
   ]
  },
  {
   "cell_type": "code",
   "execution_count": 353,
   "metadata": {
    "collapsed": false
   },
   "outputs": [
    {
     "name": "stdout",
     "output_type": "stream",
     "text": [
      "�\u0003X\u0006\u0000\u0000\u0000abcdefq\u0000."
     ]
    }
   ],
   "source": [
    "cat 222"
   ]
  },
  {
   "cell_type": "code",
   "execution_count": null,
   "metadata": {
    "collapsed": true
   },
   "outputs": [],
   "source": []
  },
  {
   "cell_type": "code",
   "execution_count": 351,
   "metadata": {
    "collapsed": false
   },
   "outputs": [
    {
     "data": {
      "text/plain": [
       "16"
      ]
     },
     "execution_count": 351,
     "metadata": {},
     "output_type": "execute_result"
    }
   ],
   "source": [
    "fp.tell()"
   ]
  },
  {
   "cell_type": "code",
   "execution_count": 352,
   "metadata": {
    "collapsed": true
   },
   "outputs": [],
   "source": [
    "fp.flush()"
   ]
  },
  {
   "cell_type": "code",
   "execution_count": 354,
   "metadata": {
    "collapsed": false
   },
   "outputs": [
    {
     "data": {
      "text/plain": [
       "b''"
      ]
     },
     "execution_count": 354,
     "metadata": {},
     "output_type": "execute_result"
    }
   ],
   "source": [
    "fp.read()"
   ]
  },
  {
   "cell_type": "code",
   "execution_count": 356,
   "metadata": {
    "collapsed": false
   },
   "outputs": [
    {
     "data": {
      "text/plain": [
       "0"
      ]
     },
     "execution_count": 356,
     "metadata": {},
     "output_type": "execute_result"
    }
   ],
   "source": [
    "fp.seek(0)"
   ]
  },
  {
   "cell_type": "code",
   "execution_count": 357,
   "metadata": {
    "collapsed": false
   },
   "outputs": [
    {
     "data": {
      "text/plain": [
       "b'\\x80\\x03X\\x06\\x00\\x00\\x00abcdefq\\x00.'"
      ]
     },
     "execution_count": 357,
     "metadata": {},
     "output_type": "execute_result"
    }
   ],
   "source": [
    "fp.read()"
   ]
  },
  {
   "cell_type": "code",
   "execution_count": 358,
   "metadata": {
    "collapsed": true
   },
   "outputs": [],
   "source": [
    "fp.close()"
   ]
  },
  {
   "cell_type": "code",
   "execution_count": 359,
   "metadata": {
    "collapsed": false
   },
   "outputs": [
    {
     "name": "stdout",
     "output_type": "stream",
     "text": [
      "�\u0003X\u0006\u0000\u0000\u0000abcdefq\u0000."
     ]
    }
   ],
   "source": [
    "cat 222"
   ]
  },
  {
   "cell_type": "code",
   "execution_count": 364,
   "metadata": {
    "collapsed": false
   },
   "outputs": [
    {
     "data": {
      "text/plain": [
       "'abcdef'"
      ]
     },
     "execution_count": 364,
     "metadata": {},
     "output_type": "execute_result"
    }
   ],
   "source": [
    "pickle.load(fp)"
   ]
  },
  {
   "cell_type": "code",
   "execution_count": 365,
   "metadata": {
    "collapsed": true
   },
   "outputs": [],
   "source": [
    "a = '一二三'"
   ]
  },
  {
   "cell_type": "code",
   "execution_count": 366,
   "metadata": {
    "collapsed": false
   },
   "outputs": [
    {
     "data": {
      "text/plain": [
       "'一二三'"
      ]
     },
     "execution_count": 366,
     "metadata": {},
     "output_type": "execute_result"
    }
   ],
   "source": [
    "a"
   ]
  },
  {
   "cell_type": "code",
   "execution_count": 367,
   "metadata": {
    "collapsed": false
   },
   "outputs": [
    {
     "ename": "AttributeError",
     "evalue": "'str' object has no attribute 'enco'",
     "output_type": "error",
     "traceback": [
      "\u001b[1;31m---------------------------------------------------------------------------\u001b[0m",
      "\u001b[1;31mAttributeError\u001b[0m                            Traceback (most recent call last)",
      "\u001b[1;32m<ipython-input-367-6357aa23f2be>\u001b[0m in \u001b[0;36m<module>\u001b[1;34m()\u001b[0m\n\u001b[1;32m----> 1\u001b[1;33m \u001b[0ma\u001b[0m\u001b[1;33m.\u001b[0m\u001b[0menco\u001b[0m\u001b[1;33m(\u001b[0m\u001b[1;33m)\u001b[0m\u001b[1;33m\u001b[0m\u001b[0m\n\u001b[0m",
      "\u001b[1;31mAttributeError\u001b[0m: 'str' object has no attribute 'enco'"
     ]
    }
   ],
   "source": [
    "a.encode()"
   ]
  },
  {
   "cell_type": "code",
   "execution_count": 368,
   "metadata": {
    "collapsed": false
   },
   "outputs": [
    {
     "data": {
      "text/plain": [
       "b'\\xe4\\xb8\\x80\\xe4\\xba\\x8c\\xe4\\xb8\\x89'"
      ]
     },
     "execution_count": 368,
     "metadata": {},
     "output_type": "execute_result"
    }
   ],
   "source": [
    "a.encode()"
   ]
  },
  {
   "cell_type": "code",
   "execution_count": 370,
   "metadata": {
    "collapsed": false
   },
   "outputs": [],
   "source": [
    "ff = open('./333','wb')"
   ]
  },
  {
   "cell_type": "code",
   "execution_count": 371,
   "metadata": {
    "collapsed": true
   },
   "outputs": [],
   "source": [
    "pickle.dump(b'\\xe4\\xb8\\x80\\xe4\\xba\\x8c\\xe4\\xb8\\x89',ff)"
   ]
  },
  {
   "cell_type": "code",
   "execution_count": 372,
   "metadata": {
    "collapsed": false
   },
   "outputs": [
    {
     "data": {
      "text/plain": [
       "16"
      ]
     },
     "execution_count": 372,
     "metadata": {},
     "output_type": "execute_result"
    }
   ],
   "source": [
    "ff.tell()"
   ]
  },
  {
   "cell_type": "code",
   "execution_count": 373,
   "metadata": {
    "collapsed": true
   },
   "outputs": [],
   "source": [
    "cat 333"
   ]
  },
  {
   "cell_type": "code",
   "execution_count": 374,
   "metadata": {
    "collapsed": true
   },
   "outputs": [],
   "source": [
    "ff.flush()"
   ]
  },
  {
   "cell_type": "code",
   "execution_count": 377,
   "metadata": {
    "collapsed": false
   },
   "outputs": [
    {
     "name": "stdout",
     "output_type": "stream",
     "text": [
      "�\u0003C\t一二三q\u0000."
     ]
    }
   ],
   "source": [
    "cat 333"
   ]
  },
  {
   "cell_type": "code",
   "execution_count": 378,
   "metadata": {
    "collapsed": false
   },
   "outputs": [
    {
     "data": {
      "text/plain": [
       "int"
      ]
     },
     "execution_count": 378,
     "metadata": {},
     "output_type": "execute_result"
    }
   ],
   "source": [
    "type(333)"
   ]
  },
  {
   "cell_type": "code",
   "execution_count": 379,
   "metadata": {
    "collapsed": true
   },
   "outputs": [],
   "source": [
    "ff.close()"
   ]
  },
  {
   "cell_type": "code",
   "execution_count": 380,
   "metadata": {
    "collapsed": false
   },
   "outputs": [
    {
     "name": "stdout",
     "output_type": "stream",
     "text": [
      "�\u0003C\t一二三q\u0000."
     ]
    }
   ],
   "source": [
    "cat 333"
   ]
  },
  {
   "cell_type": "code",
   "execution_count": 388,
   "metadata": {
    "collapsed": true
   },
   "outputs": [],
   "source": [
    "fh = open('333','rb')"
   ]
  },
  {
   "cell_type": "code",
   "execution_count": null,
   "metadata": {
    "collapsed": true
   },
   "outputs": [],
   "source": []
  },
  {
   "cell_type": "code",
   "execution_count": null,
   "metadata": {
    "collapsed": true
   },
   "outputs": [],
   "source": []
  },
  {
   "cell_type": "code",
   "execution_count": 389,
   "metadata": {
    "collapsed": false
   },
   "outputs": [
    {
     "data": {
      "text/plain": [
       "'一二三'"
      ]
     },
     "execution_count": 389,
     "metadata": {},
     "output_type": "execute_result"
    }
   ],
   "source": [
    "pickle.load(fh).decode()"
   ]
  },
  {
   "cell_type": "code",
   "execution_count": 390,
   "metadata": {
    "collapsed": true
   },
   "outputs": [],
   "source": [
    "import json"
   ]
  },
  {
   "cell_type": "code",
   "execution_count": 391,
   "metadata": {
    "collapsed": false
   },
   "outputs": [
    {
     "data": {
      "text/plain": [
       "'\"\\\\u4e00\\\\u4e09\"'"
      ]
     },
     "execution_count": 391,
     "metadata": {},
     "output_type": "execute_result"
    }
   ],
   "source": [
    "json.dumps('一三')"
   ]
  },
  {
   "cell_type": "code",
   "execution_count": 399,
   "metadata": {
    "collapsed": true
   },
   "outputs": [],
   "source": [
    "a = json.dumps('一三')"
   ]
  },
  {
   "cell_type": "code",
   "execution_count": 400,
   "metadata": {
    "collapsed": false
   },
   "outputs": [
    {
     "data": {
      "text/plain": [
       "'\"\\\\u4e00\\\\u4e09\"'"
      ]
     },
     "execution_count": 400,
     "metadata": {},
     "output_type": "execute_result"
    }
   ],
   "source": [
    "a"
   ]
  },
  {
   "cell_type": "code",
   "execution_count": 401,
   "metadata": {
    "collapsed": false
   },
   "outputs": [
    {
     "data": {
      "text/plain": [
       "'一三'"
      ]
     },
     "execution_count": 401,
     "metadata": {},
     "output_type": "execute_result"
    }
   ],
   "source": [
    "json.loads(a)"
   ]
  },
  {
   "cell_type": "code",
   "execution_count": 402,
   "metadata": {
    "collapsed": true
   },
   "outputs": [],
   "source": [
    "import json"
   ]
  },
  {
   "cell_type": "code",
   "execution_count": 409,
   "metadata": {
    "collapsed": false
   },
   "outputs": [
    {
     "data": {
      "text/plain": [
       "123"
      ]
     },
     "execution_count": 409,
     "metadata": {},
     "output_type": "execute_result"
    }
   ],
   "source": [
    "json.loads('123')"
   ]
  },
  {
   "cell_type": "code",
   "execution_count": 413,
   "metadata": {
    "collapsed": false
   },
   "outputs": [
    {
     "ename": "JSONDecodeError",
     "evalue": "Extra data: line 1 column 3 (char 2)",
     "output_type": "error",
     "traceback": [
      "\u001b[1;31m---------------------------------------------------------------------------\u001b[0m",
      "\u001b[1;31mJSONDecodeError\u001b[0m                           Traceback (most recent call last)",
      "\u001b[1;32m<ipython-input-413-267d70932445>\u001b[0m in \u001b[0;36m<module>\u001b[1;34m()\u001b[0m\n\u001b[1;32m----> 1\u001b[1;33m \u001b[0mjson\u001b[0m\u001b[1;33m.\u001b[0m\u001b[0mloads\u001b[0m\u001b[1;33m(\u001b[0m\u001b[1;34m\"12三\"\u001b[0m\u001b[1;33m)\u001b[0m\u001b[1;33m\u001b[0m\u001b[0m\n\u001b[0m",
      "\u001b[1;32m/root/.pyenv/versions/3.5.2/lib/python3.5/json/__init__.py\u001b[0m in \u001b[0;36mloads\u001b[1;34m(s, encoding, cls, object_hook, parse_float, parse_int, parse_constant, object_pairs_hook, **kw)\u001b[0m\n\u001b[0;32m    317\u001b[0m             \u001b[0mparse_int\u001b[0m \u001b[1;32mis\u001b[0m \u001b[1;32mNone\u001b[0m \u001b[1;32mand\u001b[0m \u001b[0mparse_float\u001b[0m \u001b[1;32mis\u001b[0m \u001b[1;32mNone\u001b[0m \u001b[1;32mand\u001b[0m\u001b[1;33m\u001b[0m\u001b[0m\n\u001b[0;32m    318\u001b[0m             parse_constant is None and object_pairs_hook is None and not kw):\n\u001b[1;32m--> 319\u001b[1;33m         \u001b[1;32mreturn\u001b[0m \u001b[0m_default_decoder\u001b[0m\u001b[1;33m.\u001b[0m\u001b[0mdecode\u001b[0m\u001b[1;33m(\u001b[0m\u001b[0ms\u001b[0m\u001b[1;33m)\u001b[0m\u001b[1;33m\u001b[0m\u001b[0m\n\u001b[0m\u001b[0;32m    320\u001b[0m     \u001b[1;32mif\u001b[0m \u001b[0mcls\u001b[0m \u001b[1;32mis\u001b[0m \u001b[1;32mNone\u001b[0m\u001b[1;33m:\u001b[0m\u001b[1;33m\u001b[0m\u001b[0m\n\u001b[0;32m    321\u001b[0m         \u001b[0mcls\u001b[0m \u001b[1;33m=\u001b[0m \u001b[0mJSONDecoder\u001b[0m\u001b[1;33m\u001b[0m\u001b[0m\n",
      "\u001b[1;32m/root/.pyenv/versions/3.5.2/lib/python3.5/json/decoder.py\u001b[0m in \u001b[0;36mdecode\u001b[1;34m(self, s, _w)\u001b[0m\n\u001b[0;32m    340\u001b[0m         \u001b[0mend\u001b[0m \u001b[1;33m=\u001b[0m \u001b[0m_w\u001b[0m\u001b[1;33m(\u001b[0m\u001b[0ms\u001b[0m\u001b[1;33m,\u001b[0m \u001b[0mend\u001b[0m\u001b[1;33m)\u001b[0m\u001b[1;33m.\u001b[0m\u001b[0mend\u001b[0m\u001b[1;33m(\u001b[0m\u001b[1;33m)\u001b[0m\u001b[1;33m\u001b[0m\u001b[0m\n\u001b[0;32m    341\u001b[0m         \u001b[1;32mif\u001b[0m \u001b[0mend\u001b[0m \u001b[1;33m!=\u001b[0m \u001b[0mlen\u001b[0m\u001b[1;33m(\u001b[0m\u001b[0ms\u001b[0m\u001b[1;33m)\u001b[0m\u001b[1;33m:\u001b[0m\u001b[1;33m\u001b[0m\u001b[0m\n\u001b[1;32m--> 342\u001b[1;33m             \u001b[1;32mraise\u001b[0m \u001b[0mJSONDecodeError\u001b[0m\u001b[1;33m(\u001b[0m\u001b[1;34m\"Extra data\"\u001b[0m\u001b[1;33m,\u001b[0m \u001b[0ms\u001b[0m\u001b[1;33m,\u001b[0m \u001b[0mend\u001b[0m\u001b[1;33m)\u001b[0m\u001b[1;33m\u001b[0m\u001b[0m\n\u001b[0m\u001b[0;32m    343\u001b[0m         \u001b[1;32mreturn\u001b[0m \u001b[0mobj\u001b[0m\u001b[1;33m\u001b[0m\u001b[0m\n\u001b[0;32m    344\u001b[0m \u001b[1;33m\u001b[0m\u001b[0m\n",
      "\u001b[1;31mJSONDecodeError\u001b[0m: Extra data: line 1 column 3 (char 2)"
     ]
    }
   ],
   "source": [
    "json.loads(\"12三\")"
   ]
  },
  {
   "cell_type": "code",
   "execution_count": 414,
   "metadata": {
    "collapsed": false
   },
   "outputs": [
    {
     "data": {
      "text/plain": [
       "'\"123\"'"
      ]
     },
     "execution_count": 414,
     "metadata": {},
     "output_type": "execute_result"
    }
   ],
   "source": [
    "json.dumps('123')"
   ]
  },
  {
   "cell_type": "code",
   "execution_count": 415,
   "metadata": {
    "collapsed": false
   },
   "outputs": [
    {
     "data": {
      "text/plain": [
       "123"
      ]
     },
     "execution_count": 415,
     "metadata": {},
     "output_type": "execute_result"
    }
   ],
   "source": [
    "json.loads('123')"
   ]
  },
  {
   "cell_type": "code",
   "execution_count": 418,
   "metadata": {
    "collapsed": true
   },
   "outputs": [],
   "source": [
    "x = open('333','w')"
   ]
  },
  {
   "cell_type": "code",
   "execution_count": 419,
   "metadata": {
    "collapsed": true
   },
   "outputs": [],
   "source": [
    "json.dump('aaa',x)"
   ]
  },
  {
   "cell_type": "code",
   "execution_count": 420,
   "metadata": {
    "collapsed": true
   },
   "outputs": [],
   "source": [
    "cat 333"
   ]
  },
  {
   "cell_type": "code",
   "execution_count": 421,
   "metadata": {
    "collapsed": true
   },
   "outputs": [],
   "source": [
    "x.flush()"
   ]
  },
  {
   "cell_type": "code",
   "execution_count": 425,
   "metadata": {
    "collapsed": false
   },
   "outputs": [
    {
     "name": "stdout",
     "output_type": "stream",
     "text": [
      "\"aaa\""
     ]
    }
   ],
   "source": [
    "cat 333"
   ]
  },
  {
   "cell_type": "code",
   "execution_count": 426,
   "metadata": {
    "collapsed": true
   },
   "outputs": [],
   "source": [
    "x.close()"
   ]
  },
  {
   "cell_type": "code",
   "execution_count": 427,
   "metadata": {
    "collapsed": true
   },
   "outputs": [],
   "source": [
    "y = open('333','r')"
   ]
  },
  {
   "cell_type": "code",
   "execution_count": null,
   "metadata": {
    "collapsed": true
   },
   "outputs": [],
   "source": []
  },
  {
   "cell_type": "code",
   "execution_count": 429,
   "metadata": {
    "collapsed": false
   },
   "outputs": [
    {
     "data": {
      "text/plain": [
       "'aaa'"
      ]
     },
     "execution_count": 429,
     "metadata": {},
     "output_type": "execute_result"
    }
   ],
   "source": [
    "json.load(y)"
   ]
  },
  {
   "cell_type": "code",
   "execution_count": 430,
   "metadata": {
    "collapsed": false
   },
   "outputs": [
    {
     "name": "stdout",
     "output_type": "stream",
     "text": [
      "�\u0003X\u0006\u0000\u0000\u0000abcdefq\u0000."
     ]
    }
   ],
   "source": [
    "cat 222"
   ]
  },
  {
   "cell_type": "code",
   "execution_count": 442,
   "metadata": {
    "collapsed": true
   },
   "outputs": [],
   "source": [
    "z = open('222',encoding='gbk')"
   ]
  },
  {
   "cell_type": "code",
   "execution_count": null,
   "metadata": {
    "collapsed": true
   },
   "outputs": [],
   "source": []
  },
  {
   "cell_type": "code",
   "execution_count": 443,
   "metadata": {
    "collapsed": false
   },
   "outputs": [
    {
     "ename": "UnicodeDecodeError",
     "evalue": "'gbk' codec can't decode byte 0x80 in position 0: illegal multibyte sequence",
     "output_type": "error",
     "traceback": [
      "\u001b[1;31m---------------------------------------------------------------------------\u001b[0m",
      "\u001b[1;31mUnicodeDecodeError\u001b[0m                        Traceback (most recent call last)",
      "\u001b[1;32m<ipython-input-443-5b9edcb64b4b>\u001b[0m in \u001b[0;36m<module>\u001b[1;34m()\u001b[0m\n\u001b[1;32m----> 1\u001b[1;33m \u001b[0mz\u001b[0m\u001b[1;33m.\u001b[0m\u001b[0mread\u001b[0m\u001b[1;33m(\u001b[0m\u001b[1;33m)\u001b[0m\u001b[1;33m\u001b[0m\u001b[0m\n\u001b[0m",
      "\u001b[1;31mUnicodeDecodeError\u001b[0m: 'gbk' codec can't decode byte 0x80 in position 0: illegal multibyte sequence"
     ]
    }
   ],
   "source": [
    "z.read()"
   ]
  },
  {
   "cell_type": "code",
   "execution_count": null,
   "metadata": {
    "collapsed": true
   },
   "outputs": [],
   "source": []
  },
  {
   "cell_type": "code",
   "execution_count": 440,
   "metadata": {
    "collapsed": false
   },
   "outputs": [
    {
     "data": {
      "text/plain": [
       "0"
      ]
     },
     "execution_count": 440,
     "metadata": {},
     "output_type": "execute_result"
    }
   ],
   "source": [
    "z.seek(0)"
   ]
  },
  {
   "cell_type": "code",
   "execution_count": 441,
   "metadata": {
    "collapsed": false
   },
   "outputs": [
    {
     "ename": "UnicodeDecodeError",
     "evalue": "'utf-8' codec can't decode byte 0x80 in position 0: invalid start byte",
     "output_type": "error",
     "traceback": [
      "\u001b[1;31m---------------------------------------------------------------------------\u001b[0m",
      "\u001b[1;31mUnicodeDecodeError\u001b[0m                        Traceback (most recent call last)",
      "\u001b[1;32m<ipython-input-441-5b9edcb64b4b>\u001b[0m in \u001b[0;36m<module>\u001b[1;34m()\u001b[0m\n\u001b[1;32m----> 1\u001b[1;33m \u001b[0mz\u001b[0m\u001b[1;33m.\u001b[0m\u001b[0mread\u001b[0m\u001b[1;33m(\u001b[0m\u001b[1;33m)\u001b[0m\u001b[1;33m\u001b[0m\u001b[0m\n\u001b[0m",
      "\u001b[1;32m/root/.pyenv/versions/3.5.2/lib/python3.5/codecs.py\u001b[0m in \u001b[0;36mdecode\u001b[1;34m(self, input, final)\u001b[0m\n\u001b[0;32m    319\u001b[0m         \u001b[1;31m# decode input (taking the buffer into account)\u001b[0m\u001b[1;33m\u001b[0m\u001b[1;33m\u001b[0m\u001b[0m\n\u001b[0;32m    320\u001b[0m         \u001b[0mdata\u001b[0m \u001b[1;33m=\u001b[0m \u001b[0mself\u001b[0m\u001b[1;33m.\u001b[0m\u001b[0mbuffer\u001b[0m \u001b[1;33m+\u001b[0m \u001b[0minput\u001b[0m\u001b[1;33m\u001b[0m\u001b[0m\n\u001b[1;32m--> 321\u001b[1;33m         \u001b[1;33m(\u001b[0m\u001b[0mresult\u001b[0m\u001b[1;33m,\u001b[0m \u001b[0mconsumed\u001b[0m\u001b[1;33m)\u001b[0m \u001b[1;33m=\u001b[0m \u001b[0mself\u001b[0m\u001b[1;33m.\u001b[0m\u001b[0m_buffer_decode\u001b[0m\u001b[1;33m(\u001b[0m\u001b[0mdata\u001b[0m\u001b[1;33m,\u001b[0m \u001b[0mself\u001b[0m\u001b[1;33m.\u001b[0m\u001b[0merrors\u001b[0m\u001b[1;33m,\u001b[0m \u001b[0mfinal\u001b[0m\u001b[1;33m)\u001b[0m\u001b[1;33m\u001b[0m\u001b[0m\n\u001b[0m\u001b[0;32m    322\u001b[0m         \u001b[1;31m# keep undecoded input until the next call\u001b[0m\u001b[1;33m\u001b[0m\u001b[1;33m\u001b[0m\u001b[0m\n\u001b[0;32m    323\u001b[0m         \u001b[0mself\u001b[0m\u001b[1;33m.\u001b[0m\u001b[0mbuffer\u001b[0m \u001b[1;33m=\u001b[0m \u001b[0mdata\u001b[0m\u001b[1;33m[\u001b[0m\u001b[0mconsumed\u001b[0m\u001b[1;33m:\u001b[0m\u001b[1;33m]\u001b[0m\u001b[1;33m\u001b[0m\u001b[0m\n",
      "\u001b[1;31mUnicodeDecodeError\u001b[0m: 'utf-8' codec can't decode byte 0x80 in position 0: invalid start byte"
     ]
    }
   ],
   "source": [
    "z.read()"
   ]
  },
  {
   "cell_type": "code",
   "execution_count": null,
   "metadata": {
    "collapsed": true
   },
   "outputs": [],
   "source": []
  },
  {
   "cell_type": "code",
   "execution_count": 438,
   "metadata": {
    "collapsed": false
   },
   "outputs": [
    {
     "ename": "UnicodeDecodeError",
     "evalue": "'utf-8' codec can't decode byte 0x80 in position 0: invalid start byte",
     "output_type": "error",
     "traceback": [
      "\u001b[1;31m---------------------------------------------------------------------------\u001b[0m",
      "\u001b[1;31mUnicodeDecodeError\u001b[0m                        Traceback (most recent call last)",
      "\u001b[1;32m<ipython-input-438-9eca2c67477d>\u001b[0m in \u001b[0;36m<module>\u001b[1;34m()\u001b[0m\n\u001b[1;32m----> 1\u001b[1;33m \u001b[0mjson\u001b[0m\u001b[1;33m.\u001b[0m\u001b[0mload\u001b[0m\u001b[1;33m(\u001b[0m\u001b[0mz\u001b[0m\u001b[1;33m)\u001b[0m\u001b[1;33m\u001b[0m\u001b[0m\n\u001b[0m",
      "\u001b[1;32m/root/.pyenv/versions/3.5.2/lib/python3.5/json/__init__.py\u001b[0m in \u001b[0;36mload\u001b[1;34m(fp, cls, object_hook, parse_float, parse_int, parse_constant, object_pairs_hook, **kw)\u001b[0m\n\u001b[0;32m    263\u001b[0m \u001b[1;33m\u001b[0m\u001b[0m\n\u001b[0;32m    264\u001b[0m     \"\"\"\n\u001b[1;32m--> 265\u001b[1;33m     return loads(fp.read(),\n\u001b[0m\u001b[0;32m    266\u001b[0m         \u001b[0mcls\u001b[0m\u001b[1;33m=\u001b[0m\u001b[0mcls\u001b[0m\u001b[1;33m,\u001b[0m \u001b[0mobject_hook\u001b[0m\u001b[1;33m=\u001b[0m\u001b[0mobject_hook\u001b[0m\u001b[1;33m,\u001b[0m\u001b[1;33m\u001b[0m\u001b[0m\n\u001b[0;32m    267\u001b[0m         \u001b[0mparse_float\u001b[0m\u001b[1;33m=\u001b[0m\u001b[0mparse_float\u001b[0m\u001b[1;33m,\u001b[0m \u001b[0mparse_int\u001b[0m\u001b[1;33m=\u001b[0m\u001b[0mparse_int\u001b[0m\u001b[1;33m,\u001b[0m\u001b[1;33m\u001b[0m\u001b[0m\n",
      "\u001b[1;32m/root/.pyenv/versions/3.5.2/lib/python3.5/codecs.py\u001b[0m in \u001b[0;36mdecode\u001b[1;34m(self, input, final)\u001b[0m\n\u001b[0;32m    319\u001b[0m         \u001b[1;31m# decode input (taking the buffer into account)\u001b[0m\u001b[1;33m\u001b[0m\u001b[1;33m\u001b[0m\u001b[0m\n\u001b[0;32m    320\u001b[0m         \u001b[0mdata\u001b[0m \u001b[1;33m=\u001b[0m \u001b[0mself\u001b[0m\u001b[1;33m.\u001b[0m\u001b[0mbuffer\u001b[0m \u001b[1;33m+\u001b[0m \u001b[0minput\u001b[0m\u001b[1;33m\u001b[0m\u001b[0m\n\u001b[1;32m--> 321\u001b[1;33m         \u001b[1;33m(\u001b[0m\u001b[0mresult\u001b[0m\u001b[1;33m,\u001b[0m \u001b[0mconsumed\u001b[0m\u001b[1;33m)\u001b[0m \u001b[1;33m=\u001b[0m \u001b[0mself\u001b[0m\u001b[1;33m.\u001b[0m\u001b[0m_buffer_decode\u001b[0m\u001b[1;33m(\u001b[0m\u001b[0mdata\u001b[0m\u001b[1;33m,\u001b[0m \u001b[0mself\u001b[0m\u001b[1;33m.\u001b[0m\u001b[0merrors\u001b[0m\u001b[1;33m,\u001b[0m \u001b[0mfinal\u001b[0m\u001b[1;33m)\u001b[0m\u001b[1;33m\u001b[0m\u001b[0m\n\u001b[0m\u001b[0;32m    322\u001b[0m         \u001b[1;31m# keep undecoded input until the next call\u001b[0m\u001b[1;33m\u001b[0m\u001b[1;33m\u001b[0m\u001b[0m\n\u001b[0;32m    323\u001b[0m         \u001b[0mself\u001b[0m\u001b[1;33m.\u001b[0m\u001b[0mbuffer\u001b[0m \u001b[1;33m=\u001b[0m \u001b[0mdata\u001b[0m\u001b[1;33m[\u001b[0m\u001b[0mconsumed\u001b[0m\u001b[1;33m:\u001b[0m\u001b[1;33m]\u001b[0m\u001b[1;33m\u001b[0m\u001b[0m\n",
      "\u001b[1;31mUnicodeDecodeError\u001b[0m: 'utf-8' codec can't decode byte 0x80 in position 0: invalid start byte"
     ]
    }
   ],
   "source": [
    "json.load(z)"
   ]
  },
  {
   "cell_type": "code",
   "execution_count": null,
   "metadata": {
    "collapsed": true
   },
   "outputs": [],
   "source": []
  },
  {
   "cell_type": "code",
   "execution_count": 444,
   "metadata": {
    "collapsed": false
   },
   "outputs": [
    {
     "name": "stdout",
     "output_type": "stream",
     "text": [
      "cat: 111: 没有那个文件或目录\r\n"
     ]
    }
   ],
   "source": [
    "cat 111"
   ]
  },
  {
   "cell_type": "code",
   "execution_count": 445,
   "metadata": {
    "collapsed": false
   },
   "outputs": [
    {
     "name": "stdout",
     "output_type": "stream",
     "text": [
      "abc"
     ]
    }
   ],
   "source": [
    "cat 444"
   ]
  },
  {
   "cell_type": "code",
   "execution_count": 451,
   "metadata": {
    "collapsed": true
   },
   "outputs": [],
   "source": [
    "x = open('444','r')"
   ]
  },
  {
   "cell_type": "code",
   "execution_count": 455,
   "metadata": {
    "collapsed": false
   },
   "outputs": [
    {
     "name": "stdout",
     "output_type": "stream",
     "text": [
      "abc"
     ]
    }
   ],
   "source": [
    "cat 555"
   ]
  },
  {
   "cell_type": "code",
   "execution_count": 457,
   "metadata": {
    "collapsed": false
   },
   "outputs": [
    {
     "name": "stdout",
     "output_type": "stream",
     "text": [
      "cat: 666: 没有那个文件或目录\r\n"
     ]
    }
   ],
   "source": [
    "cat 666"
   ]
  },
  {
   "cell_type": "code",
   "execution_count": 458,
   "metadata": {
    "collapsed": true
   },
   "outputs": [],
   "source": [
    "x = open('666','a+')"
   ]
  },
  {
   "cell_type": "code",
   "execution_count": 459,
   "metadata": {
    "collapsed": true
   },
   "outputs": [],
   "source": [
    "json.dump('abc',x)"
   ]
  },
  {
   "cell_type": "code",
   "execution_count": 460,
   "metadata": {
    "collapsed": true
   },
   "outputs": [],
   "source": [
    "x.close()"
   ]
  },
  {
   "cell_type": "code",
   "execution_count": 461,
   "metadata": {
    "collapsed": false
   },
   "outputs": [
    {
     "name": "stdout",
     "output_type": "stream",
     "text": [
      "\"abc\""
     ]
    }
   ],
   "source": [
    "cat 666"
   ]
  },
  {
   "cell_type": "code",
   "execution_count": null,
   "metadata": {
    "collapsed": true
   },
   "outputs": [],
   "source": []
  },
  {
   "cell_type": "code",
   "execution_count": 468,
   "metadata": {
    "collapsed": true
   },
   "outputs": [],
   "source": [
    "p = open('666','r+')"
   ]
  },
  {
   "cell_type": "code",
   "execution_count": null,
   "metadata": {
    "collapsed": true
   },
   "outputs": [],
   "source": []
  },
  {
   "cell_type": "code",
   "execution_count": 466,
   "metadata": {
    "collapsed": true
   },
   "outputs": [],
   "source": [
    "x.close()"
   ]
  },
  {
   "cell_type": "code",
   "execution_count": null,
   "metadata": {
    "collapsed": true
   },
   "outputs": [],
   "source": []
  },
  {
   "cell_type": "code",
   "execution_count": 470,
   "metadata": {
    "collapsed": false
   },
   "outputs": [
    {
     "data": {
      "text/plain": [
       "'abc'"
      ]
     },
     "execution_count": 470,
     "metadata": {},
     "output_type": "execute_result"
    }
   ],
   "source": [
    "json.load(p)"
   ]
  },
  {
   "cell_type": "code",
   "execution_count": null,
   "metadata": {
    "collapsed": true
   },
   "outputs": [],
   "source": []
  },
  {
   "cell_type": "code",
   "execution_count": 472,
   "metadata": {
    "collapsed": false
   },
   "outputs": [
    {
     "data": {
      "text/plain": [
       "b'\\xe5\\x9b\\x9b\\xe4\\xba\\x94\\xe5\\x85\\xad'"
      ]
     },
     "execution_count": 472,
     "metadata": {},
     "output_type": "execute_result"
    }
   ],
   "source": [
    "'四五六'.encode()"
   ]
  },
  {
   "cell_type": "code",
   "execution_count": 473,
   "metadata": {
    "collapsed": true
   },
   "outputs": [],
   "source": [
    "import pathlib"
   ]
  },
  {
   "cell_type": "code",
   "execution_count": 496,
   "metadata": {
    "collapsed": false
   },
   "outputs": [],
   "source": [
    "cwd = pathlib.Path('/root/')"
   ]
  },
  {
   "cell_type": "code",
   "execution_count": null,
   "metadata": {
    "collapsed": true
   },
   "outputs": [],
   "source": []
  },
  {
   "cell_type": "code",
   "execution_count": null,
   "metadata": {
    "collapsed": true
   },
   "outputs": [],
   "source": []
  },
  {
   "cell_type": "code",
   "execution_count": null,
   "metadata": {
    "collapsed": true
   },
   "outputs": [],
   "source": []
  },
  {
   "cell_type": "code",
   "execution_count": null,
   "metadata": {
    "collapsed": true
   },
   "outputs": [],
   "source": []
  },
  {
   "cell_type": "code",
   "execution_count": null,
   "metadata": {
    "collapsed": true
   },
   "outputs": [],
   "source": []
  },
  {
   "cell_type": "code",
   "execution_count": null,
   "metadata": {
    "collapsed": true
   },
   "outputs": [],
   "source": []
  },
  {
   "cell_type": "code",
   "execution_count": null,
   "metadata": {
    "collapsed": true
   },
   "outputs": [],
   "source": []
  },
  {
   "cell_type": "code",
   "execution_count": null,
   "metadata": {
    "collapsed": true
   },
   "outputs": [],
   "source": []
  },
  {
   "cell_type": "code",
   "execution_count": 476,
   "metadata": {
    "collapsed": false
   },
   "outputs": [
    {
     "data": {
      "text/plain": [
       "PosixPath('/root')"
      ]
     },
     "execution_count": 476,
     "metadata": {},
     "output_type": "execute_result"
    }
   ],
   "source": [
    "cwd"
   ]
  },
  {
   "cell_type": "code",
   "execution_count": 477,
   "metadata": {
    "collapsed": false
   },
   "outputs": [
    {
     "data": {
      "text/plain": [
       "True"
      ]
     },
     "execution_count": 477,
     "metadata": {},
     "output_type": "execute_result"
    }
   ],
   "source": [
    "cwd.is_dir()"
   ]
  },
  {
   "cell_type": "code",
   "execution_count": 478,
   "metadata": {
    "collapsed": false
   },
   "outputs": [
    {
     "data": {
      "text/plain": [
       "False"
      ]
     },
     "execution_count": 478,
     "metadata": {},
     "output_type": "execute_result"
    }
   ],
   "source": [
    "cwd.is_file()"
   ]
  },
  {
   "cell_type": "code",
   "execution_count": 497,
   "metadata": {
    "collapsed": false
   },
   "outputs": [],
   "source": [
    "for f in cwd.iterdir():\n",
    "    print(f)"
   ]
  },
  {
   "cell_type": "code",
   "execution_count": 499,
   "metadata": {
    "collapsed": false
   },
   "outputs": [
    {
     "data": {
      "text/plain": [
       "'/root/py3.5.2/python3.5.2/notes/6/222'"
      ]
     },
     "execution_count": 499,
     "metadata": {},
     "output_type": "execute_result"
    }
   ],
   "source": [
    "os.path.abspath('222')"
   ]
  },
  {
   "cell_type": "code",
   "execution_count": null,
   "metadata": {
    "collapsed": true
   },
   "outputs": [],
   "source": []
  },
  {
   "cell_type": "code",
   "execution_count": 500,
   "metadata": {
    "collapsed": false
   },
   "outputs": [
    {
     "data": {
      "text/plain": [
       "'888'"
      ]
     },
     "execution_count": 500,
     "metadata": {},
     "output_type": "execute_result"
    }
   ],
   "source": [
    "shutil.move('444','888')"
   ]
  },
  {
   "cell_type": "code",
   "execution_count": 501,
   "metadata": {
    "collapsed": false
   },
   "outputs": [
    {
     "name": "stdout",
     "output_type": "stream",
     "text": [
      "222  888       hello               passwd     Untitled1.ipynb  x3.txt\r\n",
      "333  \u001b[0m\u001b[01;34maa\u001b[0m/       IO与文件操作.ipynb  test1.exe  Untitled.ipynb   \u001b[01;32mxin.py\u001b[0m*\r\n",
      "555  gbk.txt   \u001b[01;34mmm\u001b[0m/                 \u001b[01;34mtt\u001b[0m/        utf8.txt         xxx.txt\r\n",
      "666  haha.txt  one.py              two.py     x2.txt\r\n"
     ]
    }
   ],
   "source": [
    "ls"
   ]
  },
  {
   "cell_type": "code",
   "execution_count": 502,
   "metadata": {
    "collapsed": false
   },
   "outputs": [
    {
     "name": "stdout",
     "output_type": "stream",
     "text": [
      "abc"
     ]
    }
   ],
   "source": [
    "cat 888"
   ]
  },
  {
   "cell_type": "code",
   "execution_count": 505,
   "metadata": {
    "collapsed": false
   },
   "outputs": [
    {
     "data": {
      "text/plain": [
       "usage(total=50940104704, used=5487738880, free=45452365824)"
      ]
     },
     "execution_count": 505,
     "metadata": {},
     "output_type": "execute_result"
    }
   ],
   "source": [
    "shutil.disk_usage('/root')  "
   ]
  },
  {
   "cell_type": "code",
   "execution_count": null,
   "metadata": {
    "collapsed": true
   },
   "outputs": [],
   "source": []
  },
  {
   "cell_type": "code",
   "execution_count": null,
   "metadata": {
    "collapsed": true
   },
   "outputs": [],
   "source": []
  },
  {
   "cell_type": "code",
   "execution_count": null,
   "metadata": {
    "collapsed": true
   },
   "outputs": [],
   "source": []
  },
  {
   "cell_type": "code",
   "execution_count": null,
   "metadata": {
    "collapsed": true
   },
   "outputs": [],
   "source": []
  },
  {
   "cell_type": "code",
   "execution_count": null,
   "metadata": {
    "collapsed": true
   },
   "outputs": [],
   "source": []
  },
  {
   "cell_type": "code",
   "execution_count": null,
   "metadata": {
    "collapsed": true
   },
   "outputs": [],
   "source": []
  },
  {
   "cell_type": "code",
   "execution_count": null,
   "metadata": {
    "collapsed": true
   },
   "outputs": [],
   "source": []
  },
  {
   "cell_type": "code",
   "execution_count": null,
   "metadata": {
    "collapsed": true
   },
   "outputs": [],
   "source": []
  },
  {
   "cell_type": "code",
   "execution_count": null,
   "metadata": {
    "collapsed": true
   },
   "outputs": [],
   "source": []
  },
  {
   "cell_type": "code",
   "execution_count": null,
   "metadata": {
    "collapsed": true
   },
   "outputs": [],
   "source": []
  },
  {
   "cell_type": "code",
   "execution_count": null,
   "metadata": {
    "collapsed": true
   },
   "outputs": [],
   "source": []
  },
  {
   "cell_type": "code",
   "execution_count": null,
   "metadata": {
    "collapsed": true
   },
   "outputs": [],
   "source": []
  },
  {
   "cell_type": "code",
   "execution_count": null,
   "metadata": {
    "collapsed": true
   },
   "outputs": [],
   "source": []
  },
  {
   "cell_type": "code",
   "execution_count": null,
   "metadata": {
    "collapsed": true
   },
   "outputs": [],
   "source": []
  },
  {
   "cell_type": "code",
   "execution_count": null,
   "metadata": {
    "collapsed": true
   },
   "outputs": [],
   "source": []
  },
  {
   "cell_type": "code",
   "execution_count": null,
   "metadata": {
    "collapsed": true
   },
   "outputs": [],
   "source": []
  },
  {
   "cell_type": "code",
   "execution_count": null,
   "metadata": {
    "collapsed": true
   },
   "outputs": [],
   "source": []
  },
  {
   "cell_type": "code",
   "execution_count": null,
   "metadata": {
    "collapsed": true
   },
   "outputs": [],
   "source": []
  },
  {
   "cell_type": "code",
   "execution_count": null,
   "metadata": {
    "collapsed": true
   },
   "outputs": [],
   "source": []
  },
  {
   "cell_type": "code",
   "execution_count": null,
   "metadata": {
    "collapsed": true
   },
   "outputs": [],
   "source": []
  },
  {
   "cell_type": "code",
   "execution_count": null,
   "metadata": {
    "collapsed": true
   },
   "outputs": [],
   "source": []
  },
  {
   "cell_type": "code",
   "execution_count": null,
   "metadata": {
    "collapsed": true
   },
   "outputs": [],
   "source": []
  },
  {
   "cell_type": "code",
   "execution_count": null,
   "metadata": {
    "collapsed": true
   },
   "outputs": [],
   "source": []
  },
  {
   "cell_type": "code",
   "execution_count": null,
   "metadata": {
    "collapsed": true
   },
   "outputs": [],
   "source": []
  },
  {
   "cell_type": "code",
   "execution_count": null,
   "metadata": {
    "collapsed": true
   },
   "outputs": [],
   "source": []
  },
  {
   "cell_type": "code",
   "execution_count": null,
   "metadata": {
    "collapsed": true
   },
   "outputs": [],
   "source": []
  },
  {
   "cell_type": "code",
   "execution_count": null,
   "metadata": {
    "collapsed": true
   },
   "outputs": [],
   "source": []
  },
  {
   "cell_type": "code",
   "execution_count": null,
   "metadata": {
    "collapsed": true
   },
   "outputs": [],
   "source": []
  },
  {
   "cell_type": "code",
   "execution_count": null,
   "metadata": {
    "collapsed": true
   },
   "outputs": [],
   "source": []
  },
  {
   "cell_type": "code",
   "execution_count": null,
   "metadata": {
    "collapsed": true
   },
   "outputs": [],
   "source": []
  },
  {
   "cell_type": "code",
   "execution_count": null,
   "metadata": {
    "collapsed": true
   },
   "outputs": [],
   "source": []
  },
  {
   "cell_type": "code",
   "execution_count": null,
   "metadata": {
    "collapsed": true
   },
   "outputs": [],
   "source": []
  },
  {
   "cell_type": "code",
   "execution_count": null,
   "metadata": {
    "collapsed": true
   },
   "outputs": [],
   "source": []
  },
  {
   "cell_type": "code",
   "execution_count": null,
   "metadata": {
    "collapsed": true
   },
   "outputs": [],
   "source": []
  },
  {
   "cell_type": "code",
   "execution_count": null,
   "metadata": {
    "collapsed": true
   },
   "outputs": [],
   "source": []
  },
  {
   "cell_type": "code",
   "execution_count": null,
   "metadata": {
    "collapsed": true
   },
   "outputs": [],
   "source": []
  },
  {
   "cell_type": "code",
   "execution_count": null,
   "metadata": {
    "collapsed": true
   },
   "outputs": [],
   "source": []
  },
  {
   "cell_type": "code",
   "execution_count": null,
   "metadata": {
    "collapsed": true
   },
   "outputs": [],
   "source": []
  },
  {
   "cell_type": "code",
   "execution_count": null,
   "metadata": {
    "collapsed": true
   },
   "outputs": [],
   "source": []
  },
  {
   "cell_type": "code",
   "execution_count": null,
   "metadata": {
    "collapsed": true
   },
   "outputs": [],
   "source": []
  },
  {
   "cell_type": "code",
   "execution_count": null,
   "metadata": {
    "collapsed": true
   },
   "outputs": [],
   "source": []
  },
  {
   "cell_type": "code",
   "execution_count": null,
   "metadata": {
    "collapsed": true
   },
   "outputs": [],
   "source": []
  },
  {
   "cell_type": "code",
   "execution_count": null,
   "metadata": {
    "collapsed": true
   },
   "outputs": [],
   "source": []
  },
  {
   "cell_type": "code",
   "execution_count": null,
   "metadata": {
    "collapsed": true
   },
   "outputs": [],
   "source": []
  },
  {
   "cell_type": "code",
   "execution_count": null,
   "metadata": {
    "collapsed": true
   },
   "outputs": [],
   "source": []
  },
  {
   "cell_type": "code",
   "execution_count": null,
   "metadata": {
    "collapsed": true
   },
   "outputs": [],
   "source": []
  },
  {
   "cell_type": "code",
   "execution_count": null,
   "metadata": {
    "collapsed": true
   },
   "outputs": [],
   "source": []
  },
  {
   "cell_type": "code",
   "execution_count": null,
   "metadata": {
    "collapsed": true
   },
   "outputs": [],
   "source": []
  },
  {
   "cell_type": "code",
   "execution_count": null,
   "metadata": {
    "collapsed": true
   },
   "outputs": [],
   "source": []
  },
  {
   "cell_type": "code",
   "execution_count": null,
   "metadata": {
    "collapsed": true
   },
   "outputs": [],
   "source": []
  },
  {
   "cell_type": "code",
   "execution_count": 363,
   "metadata": {
    "collapsed": true
   },
   "outputs": [],
   "source": [
    "fp = open('222','rb')"
   ]
  },
  {
   "cell_type": "code",
   "execution_count": null,
   "metadata": {
    "collapsed": true
   },
   "outputs": [],
   "source": []
  },
  {
   "cell_type": "code",
   "execution_count": null,
   "metadata": {
    "collapsed": true
   },
   "outputs": [],
   "source": []
  },
  {
   "cell_type": "code",
   "execution_count": null,
   "metadata": {
    "collapsed": true
   },
   "outputs": [],
   "source": []
  },
  {
   "cell_type": "code",
   "execution_count": null,
   "metadata": {
    "collapsed": true
   },
   "outputs": [],
   "source": []
  },
  {
   "cell_type": "code",
   "execution_count": null,
   "metadata": {
    "collapsed": true
   },
   "outputs": [],
   "source": []
  },
  {
   "cell_type": "code",
   "execution_count": 339,
   "metadata": {
    "collapsed": false
   },
   "outputs": [
    {
     "data": {
      "text/plain": [
       "b'abcdef'"
      ]
     },
     "execution_count": 339,
     "metadata": {},
     "output_type": "execute_result"
    }
   ],
   "source": [
    "a"
   ]
  },
  {
   "cell_type": "code",
   "execution_count": null,
   "metadata": {
    "collapsed": true
   },
   "outputs": [],
   "source": []
  },
  {
   "cell_type": "code",
   "execution_count": null,
   "metadata": {
    "collapsed": true
   },
   "outputs": [],
   "source": []
  },
  {
   "cell_type": "code",
   "execution_count": 335,
   "metadata": {
    "collapsed": false
   },
   "outputs": [
    {
     "data": {
      "text/plain": [
       "'一二三四'"
      ]
     },
     "execution_count": 335,
     "metadata": {},
     "output_type": "execute_result"
    }
   ],
   "source": [
    "a"
   ]
  },
  {
   "cell_type": "code",
   "execution_count": 336,
   "metadata": {
    "collapsed": false
   },
   "outputs": [
    {
     "data": {
      "text/plain": [
       "{'a': 1}"
      ]
     },
     "execution_count": 336,
     "metadata": {},
     "output_type": "execute_result"
    }
   ],
   "source": [
    "pickle.loads(b'\\x80\\x03}q\\x00X\\x01\\x00\\x00\\x00aq\\x01K\\x01s.')"
   ]
  },
  {
   "cell_type": "code",
   "execution_count": null,
   "metadata": {
    "collapsed": true
   },
   "outputs": [],
   "source": []
  },
  {
   "cell_type": "code",
   "execution_count": null,
   "metadata": {
    "collapsed": true
   },
   "outputs": [],
   "source": []
  },
  {
   "cell_type": "code",
   "execution_count": 330,
   "metadata": {
    "collapsed": false
   },
   "outputs": [
    {
     "name": "stdout",
     "output_type": "stream",
     "text": [
      "abc"
     ]
    }
   ],
   "source": [
    "cat 222"
   ]
  },
  {
   "cell_type": "code",
   "execution_count": null,
   "metadata": {
    "collapsed": true
   },
   "outputs": [],
   "source": []
  },
  {
   "cell_type": "code",
   "execution_count": 328,
   "metadata": {
    "collapsed": true
   },
   "outputs": [],
   "source": [
    "fp = open('222','a+')"
   ]
  },
  {
   "cell_type": "code",
   "execution_count": null,
   "metadata": {
    "collapsed": true
   },
   "outputs": [],
   "source": []
  },
  {
   "cell_type": "code",
   "execution_count": null,
   "metadata": {
    "collapsed": true
   },
   "outputs": [],
   "source": []
  },
  {
   "cell_type": "code",
   "execution_count": null,
   "metadata": {
    "collapsed": true
   },
   "outputs": [],
   "source": []
  },
  {
   "cell_type": "code",
   "execution_count": null,
   "metadata": {
    "collapsed": true
   },
   "outputs": [],
   "source": []
  },
  {
   "cell_type": "code",
   "execution_count": null,
   "metadata": {
    "collapsed": true
   },
   "outputs": [],
   "source": []
  },
  {
   "cell_type": "code",
   "execution_count": null,
   "metadata": {
    "collapsed": true
   },
   "outputs": [],
   "source": []
  },
  {
   "cell_type": "code",
   "execution_count": null,
   "metadata": {
    "collapsed": true
   },
   "outputs": [],
   "source": []
  },
  {
   "cell_type": "code",
   "execution_count": null,
   "metadata": {
    "collapsed": true
   },
   "outputs": [],
   "source": []
  },
  {
   "cell_type": "code",
   "execution_count": null,
   "metadata": {
    "collapsed": true
   },
   "outputs": [],
   "source": []
  },
  {
   "cell_type": "code",
   "execution_count": null,
   "metadata": {
    "collapsed": true
   },
   "outputs": [],
   "source": []
  },
  {
   "cell_type": "code",
   "execution_count": null,
   "metadata": {
    "collapsed": true
   },
   "outputs": [],
   "source": []
  },
  {
   "cell_type": "code",
   "execution_count": 272,
   "metadata": {
    "collapsed": true
   },
   "outputs": [],
   "source": [
    "f2.close()"
   ]
  },
  {
   "cell_type": "code",
   "execution_count": null,
   "metadata": {
    "collapsed": true
   },
   "outputs": [],
   "source": []
  },
  {
   "cell_type": "code",
   "execution_count": 269,
   "metadata": {
    "collapsed": false
   },
   "outputs": [],
   "source": [
    "cat haha.txt"
   ]
  },
  {
   "cell_type": "code",
   "execution_count": 270,
   "metadata": {
    "collapsed": true
   },
   "outputs": [],
   "source": [
    "f2.flush()"
   ]
  },
  {
   "cell_type": "code",
   "execution_count": 273,
   "metadata": {
    "collapsed": true
   },
   "outputs": [],
   "source": [
    "cat haha.txt"
   ]
  },
  {
   "cell_type": "code",
   "execution_count": 274,
   "metadata": {
    "collapsed": false
   },
   "outputs": [
    {
     "name": "stdout",
     "output_type": "stream",
     "text": [
      "haha.txt\r\n"
     ]
    }
   ],
   "source": [
    "ls haha.txt"
   ]
  },
  {
   "cell_type": "code",
   "execution_count": null,
   "metadata": {
    "collapsed": true
   },
   "outputs": [],
   "source": []
  },
  {
   "cell_type": "code",
   "execution_count": null,
   "metadata": {
    "collapsed": true
   },
   "outputs": [],
   "source": []
  },
  {
   "cell_type": "code",
   "execution_count": null,
   "metadata": {
    "collapsed": true
   },
   "outputs": [],
   "source": []
  },
  {
   "cell_type": "code",
   "execution_count": null,
   "metadata": {
    "collapsed": true
   },
   "outputs": [],
   "source": []
  },
  {
   "cell_type": "code",
   "execution_count": null,
   "metadata": {
    "collapsed": true
   },
   "outputs": [],
   "source": []
  },
  {
   "cell_type": "code",
   "execution_count": null,
   "metadata": {
    "collapsed": true
   },
   "outputs": [],
   "source": []
  },
  {
   "cell_type": "code",
   "execution_count": null,
   "metadata": {
    "collapsed": true
   },
   "outputs": [],
   "source": []
  },
  {
   "cell_type": "code",
   "execution_count": null,
   "metadata": {
    "collapsed": true
   },
   "outputs": [],
   "source": []
  },
  {
   "cell_type": "code",
   "execution_count": null,
   "metadata": {
    "collapsed": true
   },
   "outputs": [],
   "source": []
  },
  {
   "cell_type": "code",
   "execution_count": null,
   "metadata": {
    "collapsed": true
   },
   "outputs": [],
   "source": []
  },
  {
   "cell_type": "code",
   "execution_count": 216,
   "metadata": {
    "collapsed": true
   },
   "outputs": [],
   "source": [
    "ls ab/cd/ef/gh/"
   ]
  },
  {
   "cell_type": "code",
   "execution_count": 217,
   "metadata": {
    "collapsed": false
   },
   "outputs": [
    {
     "data": {
      "text/plain": [
       "777"
      ]
     },
     "execution_count": 217,
     "metadata": {},
     "output_type": "execute_result"
    }
   ],
   "source": [
    "int('777')"
   ]
  },
  {
   "cell_type": "code",
   "execution_count": 221,
   "metadata": {
    "collapsed": false
   },
   "outputs": [
    {
     "data": {
      "text/plain": [
       "511"
      ]
     },
     "execution_count": 221,
     "metadata": {},
     "output_type": "execute_result"
    }
   ],
   "source": [
    "int('777',base=8)"
   ]
  },
  {
   "cell_type": "code",
   "execution_count": 229,
   "metadata": {
    "collapsed": false
   },
   "outputs": [
    {
     "data": {
      "text/plain": [
       "511"
      ]
     },
     "execution_count": 229,
     "metadata": {},
     "output_type": "execute_result"
    }
   ],
   "source": [
    "int('511',base=10)"
   ]
  },
  {
   "cell_type": "code",
   "execution_count": 230,
   "metadata": {
    "collapsed": false
   },
   "outputs": [
    {
     "data": {
      "text/plain": [
       "511"
      ]
     },
     "execution_count": 230,
     "metadata": {},
     "output_type": "execute_result"
    }
   ],
   "source": [
    "int('511')"
   ]
  },
  {
   "cell_type": "code",
   "execution_count": 232,
   "metadata": {
    "collapsed": false
   },
   "outputs": [
    {
     "data": {
      "text/plain": [
       "'0x1ff'"
      ]
     },
     "execution_count": 232,
     "metadata": {},
     "output_type": "execute_result"
    }
   ],
   "source": [
    "hex(511)"
   ]
  },
  {
   "cell_type": "code",
   "execution_count": 233,
   "metadata": {
    "collapsed": false
   },
   "outputs": [
    {
     "data": {
      "text/plain": [
       "'0o777'"
      ]
     },
     "execution_count": 233,
     "metadata": {},
     "output_type": "execute_result"
    }
   ],
   "source": [
    "oct(511)"
   ]
  },
  {
   "cell_type": "code",
   "execution_count": null,
   "metadata": {
    "collapsed": true
   },
   "outputs": [],
   "source": []
  },
  {
   "cell_type": "code",
   "execution_count": null,
   "metadata": {
    "collapsed": true
   },
   "outputs": [],
   "source": []
  },
  {
   "cell_type": "code",
   "execution_count": null,
   "metadata": {
    "collapsed": true
   },
   "outputs": [],
   "source": []
  },
  {
   "cell_type": "code",
   "execution_count": null,
   "metadata": {
    "collapsed": true
   },
   "outputs": [],
   "source": []
  },
  {
   "cell_type": "code",
   "execution_count": null,
   "metadata": {
    "collapsed": true
   },
   "outputs": [],
   "source": []
  },
  {
   "cell_type": "code",
   "execution_count": null,
   "metadata": {
    "collapsed": true
   },
   "outputs": [],
   "source": []
  },
  {
   "cell_type": "code",
   "execution_count": null,
   "metadata": {
    "collapsed": true
   },
   "outputs": [],
   "source": []
  },
  {
   "cell_type": "code",
   "execution_count": null,
   "metadata": {
    "collapsed": true
   },
   "outputs": [],
   "source": []
  },
  {
   "cell_type": "code",
   "execution_count": null,
   "metadata": {
    "collapsed": true
   },
   "outputs": [],
   "source": []
  },
  {
   "cell_type": "code",
   "execution_count": 220,
   "metadata": {
    "collapsed": false
   },
   "outputs": [
    {
     "name": "stdout",
     "output_type": "stream",
     "text": [
      "Help on class int in module builtins:\n",
      "\n",
      "class int(object)\n",
      " |  int(x=0) -> integer\n",
      " |  int(x, base=10) -> integer\n",
      " |  \n",
      " |  Convert a number or string to an integer, or return 0 if no arguments\n",
      " |  are given.  If x is a number, return x.__int__().  For floating point\n",
      " |  numbers, this truncates towards zero.\n",
      " |  \n",
      " |  If x is not a number or if base is given, then x must be a string,\n",
      " |  bytes, or bytearray instance representing an integer literal in the\n",
      " |  given base.  The literal can be preceded by '+' or '-' and be surrounded\n",
      " |  by whitespace.  The base defaults to 10.  Valid bases are 0 and 2-36.\n",
      " |  Base 0 means to interpret the base from the string as an integer literal.\n",
      " |  >>> int('0b100', base=0)\n",
      " |  4\n",
      " |  \n",
      " |  Methods defined here:\n",
      " |  \n",
      " |  __abs__(self, /)\n",
      " |      abs(self)\n",
      " |  \n",
      " |  __add__(self, value, /)\n",
      " |      Return self+value.\n",
      " |  \n",
      " |  __and__(self, value, /)\n",
      " |      Return self&value.\n",
      " |  \n",
      " |  __bool__(self, /)\n",
      " |      self != 0\n",
      " |  \n",
      " |  __ceil__(...)\n",
      " |      Ceiling of an Integral returns itself.\n",
      " |  \n",
      " |  __divmod__(self, value, /)\n",
      " |      Return divmod(self, value).\n",
      " |  \n",
      " |  __eq__(self, value, /)\n",
      " |      Return self==value.\n",
      " |  \n",
      " |  __float__(self, /)\n",
      " |      float(self)\n",
      " |  \n",
      " |  __floor__(...)\n",
      " |      Flooring an Integral returns itself.\n",
      " |  \n",
      " |  __floordiv__(self, value, /)\n",
      " |      Return self//value.\n",
      " |  \n",
      " |  __format__(...)\n",
      " |      default object formatter\n",
      " |  \n",
      " |  __ge__(self, value, /)\n",
      " |      Return self>=value.\n",
      " |  \n",
      " |  __getattribute__(self, name, /)\n",
      " |      Return getattr(self, name).\n",
      " |  \n",
      " |  __getnewargs__(...)\n",
      " |  \n",
      " |  __gt__(self, value, /)\n",
      " |      Return self>value.\n",
      " |  \n",
      " |  __hash__(self, /)\n",
      " |      Return hash(self).\n",
      " |  \n",
      " |  __index__(self, /)\n",
      " |      Return self converted to an integer, if self is suitable for use as an index into a list.\n",
      " |  \n",
      " |  __int__(self, /)\n",
      " |      int(self)\n",
      " |  \n",
      " |  __invert__(self, /)\n",
      " |      ~self\n",
      " |  \n",
      " |  __le__(self, value, /)\n",
      " |      Return self<=value.\n",
      " |  \n",
      " |  __lshift__(self, value, /)\n",
      " |      Return self<<value.\n",
      " |  \n",
      " |  __lt__(self, value, /)\n",
      " |      Return self<value.\n",
      " |  \n",
      " |  __mod__(self, value, /)\n",
      " |      Return self%value.\n",
      " |  \n",
      " |  __mul__(self, value, /)\n",
      " |      Return self*value.\n",
      " |  \n",
      " |  __ne__(self, value, /)\n",
      " |      Return self!=value.\n",
      " |  \n",
      " |  __neg__(self, /)\n",
      " |      -self\n",
      " |  \n",
      " |  __new__(*args, **kwargs) from builtins.type\n",
      " |      Create and return a new object.  See help(type) for accurate signature.\n",
      " |  \n",
      " |  __or__(self, value, /)\n",
      " |      Return self|value.\n",
      " |  \n",
      " |  __pos__(self, /)\n",
      " |      +self\n",
      " |  \n",
      " |  __pow__(self, value, mod=None, /)\n",
      " |      Return pow(self, value, mod).\n",
      " |  \n",
      " |  __radd__(self, value, /)\n",
      " |      Return value+self.\n",
      " |  \n",
      " |  __rand__(self, value, /)\n",
      " |      Return value&self.\n",
      " |  \n",
      " |  __rdivmod__(self, value, /)\n",
      " |      Return divmod(value, self).\n",
      " |  \n",
      " |  __repr__(self, /)\n",
      " |      Return repr(self).\n",
      " |  \n",
      " |  __rfloordiv__(self, value, /)\n",
      " |      Return value//self.\n",
      " |  \n",
      " |  __rlshift__(self, value, /)\n",
      " |      Return value<<self.\n",
      " |  \n",
      " |  __rmod__(self, value, /)\n",
      " |      Return value%self.\n",
      " |  \n",
      " |  __rmul__(self, value, /)\n",
      " |      Return value*self.\n",
      " |  \n",
      " |  __ror__(self, value, /)\n",
      " |      Return value|self.\n",
      " |  \n",
      " |  __round__(...)\n",
      " |      Rounding an Integral returns itself.\n",
      " |      Rounding with an ndigits argument also returns an integer.\n",
      " |  \n",
      " |  __rpow__(self, value, mod=None, /)\n",
      " |      Return pow(value, self, mod).\n",
      " |  \n",
      " |  __rrshift__(self, value, /)\n",
      " |      Return value>>self.\n",
      " |  \n",
      " |  __rshift__(self, value, /)\n",
      " |      Return self>>value.\n",
      " |  \n",
      " |  __rsub__(self, value, /)\n",
      " |      Return value-self.\n",
      " |  \n",
      " |  __rtruediv__(self, value, /)\n",
      " |      Return value/self.\n",
      " |  \n",
      " |  __rxor__(self, value, /)\n",
      " |      Return value^self.\n",
      " |  \n",
      " |  __sizeof__(...)\n",
      " |      Returns size in memory, in bytes\n",
      " |  \n",
      " |  __str__(self, /)\n",
      " |      Return str(self).\n",
      " |  \n",
      " |  __sub__(self, value, /)\n",
      " |      Return self-value.\n",
      " |  \n",
      " |  __truediv__(self, value, /)\n",
      " |      Return self/value.\n",
      " |  \n",
      " |  __trunc__(...)\n",
      " |      Truncating an Integral returns itself.\n",
      " |  \n",
      " |  __xor__(self, value, /)\n",
      " |      Return self^value.\n",
      " |  \n",
      " |  bit_length(...)\n",
      " |      int.bit_length() -> int\n",
      " |      \n",
      " |      Number of bits necessary to represent self in binary.\n",
      " |      >>> bin(37)\n",
      " |      '0b100101'\n",
      " |      >>> (37).bit_length()\n",
      " |      6\n",
      " |  \n",
      " |  conjugate(...)\n",
      " |      Returns self, the complex conjugate of any int.\n",
      " |  \n",
      " |  from_bytes(...) from builtins.type\n",
      " |      int.from_bytes(bytes, byteorder, *, signed=False) -> int\n",
      " |      \n",
      " |      Return the integer represented by the given array of bytes.\n",
      " |      \n",
      " |      The bytes argument must be a bytes-like object (e.g. bytes or bytearray).\n",
      " |      \n",
      " |      The byteorder argument determines the byte order used to represent the\n",
      " |      integer.  If byteorder is 'big', the most significant byte is at the\n",
      " |      beginning of the byte array.  If byteorder is 'little', the most\n",
      " |      significant byte is at the end of the byte array.  To request the native\n",
      " |      byte order of the host system, use `sys.byteorder' as the byte order value.\n",
      " |      \n",
      " |      The signed keyword-only argument indicates whether two's complement is\n",
      " |      used to represent the integer.\n",
      " |  \n",
      " |  to_bytes(...)\n",
      " |      int.to_bytes(length, byteorder, *, signed=False) -> bytes\n",
      " |      \n",
      " |      Return an array of bytes representing an integer.\n",
      " |      \n",
      " |      The integer is represented using length bytes.  An OverflowError is\n",
      " |      raised if the integer is not representable with the given number of\n",
      " |      bytes.\n",
      " |      \n",
      " |      The byteorder argument determines the byte order used to represent the\n",
      " |      integer.  If byteorder is 'big', the most significant byte is at the\n",
      " |      beginning of the byte array.  If byteorder is 'little', the most\n",
      " |      significant byte is at the end of the byte array.  To request the native\n",
      " |      byte order of the host system, use `sys.byteorder' as the byte order value.\n",
      " |      \n",
      " |      The signed keyword-only argument determines whether two's complement is\n",
      " |      used to represent the integer.  If signed is False and a negative integer\n",
      " |      is given, an OverflowError is raised.\n",
      " |  \n",
      " |  ----------------------------------------------------------------------\n",
      " |  Data descriptors defined here:\n",
      " |  \n",
      " |  denominator\n",
      " |      the denominator of a rational number in lowest terms\n",
      " |  \n",
      " |  imag\n",
      " |      the imaginary part of a complex number\n",
      " |  \n",
      " |  numerator\n",
      " |      the numerator of a rational number in lowest terms\n",
      " |  \n",
      " |  real\n",
      " |      the real part of a complex number\n",
      "\n"
     ]
    }
   ],
   "source": [
    "help(int)"
   ]
  },
  {
   "cell_type": "code",
   "execution_count": null,
   "metadata": {
    "collapsed": true
   },
   "outputs": [],
   "source": []
  },
  {
   "cell_type": "code",
   "execution_count": null,
   "metadata": {
    "collapsed": true
   },
   "outputs": [],
   "source": []
  },
  {
   "cell_type": "code",
   "execution_count": null,
   "metadata": {
    "collapsed": true
   },
   "outputs": [],
   "source": []
  },
  {
   "cell_type": "code",
   "execution_count": null,
   "metadata": {
    "collapsed": true
   },
   "outputs": [],
   "source": []
  },
  {
   "cell_type": "code",
   "execution_count": null,
   "metadata": {
    "collapsed": true
   },
   "outputs": [],
   "source": []
  },
  {
   "cell_type": "code",
   "execution_count": 193,
   "metadata": {
    "collapsed": true
   },
   "outputs": [],
   "source": [
    "for i in files:\n",
    "    i.close()"
   ]
  },
  {
   "cell_type": "code",
   "execution_count": 194,
   "metadata": {
    "collapsed": false
   },
   "outputs": [
    {
     "ename": "SyntaxError",
     "evalue": "invalid syntax (<ipython-input-194-cb40e95a1a55>, line 1)",
     "output_type": "error",
     "traceback": [
      "\u001b[1;36m  File \u001b[1;32m\"<ipython-input-194-cb40e95a1a55>\"\u001b[1;36m, line \u001b[1;32m1\u001b[0m\n\u001b[1;33m    help(with)\u001b[0m\n\u001b[1;37m            ^\u001b[0m\n\u001b[1;31mSyntaxError\u001b[0m\u001b[1;31m:\u001b[0m invalid syntax\n"
     ]
    }
   ],
   "source": [
    "help(with)"
   ]
  },
  {
   "cell_type": "code",
   "execution_count": 200,
   "metadata": {
    "collapsed": false
   },
   "outputs": [],
   "source": [
    "with open('111','w') as ff:\n",
    "    ff.write('abc')"
   ]
  },
  {
   "cell_type": "code",
   "execution_count": 201,
   "metadata": {
    "collapsed": false
   },
   "outputs": [
    {
     "name": "stdout",
     "output_type": "stream",
     "text": [
      "abc"
     ]
    }
   ],
   "source": [
    "cat 111"
   ]
  },
  {
   "cell_type": "code",
   "execution_count": 203,
   "metadata": {
    "collapsed": false
   },
   "outputs": [
    {
     "name": "stdout",
     "output_type": "stream",
     "text": [
      "abc\n"
     ]
    }
   ],
   "source": [
    "with open('111','r') as fd:\n",
    "    print(fd.read())"
   ]
  },
  {
   "cell_type": "code",
   "execution_count": null,
   "metadata": {
    "collapsed": true
   },
   "outputs": [],
   "source": []
  },
  {
   "cell_type": "code",
   "execution_count": null,
   "metadata": {
    "collapsed": true
   },
   "outputs": [],
   "source": []
  },
  {
   "cell_type": "code",
   "execution_count": null,
   "metadata": {
    "collapsed": true
   },
   "outputs": [],
   "source": []
  },
  {
   "cell_type": "code",
   "execution_count": null,
   "metadata": {
    "collapsed": true
   },
   "outputs": [],
   "source": []
  },
  {
   "cell_type": "code",
   "execution_count": 197,
   "metadata": {
    "collapsed": false
   },
   "outputs": [
    {
     "data": {
      "text/plain": [
       "True"
      ]
     },
     "execution_count": 197,
     "metadata": {},
     "output_type": "execute_result"
    }
   ],
   "source": [
    "ff.closed"
   ]
  },
  {
   "cell_type": "code",
   "execution_count": null,
   "metadata": {
    "collapsed": true
   },
   "outputs": [],
   "source": []
  },
  {
   "cell_type": "code",
   "execution_count": null,
   "metadata": {
    "collapsed": true
   },
   "outputs": [],
   "source": []
  },
  {
   "cell_type": "code",
   "execution_count": null,
   "metadata": {
    "collapsed": true
   },
   "outputs": [],
   "source": []
  },
  {
   "cell_type": "code",
   "execution_count": null,
   "metadata": {
    "collapsed": true
   },
   "outputs": [],
   "source": []
  },
  {
   "cell_type": "code",
   "execution_count": null,
   "metadata": {
    "collapsed": true
   },
   "outputs": [],
   "source": []
  },
  {
   "cell_type": "code",
   "execution_count": null,
   "metadata": {
    "collapsed": true
   },
   "outputs": [],
   "source": []
  },
  {
   "cell_type": "code",
   "execution_count": null,
   "metadata": {
    "collapsed": true
   },
   "outputs": [],
   "source": []
  },
  {
   "cell_type": "code",
   "execution_count": null,
   "metadata": {
    "collapsed": true
   },
   "outputs": [],
   "source": []
  },
  {
   "cell_type": "code",
   "execution_count": null,
   "metadata": {
    "collapsed": true
   },
   "outputs": [],
   "source": []
  },
  {
   "cell_type": "code",
   "execution_count": null,
   "metadata": {
    "collapsed": true
   },
   "outputs": [],
   "source": []
  },
  {
   "cell_type": "code",
   "execution_count": null,
   "metadata": {
    "collapsed": true
   },
   "outputs": [],
   "source": []
  },
  {
   "cell_type": "code",
   "execution_count": null,
   "metadata": {
    "collapsed": true
   },
   "outputs": [],
   "source": []
  },
  {
   "cell_type": "code",
   "execution_count": null,
   "metadata": {
    "collapsed": true
   },
   "outputs": [],
   "source": []
  },
  {
   "cell_type": "code",
   "execution_count": 125,
   "metadata": {
    "collapsed": false
   },
   "outputs": [
    {
     "data": {
      "text/plain": [
       "44"
      ]
     },
     "execution_count": 125,
     "metadata": {},
     "output_type": "execute_result"
    }
   ],
   "source": [
    "f.tell()"
   ]
  },
  {
   "cell_type": "code",
   "execution_count": 126,
   "metadata": {
    "collapsed": false
   },
   "outputs": [
    {
     "name": "stdout",
     "output_type": "stream",
     "text": [
      "import os\n",
      "\n",
      "while True:\n",
      "\n",
      "\tprint '''\t\t \\033[31;1m**************************************\\033[0m\n",
      "\n",
      "\t\t \\033[31;1m*\t1.Search\t\t      *\\033[0m\n",
      "\n",
      "\t\t \\033[31;1m*\t2.Add、Del、Change\t      *\\033[0m\n",
      "\n",
      "\t\t \\033[31;1m**************************************\\033[0m'''\n",
      "\n",
      "\taction = int(raw_input('Please enter the number of your needs? '))\n",
      "\n",
      "\tif action == 1:\n",
      "\n",
      "\t\tcount_number = 0\n",
      "\n",
      "\t\tAction_One_Key = raw_input('Please enter a keyword query: ')\n",
      "\n",
      "\t\tF = file('staff.txt','r')\n",
      "\n",
      "\t\tfor line in F.readlines():\n",
      "\n",
      "\t\t\tif Action_One_Key in line:\n",
      "\n",
      "\t\t\t\tcount_number += 1\n",
      "\n",
      "\t\t\t\tline_strip = line.strip()\n",
      "\n",
      "\t\t\t\tprint '\\033[32;1m %s\\033[0m' %line_strip\n",
      "\n",
      "\t\tprint '\\033[41;1mcount_number: %s\\033[0m' %count_number\n",
      "\n",
      "\t\tGoon_key = raw_input('Do you want to continue? (y|n) ')\n",
      "\n",
      "\t\tif Goon_key == 'n':\n",
      "\n",
      "\t\t\tbreak\n",
      "\n",
      "\telif action == 2:\n",
      "\n",
      "\t\tprint '''                 \\033[32;1m**************************************\\033[0m\n",
      "\n",
      "                 \\033[32;1m*    1.Add                           *\\033[0m\n",
      "\n",
      "                 \\033[32;1m*    2.Del                           *\\033[0m\n",
      "\n",
      "\t\t \\033[32;1m*    3.Change                        *\\033[0m\n",
      "\n",
      "                 \\033[32;1m**************************************\\033[0m'''\n",
      "\n",
      "\t\taction_2 = int(raw_input('Please enter the number of your needs? '))\n",
      "\n",
      "\t\tif action_2 == 1:\n",
      "\n",
      "\t\t\tinput_str = raw_input('Please enter the information you want to add employees: ')\n",
      "\n",
      "\t\t\tF_write = file('staff.txt','a')\n",
      "\n",
      "\t\t\tF_write.write('%s\\n'%input_str)\n",
      "\n",
      "\t\t\tF_write.close()\n",
      "\n",
      "\t\t\tGoon_key = raw_input('Do you want to continue? (y|n) ')\n",
      "\n",
      "                \tif Goon_key == 'n':\n",
      "\n",
      "                        \tbreak\n",
      "\n",
      "\t\telif action_2 == 2:\n",
      "\n",
      "\t\t\tdel_str = raw_input('Please enter your user information to be deleted: ')\n",
      "\n",
      "\t\t\tF_del = file('staff.txt','r')\n",
      "\n",
      "\t\t\tF_del_new = file('staff_del_bak.txt','w')\n",
      "\n",
      "\t\t\tfor line in F_del.readlines():\n",
      "\n",
      "\t\t\t\tif del_str in line:\n",
      "\n",
      "\t\t\t\t\tcontinue\n",
      "\n",
      "\t\t\t\tF_del_new.write(line)\n",
      "\n",
      "\t\t\tF_del.close()\n",
      "\n",
      "\t\t\tF_del_new.close()\n",
      "\n",
      "\t\t\tos.rename('staff_del_bak.txt','staff.txt')\n",
      "\n",
      "\t\t\tGoon_key = raw_input('Do you want to continue? (y|n) ')\n",
      "\n",
      "                        if Goon_key == 'n':\n",
      "\n",
      "                                break\n",
      "\n",
      "\t\telif action_2 == 3:\n",
      "\n",
      "\t\t\tinput_change_str = raw_input('Please enter your user information to be modified: ')\n",
      "\n",
      "\t\t\tinput_change_str2 = raw_input('Please enter the modified content: ')\n",
      "\n",
      "\t\t\tF_change_source = file('staff.txt','r')\n",
      "\n",
      "\t\t\tF_change_new = file('staff_change_bak.txt','w')\n",
      "\n",
      "\t\t\tfor line in  F_change_source.readlines():\n",
      "\n",
      "\t\t\t\tif input_change_str in line:\n",
      "\n",
      "\t\t\t\t\tline = line.replace(input_change_str,input_change_str2)\n",
      "\n",
      "\t\t\t\t\tprint line\n",
      "\n",
      "\t\t\t\tF_change_new.write('%s\\n'%line)\n",
      "\n",
      "\t\t\tF_change_source.close()\n",
      "\n",
      "\t\t\tF_change_new.close()\n",
      "\n",
      "\t\t\tos.rename('staff_change_bak.txt','staff.txt')\n",
      "\n",
      "\t\t\tGoon_key = raw_input('Do you want to continue? (y|n) ')\n",
      "\n",
      "                        if Goon_key == 'n':\n",
      "\n",
      "                                break\n",
      "\n",
      "\t\telse:\n",
      "\n",
      "\t\t\tprint '\\033[33;1m非法序列！请输入正确的操作符号！\\033[0m'\n",
      "\n",
      "\telse:\n",
      "\n",
      "\t\tprint '\\033[33;1m非法序列！请输入正确的操作符号！\\033[0m'\n",
      "\n",
      "\n",
      "\n"
     ]
    }
   ],
   "source": [
    "for i in f.readlines():\n",
    "    print(i)"
   ]
  },
  {
   "cell_type": "code",
   "execution_count": 127,
   "metadata": {
    "collapsed": false
   },
   "outputs": [
    {
     "data": {
      "text/plain": [
       "2938"
      ]
     },
     "execution_count": 127,
     "metadata": {},
     "output_type": "execute_result"
    }
   ],
   "source": [
    "f.tell()"
   ]
  },
  {
   "cell_type": "code",
   "execution_count": 129,
   "metadata": {
    "collapsed": false
   },
   "outputs": [
    {
     "data": {
      "text/plain": [
       "0"
      ]
     },
     "execution_count": 129,
     "metadata": {},
     "output_type": "execute_result"
    }
   ],
   "source": [
    "f.seek(0)"
   ]
  },
  {
   "cell_type": "code",
   "execution_count": null,
   "metadata": {
    "collapsed": true
   },
   "outputs": [],
   "source": []
  },
  {
   "cell_type": "code",
   "execution_count": 1,
   "metadata": {
    "collapsed": true
   },
   "outputs": [],
   "source": [
    "line = '66.249.69.131 - - [10/Aug/2016:03:20:09 +0800] \"GET /robots.txt\" '"
   ]
  },
  {
   "cell_type": "code",
   "execution_count": 2,
   "metadata": {
    "collapsed": false
   },
   "outputs": [
    {
     "data": {
      "text/plain": [
       "'66.249.69.131 - - [10/Aug/2016:03:20:09 +0800] \"GET /robots.txt\" '"
      ]
     },
     "execution_count": 2,
     "metadata": {},
     "output_type": "execute_result"
    }
   ],
   "source": [
    "line"
   ]
  },
  {
   "cell_type": "code",
   "execution_count": 3,
   "metadata": {
    "collapsed": true
   },
   "outputs": [],
   "source": [
    "tmp = []\n",
    "ret = []"
   ]
  },
  {
   "cell_type": "code",
   "execution_count": 5,
   "metadata": {
    "collapsed": true
   },
   "outputs": [],
   "source": [
    "for c in line:\n",
    "    tmp.append(c)"
   ]
  },
  {
   "cell_type": "code",
   "execution_count": 6,
   "metadata": {
    "collapsed": false
   },
   "outputs": [
    {
     "data": {
      "text/plain": [
       "['6',\n",
       " '6',\n",
       " '.',\n",
       " '2',\n",
       " '4',\n",
       " '9',\n",
       " '.',\n",
       " '6',\n",
       " '9',\n",
       " '.',\n",
       " '1',\n",
       " '3',\n",
       " '1',\n",
       " ' ',\n",
       " '-',\n",
       " ' ',\n",
       " '-',\n",
       " ' ',\n",
       " '[',\n",
       " '1',\n",
       " '0',\n",
       " '/',\n",
       " 'A',\n",
       " 'u',\n",
       " 'g',\n",
       " '/',\n",
       " '2',\n",
       " '0',\n",
       " '1',\n",
       " '6',\n",
       " ':',\n",
       " '0',\n",
       " '3',\n",
       " ':',\n",
       " '2',\n",
       " '0',\n",
       " ':',\n",
       " '0',\n",
       " '9',\n",
       " ' ',\n",
       " '+',\n",
       " '0',\n",
       " '8',\n",
       " '0',\n",
       " '0',\n",
       " ']',\n",
       " ' ',\n",
       " '\"',\n",
       " 'G',\n",
       " 'E',\n",
       " 'T',\n",
       " ' ',\n",
       " '/',\n",
       " 'r',\n",
       " 'o',\n",
       " 'b',\n",
       " 'o',\n",
       " 't',\n",
       " 's',\n",
       " '.',\n",
       " 't',\n",
       " 'x',\n",
       " 't',\n",
       " '\"',\n",
       " ' ']"
      ]
     },
     "execution_count": 6,
     "metadata": {},
     "output_type": "execute_result"
    }
   ],
   "source": [
    "tmp"
   ]
  },
  {
   "cell_type": "code",
   "execution_count": 7,
   "metadata": {
    "collapsed": false
   },
   "outputs": [
    {
     "data": {
      "text/plain": [
       "'66.249.69.131 - - [10/Aug/2016:03:20:09 +0800] \"GET /robots.txt\" '"
      ]
     },
     "execution_count": 7,
     "metadata": {},
     "output_type": "execute_result"
    }
   ],
   "source": [
    "''.join(tmp)"
   ]
  },
  {
   "cell_type": "code",
   "execution_count": null,
   "metadata": {
    "collapsed": true
   },
   "outputs": [],
   "source": []
  },
  {
   "cell_type": "code",
   "execution_count": null,
   "metadata": {
    "collapsed": true
   },
   "outputs": [],
   "source": []
  },
  {
   "cell_type": "code",
   "execution_count": null,
   "metadata": {
    "collapsed": true
   },
   "outputs": [],
   "source": []
  },
  {
   "cell_type": "code",
   "execution_count": null,
   "metadata": {
    "collapsed": true
   },
   "outputs": [],
   "source": []
  },
  {
   "cell_type": "code",
   "execution_count": null,
   "metadata": {
    "collapsed": true
   },
   "outputs": [],
   "source": []
  },
  {
   "cell_type": "code",
   "execution_count": null,
   "metadata": {
    "collapsed": true
   },
   "outputs": [],
   "source": []
  },
  {
   "cell_type": "code",
   "execution_count": null,
   "metadata": {
    "collapsed": true
   },
   "outputs": [],
   "source": []
  },
  {
   "cell_type": "code",
   "execution_count": null,
   "metadata": {
    "collapsed": true
   },
   "outputs": [],
   "source": []
  },
  {
   "cell_type": "code",
   "execution_count": null,
   "metadata": {
    "collapsed": true
   },
   "outputs": [],
   "source": []
  },
  {
   "cell_type": "code",
   "execution_count": null,
   "metadata": {
    "collapsed": true
   },
   "outputs": [],
   "source": []
  },
  {
   "cell_type": "code",
   "execution_count": null,
   "metadata": {
    "collapsed": true
   },
   "outputs": [],
   "source": []
  },
  {
   "cell_type": "code",
   "execution_count": null,
   "metadata": {
    "collapsed": true
   },
   "outputs": [],
   "source": []
  },
  {
   "cell_type": "code",
   "execution_count": null,
   "metadata": {
    "collapsed": true
   },
   "outputs": [],
   "source": []
  },
  {
   "cell_type": "code",
   "execution_count": null,
   "metadata": {
    "collapsed": true
   },
   "outputs": [],
   "source": []
  },
  {
   "cell_type": "code",
   "execution_count": null,
   "metadata": {
    "collapsed": true
   },
   "outputs": [],
   "source": []
  }
 ],
 "metadata": {
  "kernelspec": {
   "display_name": "Python 3",
   "language": "python",
   "name": "python3"
  },
  "language_info": {
   "codemirror_mode": {
    "name": "ipython",
    "version": 3
   },
   "file_extension": ".py",
   "mimetype": "text/x-python",
   "name": "python",
   "nbconvert_exporter": "python",
   "pygments_lexer": "ipython3",
   "version": "3.5.2"
  }
 },
 "nbformat": 4,
 "nbformat_minor": 0
}
